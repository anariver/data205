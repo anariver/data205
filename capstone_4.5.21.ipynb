{
 "cells": [
  {
   "cell_type": "code",
   "execution_count": null,
   "metadata": {},
   "outputs": [],
   "source": [
    "## Introduction"
   ]
  },
  {
   "cell_type": "code",
   "execution_count": null,
   "metadata": {},
   "outputs": [],
   "source": [
    "## Outline\n",
    "# 1.  Data Ingestion & Wrangling\n",
    "# 1a. County Wifi Locations dataset\n",
    "# 1b. Public Schools Dataset\n",
    "# 1c. Xfinity Wifi Locations\n",
    "# 1d. MPCS School report\n",
    "\n",
    "# 2. Exploratory Data Analysis \n",
    "# 2a. County Govermeny Wifi Locations\n",
    "# 2b. Public Schools\n",
    "# 1c. Xfinity Wifi Locations\n",
    "# 1d. MPCS School report\n",
    "\n",
    "# 3. Statistical Analysis\n",
    "\n",
    "# 4. Mapping"
   ]
  },
  {
   "cell_type": "code",
   "execution_count": 1,
   "metadata": {},
   "outputs": [],
   "source": [
    "## 1.  Data Ingestion & Wrangling"
   ]
  },
  {
   "cell_type": "code",
   "execution_count": 2,
   "metadata": {
    "id": "sZIbfjowXXgk"
   },
   "outputs": [],
   "source": [
    "# importing the packages \n",
    "import pandas as pd\n",
    "import numpy as np"
   ]
  },
  {
   "cell_type": "code",
   "execution_count": null,
   "metadata": {},
   "outputs": [],
   "source": [
    "# 1a. County Wifi Locations dataset"
   ]
  },
  {
   "cell_type": "code",
   "execution_count": 3,
   "metadata": {
    "id": "uDAsS9ktXX9-"
   },
   "outputs": [],
   "source": [
    "# reading the csv files for county government wifi locations\n",
    "df = pd.read_csv('county_government_wifi_locations.csv')"
   ]
  },
  {
   "cell_type": "code",
   "execution_count": 4,
   "metadata": {
    "colab": {
     "base_uri": "https://localhost:8080/",
     "height": 197
    },
    "id": "J109MpIHXYLc",
    "outputId": "f2653e00-b14f-45e7-e427-ad8ab8b5c95f",
    "scrolled": false
   },
   "outputs": [
    {
     "data": {
      "text/html": [
       "<div>\n",
       "<style scoped>\n",
       "    .dataframe tbody tr th:only-of-type {\n",
       "        vertical-align: middle;\n",
       "    }\n",
       "\n",
       "    .dataframe tbody tr th {\n",
       "        vertical-align: top;\n",
       "    }\n",
       "\n",
       "    .dataframe thead th {\n",
       "        text-align: right;\n",
       "    }\n",
       "</style>\n",
       "<table border=\"1\" class=\"dataframe\">\n",
       "  <thead>\n",
       "    <tr style=\"text-align: right;\">\n",
       "      <th></th>\n",
       "      <th>Agency</th>\n",
       "      <th>Department</th>\n",
       "      <th>Name</th>\n",
       "      <th>Address</th>\n",
       "      <th>Location</th>\n",
       "    </tr>\n",
       "  </thead>\n",
       "  <tbody>\n",
       "    <tr>\n",
       "      <th>0</th>\n",
       "      <td>MCG</td>\n",
       "      <td>DPL</td>\n",
       "      <td>White Oak Library</td>\n",
       "      <td>11701 New Hampshire Avenue, Silver Spring, MD ...</td>\n",
       "      <td>NaN</td>\n",
       "    </tr>\n",
       "    <tr>\n",
       "      <th>1</th>\n",
       "      <td>MCG</td>\n",
       "      <td>RSC</td>\n",
       "      <td>Sidney Kramer Upcounty Service ctr.</td>\n",
       "      <td>12900 Middlebrook Road, Germantown MD</td>\n",
       "      <td>POINT (-77.267914 39.179332)</td>\n",
       "    </tr>\n",
       "    <tr>\n",
       "      <th>2</th>\n",
       "      <td>MCG</td>\n",
       "      <td>DTS</td>\n",
       "      <td>L3 Helpdesk &amp; Office</td>\n",
       "      <td>7361 Calhoun Plaza,  Rockville, MD 20850</td>\n",
       "      <td>NaN</td>\n",
       "    </tr>\n",
       "    <tr>\n",
       "      <th>3</th>\n",
       "      <td>MCG</td>\n",
       "      <td>CAO/CEX/CC/Courts</td>\n",
       "      <td>OIG/ERP Office</td>\n",
       "      <td>51 Monroe Street, Rockville, MD 20850</td>\n",
       "      <td>POINT (-90.409668 40.720439)</td>\n",
       "    </tr>\n",
       "    <tr>\n",
       "      <th>4</th>\n",
       "      <td>MCG</td>\n",
       "      <td>FRS</td>\n",
       "      <td>F&amp;RS</td>\n",
       "      <td>19801 Bealsville Road, Bealsville, MD 20839</td>\n",
       "      <td>NaN</td>\n",
       "    </tr>\n",
       "  </tbody>\n",
       "</table>\n",
       "</div>"
      ],
      "text/plain": [
       "  Agency         Department                                 Name  \\\n",
       "0    MCG                DPL                    White Oak Library   \n",
       "1    MCG                RSC  Sidney Kramer Upcounty Service ctr.   \n",
       "2    MCG                DTS                 L3 Helpdesk & Office   \n",
       "3    MCG  CAO/CEX/CC/Courts                       OIG/ERP Office   \n",
       "4    MCG                FRS                                 F&RS   \n",
       "\n",
       "                                             Address  \\\n",
       "0  11701 New Hampshire Avenue, Silver Spring, MD ...   \n",
       "1              12900 Middlebrook Road, Germantown MD   \n",
       "2           7361 Calhoun Plaza,  Rockville, MD 20850   \n",
       "3              51 Monroe Street, Rockville, MD 20850   \n",
       "4        19801 Bealsville Road, Bealsville, MD 20839   \n",
       "\n",
       "                       Location  \n",
       "0                           NaN  \n",
       "1  POINT (-77.267914 39.179332)  \n",
       "2                           NaN  \n",
       "3  POINT (-90.409668 40.720439)  \n",
       "4                           NaN  "
      ]
     },
     "execution_count": 4,
     "metadata": {},
     "output_type": "execute_result"
    }
   ],
   "source": [
    "# viewing the head of the dataframe\n",
    "df.head()"
   ]
  },
  {
   "cell_type": "code",
   "execution_count": 5,
   "metadata": {
    "colab": {
     "base_uri": "https://localhost:8080/"
    },
    "id": "PHU04CTGXYWx",
    "outputId": "565ed597-e450-4f3a-ec35-3b4cfb9212a0"
   },
   "outputs": [
    {
     "data": {
      "text/plain": [
       "array(['DPL', 'RSC', 'DTS', 'CAO/CEX/CC/Courts', 'FRS', 'REC', 'DOT',\n",
       "       'DGS', 'HHS', 'BOE', 'DED/DEP', 'DOCR', 'MCPD', 'DLC',\n",
       "       'PIO/PublicSafety', 'Warehouse', 'DHS', 'DPS'], dtype=object)"
      ]
     },
     "execution_count": 5,
     "metadata": {},
     "output_type": "execute_result"
    }
   ],
   "source": [
    "# viewing the unique departments that the data contains\n",
    "df.Department.unique()"
   ]
  },
  {
   "cell_type": "code",
   "execution_count": 6,
   "metadata": {
    "colab": {
     "base_uri": "https://localhost:8080/"
    },
    "id": "HbIDSaK9Y4w5",
    "outputId": "5201efbe-788a-4a13-8a39-659d77d8ecee"
   },
   "outputs": [
    {
     "data": {
      "text/plain": [
       "34"
      ]
     },
     "execution_count": 6,
     "metadata": {},
     "output_type": "execute_result"
    }
   ],
   "source": [
    "# Looking at how many are missing\n",
    "# it is an issue that there is missing data because that will affect in plotting the points\n",
    "df.Location.isnull().sum() "
   ]
  },
  {
   "cell_type": "code",
   "execution_count": 13,
   "metadata": {
    "colab": {
     "base_uri": "https://localhost:8080/"
    },
    "collapsed": true,
    "id": "RMIkw1A1ZAae",
    "outputId": "184c9dfd-59c5-4381-96f5-7b60bdf12b83"
   },
   "outputs": [
    {
     "name": "stdout",
     "output_type": "stream",
     "text": [
      "    Agency         Department                                 Name  \\\n",
      "0      MCG                DPL                    White Oak Library   \n",
      "1      MCG                RSC  Sidney Kramer Upcounty Service ctr.   \n",
      "2      MCG                DTS                 L3 Helpdesk & Office   \n",
      "3      MCG  CAO/CEX/CC/Courts                       OIG/ERP Office   \n",
      "4      MCG                FRS                                 F&RS   \n",
      "..     ...                ...                                  ...   \n",
      "173    MCG                DGS                   Swing Office Space   \n",
      "174    MCG                HHS             HHS - 1301 Piccard Drive   \n",
      "175    MCG                FRS              Wheaton Resource Center   \n",
      "176    MCG                DOT     Colesville Highway Service Depot   \n",
      "177    MCG                RSC             Bethesda/Chevy Chase RSC   \n",
      "\n",
      "                                               Address  \\\n",
      "0    11701 New Hampshire Avenue, Silver Spring, MD ...   \n",
      "1                12900 Middlebrook Road, Germantown MD   \n",
      "2             7361 Calhoun Plaza,  Rockville, MD 20850   \n",
      "3                51 Monroe Street, Rockville, MD 20850   \n",
      "4          19801 Bealsville Road, Bealsville, MD 20839   \n",
      "..                                                 ...   \n",
      "173               1451 Seven Locks Road, Rockville, MD   \n",
      "174                  1301 Piccard Drive, Rockville, MD   \n",
      "175                   11435 Grandview Ave, Wheaton, MD   \n",
      "176       14335 Cape May Road, Silver Spring, MD 20904   \n",
      "177                   4805 Edgemoor Lane, Bethesda, Md   \n",
      "\n",
      "                          Location    Longitude   Latitude  \n",
      "0                              NaN          NaN        NaN  \n",
      "1     POINT (-77.267914 39.179332)   -77.267914  39.179332  \n",
      "2                              NaN          NaN        NaN  \n",
      "3     POINT (-90.409668 40.720439)   -90.409668  40.720439  \n",
      "4                              NaN          NaN        NaN  \n",
      "..                             ...          ...        ...  \n",
      "173  POINT (-121.500155 38.549099)  -121.500155  38.549099  \n",
      "174   POINT (-77.177593 39.102672)   -77.177593  39.102672  \n",
      "175   POINT (-77.053153 39.042763)   -77.053153  39.042763  \n",
      "176                            NaN          NaN        NaN  \n",
      "177   POINT (-77.095858 38.984796)   -77.095858  38.984796  \n",
      "\n",
      "[178 rows x 7 columns]\n"
     ]
    }
   ],
   "source": [
    "# fixing the way that the \"points\" are in the dataframe\n",
    "# socrata POINT datatypes list their coordinates as \"longitude,latitude\"\n",
    "df[[\"Longitude\", \"Latitude\"]] = df[\"Location\"].str.replace(\"POINT \\(\",\"\").str.replace(\"\\)\",\"\").str.split(\" \", expand=True)\n",
    "print(df)"
   ]
  },
  {
   "cell_type": "code",
   "execution_count": 8,
   "metadata": {
    "id": "vQh-yGa-ZjXf"
   },
   "outputs": [],
   "source": [
    "# using geopy to fill in the missing data.\n",
    "from geopy.geocoders import Nominatim\n",
    "geolocator = Nominatim(user_agent=\"capstone\")"
   ]
  },
  {
   "cell_type": "code",
   "execution_count": 9,
   "metadata": {
    "colab": {
     "base_uri": "https://localhost:8080/"
    },
    "id": "6b-ICGowmLNf",
    "outputId": "3b95d74f-0818-4e57-b025-3b731c297f16"
   },
   "outputs": [
    {
     "data": {
      "text/plain": [
       "float"
      ]
     },
     "execution_count": 9,
     "metadata": {},
     "output_type": "execute_result"
    }
   ],
   "source": [
    "# the NaN are floats\n",
    "type(df['Location'][0])"
   ]
  },
  {
   "cell_type": "code",
   "execution_count": 10,
   "metadata": {
    "colab": {
     "base_uri": "https://localhost:8080/"
    },
    "id": "15-SWcmNmfob",
    "outputId": "f29668bf-6027-4748-fc40-937a2061cdea"
   },
   "outputs": [
    {
     "data": {
      "text/plain": [
       "str"
      ]
     },
     "execution_count": 10,
     "metadata": {},
     "output_type": "execute_result"
    }
   ],
   "source": [
    "# the values that are not missing in locations are strings\n",
    "type(df['Location'][10])"
   ]
  },
  {
   "cell_type": "code",
   "execution_count": 11,
   "metadata": {
    "colab": {
     "base_uri": "https://localhost:8080/"
    },
    "collapsed": true,
    "id": "EZXzMJ9ZbR2l",
    "outputId": "3dfa6838-c479-4beb-e2ee-e361741bca92"
   },
   "outputs": [
    {
     "name": "stdout",
     "output_type": "stream",
     "text": [
      "7361 Calhoun Plaza,  Rockville, MD 20850\n",
      "19801 Bealsville Road, Bealsville, MD 20839\n",
      "8540 Anniversary Drive, Gaithersburg, MD 20877\n",
      "8630 Fenton Street, 10th floor, Silver Spring, MD\n",
      "1400 Spring St suite 305, Silver Spring, MD 20910\n",
      "19300 Georgia Avenue, Brookville,  MD 20833\n",
      "3300 Briggs Chaney Road, Silver Spring, MD 20904\n",
      "14715 Good Hope Road, Silver Spring, MD 20905\n",
      "13900 Old Columbia Pike, Silver Spring, MD 20904\n",
      "14910 Old Comumbia Pike, Burtonsville, MD 20866\n",
      "18905 Kingsview Drive, Germantown, MD, 20874\n",
      "4407 Aspen Hill Road, Rockville, MD\n",
      "14335 Cape May Road, Silver Spring, MD 20904\n",
      "13\n"
     ]
    }
   ],
   "source": [
    "# counting the number of times the geolocator fails\n",
    "failed = 0 \n",
    "# getting the value and index of the all the rows\n",
    "for row_num, row in enumerate(df[\"Location\"]):\n",
    "  # if the value is NaN (float type) \n",
    "  if type(row) == float:\n",
    "    # geocode the address at the same row\n",
    "    location = geolocator.geocode(df[\"Address\"][row_num])\n",
    "    # if geocoded successfully\n",
    "    if location is not None:\n",
    "      df[\"Latitude\"][row_num] = location.latitude\n",
    "      df[\"Longitude\"][row_num] = location.longitude\n",
    "    else:\n",
    "      failed += 1\n",
    "      print(df[\"Address\"][row_num])\n",
    "print(failed)"
   ]
  },
  {
   "cell_type": "code",
   "execution_count": 15,
   "metadata": {
    "scrolled": false
   },
   "outputs": [
    {
     "name": "stdout",
     "output_type": "stream",
     "text": [
      "7361, Calhoun Place, Derwood, Montgomery County, Maryland, 20855, United States\n",
      "(39.108051387755104, -77.15035867346938)\n"
     ]
    }
   ],
   "source": [
    "geolocator = Nominatim(user_agent=\"Your_Name\")\n",
    "location = geolocator.geocode('7361 Calhoun Plaza Maryland')\n",
    "print(location.address)\n",
    "print((location.latitude, location.longitude))"
   ]
  },
  {
   "cell_type": "code",
   "execution_count": null,
   "metadata": {},
   "outputs": [],
   "source": [
    "# 1b. Public Schools Dataset"
   ]
  },
  {
   "cell_type": "code",
   "execution_count": null,
   "metadata": {},
   "outputs": [],
   "source": [
    "# reading and viewing the head of the csv files for county government wifi locations\n",
    "df2 = pd.read_csv('Public_Schools.csv')\n",
    "df2.head()"
   ]
  },
  {
   "cell_type": "code",
   "execution_count": null,
   "metadata": {},
   "outputs": [],
   "source": [
    "# Change the column names, lower case and removing spaces\n",
    "df2.columns =['category', 'school_Name', 'address', 'city', 'zip_code', 'phone','url','longitude','latitude','location']\n",
    "df2.head()"
   ]
  },
  {
   "cell_type": "code",
   "execution_count": null,
   "metadata": {},
   "outputs": [],
   "source": [
    "# changing the lables of the departments"
   ]
  },
  {
   "cell_type": "code",
   "execution_count": null,
   "metadata": {},
   "outputs": [],
   "source": [
    "# checking that there is no null in longitude and latitde\n",
    "df2.longitude.isnull().sum()\n",
    "df2.latitude.isnull().sum()"
   ]
  },
  {
   "cell_type": "code",
   "execution_count": null,
   "metadata": {},
   "outputs": [],
   "source": [
    "## 2. Exploratory Data Analysis "
   ]
  },
  {
   "cell_type": "code",
   "execution_count": null,
   "metadata": {},
   "outputs": [],
   "source": [
    "# import seaborn as sns\n",
    "import matplotlib.pyplot as plt"
   ]
  },
  {
   "cell_type": "code",
   "execution_count": null,
   "metadata": {},
   "outputs": [],
   "source": [
    "# 2a. County Govermeny Wifi Locations"
   ]
  },
  {
   "cell_type": "code",
   "execution_count": 20,
   "metadata": {},
   "outputs": [
    {
     "data": {
      "image/png": "[encoded data removed]",
      "text/plain": [
       "<Figure size 432x288 with 1 Axes>"
      ]
     },
     "metadata": {},
     "output_type": "display_data"
    }
   ],
   "source": [
    "sns.set_theme(style=\"darkgrid\")\n",
    "sns.countplot(y='Department',data=df)\n",
    "plt.xlabel('Types of Departments')\n",
    "plt.ylabel('Count')\n",
    "plt.title('Departments')\n",
    "plt.show()"
   ]
  },
  {
   "cell_type": "code",
   "execution_count": null,
   "metadata": {},
   "outputs": [],
   "source": [
    "# 2b. Public Schools"
   ]
  },
  {
   "cell_type": "code",
   "execution_count": 47,
   "metadata": {},
   "outputs": [
    {
     "data": {
      "image/png": "[encoded data removed]",
      "text/plain": [
       "<Figure size 432x288 with 1 Axes>"
      ]
     },
     "metadata": {},
     "output_type": "display_data"
    }
   ],
   "source": [
    "# graphing the number of categories of schools\n",
    "sns.set_theme(style=\"darkgrid\")\n",
    "sns.countplot(y='category',data=df2)\n",
    "plt.xlabel('Types of Schools')\n",
    "plt.ylabel('Count')\n",
    "plt.title('School')\n",
    "plt.show()"
   ]
  },
  {
   "cell_type": "code",
   "execution_count": 48,
   "metadata": {},
   "outputs": [
    {
     "data": {
      "image/png": "[encoded data removed]",
      "text/plain": [
       "<Figure size 432x288 with 1 Axes>"
      ]
     },
     "metadata": {},
     "output_type": "display_data"
    }
   ],
   "source": [
    "sns.set_theme(style=\"darkgrid\")\n",
    "sns.countplot(y='city',data=df2)\n",
    "plt.xlabel('County')\n",
    "plt.ylabel('City')\n",
    "plt.title('Cities of MCPS Schools')\n",
    "plt.show()"
   ]
  },
  {
   "cell_type": "code",
   "execution_count": null,
   "metadata": {},
   "outputs": [],
   "source": []
  }
 ],
 "metadata": {
  "colab": {
   "collapsed_sections": [],
   "name": "capstone.ipynb",
   "provenance": []
  },
  "kernelspec": {
   "display_name": "Python 3",
   "language": "python",
   "name": "python3"
  },
  "language_info": {
   "codemirror_mode": {
    "name": "ipython",
    "version": 3
   },
   "file_extension": ".py",
   "mimetype": "text/x-python",
   "name": "python",
   "nbconvert_exporter": "python",
   "pygments_lexer": "ipython3",
   "version": "3.8.5"
  }
 },
 "nbformat": 4,
 "nbformat_minor": 1
}
