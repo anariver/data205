{
 "cells": [
  {
   "cell_type": "code",
   "execution_count": 1,
   "metadata": {},
   "outputs": [],
   "source": [
    "## Introduction"
   ]
  },
  {
   "cell_type": "code",
   "execution_count": 2,
   "metadata": {},
   "outputs": [],
   "source": [
    "## Outline\n",
    "# 1.  Data Ingestion & Wrangling\n",
    "# 1a. County Wifi Locations dataset\n",
    "# 1b. Public Schools Dataset\n",
    "# 1c. Xfinity Wifi Locations\n",
    "# 1d. MPCS School report\n",
    "\n",
    "# 2. Exploratory Data Analysis \n",
    "# 2a. County Govermeny Wifi Locations\n",
    "# 2b. Public Schools\n",
    "# 1c. Xfinity Wifi Locations\n",
    "# 1d. MPCS School report\n",
    "\n",
    "# 3. Statistical Analysis\n",
    "\n",
    "# 4. Mapping"
   ]
  },
  {
   "cell_type": "code",
   "execution_count": 3,
   "metadata": {},
   "outputs": [],
   "source": [
    "## 1.  Data Ingestion & Wrangling"
   ]
  },
  {
   "cell_type": "code",
   "execution_count": 4,
   "metadata": {
    "id": "sZIbfjowXXgk"
   },
   "outputs": [],
   "source": [
    "# importing the packages \n",
    "import pandas as pd\n",
    "import numpy as np"
   ]
  },
  {
   "cell_type": "code",
   "execution_count": 5,
   "metadata": {},
   "outputs": [],
   "source": [
    "# 1a. County Wifi Locations dataset"
   ]
  },
  {
   "cell_type": "code",
   "execution_count": 6,
   "metadata": {
    "id": "uDAsS9ktXX9-"
   },
   "outputs": [],
   "source": [
    "# reading the csv files for county government wifi locations\n",
    "df = pd.read_csv('county_government_wifi_locations.csv')"
   ]
  },
  {
   "cell_type": "code",
   "execution_count": 7,
   "metadata": {
    "colab": {
     "base_uri": "https://localhost:8080/",
     "height": 197
    },
    "id": "J109MpIHXYLc",
    "outputId": "f2653e00-b14f-45e7-e427-ad8ab8b5c95f",
    "scrolled": false
   },
   "outputs": [
    {
     "data": {
      "text/html": [
       "<div>\n",
       "<style scoped>\n",
       "    .dataframe tbody tr th:only-of-type {\n",
       "        vertical-align: middle;\n",
       "    }\n",
       "\n",
       "    .dataframe tbody tr th {\n",
       "        vertical-align: top;\n",
       "    }\n",
       "\n",
       "    .dataframe thead th {\n",
       "        text-align: right;\n",
       "    }\n",
       "</style>\n",
       "<table border=\"1\" class=\"dataframe\">\n",
       "  <thead>\n",
       "    <tr style=\"text-align: right;\">\n",
       "      <th></th>\n",
       "      <th>Agency</th>\n",
       "      <th>Department</th>\n",
       "      <th>Name</th>\n",
       "      <th>Address</th>\n",
       "      <th>Location</th>\n",
       "    </tr>\n",
       "  </thead>\n",
       "  <tbody>\n",
       "    <tr>\n",
       "      <th>0</th>\n",
       "      <td>MCG</td>\n",
       "      <td>DPL</td>\n",
       "      <td>White Oak Library</td>\n",
       "      <td>11701 New Hampshire Avenue, Silver Spring, MD ...</td>\n",
       "      <td>NaN</td>\n",
       "    </tr>\n",
       "    <tr>\n",
       "      <th>1</th>\n",
       "      <td>MCG</td>\n",
       "      <td>RSC</td>\n",
       "      <td>Sidney Kramer Upcounty Service ctr.</td>\n",
       "      <td>12900 Middlebrook Road, Germantown MD</td>\n",
       "      <td>POINT (-77.267914 39.179332)</td>\n",
       "    </tr>\n",
       "    <tr>\n",
       "      <th>2</th>\n",
       "      <td>MCG</td>\n",
       "      <td>DTS</td>\n",
       "      <td>L3 Helpdesk &amp; Office</td>\n",
       "      <td>7361 Calhoun Plaza,  Rockville, MD 20850</td>\n",
       "      <td>NaN</td>\n",
       "    </tr>\n",
       "    <tr>\n",
       "      <th>3</th>\n",
       "      <td>MCG</td>\n",
       "      <td>CAO/CEX/CC/Courts</td>\n",
       "      <td>OIG/ERP Office</td>\n",
       "      <td>51 Monroe Street, Rockville, MD 20850</td>\n",
       "      <td>POINT (-90.409668 40.720439)</td>\n",
       "    </tr>\n",
       "    <tr>\n",
       "      <th>4</th>\n",
       "      <td>MCG</td>\n",
       "      <td>FRS</td>\n",
       "      <td>F&amp;RS</td>\n",
       "      <td>19801 Bealsville Road, Bealsville, MD 20839</td>\n",
       "      <td>NaN</td>\n",
       "    </tr>\n",
       "  </tbody>\n",
       "</table>\n",
       "</div>"
      ],
      "text/plain": [
       "  Agency         Department                                 Name  \\\n",
       "0    MCG                DPL                    White Oak Library   \n",
       "1    MCG                RSC  Sidney Kramer Upcounty Service ctr.   \n",
       "2    MCG                DTS                 L3 Helpdesk & Office   \n",
       "3    MCG  CAO/CEX/CC/Courts                       OIG/ERP Office   \n",
       "4    MCG                FRS                                 F&RS   \n",
       "\n",
       "                                             Address  \\\n",
       "0  11701 New Hampshire Avenue, Silver Spring, MD ...   \n",
       "1              12900 Middlebrook Road, Germantown MD   \n",
       "2           7361 Calhoun Plaza,  Rockville, MD 20850   \n",
       "3              51 Monroe Street, Rockville, MD 20850   \n",
       "4        19801 Bealsville Road, Bealsville, MD 20839   \n",
       "\n",
       "                       Location  \n",
       "0                           NaN  \n",
       "1  POINT (-77.267914 39.179332)  \n",
       "2                           NaN  \n",
       "3  POINT (-90.409668 40.720439)  \n",
       "4                           NaN  "
      ]
     },
     "execution_count": 7,
     "metadata": {},
     "output_type": "execute_result"
    }
   ],
   "source": [
    "# viewing the head of the dataframe\n",
    "df.head()"
   ]
  },
  {
   "cell_type": "code",
   "execution_count": 8,
   "metadata": {
    "colab": {
     "base_uri": "https://localhost:8080/"
    },
    "id": "PHU04CTGXYWx",
    "outputId": "565ed597-e450-4f3a-ec35-3b4cfb9212a0"
   },
   "outputs": [
    {
     "data": {
      "text/plain": [
       "array(['DPL', 'RSC', 'DTS', 'CAO/CEX/CC/Courts', 'FRS', 'REC', 'DOT',\n",
       "       'DGS', 'HHS', 'BOE', 'DED/DEP', 'DOCR', 'MCPD', 'DLC',\n",
       "       'PIO/PublicSafety', 'Warehouse', 'DHS', 'DPS'], dtype=object)"
      ]
     },
     "execution_count": 8,
     "metadata": {},
     "output_type": "execute_result"
    }
   ],
   "source": [
    "# viewing the unique departments that the data contains\n",
    "df.Department.unique()"
   ]
  },
  {
   "cell_type": "code",
   "execution_count": 9,
   "metadata": {
    "colab": {
     "base_uri": "https://localhost:8080/"
    },
    "id": "HbIDSaK9Y4w5",
    "outputId": "5201efbe-788a-4a13-8a39-659d77d8ecee"
   },
   "outputs": [
    {
     "data": {
      "text/plain": [
       "34"
      ]
     },
     "execution_count": 9,
     "metadata": {},
     "output_type": "execute_result"
    }
   ],
   "source": [
    "# Looking at how many are missing\n",
    "# it is an issue that there is missing data because that will affect in plotting the points\n",
    "df.Location.isnull().sum() "
   ]
  },
  {
   "cell_type": "code",
   "execution_count": 10,
   "metadata": {
    "colab": {
     "base_uri": "https://localhost:8080/"
    },
    "id": "RMIkw1A1ZAae",
    "outputId": "184c9dfd-59c5-4381-96f5-7b60bdf12b83",
    "scrolled": true
   },
   "outputs": [
    {
     "name": "stdout",
     "output_type": "stream",
     "text": [
      "    Agency         Department                                 Name  \\\n",
      "0      MCG                DPL                    White Oak Library   \n",
      "1      MCG                RSC  Sidney Kramer Upcounty Service ctr.   \n",
      "2      MCG                DTS                 L3 Helpdesk & Office   \n",
      "3      MCG  CAO/CEX/CC/Courts                       OIG/ERP Office   \n",
      "4      MCG                FRS                                 F&RS   \n",
      "..     ...                ...                                  ...   \n",
      "173    MCG                DGS                   Swing Office Space   \n",
      "174    MCG                HHS             HHS - 1301 Piccard Drive   \n",
      "175    MCG                FRS              Wheaton Resource Center   \n",
      "176    MCG                DOT     Colesville Highway Service Depot   \n",
      "177    MCG                RSC             Bethesda/Chevy Chase RSC   \n",
      "\n",
      "                                               Address  \\\n",
      "0    11701 New Hampshire Avenue, Silver Spring, MD ...   \n",
      "1                12900 Middlebrook Road, Germantown MD   \n",
      "2             7361 Calhoun Plaza,  Rockville, MD 20850   \n",
      "3                51 Monroe Street, Rockville, MD 20850   \n",
      "4          19801 Bealsville Road, Bealsville, MD 20839   \n",
      "..                                                 ...   \n",
      "173               1451 Seven Locks Road, Rockville, MD   \n",
      "174                  1301 Piccard Drive, Rockville, MD   \n",
      "175                   11435 Grandview Ave, Wheaton, MD   \n",
      "176       14335 Cape May Road, Silver Spring, MD 20904   \n",
      "177                   4805 Edgemoor Lane, Bethesda, Md   \n",
      "\n",
      "                          Location    Longitude   Latitude  \n",
      "0                              NaN          NaN        NaN  \n",
      "1     POINT (-77.267914 39.179332)   -77.267914  39.179332  \n",
      "2                              NaN          NaN        NaN  \n",
      "3     POINT (-90.409668 40.720439)   -90.409668  40.720439  \n",
      "4                              NaN          NaN        NaN  \n",
      "..                             ...          ...        ...  \n",
      "173  POINT (-121.500155 38.549099)  -121.500155  38.549099  \n",
      "174   POINT (-77.177593 39.102672)   -77.177593  39.102672  \n",
      "175   POINT (-77.053153 39.042763)   -77.053153  39.042763  \n",
      "176                            NaN          NaN        NaN  \n",
      "177   POINT (-77.095858 38.984796)   -77.095858  38.984796  \n",
      "\n",
      "[178 rows x 7 columns]\n"
     ]
    }
   ],
   "source": [
    "# fixing the way that the \"points\" are in the dataframe\n",
    "# socrata POINT datatypes list their coordinates as \"longitude,latitude\"\n",
    "df[[\"Longitude\", \"Latitude\"]] = df[\"Location\"].str.replace(\"POINT \\(\",\"\").str.replace(\"\\)\",\"\").str.split(\" \", expand=True)\n",
    "print(df)"
   ]
  },
  {
   "cell_type": "code",
   "execution_count": 11,
   "metadata": {
    "id": "vQh-yGa-ZjXf"
   },
   "outputs": [],
   "source": [
    "# using geopy to fill in the missing data.\n",
    "from geopy.geocoders import Nominatim\n",
    "geolocator = Nominatim(user_agent=\"capstone\")"
   ]
  },
  {
   "cell_type": "code",
   "execution_count": 12,
   "metadata": {
    "colab": {
     "base_uri": "https://localhost:8080/"
    },
    "id": "6b-ICGowmLNf",
    "outputId": "3b95d74f-0818-4e57-b025-3b731c297f16"
   },
   "outputs": [
    {
     "data": {
      "text/plain": [
       "float"
      ]
     },
     "execution_count": 12,
     "metadata": {},
     "output_type": "execute_result"
    }
   ],
   "source": [
    "# the NaN are floats\n",
    "type(df['Location'][0])"
   ]
  },
  {
   "cell_type": "code",
   "execution_count": 13,
   "metadata": {
    "colab": {
     "base_uri": "https://localhost:8080/"
    },
    "id": "15-SWcmNmfob",
    "outputId": "f29668bf-6027-4748-fc40-937a2061cdea"
   },
   "outputs": [
    {
     "data": {
      "text/plain": [
       "str"
      ]
     },
     "execution_count": 13,
     "metadata": {},
     "output_type": "execute_result"
    }
   ],
   "source": [
    "# the values that are not missing in locations are strings\n",
    "type(df['Location'][10])"
   ]
  },
  {
   "cell_type": "code",
   "execution_count": 14,
   "metadata": {
    "colab": {
     "base_uri": "https://localhost:8080/"
    },
    "id": "EZXzMJ9ZbR2l",
    "outputId": "3dfa6838-c479-4beb-e2ee-e361741bca92"
   },
   "outputs": [
    {
     "name": "stdout",
     "output_type": "stream",
     "text": [
      "7361 Calhoun Plaza,  Rockville, MD 20850\n",
      "19801 Bealsville Road, Bealsville, MD 20839\n",
      "8540 Anniversary Drive, Gaithersburg, MD 20877\n",
      "14401 Connecticut Avenue, Silver Spring, MD 20906\n",
      "8630 Fenton Street, 10th floor, Silver Spring, MD\n",
      "1400 Spring St suite 305, Silver Spring, MD 20910\n",
      "19300 Georgia Avenue, Brookville,  MD 20833\n",
      "3300 Briggs Chaney Road, Silver Spring, MD 20904\n",
      "14715 Good Hope Road, Silver Spring, MD 20905\n",
      "13900 Old Columbia Pike, Silver Spring, MD 20904\n",
      "14910 Old Comumbia Pike, Burtonsville, MD 20866\n",
      "18905 Kingsview Drive, Germantown, MD, 20874\n",
      "4407 Aspen Hill Road, Rockville, MD\n",
      "14335 Cape May Road, Silver Spring, MD 20904\n",
      "14\n"
     ]
    }
   ],
   "source": [
    "# counting the number of times the geolocator fails\n",
    "failed = 0 \n",
    "# getting the value and index of the all the rows\n",
    "for row_num, row in enumerate(df[\"Location\"]):\n",
    "  # if the value is NaN (float type) \n",
    "  if type(row) == float:\n",
    "    # geocode the address at the same row\n",
    "    location = geolocator.geocode(df[\"Address\"][row_num])\n",
    "    # if geocoded successfully\n",
    "    if location is not None:\n",
    "      df[\"Latitude\"][row_num] = location.latitude\n",
    "      df[\"Longitude\"][row_num] = location.longitude\n",
    "    else:\n",
    "      failed += 1\n",
    "      print(df[\"Address\"][row_num])\n",
    "print(failed)"
   ]
  },
  {
   "cell_type": "code",
   "execution_count": 15,
   "metadata": {
    "scrolled": false
   },
   "outputs": [
    {
     "name": "stdout",
     "output_type": "stream",
     "text": [
      "GentleTouch Dental Care, 8630, Fenton Street, Blair Circle, Silver Spring, Montgomery County, Maryland, 20910, United States\n",
      "(38.9979273, -77.0286378)\n"
     ]
    }
   ],
   "source": [
    "geolocator = Nominatim(user_agent=\"Your_Name\")\n",
    "location = geolocator.geocode('8630 Fenton Street')\n",
    "print(location.address)\n",
    "print((location.latitude, location.longitude))"
   ]
  },
  {
   "cell_type": "code",
   "execution_count": 16,
   "metadata": {},
   "outputs": [],
   "source": [
    "# 1b. Public Schools Dataset"
   ]
  },
  {
   "cell_type": "code",
   "execution_count": 17,
   "metadata": {},
   "outputs": [
    {
     "data": {
      "text/html": [
       "<div>\n",
       "<style scoped>\n",
       "    .dataframe tbody tr th:only-of-type {\n",
       "        vertical-align: middle;\n",
       "    }\n",
       "\n",
       "    .dataframe tbody tr th {\n",
       "        vertical-align: top;\n",
       "    }\n",
       "\n",
       "    .dataframe thead th {\n",
       "        text-align: right;\n",
       "    }\n",
       "</style>\n",
       "<table border=\"1\" class=\"dataframe\">\n",
       "  <thead>\n",
       "    <tr style=\"text-align: right;\">\n",
       "      <th></th>\n",
       "      <th>CATEGORY</th>\n",
       "      <th>SCHOOL NAME</th>\n",
       "      <th>ADDRESS</th>\n",
       "      <th>CITY</th>\n",
       "      <th>ZIP CODE</th>\n",
       "      <th>PHONE</th>\n",
       "      <th>URL</th>\n",
       "      <th>LONGITUDE</th>\n",
       "      <th>LATITUDE</th>\n",
       "      <th>LOCATION</th>\n",
       "    </tr>\n",
       "  </thead>\n",
       "  <tbody>\n",
       "    <tr>\n",
       "      <th>0</th>\n",
       "      <td>ELEMENTARY SCHOOLS</td>\n",
       "      <td>Beall ES</td>\n",
       "      <td>451 Beall Ave</td>\n",
       "      <td>Rockville</td>\n",
       "      <td>20850</td>\n",
       "      <td>301-279-8460</td>\n",
       "      <td>http://www.montgomeryschoolsmd.org/schools/bea...</td>\n",
       "      <td>-77.161758</td>\n",
       "      <td>39.087775</td>\n",
       "      <td>451 Beall Ave\\nRockville, MD 20850\\n(39.087775...</td>\n",
       "    </tr>\n",
       "    <tr>\n",
       "      <th>1</th>\n",
       "      <td>ELEMENTARY SCHOOLS</td>\n",
       "      <td>Clearspring ES</td>\n",
       "      <td>9930 Moyer Rd</td>\n",
       "      <td>Damascus</td>\n",
       "      <td>20872</td>\n",
       "      <td>301-253-7004</td>\n",
       "      <td>http://www.montgomeryschoolsmd.org/schools/cle...</td>\n",
       "      <td>-77.207301</td>\n",
       "      <td>39.265783</td>\n",
       "      <td>9930 Moyer Rd\\nDamascus, MD 20872\\n(39.2657831...</td>\n",
       "    </tr>\n",
       "    <tr>\n",
       "      <th>2</th>\n",
       "      <td>ELEMENTARY SCHOOLS</td>\n",
       "      <td>Sherwood ES</td>\n",
       "      <td>1401 Olney Sandy Spring Rd</td>\n",
       "      <td>Sandy Spring</td>\n",
       "      <td>20860</td>\n",
       "      <td>301-924-3195</td>\n",
       "      <td>http://www.montgomeryschoolsmd.org/schools/she...</td>\n",
       "      <td>-77.033116</td>\n",
       "      <td>39.149584</td>\n",
       "      <td>1401 Olney Sandy Spring Rd\\nSandy Spring, MD 2...</td>\n",
       "    </tr>\n",
       "    <tr>\n",
       "      <th>3</th>\n",
       "      <td>ELEMENTARY SCHOOLS</td>\n",
       "      <td>Pine Crest ES</td>\n",
       "      <td>201 Woodmoor Dr</td>\n",
       "      <td>Silver Spring</td>\n",
       "      <td>20901</td>\n",
       "      <td>301-649-8066</td>\n",
       "      <td>http://www.montgomeryschoolsmd.org/schools/pin...</td>\n",
       "      <td>-77.005038</td>\n",
       "      <td>39.021311</td>\n",
       "      <td>201 Woodmoor Dr\\nSilver Spring, MD 20901\\n(39....</td>\n",
       "    </tr>\n",
       "    <tr>\n",
       "      <th>4</th>\n",
       "      <td>MIDDLE SCHOOLS</td>\n",
       "      <td>Earle B. Wood MS</td>\n",
       "      <td>14615 Bauer Dr</td>\n",
       "      <td>Rockville</td>\n",
       "      <td>20852</td>\n",
       "      <td>301-460-2150</td>\n",
       "      <td>http://www.montgomeryschoolsmd.org/schools/woodms</td>\n",
       "      <td>-77.107529</td>\n",
       "      <td>39.093295</td>\n",
       "      <td>14615 Bauer Dr\\nRockville, MD 20852\\n(39.09329...</td>\n",
       "    </tr>\n",
       "  </tbody>\n",
       "</table>\n",
       "</div>"
      ],
      "text/plain": [
       "             CATEGORY       SCHOOL NAME                     ADDRESS  \\\n",
       "0  ELEMENTARY SCHOOLS          Beall ES               451 Beall Ave   \n",
       "1  ELEMENTARY SCHOOLS    Clearspring ES               9930 Moyer Rd   \n",
       "2  ELEMENTARY SCHOOLS       Sherwood ES  1401 Olney Sandy Spring Rd   \n",
       "3  ELEMENTARY SCHOOLS     Pine Crest ES             201 Woodmoor Dr   \n",
       "4      MIDDLE SCHOOLS  Earle B. Wood MS              14615 Bauer Dr   \n",
       "\n",
       "            CITY  ZIP CODE         PHONE  \\\n",
       "0      Rockville     20850  301-279-8460   \n",
       "1       Damascus     20872  301-253-7004   \n",
       "2   Sandy Spring     20860  301-924-3195   \n",
       "3  Silver Spring     20901  301-649-8066   \n",
       "4      Rockville     20852  301-460-2150   \n",
       "\n",
       "                                                 URL  LONGITUDE   LATITUDE  \\\n",
       "0  http://www.montgomeryschoolsmd.org/schools/bea... -77.161758  39.087775   \n",
       "1  http://www.montgomeryschoolsmd.org/schools/cle... -77.207301  39.265783   \n",
       "2  http://www.montgomeryschoolsmd.org/schools/she... -77.033116  39.149584   \n",
       "3  http://www.montgomeryschoolsmd.org/schools/pin... -77.005038  39.021311   \n",
       "4  http://www.montgomeryschoolsmd.org/schools/woodms -77.107529  39.093295   \n",
       "\n",
       "                                            LOCATION  \n",
       "0  451 Beall Ave\\nRockville, MD 20850\\n(39.087775...  \n",
       "1  9930 Moyer Rd\\nDamascus, MD 20872\\n(39.2657831...  \n",
       "2  1401 Olney Sandy Spring Rd\\nSandy Spring, MD 2...  \n",
       "3  201 Woodmoor Dr\\nSilver Spring, MD 20901\\n(39....  \n",
       "4  14615 Bauer Dr\\nRockville, MD 20852\\n(39.09329...  "
      ]
     },
     "execution_count": 17,
     "metadata": {},
     "output_type": "execute_result"
    }
   ],
   "source": [
    "# reading and viewing the head of the csv files for county government wifi locations\n",
    "df2 = pd.read_csv('Public_Schools.csv')\n",
    "df2.head()"
   ]
  },
  {
   "cell_type": "code",
   "execution_count": 18,
   "metadata": {
    "scrolled": false
   },
   "outputs": [
    {
     "data": {
      "text/html": [
       "<div>\n",
       "<style scoped>\n",
       "    .dataframe tbody tr th:only-of-type {\n",
       "        vertical-align: middle;\n",
       "    }\n",
       "\n",
       "    .dataframe tbody tr th {\n",
       "        vertical-align: top;\n",
       "    }\n",
       "\n",
       "    .dataframe thead th {\n",
       "        text-align: right;\n",
       "    }\n",
       "</style>\n",
       "<table border=\"1\" class=\"dataframe\">\n",
       "  <thead>\n",
       "    <tr style=\"text-align: right;\">\n",
       "      <th></th>\n",
       "      <th>category</th>\n",
       "      <th>school_name</th>\n",
       "      <th>address</th>\n",
       "      <th>city</th>\n",
       "      <th>zip_code</th>\n",
       "      <th>phone</th>\n",
       "      <th>url</th>\n",
       "      <th>longitude</th>\n",
       "      <th>latitude</th>\n",
       "      <th>location</th>\n",
       "    </tr>\n",
       "  </thead>\n",
       "  <tbody>\n",
       "    <tr>\n",
       "      <th>0</th>\n",
       "      <td>ELEMENTARY SCHOOLS</td>\n",
       "      <td>Beall ES</td>\n",
       "      <td>451 Beall Ave</td>\n",
       "      <td>Rockville</td>\n",
       "      <td>20850</td>\n",
       "      <td>301-279-8460</td>\n",
       "      <td>http://www.montgomeryschoolsmd.org/schools/bea...</td>\n",
       "      <td>-77.161758</td>\n",
       "      <td>39.087775</td>\n",
       "      <td>451 Beall Ave\\nRockville, MD 20850\\n(39.087775...</td>\n",
       "    </tr>\n",
       "    <tr>\n",
       "      <th>1</th>\n",
       "      <td>ELEMENTARY SCHOOLS</td>\n",
       "      <td>Clearspring ES</td>\n",
       "      <td>9930 Moyer Rd</td>\n",
       "      <td>Damascus</td>\n",
       "      <td>20872</td>\n",
       "      <td>301-253-7004</td>\n",
       "      <td>http://www.montgomeryschoolsmd.org/schools/cle...</td>\n",
       "      <td>-77.207301</td>\n",
       "      <td>39.265783</td>\n",
       "      <td>9930 Moyer Rd\\nDamascus, MD 20872\\n(39.2657831...</td>\n",
       "    </tr>\n",
       "    <tr>\n",
       "      <th>2</th>\n",
       "      <td>ELEMENTARY SCHOOLS</td>\n",
       "      <td>Sherwood ES</td>\n",
       "      <td>1401 Olney Sandy Spring Rd</td>\n",
       "      <td>Sandy Spring</td>\n",
       "      <td>20860</td>\n",
       "      <td>301-924-3195</td>\n",
       "      <td>http://www.montgomeryschoolsmd.org/schools/she...</td>\n",
       "      <td>-77.033116</td>\n",
       "      <td>39.149584</td>\n",
       "      <td>1401 Olney Sandy Spring Rd\\nSandy Spring, MD 2...</td>\n",
       "    </tr>\n",
       "    <tr>\n",
       "      <th>3</th>\n",
       "      <td>ELEMENTARY SCHOOLS</td>\n",
       "      <td>Pine Crest ES</td>\n",
       "      <td>201 Woodmoor Dr</td>\n",
       "      <td>Silver Spring</td>\n",
       "      <td>20901</td>\n",
       "      <td>301-649-8066</td>\n",
       "      <td>http://www.montgomeryschoolsmd.org/schools/pin...</td>\n",
       "      <td>-77.005038</td>\n",
       "      <td>39.021311</td>\n",
       "      <td>201 Woodmoor Dr\\nSilver Spring, MD 20901\\n(39....</td>\n",
       "    </tr>\n",
       "    <tr>\n",
       "      <th>4</th>\n",
       "      <td>MIDDLE SCHOOLS</td>\n",
       "      <td>Earle B. Wood MS</td>\n",
       "      <td>14615 Bauer Dr</td>\n",
       "      <td>Rockville</td>\n",
       "      <td>20852</td>\n",
       "      <td>301-460-2150</td>\n",
       "      <td>http://www.montgomeryschoolsmd.org/schools/woodms</td>\n",
       "      <td>-77.107529</td>\n",
       "      <td>39.093295</td>\n",
       "      <td>14615 Bauer Dr\\nRockville, MD 20852\\n(39.09329...</td>\n",
       "    </tr>\n",
       "  </tbody>\n",
       "</table>\n",
       "</div>"
      ],
      "text/plain": [
       "             category       school_name                     address  \\\n",
       "0  ELEMENTARY SCHOOLS          Beall ES               451 Beall Ave   \n",
       "1  ELEMENTARY SCHOOLS    Clearspring ES               9930 Moyer Rd   \n",
       "2  ELEMENTARY SCHOOLS       Sherwood ES  1401 Olney Sandy Spring Rd   \n",
       "3  ELEMENTARY SCHOOLS     Pine Crest ES             201 Woodmoor Dr   \n",
       "4      MIDDLE SCHOOLS  Earle B. Wood MS              14615 Bauer Dr   \n",
       "\n",
       "            city  zip_code         phone  \\\n",
       "0      Rockville     20850  301-279-8460   \n",
       "1       Damascus     20872  301-253-7004   \n",
       "2   Sandy Spring     20860  301-924-3195   \n",
       "3  Silver Spring     20901  301-649-8066   \n",
       "4      Rockville     20852  301-460-2150   \n",
       "\n",
       "                                                 url  longitude   latitude  \\\n",
       "0  http://www.montgomeryschoolsmd.org/schools/bea... -77.161758  39.087775   \n",
       "1  http://www.montgomeryschoolsmd.org/schools/cle... -77.207301  39.265783   \n",
       "2  http://www.montgomeryschoolsmd.org/schools/she... -77.033116  39.149584   \n",
       "3  http://www.montgomeryschoolsmd.org/schools/pin... -77.005038  39.021311   \n",
       "4  http://www.montgomeryschoolsmd.org/schools/woodms -77.107529  39.093295   \n",
       "\n",
       "                                            location  \n",
       "0  451 Beall Ave\\nRockville, MD 20850\\n(39.087775...  \n",
       "1  9930 Moyer Rd\\nDamascus, MD 20872\\n(39.2657831...  \n",
       "2  1401 Olney Sandy Spring Rd\\nSandy Spring, MD 2...  \n",
       "3  201 Woodmoor Dr\\nSilver Spring, MD 20901\\n(39....  \n",
       "4  14615 Bauer Dr\\nRockville, MD 20852\\n(39.09329...  "
      ]
     },
     "execution_count": 18,
     "metadata": {},
     "output_type": "execute_result"
    }
   ],
   "source": [
    "# Change the column names, lower case and removing spaces\n",
    "df2.columns =['category', 'school_name', 'address', 'city', 'zip_code', 'phone','url','longitude','latitude','location']\n",
    "df2.head()"
   ]
  },
  {
   "cell_type": "code",
   "execution_count": 19,
   "metadata": {},
   "outputs": [],
   "source": [
    "# changing the lables of the departments"
   ]
  },
  {
   "cell_type": "code",
   "execution_count": 20,
   "metadata": {
    "scrolled": true
   },
   "outputs": [
    {
     "data": {
      "text/plain": [
       "0"
      ]
     },
     "execution_count": 20,
     "metadata": {},
     "output_type": "execute_result"
    }
   ],
   "source": [
    "# checking that there is no null in longitude and latitde\n",
    "df2.longitude.isnull().sum()\n",
    "df2.latitude.isnull().sum()"
   ]
  },
  {
   "cell_type": "code",
   "execution_count": 21,
   "metadata": {},
   "outputs": [],
   "source": [
    "# Changing the school names to prepare to merge with other school dataset"
   ]
  },
  {
   "cell_type": "code",
   "execution_count": 22,
   "metadata": {
    "scrolled": false
   },
   "outputs": [],
   "source": [
    "# changing index cols with rename()\n",
    "\n",
    "df2['school_name'] = df2['school_name'].str.replace('ES', 'Elementary')\n",
    "df2['school_name'] = df2['school_name'].str.replace('MS', 'Middle')\n",
    "df2['school_name'] = df2['school_name'].str.replace('HS', 'High')"
   ]
  },
  {
   "cell_type": "code",
   "execution_count": 23,
   "metadata": {
    "scrolled": true
   },
   "outputs": [
    {
     "data": {
      "text/html": [
       "<div>\n",
       "<style scoped>\n",
       "    .dataframe tbody tr th:only-of-type {\n",
       "        vertical-align: middle;\n",
       "    }\n",
       "\n",
       "    .dataframe tbody tr th {\n",
       "        vertical-align: top;\n",
       "    }\n",
       "\n",
       "    .dataframe thead th {\n",
       "        text-align: right;\n",
       "    }\n",
       "</style>\n",
       "<table border=\"1\" class=\"dataframe\">\n",
       "  <thead>\n",
       "    <tr style=\"text-align: right;\">\n",
       "      <th></th>\n",
       "      <th>category</th>\n",
       "      <th>school_name</th>\n",
       "      <th>address</th>\n",
       "      <th>city</th>\n",
       "      <th>zip_code</th>\n",
       "      <th>phone</th>\n",
       "      <th>url</th>\n",
       "      <th>longitude</th>\n",
       "      <th>latitude</th>\n",
       "      <th>location</th>\n",
       "    </tr>\n",
       "  </thead>\n",
       "  <tbody>\n",
       "    <tr>\n",
       "      <th>0</th>\n",
       "      <td>ELEMENTARY SCHOOLS</td>\n",
       "      <td>Beall Elementary</td>\n",
       "      <td>451 Beall Ave</td>\n",
       "      <td>Rockville</td>\n",
       "      <td>20850</td>\n",
       "      <td>301-279-8460</td>\n",
       "      <td>http://www.montgomeryschoolsmd.org/schools/bea...</td>\n",
       "      <td>-77.161758</td>\n",
       "      <td>39.087775</td>\n",
       "      <td>451 Beall Ave\\nRockville, MD 20850\\n(39.087775...</td>\n",
       "    </tr>\n",
       "    <tr>\n",
       "      <th>1</th>\n",
       "      <td>ELEMENTARY SCHOOLS</td>\n",
       "      <td>Clearspring Elementary</td>\n",
       "      <td>9930 Moyer Rd</td>\n",
       "      <td>Damascus</td>\n",
       "      <td>20872</td>\n",
       "      <td>301-253-7004</td>\n",
       "      <td>http://www.montgomeryschoolsmd.org/schools/cle...</td>\n",
       "      <td>-77.207301</td>\n",
       "      <td>39.265783</td>\n",
       "      <td>9930 Moyer Rd\\nDamascus, MD 20872\\n(39.2657831...</td>\n",
       "    </tr>\n",
       "    <tr>\n",
       "      <th>2</th>\n",
       "      <td>ELEMENTARY SCHOOLS</td>\n",
       "      <td>Sherwood Elementary</td>\n",
       "      <td>1401 Olney Sandy Spring Rd</td>\n",
       "      <td>Sandy Spring</td>\n",
       "      <td>20860</td>\n",
       "      <td>301-924-3195</td>\n",
       "      <td>http://www.montgomeryschoolsmd.org/schools/she...</td>\n",
       "      <td>-77.033116</td>\n",
       "      <td>39.149584</td>\n",
       "      <td>1401 Olney Sandy Spring Rd\\nSandy Spring, MD 2...</td>\n",
       "    </tr>\n",
       "    <tr>\n",
       "      <th>3</th>\n",
       "      <td>ELEMENTARY SCHOOLS</td>\n",
       "      <td>Pine Crest Elementary</td>\n",
       "      <td>201 Woodmoor Dr</td>\n",
       "      <td>Silver Spring</td>\n",
       "      <td>20901</td>\n",
       "      <td>301-649-8066</td>\n",
       "      <td>http://www.montgomeryschoolsmd.org/schools/pin...</td>\n",
       "      <td>-77.005038</td>\n",
       "      <td>39.021311</td>\n",
       "      <td>201 Woodmoor Dr\\nSilver Spring, MD 20901\\n(39....</td>\n",
       "    </tr>\n",
       "    <tr>\n",
       "      <th>4</th>\n",
       "      <td>MIDDLE SCHOOLS</td>\n",
       "      <td>Earle B. Wood Middle</td>\n",
       "      <td>14615 Bauer Dr</td>\n",
       "      <td>Rockville</td>\n",
       "      <td>20852</td>\n",
       "      <td>301-460-2150</td>\n",
       "      <td>http://www.montgomeryschoolsmd.org/schools/woodms</td>\n",
       "      <td>-77.107529</td>\n",
       "      <td>39.093295</td>\n",
       "      <td>14615 Bauer Dr\\nRockville, MD 20852\\n(39.09329...</td>\n",
       "    </tr>\n",
       "  </tbody>\n",
       "</table>\n",
       "</div>"
      ],
      "text/plain": [
       "             category             school_name                     address  \\\n",
       "0  ELEMENTARY SCHOOLS        Beall Elementary               451 Beall Ave   \n",
       "1  ELEMENTARY SCHOOLS  Clearspring Elementary               9930 Moyer Rd   \n",
       "2  ELEMENTARY SCHOOLS     Sherwood Elementary  1401 Olney Sandy Spring Rd   \n",
       "3  ELEMENTARY SCHOOLS   Pine Crest Elementary             201 Woodmoor Dr   \n",
       "4      MIDDLE SCHOOLS    Earle B. Wood Middle              14615 Bauer Dr   \n",
       "\n",
       "            city  zip_code         phone  \\\n",
       "0      Rockville     20850  301-279-8460   \n",
       "1       Damascus     20872  301-253-7004   \n",
       "2   Sandy Spring     20860  301-924-3195   \n",
       "3  Silver Spring     20901  301-649-8066   \n",
       "4      Rockville     20852  301-460-2150   \n",
       "\n",
       "                                                 url  longitude   latitude  \\\n",
       "0  http://www.montgomeryschoolsmd.org/schools/bea... -77.161758  39.087775   \n",
       "1  http://www.montgomeryschoolsmd.org/schools/cle... -77.207301  39.265783   \n",
       "2  http://www.montgomeryschoolsmd.org/schools/she... -77.033116  39.149584   \n",
       "3  http://www.montgomeryschoolsmd.org/schools/pin... -77.005038  39.021311   \n",
       "4  http://www.montgomeryschoolsmd.org/schools/woodms -77.107529  39.093295   \n",
       "\n",
       "                                            location  \n",
       "0  451 Beall Ave\\nRockville, MD 20850\\n(39.087775...  \n",
       "1  9930 Moyer Rd\\nDamascus, MD 20872\\n(39.2657831...  \n",
       "2  1401 Olney Sandy Spring Rd\\nSandy Spring, MD 2...  \n",
       "3  201 Woodmoor Dr\\nSilver Spring, MD 20901\\n(39....  \n",
       "4  14615 Bauer Dr\\nRockville, MD 20852\\n(39.09329...  "
      ]
     },
     "execution_count": 23,
     "metadata": {},
     "output_type": "execute_result"
    }
   ],
   "source": [
    "df2.head()"
   ]
  },
  {
   "cell_type": "code",
   "execution_count": 24,
   "metadata": {},
   "outputs": [],
   "source": [
    "demo = pd.read_csv('mcps_demo.csv',sep=',')"
   ]
  },
  {
   "cell_type": "code",
   "execution_count": 25,
   "metadata": {},
   "outputs": [
    {
     "data": {
      "text/html": [
       "<div>\n",
       "<style scoped>\n",
       "    .dataframe tbody tr th:only-of-type {\n",
       "        vertical-align: middle;\n",
       "    }\n",
       "\n",
       "    .dataframe tbody tr th {\n",
       "        vertical-align: top;\n",
       "    }\n",
       "\n",
       "    .dataframe thead th {\n",
       "        text-align: right;\n",
       "    }\n",
       "</style>\n",
       "<table border=\"1\" class=\"dataframe\">\n",
       "  <thead>\n",
       "    <tr style=\"text-align: right;\">\n",
       "      <th></th>\n",
       "      <th>Unnamed: 0</th>\n",
       "      <th>Name</th>\n",
       "      <th>Total Enrollment</th>\n",
       "      <th>Free lunch eligible1</th>\n",
       "      <th>Reduced-price lunch eligible1</th>\n",
       "      <th>Directly certified2</th>\n",
       "    </tr>\n",
       "  </thead>\n",
       "  <tbody>\n",
       "    <tr>\n",
       "      <th>0</th>\n",
       "      <td>0</td>\n",
       "      <td>A. Mario Loiederman Middle</td>\n",
       "      <td>999</td>\n",
       "      <td>424</td>\n",
       "      <td>124</td>\n",
       "      <td>127</td>\n",
       "    </tr>\n",
       "    <tr>\n",
       "      <th>1</th>\n",
       "      <td>1</td>\n",
       "      <td>Albert Einstein High</td>\n",
       "      <td>1,818</td>\n",
       "      <td>492</td>\n",
       "      <td>153</td>\n",
       "      <td>145</td>\n",
       "    </tr>\n",
       "    <tr>\n",
       "      <th>2</th>\n",
       "      <td>2</td>\n",
       "      <td>Alternative Programs</td>\n",
       "      <td>126</td>\n",
       "      <td>58</td>\n",
       "      <td>2</td>\n",
       "      <td>40</td>\n",
       "    </tr>\n",
       "    <tr>\n",
       "      <th>3</th>\n",
       "      <td>3</td>\n",
       "      <td>Arcola Elementary</td>\n",
       "      <td>748</td>\n",
       "      <td>456</td>\n",
       "      <td>95</td>\n",
       "      <td>159</td>\n",
       "    </tr>\n",
       "    <tr>\n",
       "      <th>4</th>\n",
       "      <td>4</td>\n",
       "      <td>Argyle Middle</td>\n",
       "      <td>1,024</td>\n",
       "      <td>444</td>\n",
       "      <td>130</td>\n",
       "      <td>131</td>\n",
       "    </tr>\n",
       "  </tbody>\n",
       "</table>\n",
       "</div>"
      ],
      "text/plain": [
       "   Unnamed: 0                        Name Total Enrollment  \\\n",
       "0           0  A. Mario Loiederman Middle              999   \n",
       "1           1        Albert Einstein High            1,818   \n",
       "2           2        Alternative Programs              126   \n",
       "3           3           Arcola Elementary              748   \n",
       "4           4               Argyle Middle            1,024   \n",
       "\n",
       "  Free lunch eligible1 Reduced-price lunch eligible1 Directly certified2  \n",
       "0                  424                           124                 127  \n",
       "1                  492                           153                 145  \n",
       "2                   58                             2                  40  \n",
       "3                  456                            95                 159  \n",
       "4                  444                           130                 131  "
      ]
     },
     "execution_count": 25,
     "metadata": {},
     "output_type": "execute_result"
    }
   ],
   "source": [
    "demo.head()"
   ]
  },
  {
   "cell_type": "code",
   "execution_count": 34,
   "metadata": {},
   "outputs": [
    {
     "data": {
      "text/html": [
       "<div>\n",
       "<style scoped>\n",
       "    .dataframe tbody tr th:only-of-type {\n",
       "        vertical-align: middle;\n",
       "    }\n",
       "\n",
       "    .dataframe tbody tr th {\n",
       "        vertical-align: top;\n",
       "    }\n",
       "\n",
       "    .dataframe thead th {\n",
       "        text-align: right;\n",
       "    }\n",
       "</style>\n",
       "<table border=\"1\" class=\"dataframe\">\n",
       "  <thead>\n",
       "    <tr style=\"text-align: right;\">\n",
       "      <th></th>\n",
       "      <th>number</th>\n",
       "      <th>school_name</th>\n",
       "      <th>total_enrollment</th>\n",
       "      <th>free_lunch</th>\n",
       "      <th>reduced_lunch</th>\n",
       "      <th>directly_certified</th>\n",
       "    </tr>\n",
       "  </thead>\n",
       "  <tbody>\n",
       "    <tr>\n",
       "      <th>0</th>\n",
       "      <td>0</td>\n",
       "      <td>A. Mario Loiederman Middle</td>\n",
       "      <td>999</td>\n",
       "      <td>424</td>\n",
       "      <td>124</td>\n",
       "      <td>127</td>\n",
       "    </tr>\n",
       "    <tr>\n",
       "      <th>1</th>\n",
       "      <td>1</td>\n",
       "      <td>Albert Einstein High</td>\n",
       "      <td>1,818</td>\n",
       "      <td>492</td>\n",
       "      <td>153</td>\n",
       "      <td>145</td>\n",
       "    </tr>\n",
       "    <tr>\n",
       "      <th>2</th>\n",
       "      <td>2</td>\n",
       "      <td>Alternative Programs</td>\n",
       "      <td>126</td>\n",
       "      <td>58</td>\n",
       "      <td>2</td>\n",
       "      <td>40</td>\n",
       "    </tr>\n",
       "    <tr>\n",
       "      <th>3</th>\n",
       "      <td>3</td>\n",
       "      <td>Arcola Elementary</td>\n",
       "      <td>748</td>\n",
       "      <td>456</td>\n",
       "      <td>95</td>\n",
       "      <td>159</td>\n",
       "    </tr>\n",
       "    <tr>\n",
       "      <th>4</th>\n",
       "      <td>4</td>\n",
       "      <td>Argyle Middle</td>\n",
       "      <td>1,024</td>\n",
       "      <td>444</td>\n",
       "      <td>130</td>\n",
       "      <td>131</td>\n",
       "    </tr>\n",
       "  </tbody>\n",
       "</table>\n",
       "</div>"
      ],
      "text/plain": [
       "   number                 school_name total_enrollment free_lunch  \\\n",
       "0       0  A. Mario Loiederman Middle              999        424   \n",
       "1       1        Albert Einstein High            1,818        492   \n",
       "2       2        Alternative Programs              126         58   \n",
       "3       3           Arcola Elementary              748        456   \n",
       "4       4               Argyle Middle            1,024        444   \n",
       "\n",
       "  reduced_lunch directly_certified  \n",
       "0           124                127  \n",
       "1           153                145  \n",
       "2             2                 40  \n",
       "3            95                159  \n",
       "4           130                131  "
      ]
     },
     "execution_count": 34,
     "metadata": {},
     "output_type": "execute_result"
    }
   ],
   "source": [
    "demo.columns =['number', 'school_name', 'total_enrollment', 'free_lunch', 'reduced_lunch', 'directly_certified']\n",
    "demo.head()"
   ]
  },
  {
   "cell_type": "code",
   "execution_count": 26,
   "metadata": {},
   "outputs": [],
   "source": [
    "#df3 = pd.concat([df2, demo])"
   ]
  },
  {
   "cell_type": "code",
   "execution_count": 36,
   "metadata": {
    "collapsed": true
   },
   "outputs": [
    {
     "ename": "KeyError",
     "evalue": "'school_name'",
     "output_type": "error",
     "traceback": [
      "\u001b[0;31m---------------------------------------------------------------------------\u001b[0m",
      "\u001b[0;31mKeyError\u001b[0m                                  Traceback (most recent call last)",
      "\u001b[0;32m<ipython-input-36-5cc075b30f91>\u001b[0m in \u001b[0;36m<module>\u001b[0;34m\u001b[0m\n\u001b[0;32m----> 1\u001b[0;31m df3 = pd.merge(df2, demo[['total_enrollment']],\n\u001b[0m\u001b[1;32m      2\u001b[0m                on='school_name')\n\u001b[1;32m      3\u001b[0m \u001b[0mdf3\u001b[0m\u001b[0;34m.\u001b[0m\u001b[0mhead\u001b[0m\u001b[0;34m(\u001b[0m\u001b[0;34m)\u001b[0m\u001b[0;34m\u001b[0m\u001b[0;34m\u001b[0m\u001b[0m\n",
      "\u001b[0;32m~/opt/anaconda3/lib/python3.8/site-packages/pandas/core/reshape/merge.py\u001b[0m in \u001b[0;36mmerge\u001b[0;34m(left, right, how, on, left_on, right_on, left_index, right_index, sort, suffixes, copy, indicator, validate)\u001b[0m\n\u001b[1;32m     72\u001b[0m     \u001b[0mvalidate\u001b[0m\u001b[0;34m=\u001b[0m\u001b[0;32mNone\u001b[0m\u001b[0;34m,\u001b[0m\u001b[0;34m\u001b[0m\u001b[0;34m\u001b[0m\u001b[0m\n\u001b[1;32m     73\u001b[0m ) -> \"DataFrame\":\n\u001b[0;32m---> 74\u001b[0;31m     op = _MergeOperation(\n\u001b[0m\u001b[1;32m     75\u001b[0m         \u001b[0mleft\u001b[0m\u001b[0;34m,\u001b[0m\u001b[0;34m\u001b[0m\u001b[0;34m\u001b[0m\u001b[0m\n\u001b[1;32m     76\u001b[0m         \u001b[0mright\u001b[0m\u001b[0;34m,\u001b[0m\u001b[0;34m\u001b[0m\u001b[0;34m\u001b[0m\u001b[0m\n",
      "\u001b[0;32m~/opt/anaconda3/lib/python3.8/site-packages/pandas/core/reshape/merge.py\u001b[0m in \u001b[0;36m__init__\u001b[0;34m(self, left, right, how, on, left_on, right_on, axis, left_index, right_index, sort, suffixes, copy, indicator, validate)\u001b[0m\n\u001b[1;32m    650\u001b[0m             \u001b[0mself\u001b[0m\u001b[0;34m.\u001b[0m\u001b[0mright_join_keys\u001b[0m\u001b[0;34m,\u001b[0m\u001b[0;34m\u001b[0m\u001b[0;34m\u001b[0m\u001b[0m\n\u001b[1;32m    651\u001b[0m             \u001b[0mself\u001b[0m\u001b[0;34m.\u001b[0m\u001b[0mjoin_names\u001b[0m\u001b[0;34m,\u001b[0m\u001b[0;34m\u001b[0m\u001b[0;34m\u001b[0m\u001b[0m\n\u001b[0;32m--> 652\u001b[0;31m         ) = self._get_merge_keys()\n\u001b[0m\u001b[1;32m    653\u001b[0m \u001b[0;34m\u001b[0m\u001b[0m\n\u001b[1;32m    654\u001b[0m         \u001b[0;31m# validate the merge keys dtypes. We may need to coerce\u001b[0m\u001b[0;34m\u001b[0m\u001b[0;34m\u001b[0m\u001b[0;34m\u001b[0m\u001b[0m\n",
      "\u001b[0;32m~/opt/anaconda3/lib/python3.8/site-packages/pandas/core/reshape/merge.py\u001b[0m in \u001b[0;36m_get_merge_keys\u001b[0;34m(self)\u001b[0m\n\u001b[1;32m   1003\u001b[0m                     \u001b[0;32mif\u001b[0m \u001b[0;32mnot\u001b[0m \u001b[0mis_rkey\u001b[0m\u001b[0;34m(\u001b[0m\u001b[0mrk\u001b[0m\u001b[0;34m)\u001b[0m\u001b[0;34m:\u001b[0m\u001b[0;34m\u001b[0m\u001b[0;34m\u001b[0m\u001b[0m\n\u001b[1;32m   1004\u001b[0m                         \u001b[0;32mif\u001b[0m \u001b[0mrk\u001b[0m \u001b[0;32mis\u001b[0m \u001b[0;32mnot\u001b[0m \u001b[0;32mNone\u001b[0m\u001b[0;34m:\u001b[0m\u001b[0;34m\u001b[0m\u001b[0;34m\u001b[0m\u001b[0m\n\u001b[0;32m-> 1005\u001b[0;31m                             \u001b[0mright_keys\u001b[0m\u001b[0;34m.\u001b[0m\u001b[0mappend\u001b[0m\u001b[0;34m(\u001b[0m\u001b[0mright\u001b[0m\u001b[0;34m.\u001b[0m\u001b[0m_get_label_or_level_values\u001b[0m\u001b[0;34m(\u001b[0m\u001b[0mrk\u001b[0m\u001b[0;34m)\u001b[0m\u001b[0;34m)\u001b[0m\u001b[0;34m\u001b[0m\u001b[0;34m\u001b[0m\u001b[0m\n\u001b[0m\u001b[1;32m   1006\u001b[0m                         \u001b[0;32melse\u001b[0m\u001b[0;34m:\u001b[0m\u001b[0;34m\u001b[0m\u001b[0;34m\u001b[0m\u001b[0m\n\u001b[1;32m   1007\u001b[0m                             \u001b[0;31m# work-around for merge_asof(right_index=True)\u001b[0m\u001b[0;34m\u001b[0m\u001b[0;34m\u001b[0m\u001b[0;34m\u001b[0m\u001b[0m\n",
      "\u001b[0;32m~/opt/anaconda3/lib/python3.8/site-packages/pandas/core/generic.py\u001b[0m in \u001b[0;36m_get_label_or_level_values\u001b[0;34m(self, key, axis)\u001b[0m\n\u001b[1;32m   1561\u001b[0m             \u001b[0mvalues\u001b[0m \u001b[0;34m=\u001b[0m \u001b[0mself\u001b[0m\u001b[0;34m.\u001b[0m\u001b[0maxes\u001b[0m\u001b[0;34m[\u001b[0m\u001b[0maxis\u001b[0m\u001b[0;34m]\u001b[0m\u001b[0;34m.\u001b[0m\u001b[0mget_level_values\u001b[0m\u001b[0;34m(\u001b[0m\u001b[0mkey\u001b[0m\u001b[0;34m)\u001b[0m\u001b[0;34m.\u001b[0m\u001b[0m_values\u001b[0m\u001b[0;34m\u001b[0m\u001b[0;34m\u001b[0m\u001b[0m\n\u001b[1;32m   1562\u001b[0m         \u001b[0;32melse\u001b[0m\u001b[0;34m:\u001b[0m\u001b[0;34m\u001b[0m\u001b[0;34m\u001b[0m\u001b[0m\n\u001b[0;32m-> 1563\u001b[0;31m             \u001b[0;32mraise\u001b[0m \u001b[0mKeyError\u001b[0m\u001b[0;34m(\u001b[0m\u001b[0mkey\u001b[0m\u001b[0;34m)\u001b[0m\u001b[0;34m\u001b[0m\u001b[0;34m\u001b[0m\u001b[0m\n\u001b[0m\u001b[1;32m   1564\u001b[0m \u001b[0;34m\u001b[0m\u001b[0m\n\u001b[1;32m   1565\u001b[0m         \u001b[0;31m# Check for duplicates\u001b[0m\u001b[0;34m\u001b[0m\u001b[0;34m\u001b[0m\u001b[0;34m\u001b[0m\u001b[0m\n",
      "\u001b[0;31mKeyError\u001b[0m: 'school_name'"
     ]
    }
   ],
   "source": [
    "df3 = pd.merge(df2, demo[['total_enrollment']],\n",
    "               on='school_name')\n",
    "df3.head()"
   ]
  },
  {
   "cell_type": "code",
   "execution_count": null,
   "metadata": {},
   "outputs": [],
   "source": [
    "df3.head()"
   ]
  },
  {
   "cell_type": "code",
   "execution_count": null,
   "metadata": {},
   "outputs": [],
   "source": [
    "## 2. Exploratory Data Analysis "
   ]
  },
  {
   "cell_type": "code",
   "execution_count": null,
   "metadata": {},
   "outputs": [],
   "source": [
    "# import seaborn as sns\n",
    "import matplotlib.pyplot as plt"
   ]
  },
  {
   "cell_type": "code",
   "execution_count": null,
   "metadata": {},
   "outputs": [],
   "source": [
    "# 2a. County Govermeny Wifi Locations"
   ]
  },
  {
   "cell_type": "code",
   "execution_count": null,
   "metadata": {},
   "outputs": [],
   "source": [
    "sns.set_theme(style=\"darkgrid\")\n",
    "sns.countplot(y='Department',data=df)\n",
    "plt.xlabel('Types of Departments')\n",
    "plt.ylabel('Count')\n",
    "plt.title('Departments')\n",
    "plt.show()"
   ]
  },
  {
   "cell_type": "code",
   "execution_count": null,
   "metadata": {},
   "outputs": [],
   "source": [
    "# 2b. Public Schools"
   ]
  },
  {
   "cell_type": "code",
   "execution_count": null,
   "metadata": {},
   "outputs": [],
   "source": [
    "# graphing the number of categories of schools\n",
    "sns.set_theme(style=\"darkgrid\")\n",
    "sns.countplot(y='category',data=df2)\n",
    "plt.xlabel('Types of Schools')\n",
    "plt.ylabel('Count')\n",
    "plt.title('School')\n",
    "plt.show()"
   ]
  },
  {
   "cell_type": "code",
   "execution_count": null,
   "metadata": {},
   "outputs": [],
   "source": [
    "sns.set_theme(style=\"darkgrid\")\n",
    "sns.countplot(y='city',data=df2)\n",
    "plt.xlabel('County')\n",
    "plt.ylabel('City')\n",
    "plt.title('Cities of MCPS Schools')\n",
    "plt.show()"
   ]
  },
  {
   "cell_type": "code",
   "execution_count": null,
   "metadata": {},
   "outputs": [],
   "source": []
  }
 ],
 "metadata": {
  "colab": {
   "collapsed_sections": [],
   "name": "capstone.ipynb",
   "provenance": []
  },
  "kernelspec": {
   "display_name": "Python 3",
   "language": "python",
   "name": "python3"
  },
  "language_info": {
   "codemirror_mode": {
    "name": "ipython",
    "version": 3
   },
   "file_extension": ".py",
   "mimetype": "text/x-python",
   "name": "python",
   "nbconvert_exporter": "python",
   "pygments_lexer": "ipython3",
   "version": "3.8.5"
  }
 },
 "nbformat": 4,
 "nbformat_minor": 1
}
