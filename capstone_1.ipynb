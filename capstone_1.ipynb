{
 "cells": [
  {
   "cell_type": "code",
   "execution_count": null,
   "metadata": {
    "id": "sZIbfjowXXgk"
   },
   "outputs": [],
   "source": [
    "import pandas as pd\n",
    "import numpy as np"
   ]
  },
  {
   "cell_type": "code",
   "execution_count": null,
   "metadata": {
    "id": "uDAsS9ktXX9-"
   },
   "outputs": [],
   "source": [
    "df = pd.read_csv('county_government_wifi_locations.csv')"
   ]
  },
  {
   "cell_type": "code",
   "execution_count": null,
   "metadata": {
    "colab": {
     "base_uri": "https://localhost:8080/",
     "height": 197
    },
    "id": "J109MpIHXYLc",
    "outputId": "f2653e00-b14f-45e7-e427-ad8ab8b5c95f"
   },
   "outputs": [
    {
     "data": {
      "text/html": [
       "<div>\n",
       "<style scoped>\n",
       "    .dataframe tbody tr th:only-of-type {\n",
       "        vertical-align: middle;\n",
       "    }\n",
       "\n",
       "    .dataframe tbody tr th {\n",
       "        vertical-align: top;\n",
       "    }\n",
       "\n",
       "    .dataframe thead th {\n",
       "        text-align: right;\n",
       "    }\n",
       "</style>\n",
       "<table border=\"1\" class=\"dataframe\">\n",
       "  <thead>\n",
       "    <tr style=\"text-align: right;\">\n",
       "      <th></th>\n",
       "      <th>Agency</th>\n",
       "      <th>Department</th>\n",
       "      <th>Name</th>\n",
       "      <th>Address</th>\n",
       "      <th>Location</th>\n",
       "    </tr>\n",
       "  </thead>\n",
       "  <tbody>\n",
       "    <tr>\n",
       "      <th>0</th>\n",
       "      <td>MCG</td>\n",
       "      <td>DPL</td>\n",
       "      <td>White Oak Library</td>\n",
       "      <td>11701 New Hampshire Avenue, Silver Spring, MD ...</td>\n",
       "      <td>NaN</td>\n",
       "    </tr>\n",
       "    <tr>\n",
       "      <th>1</th>\n",
       "      <td>MCG</td>\n",
       "      <td>RSC</td>\n",
       "      <td>Sidney Kramer Upcounty Service ctr.</td>\n",
       "      <td>12900 Middlebrook Road, Germantown MD</td>\n",
       "      <td>POINT (-77.267914 39.179332)</td>\n",
       "    </tr>\n",
       "    <tr>\n",
       "      <th>2</th>\n",
       "      <td>MCG</td>\n",
       "      <td>DTS</td>\n",
       "      <td>L3 Helpdesk &amp; Office</td>\n",
       "      <td>7361 Calhoun Plaza,  Rockville, MD 20850</td>\n",
       "      <td>NaN</td>\n",
       "    </tr>\n",
       "    <tr>\n",
       "      <th>3</th>\n",
       "      <td>MCG</td>\n",
       "      <td>CAO/CEX/CC/Courts</td>\n",
       "      <td>OIG/ERP Office</td>\n",
       "      <td>51 Monroe Street, Rockville, MD 20850</td>\n",
       "      <td>POINT (-90.409668 40.720439)</td>\n",
       "    </tr>\n",
       "    <tr>\n",
       "      <th>4</th>\n",
       "      <td>MCG</td>\n",
       "      <td>FRS</td>\n",
       "      <td>F&amp;RS</td>\n",
       "      <td>19801 Bealsville Road, Bealsville, MD 20839</td>\n",
       "      <td>NaN</td>\n",
       "    </tr>\n",
       "  </tbody>\n",
       "</table>\n",
       "</div>"
      ],
      "text/plain": [
       "  Agency  ...                      Location\n",
       "0    MCG  ...                           NaN\n",
       "1    MCG  ...  POINT (-77.267914 39.179332)\n",
       "2    MCG  ...                           NaN\n",
       "3    MCG  ...  POINT (-90.409668 40.720439)\n",
       "4    MCG  ...                           NaN\n",
       "\n",
       "[5 rows x 5 columns]"
      ]
     },
     "execution_count": 38,
     "metadata": {
      "tags": []
     },
     "output_type": "execute_result"
    }
   ],
   "source": [
    "df.head()"
   ]
  },
  {
   "cell_type": "code",
   "execution_count": null,
   "metadata": {
    "colab": {
     "base_uri": "https://localhost:8080/"
    },
    "id": "PHU04CTGXYWx",
    "outputId": "565ed597-e450-4f3a-ec35-3b4cfb9212a0"
   },
   "outputs": [
    {
     "data": {
      "text/plain": [
       "array(['DPL', 'RSC', 'DTS', 'CAO/CEX/CC/Courts', 'FRS', 'REC', 'DOT',\n",
       "       'DGS', 'HHS', 'BOE', 'DED/DEP', 'DOCR', 'MCPD', 'DLC',\n",
       "       'PIO/PublicSafety', 'Warehouse', 'DHS', 'DPS'], dtype=object)"
      ]
     },
     "execution_count": 39,
     "metadata": {
      "tags": []
     },
     "output_type": "execute_result"
    }
   ],
   "source": [
    "df.Department.unique()"
   ]
  },
  {
   "cell_type": "code",
   "execution_count": null,
   "metadata": {
    "colab": {
     "base_uri": "https://localhost:8080/"
    },
    "id": "HbIDSaK9Y4w5",
    "outputId": "5201efbe-788a-4a13-8a39-659d77d8ecee"
   },
   "outputs": [
    {
     "data": {
      "text/plain": [
       "34"
      ]
     },
     "execution_count": 40,
     "metadata": {
      "tags": []
     },
     "output_type": "execute_result"
    }
   ],
   "source": [
    "# Looking at how many are missing\n",
    "df.Location.isnull().sum() "
   ]
  },
  {
   "cell_type": "code",
   "execution_count": null,
   "metadata": {
    "colab": {
     "base_uri": "https://localhost:8080/"
    },
    "id": "RMIkw1A1ZAae",
    "outputId": "184c9dfd-59c5-4381-96f5-7b60bdf12b83"
   },
   "outputs": [
    {
     "name": "stdout",
     "output_type": "stream",
     "text": [
      "    Agency         Department  ...    Longitude   Latitude\n",
      "0      MCG                DPL  ...          NaN        NaN\n",
      "1      MCG                RSC  ...   -77.267914  39.179332\n",
      "2      MCG                DTS  ...          NaN        NaN\n",
      "3      MCG  CAO/CEX/CC/Courts  ...   -90.409668  40.720439\n",
      "4      MCG                FRS  ...          NaN        NaN\n",
      "..     ...                ...  ...          ...        ...\n",
      "173    MCG                DGS  ...  -121.500155  38.549099\n",
      "174    MCG                HHS  ...   -77.177593  39.102672\n",
      "175    MCG                FRS  ...   -77.053153  39.042763\n",
      "176    MCG                DOT  ...          NaN        NaN\n",
      "177    MCG                RSC  ...   -77.095858  38.984796\n",
      "\n",
      "[178 rows x 7 columns]\n"
     ]
    }
   ],
   "source": [
    "# socrata POINT datatypes list their coordinates as \"longitude,latitude\"\n",
    "df[[\"Longitude\", \"Latitude\"]] = df[\"Location\"].str.replace(\"POINT \\(\",\"\").str.replace(\"\\)\",\"\").str.split(\" \", expand=True)\n",
    "print(df)"
   ]
  },
  {
   "cell_type": "code",
   "execution_count": null,
   "metadata": {
    "id": "vQh-yGa-ZjXf"
   },
   "outputs": [],
   "source": [
    "from geopy.geocoders import Nominatim\n",
    "geolocator = Nominatim(user_agent=\"capstone\")"
   ]
  },
  {
   "cell_type": "code",
   "execution_count": null,
   "metadata": {
    "colab": {
     "base_uri": "https://localhost:8080/"
    },
    "id": "6b-ICGowmLNf",
    "outputId": "3b95d74f-0818-4e57-b025-3b731c297f16"
   },
   "outputs": [
    {
     "data": {
      "text/plain": [
       "float"
      ]
     },
     "execution_count": 52,
     "metadata": {
      "tags": []
     },
     "output_type": "execute_result"
    }
   ],
   "source": [
    "# the NaN are floats\n",
    "type(df['Location'][0])"
   ]
  },
  {
   "cell_type": "code",
   "execution_count": null,
   "metadata": {
    "colab": {
     "base_uri": "https://localhost:8080/"
    },
    "id": "15-SWcmNmfob",
    "outputId": "f29668bf-6027-4748-fc40-937a2061cdea"
   },
   "outputs": [
    {
     "data": {
      "text/plain": [
       "str"
      ]
     },
     "execution_count": 53,
     "metadata": {
      "tags": []
     },
     "output_type": "execute_result"
    }
   ],
   "source": [
    "# the values that are not missing in locations are strings\n",
    "type(df['Location'][10])"
   ]
  },
  {
   "cell_type": "code",
   "execution_count": null,
   "metadata": {
    "colab": {
     "base_uri": "https://localhost:8080/"
    },
    "id": "EZXzMJ9ZbR2l",
    "outputId": "3dfa6838-c479-4beb-e2ee-e361741bca92"
   },
   "outputs": [
    {
     "name": "stdout",
     "output_type": "stream",
     "text": [
      "7361 Calhoun Plaza,  Rockville, MD 20850\n",
      "19801 Bealsville Road, Bealsville, MD 20839\n",
      "8540 Anniversary Drive, Gaithersburg, MD 20877\n",
      "8630 Fenton Street, 10th floor, Silver Spring, MD\n",
      "1400 Spring St suite 305, Silver Spring, MD 20910\n",
      "19300 Georgia Avenue, Brookville,  MD 20833\n",
      "3300 Briggs Chaney Road, Silver Spring, MD 20904\n",
      "14715 Good Hope Road, Silver Spring, MD 20905\n",
      "13900 Old Columbia Pike, Silver Spring, MD 20904\n",
      "14910 Old Comumbia Pike, Burtonsville, MD 20866\n",
      "18905 Kingsview Drive, Germantown, MD, 20874\n",
      "4407 Aspen Hill Road, Rockville, MD\n",
      "14335 Cape May Road, Silver Spring, MD 20904\n",
      "13\n"
     ]
    }
   ],
   "source": [
    "failed = 0 # counting the number of times the geolocator fails\n",
    "# getting the value and index of the all the rows\n",
    "for row_num, row in enumerate(df[\"Location\"]):\n",
    "  # if the value is NaN (float type) \n",
    "  if type(row) == float:\n",
    "    # geocode the address at the same row\n",
    "    location = geolocator.geocode(df[\"Address\"][row_num])\n",
    "    # if geocoded successfully\n",
    "    if location is not None:\n",
    "      df[\"Latitude\"][row_num] = location.latitude\n",
    "      df[\"Longitude\"][row_num] = location.longitude\n",
    "    else:\n",
    "      failed += 1\n",
    "      print(df[\"Address\"][row_num])\n",
    "print(failed)"
   ]
  },
  {
   "cell_type": "code",
   "execution_count": null,
   "metadata": {
    "colab": {
     "base_uri": "https://localhost:8080/",
     "height": 406
    },
    "id": "8_4A4w_EcBXZ",
    "outputId": "d268a980-3b2a-4e7c-d5f9-7eee67f341ca"
   },
   "outputs": [
    {
     "data": {
      "text/html": [
       "<div>\n",
       "<style scoped>\n",
       "    .dataframe tbody tr th:only-of-type {\n",
       "        vertical-align: middle;\n",
       "    }\n",
       "\n",
       "    .dataframe tbody tr th {\n",
       "        vertical-align: top;\n",
       "    }\n",
       "\n",
       "    .dataframe thead th {\n",
       "        text-align: right;\n",
       "    }\n",
       "</style>\n",
       "<table border=\"1\" class=\"dataframe\">\n",
       "  <thead>\n",
       "    <tr style=\"text-align: right;\">\n",
       "      <th></th>\n",
       "      <th>Agency</th>\n",
       "      <th>Department</th>\n",
       "      <th>Name</th>\n",
       "      <th>Address</th>\n",
       "      <th>Location</th>\n",
       "      <th>Longitude</th>\n",
       "      <th>Latitude</th>\n",
       "    </tr>\n",
       "  </thead>\n",
       "  <tbody>\n",
       "    <tr>\n",
       "      <th>0</th>\n",
       "      <td>MCG</td>\n",
       "      <td>DPL</td>\n",
       "      <td>White Oak Library</td>\n",
       "      <td>11701 New Hampshire Avenue, Silver Spring, MD ...</td>\n",
       "      <td>NaN</td>\n",
       "      <td>-76.9792</td>\n",
       "      <td>39.0102</td>\n",
       "    </tr>\n",
       "    <tr>\n",
       "      <th>1</th>\n",
       "      <td>MCG</td>\n",
       "      <td>RSC</td>\n",
       "      <td>Sidney Kramer Upcounty Service ctr.</td>\n",
       "      <td>12900 Middlebrook Road, Germantown MD</td>\n",
       "      <td>POINT (-77.267914 39.179332)</td>\n",
       "      <td>-77.267914</td>\n",
       "      <td>39.179332</td>\n",
       "    </tr>\n",
       "    <tr>\n",
       "      <th>2</th>\n",
       "      <td>MCG</td>\n",
       "      <td>DTS</td>\n",
       "      <td>L3 Helpdesk &amp; Office</td>\n",
       "      <td>7361 Calhoun Plaza,  Rockville, MD 20850</td>\n",
       "      <td>NaN</td>\n",
       "      <td>NaN</td>\n",
       "      <td>NaN</td>\n",
       "    </tr>\n",
       "    <tr>\n",
       "      <th>3</th>\n",
       "      <td>MCG</td>\n",
       "      <td>CAO/CEX/CC/Courts</td>\n",
       "      <td>OIG/ERP Office</td>\n",
       "      <td>51 Monroe Street, Rockville, MD 20850</td>\n",
       "      <td>POINT (-90.409668 40.720439)</td>\n",
       "      <td>-90.409668</td>\n",
       "      <td>40.720439</td>\n",
       "    </tr>\n",
       "    <tr>\n",
       "      <th>4</th>\n",
       "      <td>MCG</td>\n",
       "      <td>FRS</td>\n",
       "      <td>F&amp;RS</td>\n",
       "      <td>19801 Bealsville Road, Bealsville, MD 20839</td>\n",
       "      <td>NaN</td>\n",
       "      <td>NaN</td>\n",
       "      <td>NaN</td>\n",
       "    </tr>\n",
       "    <tr>\n",
       "      <th>...</th>\n",
       "      <td>...</td>\n",
       "      <td>...</td>\n",
       "      <td>...</td>\n",
       "      <td>...</td>\n",
       "      <td>...</td>\n",
       "      <td>...</td>\n",
       "      <td>...</td>\n",
       "    </tr>\n",
       "    <tr>\n",
       "      <th>173</th>\n",
       "      <td>MCG</td>\n",
       "      <td>DGS</td>\n",
       "      <td>Swing Office Space</td>\n",
       "      <td>1451 Seven Locks Road, Rockville, MD</td>\n",
       "      <td>POINT (-121.500155 38.549099)</td>\n",
       "      <td>-121.500155</td>\n",
       "      <td>38.549099</td>\n",
       "    </tr>\n",
       "    <tr>\n",
       "      <th>174</th>\n",
       "      <td>MCG</td>\n",
       "      <td>HHS</td>\n",
       "      <td>HHS - 1301 Piccard Drive</td>\n",
       "      <td>1301 Piccard Drive, Rockville, MD</td>\n",
       "      <td>POINT (-77.177593 39.102672)</td>\n",
       "      <td>-77.177593</td>\n",
       "      <td>39.102672</td>\n",
       "    </tr>\n",
       "    <tr>\n",
       "      <th>175</th>\n",
       "      <td>MCG</td>\n",
       "      <td>FRS</td>\n",
       "      <td>Wheaton Resource Center</td>\n",
       "      <td>11435 Grandview Ave, Wheaton, MD</td>\n",
       "      <td>POINT (-77.053153 39.042763)</td>\n",
       "      <td>-77.053153</td>\n",
       "      <td>39.042763</td>\n",
       "    </tr>\n",
       "    <tr>\n",
       "      <th>176</th>\n",
       "      <td>MCG</td>\n",
       "      <td>DOT</td>\n",
       "      <td>Colesville Highway Service Depot</td>\n",
       "      <td>14335 Cape May Road, Silver Spring, MD 20904</td>\n",
       "      <td>NaN</td>\n",
       "      <td>NaN</td>\n",
       "      <td>NaN</td>\n",
       "    </tr>\n",
       "    <tr>\n",
       "      <th>177</th>\n",
       "      <td>MCG</td>\n",
       "      <td>RSC</td>\n",
       "      <td>Bethesda/Chevy Chase RSC</td>\n",
       "      <td>4805 Edgemoor Lane, Bethesda, Md</td>\n",
       "      <td>POINT (-77.095858 38.984796)</td>\n",
       "      <td>-77.095858</td>\n",
       "      <td>38.984796</td>\n",
       "    </tr>\n",
       "  </tbody>\n",
       "</table>\n",
       "<p>178 rows × 7 columns</p>\n",
       "</div>"
      ],
      "text/plain": [
       "    Agency         Department  ...    Longitude   Latitude\n",
       "0      MCG                DPL  ...     -76.9792    39.0102\n",
       "1      MCG                RSC  ...   -77.267914  39.179332\n",
       "2      MCG                DTS  ...          NaN        NaN\n",
       "3      MCG  CAO/CEX/CC/Courts  ...   -90.409668  40.720439\n",
       "4      MCG                FRS  ...          NaN        NaN\n",
       "..     ...                ...  ...          ...        ...\n",
       "173    MCG                DGS  ...  -121.500155  38.549099\n",
       "174    MCG                HHS  ...   -77.177593  39.102672\n",
       "175    MCG                FRS  ...   -77.053153  39.042763\n",
       "176    MCG                DOT  ...          NaN        NaN\n",
       "177    MCG                RSC  ...   -77.095858  38.984796\n",
       "\n",
       "[178 rows x 7 columns]"
      ]
     },
     "execution_count": 44,
     "metadata": {
      "tags": []
     },
     "output_type": "execute_result"
    }
   ],
   "source": [
    "df"
   ]
  },
  {
   "cell_type": "code",
   "execution_count": null,
   "metadata": {
    "colab": {
     "base_uri": "https://localhost:8080/"
    },
    "id": "GKodbaRUdNlj",
    "outputId": "14ba00ac-8b5c-4324-ca62-48cf3088ddff"
   },
   "outputs": [
    {
     "data": {
      "text/plain": [
       "Agency        178\n",
       "Department    178\n",
       "Name          178\n",
       "Address       178\n",
       "Location      144\n",
       "Longitude     165\n",
       "Latitude      165\n",
       "dtype: int64"
      ]
     },
     "execution_count": 45,
     "metadata": {
      "tags": []
     },
     "output_type": "execute_result"
    }
   ],
   "source": [
    "df.count()"
   ]
  },
  {
   "cell_type": "code",
   "execution_count": null,
   "metadata": {
    "id": "3D0VnJ5_gwv0"
   },
   "outputs": [],
   "source": [
    "location = geolocator.geocode(\"7361 Calhoun Pl, Rockville, MD 20855\")"
   ]
  },
  {
   "cell_type": "code",
   "execution_count": null,
   "metadata": {
    "colab": {
     "base_uri": "https://localhost:8080/"
    },
    "id": "fs91L3KThM7j",
    "outputId": "3812b83c-dd3c-4835-f908-f74f06462eac"
   },
   "outputs": [
    {
     "data": {
      "text/plain": [
       "NoneType"
      ]
     },
     "execution_count": 119,
     "metadata": {
      "tags": []
     },
     "output_type": "execute_result"
    }
   ],
   "source": [
    "type(location)"
   ]
  },
  {
   "cell_type": "code",
   "execution_count": null,
   "metadata": {
    "colab": {
     "base_uri": "https://localhost:8080/"
    },
    "id": "QdsbcTIhhNye",
    "outputId": "d3761013-86b2-48d4-abe4-2d71791900e5"
   },
   "outputs": [
    {
     "data": {
      "text/plain": [
       "Agency        object\n",
       "Department    object\n",
       "Name          object\n",
       "Address       object\n",
       "Location      object\n",
       "Longitude     object\n",
       "Latitude      object\n",
       "dtype: object"
      ]
     },
     "execution_count": 117,
     "metadata": {
      "tags": []
     },
     "output_type": "execute_result"
    }
   ],
   "source": [
    "df.dtypes"
   ]
  },
  {
   "cell_type": "code",
   "execution_count": null,
   "metadata": {
    "id": "Az5gdbp1lhWn"
   },
   "outputs": [],
   "source": []
  }
 ],
 "metadata": {
  "colab": {
   "collapsed_sections": [],
   "name": "capstone.ipynb",
   "provenance": []
  },
  "kernelspec": {
   "display_name": "Python 3",
   "language": "python",
   "name": "python3"
  },
  "language_info": {
   "codemirror_mode": {
    "name": "ipython",
    "version": 3
   },
   "file_extension": ".py",
   "mimetype": "text/x-python",
   "name": "python",
   "nbconvert_exporter": "python",
   "pygments_lexer": "ipython3",
   "version": "3.8.5"
  }
 },
 "nbformat": 4,
 "nbformat_minor": 1
}
