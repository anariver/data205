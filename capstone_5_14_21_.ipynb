{
  "nbformat": 4,
  "nbformat_minor": 0,
  "metadata": {
    "colab": {
      "name": "capstone_5.14.21 .ipynb",
      "provenance": [],
      "collapsed_sections": [],
      "toc_visible": true,
      "include_colab_link": true
    },
    "kernelspec": {
      "display_name": "Python 3",
      "language": "python",
      "name": "python3"
    },
    "language_info": {
      "codemirror_mode": {
        "name": "ipython",
        "version": 3
      },
      "file_extension": ".py",
      "mimetype": "text/x-python",
      "name": "python",
      "nbconvert_exporter": "python",
      "pygments_lexer": "ipython3",
      "version": "3.8.5"
    }
  },
  "cells": [
    {
      "cell_type": "markdown",
      "metadata": {
        "id": "view-in-github",
        "colab_type": "text"
      },
      "source": [
        "<a href=\"https://colab.research.google.com/github/anariver/data205/blob/main/capstone_5_14_21_.ipynb\" target=\"_parent\"><img src=\"https://colab.research.google.com/assets/colab-badge.svg\" alt=\"Open In Colab\"/></a>"
      ]
    },
    {
      "cell_type": "markdown",
      "metadata": {
        "id": "BBwEGftXCfAL"
      },
      "source": [
        "## Introduction"
      ]
    },
    {
      "cell_type": "markdown",
      "metadata": {
        "id": "pkFEbqPpCfAZ"
      },
      "source": [
        "####**Table of Contents**\n",
        "#### 1.  Data Ingestion & Wrangling \n",
        "> ##### 1a. County Public Wifi\n",
        "> ##### 1b. Public Schools Dataset\n",
        "> ##### 1c. Xfinity Wifi Locations\n",
        "#### 2. Exploratory Data Analysis \n",
        ">##### 2a. County Public Wifi\n",
        ">##### 2b. Public Schools\n",
        ">##### 2c. Xfinity Wifi Locations\n",
        "#### 3. Mapping\n",
        "#### 4. Statistical Analysis\n"
      ]
    },
    {
      "cell_type": "markdown",
      "metadata": {
        "id": "S3MArrnHCfAa"
      },
      "source": [
        "## 1.  Data Ingestion & Wrangling"
      ]
    },
    {
      "cell_type": "code",
      "metadata": {
        "id": "sZIbfjowXXgk"
      },
      "source": [
        "# Loading packages\n",
        "import pandas as pd\n",
        "import numpy as np"
      ],
      "execution_count": null,
      "outputs": []
    },
    {
      "cell_type": "markdown",
      "metadata": {
        "id": "Bdu0Q-mMCldm"
      },
      "source": [
        "### 1a. County Wifi Locations dataset\n"
      ]
    },
    {
      "cell_type": "code",
      "metadata": {
        "id": "uDAsS9ktXX9-"
      },
      "source": [
        "# reading the csv files for county government wifi locations\n",
        "df_county = pd.read_csv('County_Government_WiFi_Locations')"
      ],
      "execution_count": null,
      "outputs": []
    },
    {
      "cell_type": "code",
      "metadata": {
        "id": "J109MpIHXYLc",
        "scrolled": true,
        "colab": {
          "base_uri": "https://localhost:8080/",
          "height": 197
        },
        "outputId": "cd30dfc0-3e94-4f73-ca01-8504cdb1b239"
      },
      "source": [
        "# viewing the head of the dataframe\n",
        "df_county.head()"
      ],
      "execution_count": null,
      "outputs": [
        {
          "output_type": "execute_result",
          "data": {
            "text/html": [
              "<div>\n",
              "<style scoped>\n",
              "    .dataframe tbody tr th:only-of-type {\n",
              "        vertical-align: middle;\n",
              "    }\n",
              "\n",
              "    .dataframe tbody tr th {\n",
              "        vertical-align: top;\n",
              "    }\n",
              "\n",
              "    .dataframe thead th {\n",
              "        text-align: right;\n",
              "    }\n",
              "</style>\n",
              "<table border=\"1\" class=\"dataframe\">\n",
              "  <thead>\n",
              "    <tr style=\"text-align: right;\">\n",
              "      <th></th>\n",
              "      <th>Agency</th>\n",
              "      <th>Department</th>\n",
              "      <th>Name</th>\n",
              "      <th>Address</th>\n",
              "      <th>Location</th>\n",
              "    </tr>\n",
              "  </thead>\n",
              "  <tbody>\n",
              "    <tr>\n",
              "      <th>0</th>\n",
              "      <td>MCG</td>\n",
              "      <td>DPL</td>\n",
              "      <td>White Oak Library</td>\n",
              "      <td>11701 New Hampshire Avenue, Silver Spring, MD ...</td>\n",
              "      <td>NaN</td>\n",
              "    </tr>\n",
              "    <tr>\n",
              "      <th>1</th>\n",
              "      <td>MCG</td>\n",
              "      <td>RSC</td>\n",
              "      <td>Sidney Kramer Upcounty Service ctr.</td>\n",
              "      <td>12900 Middlebrook Road, Germantown MD</td>\n",
              "      <td>POINT (-77.267914 39.179332)</td>\n",
              "    </tr>\n",
              "    <tr>\n",
              "      <th>2</th>\n",
              "      <td>MCG</td>\n",
              "      <td>DTS</td>\n",
              "      <td>L3 Helpdesk &amp; Office</td>\n",
              "      <td>7361 Calhoun Plaza,  Rockville, MD 20850</td>\n",
              "      <td>NaN</td>\n",
              "    </tr>\n",
              "    <tr>\n",
              "      <th>3</th>\n",
              "      <td>MCG</td>\n",
              "      <td>CAO/CEX/CC/Courts</td>\n",
              "      <td>OIG/ERP Office</td>\n",
              "      <td>51 Monroe Street, Rockville, MD 20850</td>\n",
              "      <td>POINT (-90.409668 40.720439)</td>\n",
              "    </tr>\n",
              "    <tr>\n",
              "      <th>4</th>\n",
              "      <td>MCG</td>\n",
              "      <td>FRS</td>\n",
              "      <td>F&amp;RS</td>\n",
              "      <td>19801 Bealsville Road, Bealsville, MD 20839</td>\n",
              "      <td>NaN</td>\n",
              "    </tr>\n",
              "  </tbody>\n",
              "</table>\n",
              "</div>"
            ],
            "text/plain": [
              "  Agency  ...                      Location\n",
              "0    MCG  ...                           NaN\n",
              "1    MCG  ...  POINT (-77.267914 39.179332)\n",
              "2    MCG  ...                           NaN\n",
              "3    MCG  ...  POINT (-90.409668 40.720439)\n",
              "4    MCG  ...                           NaN\n",
              "\n",
              "[5 rows x 5 columns]"
            ]
          },
          "metadata": {
            "tags": []
          },
          "execution_count": 3
        }
      ]
    },
    {
      "cell_type": "code",
      "metadata": {
        "id": "PHU04CTGXYWx",
        "colab": {
          "base_uri": "https://localhost:8080/"
        },
        "outputId": "c50e9d1e-d007-4e76-9259-1c36756fcf8f"
      },
      "source": [
        "# viewing the unique departments that the data contains\n",
        "df_county.Department.unique()"
      ],
      "execution_count": null,
      "outputs": [
        {
          "output_type": "execute_result",
          "data": {
            "text/plain": [
              "array(['DPL', 'RSC', 'DTS', 'CAO/CEX/CC/Courts', 'FRS', 'REC', 'DOT',\n",
              "       'DGS', 'HHS', 'BOE', 'DED/DEP', 'DOCR', 'MCPD', 'DLC',\n",
              "       'PIO/PublicSafety', 'Warehouse', 'DHS', 'DPS'], dtype=object)"
            ]
          },
          "metadata": {
            "tags": []
          },
          "execution_count": 4
        }
      ]
    },
    {
      "cell_type": "markdown",
      "metadata": {
        "id": "1rfxhH0IJ8OV"
      },
      "source": [
        "DPL\n",
        "'RSC'\n",
        "DTS'\n",
        "CAO/CEX/CC/Courts'\n",
        "FRS'\n",
        "REC'\n",
        "'DOT',\n",
        "DGS', \n",
        "'HHS', '\n",
        "BOE', '\n",
        "DED/DEP', '\n",
        "DOCR', '\n",
        "MCPD', '\n",
        "DLC',\n",
        "PIO/PublicSafety\n",
        "Warehouse'\n",
        "DHS',\n",
        "DPS"
      ]
    },
    {
      "cell_type": "code",
      "metadata": {
        "id": "HbIDSaK9Y4w5",
        "colab": {
          "base_uri": "https://localhost:8080/"
        },
        "outputId": "87b659c1-6f5f-44e9-98ac-a64e81b8cd13"
      },
      "source": [
        "# Looking at how many are missing\n",
        "# it is an issue that there is missing data because that will affect in plotting the points\n",
        "df_county.Location.isnull().sum() "
      ],
      "execution_count": null,
      "outputs": [
        {
          "output_type": "execute_result",
          "data": {
            "text/plain": [
              "34"
            ]
          },
          "metadata": {
            "tags": []
          },
          "execution_count": 5
        }
      ]
    },
    {
      "cell_type": "code",
      "metadata": {
        "id": "RMIkw1A1ZAae",
        "colab": {
          "base_uri": "https://localhost:8080/"
        },
        "outputId": "7eda24f4-ec54-4bbd-b288-0e81f7c27b50"
      },
      "source": [
        "# fixing the way that the \"points\" are in the dataframe\n",
        "# socrata POINT datatypes list their coordinates as \"longitude,latitude\"\n",
        "df_county[[\"Longitude\", \"Latitude\"]] = df_county[\"Location\"].str.replace(\"POINT \\(\",\"\").str.replace(\"\\)\",\"\").str.split(\" \", expand=True)\n",
        "print(df_county)"
      ],
      "execution_count": null,
      "outputs": [
        {
          "output_type": "stream",
          "text": [
            "    Agency         Department  ...    Longitude   Latitude\n",
            "0      MCG                DPL  ...          NaN        NaN\n",
            "1      MCG                RSC  ...   -77.267914  39.179332\n",
            "2      MCG                DTS  ...          NaN        NaN\n",
            "3      MCG  CAO/CEX/CC/Courts  ...   -90.409668  40.720439\n",
            "4      MCG                FRS  ...          NaN        NaN\n",
            "..     ...                ...  ...          ...        ...\n",
            "173    MCG                DGS  ...  -121.500155  38.549099\n",
            "174    MCG                HHS  ...   -77.177593  39.102672\n",
            "175    MCG                FRS  ...   -77.053153  39.042763\n",
            "176    MCG                DOT  ...          NaN        NaN\n",
            "177    MCG                RSC  ...   -77.095858  38.984796\n",
            "\n",
            "[178 rows x 7 columns]\n"
          ],
          "name": "stdout"
        }
      ]
    },
    {
      "cell_type": "code",
      "metadata": {
        "id": "vQh-yGa-ZjXf"
      },
      "source": [
        "# using geopy to fill in the missing data.\n",
        "from geopy.geocoders import Nominatim\n",
        "geolocator = Nominatim(user_agent=\"capstone\")"
      ],
      "execution_count": null,
      "outputs": []
    },
    {
      "cell_type": "code",
      "metadata": {
        "id": "6b-ICGowmLNf",
        "colab": {
          "base_uri": "https://localhost:8080/"
        },
        "outputId": "404c978a-782e-47ed-e4d5-441a5f4819a9"
      },
      "source": [
        "# the NaN are floats\n",
        "type(df_county['Location'][0])"
      ],
      "execution_count": null,
      "outputs": [
        {
          "output_type": "execute_result",
          "data": {
            "text/plain": [
              "float"
            ]
          },
          "metadata": {
            "tags": []
          },
          "execution_count": 8
        }
      ]
    },
    {
      "cell_type": "code",
      "metadata": {
        "id": "15-SWcmNmfob",
        "colab": {
          "base_uri": "https://localhost:8080/"
        },
        "outputId": "f2768aa0-41f8-4ed0-b61d-9b3f078cf9d9"
      },
      "source": [
        "# the values that are not missing in locations are strings\n",
        "type(df_county['Location'][10])"
      ],
      "execution_count": null,
      "outputs": [
        {
          "output_type": "execute_result",
          "data": {
            "text/plain": [
              "str"
            ]
          },
          "metadata": {
            "tags": []
          },
          "execution_count": 9
        }
      ]
    },
    {
      "cell_type": "code",
      "metadata": {
        "id": "EZXzMJ9ZbR2l",
        "colab": {
          "base_uri": "https://localhost:8080/"
        },
        "outputId": "ee2b7be7-0585-4c5e-b9e7-f006eec67686"
      },
      "source": [
        "# counting the number of times the geolocator fails\n",
        "failed = 0 \n",
        "# getting the value and index of the all the rows\n",
        "for row_num, row in enumerate(df_county[\"Location\"]):\n",
        "  # if the value is NaN (float type) \n",
        "  if type(row) == float:\n",
        "    # geocode the address at the same row\n",
        "    location = geolocator.geocode(df_county[\"Address\"][row_num])\n",
        "    # if geocoded successfully\n",
        "    if location is not None:\n",
        "      df_county[\"Latitude\"][row_num] = location.latitude\n",
        "      df_county[\"Longitude\"][row_num] = location.longitude\n",
        "    else:\n",
        "      failed += 1\n",
        "      print(df_county[\"Address\"][row_num])\n",
        "print(failed)"
      ],
      "execution_count": null,
      "outputs": [
        {
          "output_type": "stream",
          "text": [
            "7361 Calhoun Plaza,  Rockville, MD 20850\n",
            "19801 Bealsville Road, Bealsville, MD 20839\n",
            "8540 Anniversary Drive, Gaithersburg, MD 20877\n",
            "8630 Fenton Street, 10th floor, Silver Spring, MD\n",
            "1400 Spring St suite 305, Silver Spring, MD 20910\n",
            "19300 Georgia Avenue, Brookville,  MD 20833\n",
            "3300 Briggs Chaney Road, Silver Spring, MD 20904\n",
            "14715 Good Hope Road, Silver Spring, MD 20905\n",
            "13900 Old Columbia Pike, Silver Spring, MD 20904\n",
            "14910 Old Comumbia Pike, Burtonsville, MD 20866\n",
            "18905 Kingsview Drive, Germantown, MD, 20874\n",
            "4407 Aspen Hill Road, Rockville, MD\n",
            "14335 Cape May Road, Silver Spring, MD 20904\n",
            "13\n"
          ],
          "name": "stdout"
        }
      ]
    },
    {
      "cell_type": "markdown",
      "metadata": {
        "id": "aC3Lsw4yc1gE"
      },
      "source": [
        "I then took this missing addresses, and was not able to find them all using GeoPy, and therefore decided to use an online platform called \"Geocodio\" to upload files with the address that are missing above.\n",
        "\n",
        "After using Geogodio, I uploaded a CSV that has all the complete missing addresses"
      ]
    },
    {
      "cell_type": "code",
      "metadata": {
        "colab": {
          "base_uri": "https://localhost:8080/"
        },
        "id": "9NlccNZCXfI0",
        "outputId": "08abd818-9334-42d2-8a59-b87602b155ef"
      },
      "source": [
        "df_county_missing = pd.read_csv('county_wifi_complete.csv')\n",
        "print(df_county_missing)"
      ],
      "execution_count": null,
      "outputs": [
        {
          "output_type": "stream",
          "text": [
            "                                              Address   Latitude  Longitude\n",
            "0            7361 Calhoun Plaza,  Rockville, MD 20850  39.108593 -77.151413\n",
            "1         19801 Bealsville Road, Bealsville, MD 20839  39.180120 -77.411689\n",
            "2      8540 Anniversary Drive, Gaithersburg, MD 20877  39.128437 -77.176747\n",
            "3   8630 Fenton Street, 10th floor, Silver Spring, MD  38.997800 -77.028504\n",
            "4   1400 Spring St suite 305, Silver Spring, MD 20910  38.998277 -77.033385\n",
            "5         19300 Georgia Avenue, Brookville,  MD 20833  39.173028 -77.059161\n",
            "6    3300 Briggs Chaney Road, Silver Spring, MD 20904  39.078652 -76.943824\n",
            "7       14715 Good Hope Road, Silver Spring, MD 20905  39.096230 -76.984972\n",
            "8    13900 Old Columbia Pike, Silver Spring, MD 20904  39.085080 -76.951411\n",
            "9     14910 Old Comumbia Pike, Burtonsville, MD 20866  39.105644 -76.935861\n",
            "10       18905 Kingsview Drive, Germantown, MD, 20874  39.165153 -77.285467\n",
            "11                4407 Aspen Hill Road, Rockville, MD  39.079657 -77.088606\n",
            "12       14335 Cape May Road, Silver Spring, MD 20904  39.090311 -76.996699\n"
          ],
          "name": "stdout"
        }
      ]
    },
    {
      "cell_type": "code",
      "metadata": {
        "colab": {
          "base_uri": "https://localhost:8080/"
        },
        "id": "Gy7OMXTUgBsY",
        "outputId": "6bf7d78a-b342-4cd5-c9ed-517f4a733d19"
      },
      "source": [
        "# Printing the indexes of the orginal missing data\n",
        "print(df_county[df_county['Address']== '7361 Calhoun Plaza,  Rockville, MD 20850'].index.values)\n",
        "print(df_county[df_county['Address']== '19801 Bealsville Road, Bealsville, MD 20839'].index.values)\n",
        "print(df_county[df_county['Address']== '8540 Anniversary Drive, Gaithersburg, MD 20877'].index.values)\n",
        "print(df_county[df_county['Address']== '8630 Fenton Street, 10th floor, Silver Spring, MD'].index.values)\n",
        "print(df_county[df_county['Address']== '1400 Spring St suite 305, Silver Spring, MD 20910'].index.values)\n",
        "print(df_county[df_county['Address']== '19300 Georgia Avenue, Brookville,  MD 20833'].index.values)\n",
        "print(df_county[df_county['Address']== '3300 Briggs Chaney Road, Silver Spring, MD 20904'].index.values)\n",
        "print(df_county[df_county['Address']== '14715 Good Hope Road, Silver Spring, MD 20905'].index.values)\n",
        "print(df_county[df_county['Address']== '13900 Old Columbia Pike, Silver Spring, MD 20904'].index.values)\n",
        "print(df_county[df_county['Address']== '14910 Old Comumbia Pike, Burtonsville, MD 20866'].index.values)\n",
        "print(df_county[df_county['Address']== '18905 Kingsview Drive, Germantown, MD, 20874'].index.values)\n",
        "print(df_county[df_county['Address']== '4407 Aspen Hill Road, Rockville, MD'].index.values)\n",
        "print(df_county[df_county['Address']== '14335 Cape May Road, Silver Spring, MD 20904'].index.values)"
      ],
      "execution_count": null,
      "outputs": [
        {
          "output_type": "stream",
          "text": [
            "[2]\n",
            "[4]\n",
            "[13]\n",
            "[29]\n",
            "[41]\n",
            "[48]\n",
            "[130]\n",
            "[131]\n",
            "[133]\n",
            "[142]\n",
            "[147]\n",
            "[152]\n",
            "[176]\n"
          ],
          "name": "stdout"
        }
      ]
    },
    {
      "cell_type": "code",
      "metadata": {
        "id": "h5z6jBMyXeXv"
      },
      "source": [
        "# Replacing missing value \n",
        "df_county.loc[2, 'Latitude'] = 39.108593\n",
        "df_county.loc[2, 'Longitude'] = -77.151413\n",
        "\n",
        "df_county.loc[4, 'Latitude'] = 39.180120\n",
        "df_county.loc[4, 'Longitude'] = -77.411689\n",
        "\n",
        "df_county.loc[13, 'Latitude'] = 39.128437 \n",
        "df_county.loc[13, 'Longitude'] = -77.176747\n",
        "\n",
        "df_county.loc[29, 'Latitude'] = 38.997800 \n",
        "df_county.loc[29, 'Longitude'] = -77.028504\n",
        "\n",
        "df_county.loc[41, 'Latitude'] = 38.998277 \n",
        "df_county.loc[41, 'Longitude'] = -77.033385\n",
        "\n",
        "df_county.loc[48, 'Latitude'] = 39.173028 \n",
        "df_county.loc[48, 'Longitude'] = -77.059161\n",
        "\n",
        "df_county.loc[130, 'Latitude'] = 39.078652 \n",
        "df_county.loc[130, 'Longitude'] = -76.943824\n",
        "\n",
        "df_county.loc[131, 'Latitude'] = 39.096230 \n",
        "df_county.loc[131,'Longitude'] = -76.984972\n",
        "\n",
        "df_county.loc[133, 'Latitude'] = 39.085080 \n",
        "df_county.loc[133, 'Longitude'] = -76.951411\n",
        "\n",
        "df_county.loc[142, 'Latitude'] = 39.105644 \n",
        "df_county.loc[142, 'Longitude'] = -76.935861\n",
        "\n",
        "df_county.loc[147, 'Latitude'] = 39.165153 \n",
        "df_county.loc[147, 'Longitude'] = -77.285467\n",
        "\n",
        "df_county.loc[152, 'Latitude'] = 39.079657 \n",
        "df_county.loc[152, 'Longitude'] = -77.088606\n",
        "\n",
        "df_county.loc[176, 'Latitude'] = 39.090311 \n",
        "df_county.loc[176, 'Longitude'] = -76.99669\n",
        "\n",
        "df_county.loc[176, 'Latitude'] = 39.090311 \n",
        "df_county.loc[176, 'Longitude'] = -76.99669"
      ],
      "execution_count": null,
      "outputs": []
    },
    {
      "cell_type": "code",
      "metadata": {
        "colab": {
          "base_uri": "https://localhost:8080/"
        },
        "id": "dcmBZxLIIECh",
        "outputId": "8dd85f24-e834-4568-9aef-a2795e1bd628"
      },
      "source": [
        "# Checking that the missing data was inserted correctly\n",
        "df_county.loc[133] "
      ],
      "execution_count": null,
      "outputs": [
        {
          "output_type": "execute_result",
          "data": {
            "text/plain": [
              "Agency                                                     MCG\n",
              "Department                                                 FRS\n",
              "Name                                                      F&RS\n",
              "Address       13900 Old Columbia Pike, Silver Spring, MD 20904\n",
              "Location                                                   NaN\n",
              "Longitude                                             -76.9514\n",
              "Latitude                                               39.0851\n",
              "Name: 133, dtype: object"
            ]
          },
          "metadata": {
            "tags": []
          },
          "execution_count": 15
        }
      ]
    },
    {
      "cell_type": "code",
      "metadata": {
        "colab": {
          "base_uri": "https://localhost:8080/"
        },
        "id": "mBoU6bv9P0MW",
        "outputId": "af3c91f8-5ae2-41ed-ad56-6dc2c7a6f4a6"
      },
      "source": [
        "# Checking that there are no more null values\n",
        "print(df_county.Latitude.isnull().sum())\n",
        "print(df_county.Longitude.isnull().sum())"
      ],
      "execution_count": null,
      "outputs": [
        {
          "output_type": "stream",
          "text": [
            "0\n",
            "0\n"
          ],
          "name": "stdout"
        }
      ]
    },
    {
      "cell_type": "code",
      "metadata": {
        "colab": {
          "base_uri": "https://localhost:8080/",
          "height": 77
        },
        "id": "gOK6oEB5eCQ2",
        "outputId": "91206614-1cf3-4315-c032-12636e99bbc3"
      },
      "source": [
        "df_county[(df_county['Address'] == '401 Hungford Dr.')]"
      ],
      "execution_count": null,
      "outputs": [
        {
          "output_type": "execute_result",
          "data": {
            "text/html": [
              "<div>\n",
              "<style scoped>\n",
              "    .dataframe tbody tr th:only-of-type {\n",
              "        vertical-align: middle;\n",
              "    }\n",
              "\n",
              "    .dataframe tbody tr th {\n",
              "        vertical-align: top;\n",
              "    }\n",
              "\n",
              "    .dataframe thead th {\n",
              "        text-align: right;\n",
              "    }\n",
              "</style>\n",
              "<table border=\"1\" class=\"dataframe\">\n",
              "  <thead>\n",
              "    <tr style=\"text-align: right;\">\n",
              "      <th></th>\n",
              "      <th>Agency</th>\n",
              "      <th>Department</th>\n",
              "      <th>Name</th>\n",
              "      <th>Address</th>\n",
              "      <th>Location</th>\n",
              "      <th>Longitude</th>\n",
              "      <th>Latitude</th>\n",
              "    </tr>\n",
              "  </thead>\n",
              "  <tbody>\n",
              "    <tr>\n",
              "      <th>107</th>\n",
              "      <td>MCG</td>\n",
              "      <td>HHS</td>\n",
              "      <td>HHS -401 Hungford</td>\n",
              "      <td>401 Hungford Dr.</td>\n",
              "      <td>POINT (-88.238807 42.044501)</td>\n",
              "      <td>-88.238807</td>\n",
              "      <td>42.044501</td>\n",
              "    </tr>\n",
              "  </tbody>\n",
              "</table>\n",
              "</div>"
            ],
            "text/plain": [
              "    Agency Department  ...   Longitude   Latitude\n",
              "107    MCG        HHS  ...  -88.238807  42.044501\n",
              "\n",
              "[1 rows x 7 columns]"
            ]
          },
          "metadata": {
            "tags": []
          },
          "execution_count": 17
        }
      ]
    },
    {
      "cell_type": "code",
      "metadata": {
        "id": "EHXeYMrgQBjj"
      },
      "source": [
        "# Saving the final county wifi into an excel sheet\n",
        "df_county.to_excel(\"df_wifi_1.xlsx\", sheet_name='county_wifi')  "
      ],
      "execution_count": null,
      "outputs": []
    },
    {
      "cell_type": "code",
      "metadata": {
        "colab": {
          "base_uri": "https://localhost:8080/"
        },
        "id": "9rKt4aF2DAJ_",
        "outputId": "8df627f1-8693-4920-fe22-ffd9cf2a60b2"
      },
      "source": [
        "df_county.dtypes"
      ],
      "execution_count": null,
      "outputs": [
        {
          "output_type": "execute_result",
          "data": {
            "text/plain": [
              "Agency        object\n",
              "Department    object\n",
              "Name          object\n",
              "Address       object\n",
              "Location      object\n",
              "Longitude     object\n",
              "Latitude      object\n",
              "dtype: object"
            ]
          },
          "metadata": {
            "tags": []
          },
          "execution_count": 19
        }
      ]
    },
    {
      "cell_type": "markdown",
      "metadata": {
        "id": "buDitfjo_CLN"
      },
      "source": [
        "#### 1a.1. County Wifi Dataset Corrections"
      ]
    },
    {
      "cell_type": "markdown",
      "metadata": {
        "id": "sJrN7M88_UDs"
      },
      "source": [
        "Through graphing coordinates provided by the original county wifi dataset in Tableau, I noticed that are some errors in the Longitude and Latitude in the OG dataset, and must make corrections in order to accurately map."
      ]
    },
    {
      "cell_type": "code",
      "metadata": {
        "id": "sebLFfkLDkn5"
      },
      "source": [
        "# Changing all the Longitude and Latiude to numeric \n",
        "df_county[\"Longitude\"]         = pd.to_numeric(df_county[\"Longitude\"])\n",
        "df_county[\"Latitude\"]         = pd.to_numeric(df_county[\"Latitude\"])"
      ],
      "execution_count": null,
      "outputs": []
    },
    {
      "cell_type": "code",
      "metadata": {
        "id": "sJ3hh6Ac_Bib"
      },
      "source": [
        "# Identifying those addresses with the incorrect Longitude (less than -77.5) or (more than -77)\n",
        "errors = df_county[df_county['Longitude'] < -77.5].index\n",
        "errors = sorted(np.append(errors, df_county[df_county['Longitude'] > -77].index))\n",
        "df_errors = df_county.iloc[errors][\"Address\"]"
      ],
      "execution_count": null,
      "outputs": []
    },
    {
      "cell_type": "code",
      "metadata": {
        "colab": {
          "base_uri": "https://localhost:8080/"
        },
        "id": "PTPk0X7ZGFbZ",
        "outputId": "571f0437-a423-4da3-b222-8fb096eaeee1"
      },
      "source": [
        "print(df_errors)"
      ],
      "execution_count": null,
      "outputs": [
        {
          "output_type": "stream",
          "text": [
            "0      11701 New Hampshire Avenue, Silver Spring, MD ...\n",
            "3                  51 Monroe Street, Rockville, MD 20850\n",
            "6               8700 Piney Branch Rd., Silver Spring, MD\n",
            "11                  27 Court House Square, Rockville, MD\n",
            "12                     50 Maryland Avenue, Rockville, MD\n",
            "14             14906 Old Columbia Pike, Burtonsville, MD\n",
            "18                         9701 Main Street Damascus, MD\n",
            "20                   1201 Jackson Rd., Silver Spring, MD\n",
            "21                  29 Court House Square, Rockville, MD\n",
            "22        18753 North Frederick Avenue, Gaithersburg, MD\n",
            "25                     50 Maryland Avenue, Rockville, MD\n",
            "27     14015 New Hampshire Avenue,Â Silver Spring, MD...\n",
            "37                     4301 Willow Lane, Chevy Chase, MD\n",
            "42          100 Maryland Avenue, 3rd Floor, Rockville MD\n",
            "69         13216 New Hampshire Avenue, Silver Spring, MD\n",
            "71       15620 Old Columbia Pike, Burtonsville, MD 20866\n",
            "76                    1700 April Lane, Silver Spring, Md\n",
            "80     11239 New Hampshire Avenue, Silver Spring, MD ...\n",
            "92                1002 Milestone Dr, White Oak, MD 20904\n",
            "100    10617 New Hampshire Ave., Silver Spring, MD 20903\n",
            "103        723 Cloverly Avenue, Silver Spring , MD 20905\n",
            "107                                     401 Hungford Dr.\n",
            "130     3300 Briggs Chaney Road, Silver Spring, MD 20904\n",
            "131        14715 Good Hope Road, Silver Spring, MD 20905\n",
            "133     13900 Old Columbia Pike, Silver Spring, MD 20904\n",
            "138             8005 Connecticut Avenue, Chevy Chase, MD\n",
            "140             191 East Jefferson, Rockville, MD, 20850\n",
            "142      14910 Old Comumbia Pike, Burtonsville, MD 20866\n",
            "144                        8001 River Road, Bethesda, MD\n",
            "145                4010 Randolph Road, Silver Spring. MD\n",
            "153                 18529 Brooke Road,  Sandy Spring, Md\n",
            "154              1000 Forest Glen Rd., Silver Spring, Md\n",
            "156               8800 Garland Avenue, Silver Spring, MD\n",
            "159              8712 Brookville Road, Silver Spring, MD\n",
            "160                   9404 Falls Road, Potomac, MD 20854\n",
            "161                   100 Maryland Avenue, Rockville, MD\n",
            "163                        3310 Gateshead  Manor Way, MD\n",
            "172                  2004 Queensguard Drive, Wheaton, MD\n",
            "173                 1451 Seven Locks Road, Rockville, MD\n",
            "176         14335 Cape May Road, Silver Spring, MD 20904\n",
            "Name: Address, dtype: object\n"
          ],
          "name": "stdout"
        }
      ]
    },
    {
      "cell_type": "code",
      "metadata": {
        "id": "qrzR48YtGTds"
      },
      "source": [
        "# Saving error rows to a csv file in order to use online coordinates finder\n",
        "df_errors.to_csv('df_county_errors.csv')"
      ],
      "execution_count": null,
      "outputs": []
    },
    {
      "cell_type": "markdown",
      "metadata": {
        "id": "qPRcDaWMgSyo"
      },
      "source": [
        "Once again, I used the online platform Geocodio to find the missing coordinates. "
      ]
    },
    {
      "cell_type": "code",
      "metadata": {
        "colab": {
          "base_uri": "https://localhost:8080/",
          "height": 601
        },
        "id": "SSCxM7z_Hjmk",
        "outputId": "bf629d9f-fe0e-4f5c-81a0-802cb10c7af1"
      },
      "source": [
        "# Importing the corrected addresses\n",
        "df_county_corrections = pd.read_csv('df_county_corrections.csv')\n",
        "df_county_corrections.head()"
      ],
      "execution_count": null,
      "outputs": [
        {
          "output_type": "execute_result",
          "data": {
            "text/html": [
              "<div>\n",
              "<style scoped>\n",
              "    .dataframe tbody tr th:only-of-type {\n",
              "        vertical-align: middle;\n",
              "    }\n",
              "\n",
              "    .dataframe tbody tr th {\n",
              "        vertical-align: top;\n",
              "    }\n",
              "\n",
              "    .dataframe thead th {\n",
              "        text-align: right;\n",
              "    }\n",
              "</style>\n",
              "<table border=\"1\" class=\"dataframe\">\n",
              "  <thead>\n",
              "    <tr style=\"text-align: right;\">\n",
              "      <th></th>\n",
              "      <th>Unnamed: 0</th>\n",
              "      <th>Address</th>\n",
              "      <th>Latitude</th>\n",
              "      <th>Longitude</th>\n",
              "      <th>Accuracy Score</th>\n",
              "      <th>Accuracy Type</th>\n",
              "      <th>Number</th>\n",
              "      <th>Street</th>\n",
              "      <th>Unit Type</th>\n",
              "      <th>Unit Number</th>\n",
              "      <th>City</th>\n",
              "      <th>State</th>\n",
              "      <th>County</th>\n",
              "      <th>Zip</th>\n",
              "      <th>Country</th>\n",
              "      <th>Source</th>\n",
              "    </tr>\n",
              "  </thead>\n",
              "  <tbody>\n",
              "    <tr>\n",
              "      <th>0</th>\n",
              "      <td>0</td>\n",
              "      <td>11701 New Hampshire Avenue, Silver Spring, MD ...</td>\n",
              "      <td>39.048058</td>\n",
              "      <td>-76.992585</td>\n",
              "      <td>0.95</td>\n",
              "      <td>rooftop</td>\n",
              "      <td>11701.0</td>\n",
              "      <td>New Hampshire Ave</td>\n",
              "      <td>NaN</td>\n",
              "      <td>NaN</td>\n",
              "      <td>Silver Spring</td>\n",
              "      <td>MD</td>\n",
              "      <td>Montgomery County</td>\n",
              "      <td>20904.0</td>\n",
              "      <td>US</td>\n",
              "      <td>Montgomery</td>\n",
              "    </tr>\n",
              "    <tr>\n",
              "      <th>1</th>\n",
              "      <td>3</td>\n",
              "      <td>51 Monroe Street, Rockville, MD 20850</td>\n",
              "      <td>39.083800</td>\n",
              "      <td>-77.148147</td>\n",
              "      <td>1.00</td>\n",
              "      <td>rooftop</td>\n",
              "      <td>51.0</td>\n",
              "      <td>Monroe St</td>\n",
              "      <td>NaN</td>\n",
              "      <td>NaN</td>\n",
              "      <td>Rockville</td>\n",
              "      <td>MD</td>\n",
              "      <td>Montgomery County</td>\n",
              "      <td>20850.0</td>\n",
              "      <td>US</td>\n",
              "      <td>Montgomery</td>\n",
              "    </tr>\n",
              "    <tr>\n",
              "      <th>2</th>\n",
              "      <td>6</td>\n",
              "      <td>8700 Piney Branch Rd., Silver Spring, MD</td>\n",
              "      <td>38.999811</td>\n",
              "      <td>-76.998220</td>\n",
              "      <td>1.00</td>\n",
              "      <td>rooftop</td>\n",
              "      <td>8700.0</td>\n",
              "      <td>Piney Branch Rd</td>\n",
              "      <td>NaN</td>\n",
              "      <td>NaN</td>\n",
              "      <td>Silver Spring</td>\n",
              "      <td>MD</td>\n",
              "      <td>Montgomery County</td>\n",
              "      <td>20901.0</td>\n",
              "      <td>US</td>\n",
              "      <td>Montgomery</td>\n",
              "    </tr>\n",
              "    <tr>\n",
              "      <th>3</th>\n",
              "      <td>11</td>\n",
              "      <td>27 Court House Square, Rockville, MD</td>\n",
              "      <td>39.004046</td>\n",
              "      <td>-77.101972</td>\n",
              "      <td>0.80</td>\n",
              "      <td>range_interpolation</td>\n",
              "      <td>27.0</td>\n",
              "      <td>N Ct</td>\n",
              "      <td>NaN</td>\n",
              "      <td>NaN</td>\n",
              "      <td>Bethesda</td>\n",
              "      <td>MD</td>\n",
              "      <td>Montgomery County</td>\n",
              "      <td>20814.0</td>\n",
              "      <td>US</td>\n",
              "      <td>TIGER/Line® dataset from the US Census Bureau</td>\n",
              "    </tr>\n",
              "    <tr>\n",
              "      <th>4</th>\n",
              "      <td>12</td>\n",
              "      <td>50 Maryland Avenue, Rockville, MD</td>\n",
              "      <td>39.083283</td>\n",
              "      <td>-77.150677</td>\n",
              "      <td>1.00</td>\n",
              "      <td>rooftop</td>\n",
              "      <td>50.0</td>\n",
              "      <td>Maryland Ave</td>\n",
              "      <td>NaN</td>\n",
              "      <td>NaN</td>\n",
              "      <td>Rockville</td>\n",
              "      <td>MD</td>\n",
              "      <td>Montgomery County</td>\n",
              "      <td>20850.0</td>\n",
              "      <td>US</td>\n",
              "      <td>City of Rockville</td>\n",
              "    </tr>\n",
              "  </tbody>\n",
              "</table>\n",
              "</div>"
            ],
            "text/plain": [
              "   Unnamed: 0  ...                                         Source\n",
              "0           0  ...                                     Montgomery\n",
              "1           3  ...                                     Montgomery\n",
              "2           6  ...                                     Montgomery\n",
              "3          11  ...  TIGER/Line® dataset from the US Census Bureau\n",
              "4          12  ...                              City of Rockville\n",
              "\n",
              "[5 rows x 16 columns]"
            ]
          },
          "metadata": {
            "tags": []
          },
          "execution_count": 24
        }
      ]
    },
    {
      "cell_type": "code",
      "metadata": {
        "id": "l4xRK1LMLxgA"
      },
      "source": [
        "# combinging the missing data with with corrected data for the specific rows\n",
        "df_county_copy = df_county.copy()\n",
        "for col_num, col in zip(errors, df_county_copy.iloc[errors][\"Address\"]):\n",
        "  df_county_copy.loc[col_num, \"Longitude\"] = df_county_corrections[df_county_corrections[\"Address\"] == col][\"Longitude\"].values[0]\n",
        "  df_county_copy.loc[col_num, \"Latitude\"] = df_county_corrections[df_county_corrections[\"Address\"] == col][\"Latitude\"].values[0]"
      ],
      "execution_count": null,
      "outputs": []
    },
    {
      "cell_type": "code",
      "metadata": {
        "colab": {
          "base_uri": "https://localhost:8080/",
          "height": 523
        },
        "id": "eimo35e5N56I",
        "outputId": "c22fd456-1737-42d4-9e22-407517bad6a5"
      },
      "source": [
        "# Viewing the corrected data\n",
        "df_county_copy"
      ],
      "execution_count": null,
      "outputs": [
        {
          "output_type": "execute_result",
          "data": {
            "text/html": [
              "<div>\n",
              "<style scoped>\n",
              "    .dataframe tbody tr th:only-of-type {\n",
              "        vertical-align: middle;\n",
              "    }\n",
              "\n",
              "    .dataframe tbody tr th {\n",
              "        vertical-align: top;\n",
              "    }\n",
              "\n",
              "    .dataframe thead th {\n",
              "        text-align: right;\n",
              "    }\n",
              "</style>\n",
              "<table border=\"1\" class=\"dataframe\">\n",
              "  <thead>\n",
              "    <tr style=\"text-align: right;\">\n",
              "      <th></th>\n",
              "      <th>Agency</th>\n",
              "      <th>Department</th>\n",
              "      <th>Name</th>\n",
              "      <th>Address</th>\n",
              "      <th>Location</th>\n",
              "      <th>Longitude</th>\n",
              "      <th>Latitude</th>\n",
              "    </tr>\n",
              "  </thead>\n",
              "  <tbody>\n",
              "    <tr>\n",
              "      <th>0</th>\n",
              "      <td>MCG</td>\n",
              "      <td>DPL</td>\n",
              "      <td>White Oak Library</td>\n",
              "      <td>11701 New Hampshire Avenue, Silver Spring, MD ...</td>\n",
              "      <td>NaN</td>\n",
              "      <td>-76.992585</td>\n",
              "      <td>39.048058</td>\n",
              "    </tr>\n",
              "    <tr>\n",
              "      <th>1</th>\n",
              "      <td>MCG</td>\n",
              "      <td>RSC</td>\n",
              "      <td>Sidney Kramer Upcounty Service ctr.</td>\n",
              "      <td>12900 Middlebrook Road, Germantown MD</td>\n",
              "      <td>POINT (-77.267914 39.179332)</td>\n",
              "      <td>-77.267914</td>\n",
              "      <td>39.179332</td>\n",
              "    </tr>\n",
              "    <tr>\n",
              "      <th>2</th>\n",
              "      <td>MCG</td>\n",
              "      <td>DTS</td>\n",
              "      <td>L3 Helpdesk &amp; Office</td>\n",
              "      <td>7361 Calhoun Plaza,  Rockville, MD 20850</td>\n",
              "      <td>NaN</td>\n",
              "      <td>-77.151413</td>\n",
              "      <td>39.108593</td>\n",
              "    </tr>\n",
              "    <tr>\n",
              "      <th>3</th>\n",
              "      <td>MCG</td>\n",
              "      <td>CAO/CEX/CC/Courts</td>\n",
              "      <td>OIG/ERP Office</td>\n",
              "      <td>51 Monroe Street, Rockville, MD 20850</td>\n",
              "      <td>POINT (-90.409668 40.720439)</td>\n",
              "      <td>-77.148147</td>\n",
              "      <td>39.083800</td>\n",
              "    </tr>\n",
              "    <tr>\n",
              "      <th>4</th>\n",
              "      <td>MCG</td>\n",
              "      <td>FRS</td>\n",
              "      <td>F&amp;RS</td>\n",
              "      <td>19801 Bealsville Road, Bealsville, MD 20839</td>\n",
              "      <td>NaN</td>\n",
              "      <td>-77.411689</td>\n",
              "      <td>39.180120</td>\n",
              "    </tr>\n",
              "    <tr>\n",
              "      <th>...</th>\n",
              "      <td>...</td>\n",
              "      <td>...</td>\n",
              "      <td>...</td>\n",
              "      <td>...</td>\n",
              "      <td>...</td>\n",
              "      <td>...</td>\n",
              "      <td>...</td>\n",
              "    </tr>\n",
              "    <tr>\n",
              "      <th>173</th>\n",
              "      <td>MCG</td>\n",
              "      <td>DGS</td>\n",
              "      <td>Swing Office Space</td>\n",
              "      <td>1451 Seven Locks Road, Rockville, MD</td>\n",
              "      <td>POINT (-121.500155 38.549099)</td>\n",
              "      <td>-77.162760</td>\n",
              "      <td>39.070994</td>\n",
              "    </tr>\n",
              "    <tr>\n",
              "      <th>174</th>\n",
              "      <td>MCG</td>\n",
              "      <td>HHS</td>\n",
              "      <td>HHS - 1301 Piccard Drive</td>\n",
              "      <td>1301 Piccard Drive, Rockville, MD</td>\n",
              "      <td>POINT (-77.177593 39.102672)</td>\n",
              "      <td>-77.177593</td>\n",
              "      <td>39.102672</td>\n",
              "    </tr>\n",
              "    <tr>\n",
              "      <th>175</th>\n",
              "      <td>MCG</td>\n",
              "      <td>FRS</td>\n",
              "      <td>Wheaton Resource Center</td>\n",
              "      <td>11435 Grandview Ave, Wheaton, MD</td>\n",
              "      <td>POINT (-77.053153 39.042763)</td>\n",
              "      <td>-77.053153</td>\n",
              "      <td>39.042763</td>\n",
              "    </tr>\n",
              "    <tr>\n",
              "      <th>176</th>\n",
              "      <td>MCG</td>\n",
              "      <td>DOT</td>\n",
              "      <td>Colesville Highway Service Depot</td>\n",
              "      <td>14335 Cape May Road, Silver Spring, MD 20904</td>\n",
              "      <td>NaN</td>\n",
              "      <td>-76.996699</td>\n",
              "      <td>39.090311</td>\n",
              "    </tr>\n",
              "    <tr>\n",
              "      <th>177</th>\n",
              "      <td>MCG</td>\n",
              "      <td>RSC</td>\n",
              "      <td>Bethesda/Chevy Chase RSC</td>\n",
              "      <td>4805 Edgemoor Lane, Bethesda, Md</td>\n",
              "      <td>POINT (-77.095858 38.984796)</td>\n",
              "      <td>-77.095858</td>\n",
              "      <td>38.984796</td>\n",
              "    </tr>\n",
              "  </tbody>\n",
              "</table>\n",
              "<p>178 rows × 7 columns</p>\n",
              "</div>"
            ],
            "text/plain": [
              "    Agency         Department  ...  Longitude   Latitude\n",
              "0      MCG                DPL  ... -76.992585  39.048058\n",
              "1      MCG                RSC  ... -77.267914  39.179332\n",
              "2      MCG                DTS  ... -77.151413  39.108593\n",
              "3      MCG  CAO/CEX/CC/Courts  ... -77.148147  39.083800\n",
              "4      MCG                FRS  ... -77.411689  39.180120\n",
              "..     ...                ...  ...        ...        ...\n",
              "173    MCG                DGS  ... -77.162760  39.070994\n",
              "174    MCG                HHS  ... -77.177593  39.102672\n",
              "175    MCG                FRS  ... -77.053153  39.042763\n",
              "176    MCG                DOT  ... -76.996699  39.090311\n",
              "177    MCG                RSC  ... -77.095858  38.984796\n",
              "\n",
              "[178 rows x 7 columns]"
            ]
          },
          "metadata": {
            "tags": []
          },
          "execution_count": 26
        }
      ]
    },
    {
      "cell_type": "code",
      "metadata": {
        "id": "DnkYIFNGIWO4"
      },
      "source": [
        "# Saving it into a new file in order to plot in tableeau\n",
        "df_county_copy.to_excel(\"df_county_corrections_final.xlsx\", sheet_name='county_corrections')  "
      ],
      "execution_count": null,
      "outputs": []
    },
    {
      "cell_type": "markdown",
      "metadata": {
        "id": "t6HwJ2Q4Cu1r"
      },
      "source": [
        "### 1b. Public Schools Dataset"
      ]
    },
    {
      "cell_type": "code",
      "metadata": {
        "colab": {
          "base_uri": "https://localhost:8080/"
        },
        "id": "H_wjBipLCfAr",
        "outputId": "5c88b0de-a620-434d-eaab-4cd0b63a48af"
      },
      "source": [
        "# reading and viewing the head of the csv files for county government wifi locations\n",
        "df_school = pd.read_csv('Public_Schools.csv')\n",
        "df_school.head()"
      ],
      "execution_count": null,
      "outputs": [
        {
          "output_type": "execute_result",
          "data": {
            "text/html": [
              "<div>\n",
              "<style scoped>\n",
              "    .dataframe tbody tr th:only-of-type {\n",
              "        vertical-align: middle;\n",
              "    }\n",
              "\n",
              "    .dataframe tbody tr th {\n",
              "        vertical-align: top;\n",
              "    }\n",
              "\n",
              "    .dataframe thead th {\n",
              "        text-align: right;\n",
              "    }\n",
              "</style>\n",
              "<table border=\"1\" class=\"dataframe\">\n",
              "  <thead>\n",
              "    <tr style=\"text-align: right;\">\n",
              "      <th></th>\n",
              "      <th>CATEGORY</th>\n",
              "      <th>SCHOOL NAME</th>\n",
              "      <th>ADDRESS</th>\n",
              "      <th>CITY</th>\n",
              "      <th>ZIP CODE</th>\n",
              "      <th>PHONE</th>\n",
              "      <th>URL</th>\n",
              "      <th>LONGITUDE</th>\n",
              "      <th>LATITUDE</th>\n",
              "      <th>LOCATION</th>\n",
              "    </tr>\n",
              "  </thead>\n",
              "  <tbody>\n",
              "    <tr>\n",
              "      <th>0</th>\n",
              "      <td>ELEMENTARY SCHOOLS</td>\n",
              "      <td>Beall ES</td>\n",
              "      <td>451 Beall Ave</td>\n",
              "      <td>Rockville</td>\n",
              "      <td>20850</td>\n",
              "      <td>301-279-8460</td>\n",
              "      <td>http://www.montgomeryschoolsmd.org/schools/bea...</td>\n",
              "      <td>-77.161758</td>\n",
              "      <td>39.087775</td>\n",
              "      <td>451 Beall Ave\\nRockville, MD 20850\\n(39.087775...</td>\n",
              "    </tr>\n",
              "    <tr>\n",
              "      <th>1</th>\n",
              "      <td>ELEMENTARY SCHOOLS</td>\n",
              "      <td>Clearspring ES</td>\n",
              "      <td>9930 Moyer Rd</td>\n",
              "      <td>Damascus</td>\n",
              "      <td>20872</td>\n",
              "      <td>301-253-7004</td>\n",
              "      <td>http://www.montgomeryschoolsmd.org/schools/cle...</td>\n",
              "      <td>-77.207301</td>\n",
              "      <td>39.265783</td>\n",
              "      <td>9930 Moyer Rd\\nDamascus, MD 20872\\n(39.2657831...</td>\n",
              "    </tr>\n",
              "    <tr>\n",
              "      <th>2</th>\n",
              "      <td>ELEMENTARY SCHOOLS</td>\n",
              "      <td>Sherwood ES</td>\n",
              "      <td>1401 Olney Sandy Spring Rd</td>\n",
              "      <td>Sandy Spring</td>\n",
              "      <td>20860</td>\n",
              "      <td>301-924-3195</td>\n",
              "      <td>http://www.montgomeryschoolsmd.org/schools/she...</td>\n",
              "      <td>-77.033116</td>\n",
              "      <td>39.149584</td>\n",
              "      <td>1401 Olney Sandy Spring Rd\\nSandy Spring, MD 2...</td>\n",
              "    </tr>\n",
              "    <tr>\n",
              "      <th>3</th>\n",
              "      <td>ELEMENTARY SCHOOLS</td>\n",
              "      <td>Pine Crest ES</td>\n",
              "      <td>201 Woodmoor Dr</td>\n",
              "      <td>Silver Spring</td>\n",
              "      <td>20901</td>\n",
              "      <td>301-649-8066</td>\n",
              "      <td>http://www.montgomeryschoolsmd.org/schools/pin...</td>\n",
              "      <td>-77.005038</td>\n",
              "      <td>39.021311</td>\n",
              "      <td>201 Woodmoor Dr\\nSilver Spring, MD 20901\\n(39....</td>\n",
              "    </tr>\n",
              "    <tr>\n",
              "      <th>4</th>\n",
              "      <td>MIDDLE SCHOOLS</td>\n",
              "      <td>Earle B. Wood MS</td>\n",
              "      <td>14615 Bauer Dr</td>\n",
              "      <td>Rockville</td>\n",
              "      <td>20852</td>\n",
              "      <td>301-460-2150</td>\n",
              "      <td>http://www.montgomeryschoolsmd.org/schools/woodms</td>\n",
              "      <td>-77.107529</td>\n",
              "      <td>39.093295</td>\n",
              "      <td>14615 Bauer Dr\\nRockville, MD 20852\\n(39.09329...</td>\n",
              "    </tr>\n",
              "  </tbody>\n",
              "</table>\n",
              "</div>"
            ],
            "text/plain": [
              "             CATEGORY  ...                                           LOCATION\n",
              "0  ELEMENTARY SCHOOLS  ...  451 Beall Ave\\nRockville, MD 20850\\n(39.087775...\n",
              "1  ELEMENTARY SCHOOLS  ...  9930 Moyer Rd\\nDamascus, MD 20872\\n(39.2657831...\n",
              "2  ELEMENTARY SCHOOLS  ...  1401 Olney Sandy Spring Rd\\nSandy Spring, MD 2...\n",
              "3  ELEMENTARY SCHOOLS  ...  201 Woodmoor Dr\\nSilver Spring, MD 20901\\n(39....\n",
              "4      MIDDLE SCHOOLS  ...  14615 Bauer Dr\\nRockville, MD 20852\\n(39.09329...\n",
              "\n",
              "[5 rows x 10 columns]"
            ]
          },
          "metadata": {
            "tags": []
          },
          "execution_count": 28
        }
      ]
    },
    {
      "cell_type": "code",
      "metadata": {
        "scrolled": true,
        "colab": {
          "base_uri": "https://localhost:8080/"
        },
        "id": "1TB92ci-CfAr",
        "outputId": "01156a4e-186e-4859-da9c-0b39d8af77dd"
      },
      "source": [
        "# Change the column names, lower case and removing spaces\n",
        "df_school.columns =['category', 'school_name', 'address', 'city', 'zip_code', 'phone','url','longitude','latitude','location']\n",
        "df_school.head()"
      ],
      "execution_count": null,
      "outputs": [
        {
          "output_type": "execute_result",
          "data": {
            "text/html": [
              "<div>\n",
              "<style scoped>\n",
              "    .dataframe tbody tr th:only-of-type {\n",
              "        vertical-align: middle;\n",
              "    }\n",
              "\n",
              "    .dataframe tbody tr th {\n",
              "        vertical-align: top;\n",
              "    }\n",
              "\n",
              "    .dataframe thead th {\n",
              "        text-align: right;\n",
              "    }\n",
              "</style>\n",
              "<table border=\"1\" class=\"dataframe\">\n",
              "  <thead>\n",
              "    <tr style=\"text-align: right;\">\n",
              "      <th></th>\n",
              "      <th>category</th>\n",
              "      <th>school_name</th>\n",
              "      <th>address</th>\n",
              "      <th>city</th>\n",
              "      <th>zip_code</th>\n",
              "      <th>phone</th>\n",
              "      <th>url</th>\n",
              "      <th>longitude</th>\n",
              "      <th>latitude</th>\n",
              "      <th>location</th>\n",
              "    </tr>\n",
              "  </thead>\n",
              "  <tbody>\n",
              "    <tr>\n",
              "      <th>0</th>\n",
              "      <td>ELEMENTARY SCHOOLS</td>\n",
              "      <td>Beall ES</td>\n",
              "      <td>451 Beall Ave</td>\n",
              "      <td>Rockville</td>\n",
              "      <td>20850</td>\n",
              "      <td>301-279-8460</td>\n",
              "      <td>http://www.montgomeryschoolsmd.org/schools/bea...</td>\n",
              "      <td>-77.161758</td>\n",
              "      <td>39.087775</td>\n",
              "      <td>451 Beall Ave\\nRockville, MD 20850\\n(39.087775...</td>\n",
              "    </tr>\n",
              "    <tr>\n",
              "      <th>1</th>\n",
              "      <td>ELEMENTARY SCHOOLS</td>\n",
              "      <td>Clearspring ES</td>\n",
              "      <td>9930 Moyer Rd</td>\n",
              "      <td>Damascus</td>\n",
              "      <td>20872</td>\n",
              "      <td>301-253-7004</td>\n",
              "      <td>http://www.montgomeryschoolsmd.org/schools/cle...</td>\n",
              "      <td>-77.207301</td>\n",
              "      <td>39.265783</td>\n",
              "      <td>9930 Moyer Rd\\nDamascus, MD 20872\\n(39.2657831...</td>\n",
              "    </tr>\n",
              "    <tr>\n",
              "      <th>2</th>\n",
              "      <td>ELEMENTARY SCHOOLS</td>\n",
              "      <td>Sherwood ES</td>\n",
              "      <td>1401 Olney Sandy Spring Rd</td>\n",
              "      <td>Sandy Spring</td>\n",
              "      <td>20860</td>\n",
              "      <td>301-924-3195</td>\n",
              "      <td>http://www.montgomeryschoolsmd.org/schools/she...</td>\n",
              "      <td>-77.033116</td>\n",
              "      <td>39.149584</td>\n",
              "      <td>1401 Olney Sandy Spring Rd\\nSandy Spring, MD 2...</td>\n",
              "    </tr>\n",
              "    <tr>\n",
              "      <th>3</th>\n",
              "      <td>ELEMENTARY SCHOOLS</td>\n",
              "      <td>Pine Crest ES</td>\n",
              "      <td>201 Woodmoor Dr</td>\n",
              "      <td>Silver Spring</td>\n",
              "      <td>20901</td>\n",
              "      <td>301-649-8066</td>\n",
              "      <td>http://www.montgomeryschoolsmd.org/schools/pin...</td>\n",
              "      <td>-77.005038</td>\n",
              "      <td>39.021311</td>\n",
              "      <td>201 Woodmoor Dr\\nSilver Spring, MD 20901\\n(39....</td>\n",
              "    </tr>\n",
              "    <tr>\n",
              "      <th>4</th>\n",
              "      <td>MIDDLE SCHOOLS</td>\n",
              "      <td>Earle B. Wood MS</td>\n",
              "      <td>14615 Bauer Dr</td>\n",
              "      <td>Rockville</td>\n",
              "      <td>20852</td>\n",
              "      <td>301-460-2150</td>\n",
              "      <td>http://www.montgomeryschoolsmd.org/schools/woodms</td>\n",
              "      <td>-77.107529</td>\n",
              "      <td>39.093295</td>\n",
              "      <td>14615 Bauer Dr\\nRockville, MD 20852\\n(39.09329...</td>\n",
              "    </tr>\n",
              "  </tbody>\n",
              "</table>\n",
              "</div>"
            ],
            "text/plain": [
              "             category  ...                                           location\n",
              "0  ELEMENTARY SCHOOLS  ...  451 Beall Ave\\nRockville, MD 20850\\n(39.087775...\n",
              "1  ELEMENTARY SCHOOLS  ...  9930 Moyer Rd\\nDamascus, MD 20872\\n(39.2657831...\n",
              "2  ELEMENTARY SCHOOLS  ...  1401 Olney Sandy Spring Rd\\nSandy Spring, MD 2...\n",
              "3  ELEMENTARY SCHOOLS  ...  201 Woodmoor Dr\\nSilver Spring, MD 20901\\n(39....\n",
              "4      MIDDLE SCHOOLS  ...  14615 Bauer Dr\\nRockville, MD 20852\\n(39.09329...\n",
              "\n",
              "[5 rows x 10 columns]"
            ]
          },
          "metadata": {
            "tags": []
          },
          "execution_count": 29
        }
      ]
    },
    {
      "cell_type": "code",
      "metadata": {
        "scrolled": true,
        "colab": {
          "base_uri": "https://localhost:8080/"
        },
        "id": "YCF0JPDpCfAr",
        "outputId": "e48ee953-d67e-455d-971d-968efb3ef022"
      },
      "source": [
        "# checking that there is no null in longitude and latitde\n",
        "df_school.longitude.isnull().sum()\n",
        "df_school.latitude.isnull().sum()"
      ],
      "execution_count": null,
      "outputs": [
        {
          "output_type": "execute_result",
          "data": {
            "text/plain": [
              "0"
            ]
          },
          "metadata": {
            "tags": []
          },
          "execution_count": 30
        }
      ]
    },
    {
      "cell_type": "code",
      "metadata": {
        "colab": {
          "base_uri": "https://localhost:8080/"
        },
        "id": "W1VXii9VMC0A",
        "outputId": "c23999dd-9f77-4113-8140-208221924439"
      },
      "source": [
        "df_school[df_school['school_name'].str.contains(\"Cannon\")]"
      ],
      "execution_count": null,
      "outputs": [
        {
          "output_type": "execute_result",
          "data": {
            "text/html": [
              "<div>\n",
              "<style scoped>\n",
              "    .dataframe tbody tr th:only-of-type {\n",
              "        vertical-align: middle;\n",
              "    }\n",
              "\n",
              "    .dataframe tbody tr th {\n",
              "        vertical-align: top;\n",
              "    }\n",
              "\n",
              "    .dataframe thead th {\n",
              "        text-align: right;\n",
              "    }\n",
              "</style>\n",
              "<table border=\"1\" class=\"dataframe\">\n",
              "  <thead>\n",
              "    <tr style=\"text-align: right;\">\n",
              "      <th></th>\n",
              "      <th>category</th>\n",
              "      <th>school_name</th>\n",
              "      <th>address</th>\n",
              "      <th>city</th>\n",
              "      <th>zip_code</th>\n",
              "      <th>phone</th>\n",
              "      <th>url</th>\n",
              "      <th>longitude</th>\n",
              "      <th>latitude</th>\n",
              "      <th>location</th>\n",
              "    </tr>\n",
              "  </thead>\n",
              "  <tbody>\n",
              "    <tr>\n",
              "      <th>14</th>\n",
              "      <td>ELEMENTARY SCHOOLS</td>\n",
              "      <td>Cannon Road ES (at Fairland Center)</td>\n",
              "      <td>13313 Old Columbia Pike</td>\n",
              "      <td>Silver Spring</td>\n",
              "      <td>20904</td>\n",
              "      <td>301-989-5662</td>\n",
              "      <td>http://www.montgomeryschoolsmd.org/schools/can...</td>\n",
              "      <td>-76.957893</td>\n",
              "      <td>39.074604</td>\n",
              "      <td>13313 Old Columbia Pike\\nSilver Spring, MD 209...</td>\n",
              "    </tr>\n",
              "    <tr>\n",
              "      <th>73</th>\n",
              "      <td>ELEMENTARY SCHOOLS</td>\n",
              "      <td>Cannon Road ES (Construction)</td>\n",
              "      <td>901 Cannon Rd</td>\n",
              "      <td>Silver Spring</td>\n",
              "      <td>20904</td>\n",
              "      <td>301-989-5662</td>\n",
              "      <td>http://www.montgomeryschoolsmd.org/schools/can...</td>\n",
              "      <td>-76.994173</td>\n",
              "      <td>39.068767</td>\n",
              "      <td>901 Cannon Rd\\nSilver Spring, MD 20904\\n(39.06...</td>\n",
              "    </tr>\n",
              "  </tbody>\n",
              "</table>\n",
              "</div>"
            ],
            "text/plain": [
              "              category  ...                                           location\n",
              "14  ELEMENTARY SCHOOLS  ...  13313 Old Columbia Pike\\nSilver Spring, MD 209...\n",
              "73  ELEMENTARY SCHOOLS  ...  901 Cannon Rd\\nSilver Spring, MD 20904\\n(39.06...\n",
              "\n",
              "[2 rows x 10 columns]"
            ]
          },
          "metadata": {
            "tags": []
          },
          "execution_count": 31
        }
      ]
    },
    {
      "cell_type": "code",
      "metadata": {
        "colab": {
          "base_uri": "https://localhost:8080/"
        },
        "id": "AxhVO5flM5yX",
        "outputId": "1c3581cf-f8f3-47e4-d8a3-183529ae04b2"
      },
      "source": [
        "indexNames = df_school[(df_school['school_name'] == 'Beverly Farms ES (Construction)') | \n",
        "                 (df_school['school_name'] == 'Garrett Park ES (Construction)')  |\n",
        "                 (df_school['school_name'] == 'Cannon Road ES (Construction)')   |\n",
        "                 (df_school['school_name'] == 'Broad Acres Elementary School')                  |\n",
        "                 (df_school['school_name'] == 'Downcounty Consortium Elementary School (2012)') |\n",
        "                 (df_school['school_name'] == 'Seven Locks ES (Construction)')   |\n",
        "                 (df_school['school_name'] == 'Downcounty Consortium ES (2012)')   |\n",
        "                 (df_school['school_name'] == 'Herbert Hoover MS (Construction)')].index\n",
        "indexNames "
      ],
      "execution_count": null,
      "outputs": [
        {
          "output_type": "execute_result",
          "data": {
            "text/plain": [
              "Int64Index([43, 62, 73, 103, 144, 171], dtype='int64')"
            ]
          },
          "metadata": {
            "tags": []
          },
          "execution_count": 32
        }
      ]
    },
    {
      "cell_type": "code",
      "metadata": {
        "id": "0fOl7AWjM-cL"
      },
      "source": [
        "df_school.drop(indexNames , inplace=True)"
      ],
      "execution_count": null,
      "outputs": []
    },
    {
      "cell_type": "code",
      "metadata": {
        "scrolled": false,
        "id": "euikJlB7CfAs"
      },
      "source": [
        "# changing index cols with rename()\n",
        "df_school['school_name'] = df_school['school_name'].str.replace('ES', 'Elementary School')\n",
        "df_school['school_name'] = df_school['school_name'].str.replace('MS', 'Middle School')\n",
        "df_school['school_name'] = df_school['school_name'].str.replace('HS', 'High School')\n",
        "df_school['school_name'] = df_school['school_name'].str.replace('.', '')\n",
        "df_school['school_name'] = df_school['school_name'].str.replace('Capt','Captain')\n",
        "df_school['school_name'] = df_school['school_name'].str.replace('Martin Luther King','Martin Luther King Jr')\n",
        "df_school['school_name'] = df_school['school_name'].str.replace('School ', 'School')\n",
        "df_school['school_name'] = df_school['school_name'].str.replace('\\(\\w.*\\)', '', regex=True)"
      ],
      "execution_count": null,
      "outputs": []
    },
    {
      "cell_type": "code",
      "metadata": {
        "colab": {
          "base_uri": "https://localhost:8080/"
        },
        "id": "JkMgrzy9KiFu",
        "outputId": "026541c5-03e6-4abb-b0f8-7bf76ac14fbe"
      },
      "source": [
        "df_school[df_school['school_name'].str.contains(\"Cannon\")]"
      ],
      "execution_count": null,
      "outputs": [
        {
          "output_type": "execute_result",
          "data": {
            "text/html": [
              "<div>\n",
              "<style scoped>\n",
              "    .dataframe tbody tr th:only-of-type {\n",
              "        vertical-align: middle;\n",
              "    }\n",
              "\n",
              "    .dataframe tbody tr th {\n",
              "        vertical-align: top;\n",
              "    }\n",
              "\n",
              "    .dataframe thead th {\n",
              "        text-align: right;\n",
              "    }\n",
              "</style>\n",
              "<table border=\"1\" class=\"dataframe\">\n",
              "  <thead>\n",
              "    <tr style=\"text-align: right;\">\n",
              "      <th></th>\n",
              "      <th>category</th>\n",
              "      <th>school_name</th>\n",
              "      <th>address</th>\n",
              "      <th>city</th>\n",
              "      <th>zip_code</th>\n",
              "      <th>phone</th>\n",
              "      <th>url</th>\n",
              "      <th>longitude</th>\n",
              "      <th>latitude</th>\n",
              "      <th>location</th>\n",
              "    </tr>\n",
              "  </thead>\n",
              "  <tbody>\n",
              "    <tr>\n",
              "      <th>14</th>\n",
              "      <td>ELEMENTARY SCHOOLS</td>\n",
              "      <td>Cannon Road Elementary School</td>\n",
              "      <td>13313 Old Columbia Pike</td>\n",
              "      <td>Silver Spring</td>\n",
              "      <td>20904</td>\n",
              "      <td>301-989-5662</td>\n",
              "      <td>http://www.montgomeryschoolsmd.org/schools/can...</td>\n",
              "      <td>-76.957893</td>\n",
              "      <td>39.074604</td>\n",
              "      <td>13313 Old Columbia Pike\\nSilver Spring, MD 209...</td>\n",
              "    </tr>\n",
              "  </tbody>\n",
              "</table>\n",
              "</div>"
            ],
            "text/plain": [
              "              category  ...                                           location\n",
              "14  ELEMENTARY SCHOOLS  ...  13313 Old Columbia Pike\\nSilver Spring, MD 209...\n",
              "\n",
              "[1 rows x 10 columns]"
            ]
          },
          "metadata": {
            "tags": []
          },
          "execution_count": 35
        }
      ]
    },
    {
      "cell_type": "code",
      "metadata": {
        "colab": {
          "base_uri": "https://localhost:8080/"
        },
        "id": "FqOGENHKCfAs",
        "outputId": "7254b25d-6c41-45cb-cfea-8e6bbef772b0"
      },
      "source": [
        "df_school.head()"
      ],
      "execution_count": null,
      "outputs": [
        {
          "output_type": "execute_result",
          "data": {
            "text/html": [
              "<div>\n",
              "<style scoped>\n",
              "    .dataframe tbody tr th:only-of-type {\n",
              "        vertical-align: middle;\n",
              "    }\n",
              "\n",
              "    .dataframe tbody tr th {\n",
              "        vertical-align: top;\n",
              "    }\n",
              "\n",
              "    .dataframe thead th {\n",
              "        text-align: right;\n",
              "    }\n",
              "</style>\n",
              "<table border=\"1\" class=\"dataframe\">\n",
              "  <thead>\n",
              "    <tr style=\"text-align: right;\">\n",
              "      <th></th>\n",
              "      <th>category</th>\n",
              "      <th>school_name</th>\n",
              "      <th>address</th>\n",
              "      <th>city</th>\n",
              "      <th>zip_code</th>\n",
              "      <th>phone</th>\n",
              "      <th>url</th>\n",
              "      <th>longitude</th>\n",
              "      <th>latitude</th>\n",
              "      <th>location</th>\n",
              "    </tr>\n",
              "  </thead>\n",
              "  <tbody>\n",
              "    <tr>\n",
              "      <th>0</th>\n",
              "      <td>ELEMENTARY SCHOOLS</td>\n",
              "      <td>Beall Elementary School</td>\n",
              "      <td>451 Beall Ave</td>\n",
              "      <td>Rockville</td>\n",
              "      <td>20850</td>\n",
              "      <td>301-279-8460</td>\n",
              "      <td>http://www.montgomeryschoolsmd.org/schools/bea...</td>\n",
              "      <td>-77.161758</td>\n",
              "      <td>39.087775</td>\n",
              "      <td>451 Beall Ave\\nRockville, MD 20850\\n(39.087775...</td>\n",
              "    </tr>\n",
              "    <tr>\n",
              "      <th>1</th>\n",
              "      <td>ELEMENTARY SCHOOLS</td>\n",
              "      <td>Clearspring Elementary School</td>\n",
              "      <td>9930 Moyer Rd</td>\n",
              "      <td>Damascus</td>\n",
              "      <td>20872</td>\n",
              "      <td>301-253-7004</td>\n",
              "      <td>http://www.montgomeryschoolsmd.org/schools/cle...</td>\n",
              "      <td>-77.207301</td>\n",
              "      <td>39.265783</td>\n",
              "      <td>9930 Moyer Rd\\nDamascus, MD 20872\\n(39.2657831...</td>\n",
              "    </tr>\n",
              "    <tr>\n",
              "      <th>2</th>\n",
              "      <td>ELEMENTARY SCHOOLS</td>\n",
              "      <td>Sherwood Elementary School</td>\n",
              "      <td>1401 Olney Sandy Spring Rd</td>\n",
              "      <td>Sandy Spring</td>\n",
              "      <td>20860</td>\n",
              "      <td>301-924-3195</td>\n",
              "      <td>http://www.montgomeryschoolsmd.org/schools/she...</td>\n",
              "      <td>-77.033116</td>\n",
              "      <td>39.149584</td>\n",
              "      <td>1401 Olney Sandy Spring Rd\\nSandy Spring, MD 2...</td>\n",
              "    </tr>\n",
              "    <tr>\n",
              "      <th>3</th>\n",
              "      <td>ELEMENTARY SCHOOLS</td>\n",
              "      <td>Pine Crest Elementary School</td>\n",
              "      <td>201 Woodmoor Dr</td>\n",
              "      <td>Silver Spring</td>\n",
              "      <td>20901</td>\n",
              "      <td>301-649-8066</td>\n",
              "      <td>http://www.montgomeryschoolsmd.org/schools/pin...</td>\n",
              "      <td>-77.005038</td>\n",
              "      <td>39.021311</td>\n",
              "      <td>201 Woodmoor Dr\\nSilver Spring, MD 20901\\n(39....</td>\n",
              "    </tr>\n",
              "    <tr>\n",
              "      <th>4</th>\n",
              "      <td>MIDDLE SCHOOLS</td>\n",
              "      <td>Earle B Wood Middle School</td>\n",
              "      <td>14615 Bauer Dr</td>\n",
              "      <td>Rockville</td>\n",
              "      <td>20852</td>\n",
              "      <td>301-460-2150</td>\n",
              "      <td>http://www.montgomeryschoolsmd.org/schools/woodms</td>\n",
              "      <td>-77.107529</td>\n",
              "      <td>39.093295</td>\n",
              "      <td>14615 Bauer Dr\\nRockville, MD 20852\\n(39.09329...</td>\n",
              "    </tr>\n",
              "  </tbody>\n",
              "</table>\n",
              "</div>"
            ],
            "text/plain": [
              "             category  ...                                           location\n",
              "0  ELEMENTARY SCHOOLS  ...  451 Beall Ave\\nRockville, MD 20850\\n(39.087775...\n",
              "1  ELEMENTARY SCHOOLS  ...  9930 Moyer Rd\\nDamascus, MD 20872\\n(39.2657831...\n",
              "2  ELEMENTARY SCHOOLS  ...  1401 Olney Sandy Spring Rd\\nSandy Spring, MD 2...\n",
              "3  ELEMENTARY SCHOOLS  ...  201 Woodmoor Dr\\nSilver Spring, MD 20901\\n(39....\n",
              "4      MIDDLE SCHOOLS  ...  14615 Bauer Dr\\nRockville, MD 20852\\n(39.09329...\n",
              "\n",
              "[5 rows x 10 columns]"
            ]
          },
          "metadata": {
            "tags": []
          },
          "execution_count": 36
        }
      ]
    },
    {
      "cell_type": "code",
      "metadata": {
        "colab": {
          "base_uri": "https://localhost:8080/"
        },
        "id": "UCAu8f9vIkn9",
        "outputId": "6e43a9a1-e2b3-403f-9475-5b22aac4aec3"
      },
      "source": [
        "df_school[df_school['school_name'].str.contains(\"Cabin\")]"
      ],
      "execution_count": null,
      "outputs": [
        {
          "output_type": "execute_result",
          "data": {
            "text/html": [
              "<div>\n",
              "<style scoped>\n",
              "    .dataframe tbody tr th:only-of-type {\n",
              "        vertical-align: middle;\n",
              "    }\n",
              "\n",
              "    .dataframe tbody tr th {\n",
              "        vertical-align: top;\n",
              "    }\n",
              "\n",
              "    .dataframe thead th {\n",
              "        text-align: right;\n",
              "    }\n",
              "</style>\n",
              "<table border=\"1\" class=\"dataframe\">\n",
              "  <thead>\n",
              "    <tr style=\"text-align: right;\">\n",
              "      <th></th>\n",
              "      <th>category</th>\n",
              "      <th>school_name</th>\n",
              "      <th>address</th>\n",
              "      <th>city</th>\n",
              "      <th>zip_code</th>\n",
              "      <th>phone</th>\n",
              "      <th>url</th>\n",
              "      <th>longitude</th>\n",
              "      <th>latitude</th>\n",
              "      <th>location</th>\n",
              "    </tr>\n",
              "  </thead>\n",
              "  <tbody>\n",
              "    <tr>\n",
              "      <th>21</th>\n",
              "      <td>MIDDLE SCHOOLS</td>\n",
              "      <td>Cabin John Middle School</td>\n",
              "      <td>10701 Gainsborough Rd</td>\n",
              "      <td>Potomac</td>\n",
              "      <td>20854</td>\n",
              "      <td>301-469-1150</td>\n",
              "      <td>http://www.montgomeryschoolsmd.org/schools/cab...</td>\n",
              "      <td>-77.172022</td>\n",
              "      <td>39.031578</td>\n",
              "      <td>10701 Gainsborough Rd\\nPotomac, MD 20854\\n(39....</td>\n",
              "    </tr>\n",
              "  </tbody>\n",
              "</table>\n",
              "</div>"
            ],
            "text/plain": [
              "          category  ...                                           location\n",
              "21  MIDDLE SCHOOLS  ...  10701 Gainsborough Rd\\nPotomac, MD 20854\\n(39....\n",
              "\n",
              "[1 rows x 10 columns]"
            ]
          },
          "metadata": {
            "tags": []
          },
          "execution_count": 37
        }
      ]
    },
    {
      "cell_type": "code",
      "metadata": {
        "colab": {
          "base_uri": "https://localhost:8080/"
        },
        "id": "ItKf_S1PCfAt",
        "outputId": "e4f89a3d-6524-473b-ece9-10be05d65eff"
      },
      "source": [
        "len(df_school)"
      ],
      "execution_count": null,
      "outputs": [
        {
          "output_type": "execute_result",
          "data": {
            "text/plain": [
              "194"
            ]
          },
          "metadata": {
            "tags": []
          },
          "execution_count": 38
        }
      ]
    },
    {
      "cell_type": "code",
      "metadata": {
        "id": "jPnTn1uxCfAu"
      },
      "source": [
        "df_school = df_school.sort_values(by=['school_name'])"
      ],
      "execution_count": null,
      "outputs": []
    },
    {
      "cell_type": "code",
      "metadata": {
        "scrolled": true,
        "colab": {
          "base_uri": "https://localhost:8080/"
        },
        "id": "zUhsQKA6CfAu",
        "outputId": "23ce484e-a780-4fa5-9887-472b9c0b0e10"
      },
      "source": [
        "len(df_school)"
      ],
      "execution_count": null,
      "outputs": [
        {
          "output_type": "execute_result",
          "data": {
            "text/plain": [
              "194"
            ]
          },
          "metadata": {
            "tags": []
          },
          "execution_count": 40
        }
      ]
    },
    {
      "cell_type": "code",
      "metadata": {
        "colab": {
          "base_uri": "https://localhost:8080/"
        },
        "id": "0F602edrCfAu",
        "outputId": "c96907f6-12e9-41c1-d813-907f687de810"
      },
      "source": [
        "df_school.head()"
      ],
      "execution_count": null,
      "outputs": [
        {
          "output_type": "execute_result",
          "data": {
            "text/html": [
              "<div>\n",
              "<style scoped>\n",
              "    .dataframe tbody tr th:only-of-type {\n",
              "        vertical-align: middle;\n",
              "    }\n",
              "\n",
              "    .dataframe tbody tr th {\n",
              "        vertical-align: top;\n",
              "    }\n",
              "\n",
              "    .dataframe thead th {\n",
              "        text-align: right;\n",
              "    }\n",
              "</style>\n",
              "<table border=\"1\" class=\"dataframe\">\n",
              "  <thead>\n",
              "    <tr style=\"text-align: right;\">\n",
              "      <th></th>\n",
              "      <th>category</th>\n",
              "      <th>school_name</th>\n",
              "      <th>address</th>\n",
              "      <th>city</th>\n",
              "      <th>zip_code</th>\n",
              "      <th>phone</th>\n",
              "      <th>url</th>\n",
              "      <th>longitude</th>\n",
              "      <th>latitude</th>\n",
              "      <th>location</th>\n",
              "    </tr>\n",
              "  </thead>\n",
              "  <tbody>\n",
              "    <tr>\n",
              "      <th>17</th>\n",
              "      <td>MIDDLE SCHOOLS</td>\n",
              "      <td>A Mario Loiederman Middle School</td>\n",
              "      <td>12701 Goodhill Rd</td>\n",
              "      <td>Silver Spring</td>\n",
              "      <td>20906</td>\n",
              "      <td>301-929-2282</td>\n",
              "      <td>http://www.montgomeryschoolsmd.org/schools/loi...</td>\n",
              "      <td>-77.070835</td>\n",
              "      <td>39.065306</td>\n",
              "      <td>12701 Goodhill Rd\\nSilver Spring, MD 20906\\n(3...</td>\n",
              "    </tr>\n",
              "    <tr>\n",
              "      <th>141</th>\n",
              "      <td>HIGH SCHOOLS</td>\n",
              "      <td>Albert Einstein High School</td>\n",
              "      <td>11135 Newport Mill Rd</td>\n",
              "      <td>Kensington</td>\n",
              "      <td>20895</td>\n",
              "      <td>301-929-2200</td>\n",
              "      <td>http://www.montgomeryschoolsmd.org/schools/ein...</td>\n",
              "      <td>-77.067036</td>\n",
              "      <td>39.039616</td>\n",
              "      <td>11135 Newport Mill Rd\\nKensington, MD 20895\\n(...</td>\n",
              "    </tr>\n",
              "    <tr>\n",
              "      <th>111</th>\n",
              "      <td>ELEMENTARY SCHOOLS</td>\n",
              "      <td>Arcola Elementary School</td>\n",
              "      <td>1820 Franwall Ave</td>\n",
              "      <td>Silver Spring</td>\n",
              "      <td>20902</td>\n",
              "      <td>301-649-8590</td>\n",
              "      <td>http://www.montgomeryschoolsmd.org/schools/arc...</td>\n",
              "      <td>-77.039388</td>\n",
              "      <td>39.045559</td>\n",
              "      <td>1820 Franwall Ave\\nSilver Spring, MD 20902\\n(3...</td>\n",
              "    </tr>\n",
              "    <tr>\n",
              "      <th>8</th>\n",
              "      <td>MIDDLE SCHOOLS</td>\n",
              "      <td>Argyle Middle School</td>\n",
              "      <td>2400 Bel Pre Rd</td>\n",
              "      <td>Silver Spring</td>\n",
              "      <td>20906</td>\n",
              "      <td>301-460-2400</td>\n",
              "      <td>http://www.montgomeryschoolsmd.org/schools/arg...</td>\n",
              "      <td>-77.048924</td>\n",
              "      <td>39.089521</td>\n",
              "      <td>2400 Bel Pre Rd\\nSilver Spring, MD 20906\\n(39....</td>\n",
              "    </tr>\n",
              "    <tr>\n",
              "      <th>195</th>\n",
              "      <td>ELEMENTARY SCHOOLS</td>\n",
              "      <td>Ashburton Elementary School</td>\n",
              "      <td>6314 Lone Oak Dr</td>\n",
              "      <td>Bethesda</td>\n",
              "      <td>20817</td>\n",
              "      <td>301-571-6959</td>\n",
              "      <td>http://www.montgomeryschoolsmd.org/schools/ash...</td>\n",
              "      <td>-77.127721</td>\n",
              "      <td>39.019444</td>\n",
              "      <td>6314 Lone Oak Dr\\nBethesda, MD 20817\\n(39.0194...</td>\n",
              "    </tr>\n",
              "  </tbody>\n",
              "</table>\n",
              "</div>"
            ],
            "text/plain": [
              "               category  ...                                           location\n",
              "17       MIDDLE SCHOOLS  ...  12701 Goodhill Rd\\nSilver Spring, MD 20906\\n(3...\n",
              "141        HIGH SCHOOLS  ...  11135 Newport Mill Rd\\nKensington, MD 20895\\n(...\n",
              "111  ELEMENTARY SCHOOLS  ...  1820 Franwall Ave\\nSilver Spring, MD 20902\\n(3...\n",
              "8        MIDDLE SCHOOLS  ...  2400 Bel Pre Rd\\nSilver Spring, MD 20906\\n(39....\n",
              "195  ELEMENTARY SCHOOLS  ...  6314 Lone Oak Dr\\nBethesda, MD 20817\\n(39.0194...\n",
              "\n",
              "[5 rows x 10 columns]"
            ]
          },
          "metadata": {
            "tags": []
          },
          "execution_count": 41
        }
      ]
    },
    {
      "cell_type": "markdown",
      "metadata": {
        "id": "IM2zTc9rDgk8"
      },
      "source": [
        "### 1c. Scraped Schools Dataset"
      ]
    },
    {
      "cell_type": "code",
      "metadata": {
        "id": "B2IYytxLCfAv"
      },
      "source": [
        "# Importing the scraped datatset\n",
        "df_demo = pd.read_csv('mcps_demo.csv',sep=',')"
      ],
      "execution_count": null,
      "outputs": []
    },
    {
      "cell_type": "code",
      "metadata": {
        "scrolled": true,
        "colab": {
          "base_uri": "https://localhost:8080/"
        },
        "id": "jMOYNKTqCfAv",
        "outputId": "49c1c9a8-e4fc-4d53-ab99-92ff1f63c275"
      },
      "source": [
        "df_demo.head()"
      ],
      "execution_count": null,
      "outputs": [
        {
          "output_type": "execute_result",
          "data": {
            "text/html": [
              "<div>\n",
              "<style scoped>\n",
              "    .dataframe tbody tr th:only-of-type {\n",
              "        vertical-align: middle;\n",
              "    }\n",
              "\n",
              "    .dataframe tbody tr th {\n",
              "        vertical-align: top;\n",
              "    }\n",
              "\n",
              "    .dataframe thead th {\n",
              "        text-align: right;\n",
              "    }\n",
              "</style>\n",
              "<table border=\"1\" class=\"dataframe\">\n",
              "  <thead>\n",
              "    <tr style=\"text-align: right;\">\n",
              "      <th></th>\n",
              "      <th>Unnamed: 0</th>\n",
              "      <th>Name</th>\n",
              "      <th>Total Enrollment</th>\n",
              "      <th>Free lunch eligible1</th>\n",
              "      <th>Reduced-price lunch eligible1</th>\n",
              "      <th>Directly certified2</th>\n",
              "    </tr>\n",
              "  </thead>\n",
              "  <tbody>\n",
              "    <tr>\n",
              "      <th>0</th>\n",
              "      <td>0</td>\n",
              "      <td>A. Mario Loiederman Middle</td>\n",
              "      <td>999</td>\n",
              "      <td>424</td>\n",
              "      <td>124</td>\n",
              "      <td>127</td>\n",
              "    </tr>\n",
              "    <tr>\n",
              "      <th>1</th>\n",
              "      <td>1</td>\n",
              "      <td>Albert Einstein High</td>\n",
              "      <td>1,818</td>\n",
              "      <td>492</td>\n",
              "      <td>153</td>\n",
              "      <td>145</td>\n",
              "    </tr>\n",
              "    <tr>\n",
              "      <th>2</th>\n",
              "      <td>2</td>\n",
              "      <td>Alternative Programs</td>\n",
              "      <td>126</td>\n",
              "      <td>58</td>\n",
              "      <td>2</td>\n",
              "      <td>40</td>\n",
              "    </tr>\n",
              "    <tr>\n",
              "      <th>3</th>\n",
              "      <td>3</td>\n",
              "      <td>Arcola Elementary</td>\n",
              "      <td>748</td>\n",
              "      <td>456</td>\n",
              "      <td>95</td>\n",
              "      <td>159</td>\n",
              "    </tr>\n",
              "    <tr>\n",
              "      <th>4</th>\n",
              "      <td>4</td>\n",
              "      <td>Argyle Middle</td>\n",
              "      <td>1,024</td>\n",
              "      <td>444</td>\n",
              "      <td>130</td>\n",
              "      <td>131</td>\n",
              "    </tr>\n",
              "  </tbody>\n",
              "</table>\n",
              "</div>"
            ],
            "text/plain": [
              "   Unnamed: 0  ... Directly certified2\n",
              "0           0  ...                 127\n",
              "1           1  ...                 145\n",
              "2           2  ...                  40\n",
              "3           3  ...                 159\n",
              "4           4  ...                 131\n",
              "\n",
              "[5 rows x 6 columns]"
            ]
          },
          "metadata": {
            "tags": []
          },
          "execution_count": 43
        }
      ]
    },
    {
      "cell_type": "code",
      "metadata": {
        "colab": {
          "base_uri": "https://localhost:8080/"
        },
        "id": "9DfoXGxLCfAv",
        "outputId": "fa5058c5-4d0a-43e7-8bda-0999265354d6"
      },
      "source": [
        "len(df_demo)"
      ],
      "execution_count": null,
      "outputs": [
        {
          "output_type": "execute_result",
          "data": {
            "text/plain": [
              "209"
            ]
          },
          "metadata": {
            "tags": []
          },
          "execution_count": 44
        }
      ]
    },
    {
      "cell_type": "code",
      "metadata": {
        "colab": {
          "base_uri": "https://localhost:8080/"
        },
        "id": "VVUiEs42CfAv",
        "outputId": "82e1406f-144e-4830-d114-c1e584374b3b"
      },
      "source": [
        "# Changing the column names\n",
        "df_demo.columns =['number', 'school_name', 'total_enrollment', 'free_lunch', 'reduced_lunch', 'directly_certified']\n",
        "df_demo.head()"
      ],
      "execution_count": null,
      "outputs": [
        {
          "output_type": "execute_result",
          "data": {
            "text/html": [
              "<div>\n",
              "<style scoped>\n",
              "    .dataframe tbody tr th:only-of-type {\n",
              "        vertical-align: middle;\n",
              "    }\n",
              "\n",
              "    .dataframe tbody tr th {\n",
              "        vertical-align: top;\n",
              "    }\n",
              "\n",
              "    .dataframe thead th {\n",
              "        text-align: right;\n",
              "    }\n",
              "</style>\n",
              "<table border=\"1\" class=\"dataframe\">\n",
              "  <thead>\n",
              "    <tr style=\"text-align: right;\">\n",
              "      <th></th>\n",
              "      <th>number</th>\n",
              "      <th>school_name</th>\n",
              "      <th>total_enrollment</th>\n",
              "      <th>free_lunch</th>\n",
              "      <th>reduced_lunch</th>\n",
              "      <th>directly_certified</th>\n",
              "    </tr>\n",
              "  </thead>\n",
              "  <tbody>\n",
              "    <tr>\n",
              "      <th>0</th>\n",
              "      <td>0</td>\n",
              "      <td>A. Mario Loiederman Middle</td>\n",
              "      <td>999</td>\n",
              "      <td>424</td>\n",
              "      <td>124</td>\n",
              "      <td>127</td>\n",
              "    </tr>\n",
              "    <tr>\n",
              "      <th>1</th>\n",
              "      <td>1</td>\n",
              "      <td>Albert Einstein High</td>\n",
              "      <td>1,818</td>\n",
              "      <td>492</td>\n",
              "      <td>153</td>\n",
              "      <td>145</td>\n",
              "    </tr>\n",
              "    <tr>\n",
              "      <th>2</th>\n",
              "      <td>2</td>\n",
              "      <td>Alternative Programs</td>\n",
              "      <td>126</td>\n",
              "      <td>58</td>\n",
              "      <td>2</td>\n",
              "      <td>40</td>\n",
              "    </tr>\n",
              "    <tr>\n",
              "      <th>3</th>\n",
              "      <td>3</td>\n",
              "      <td>Arcola Elementary</td>\n",
              "      <td>748</td>\n",
              "      <td>456</td>\n",
              "      <td>95</td>\n",
              "      <td>159</td>\n",
              "    </tr>\n",
              "    <tr>\n",
              "      <th>4</th>\n",
              "      <td>4</td>\n",
              "      <td>Argyle Middle</td>\n",
              "      <td>1,024</td>\n",
              "      <td>444</td>\n",
              "      <td>130</td>\n",
              "      <td>131</td>\n",
              "    </tr>\n",
              "  </tbody>\n",
              "</table>\n",
              "</div>"
            ],
            "text/plain": [
              "   number                 school_name  ... reduced_lunch directly_certified\n",
              "0       0  A. Mario Loiederman Middle  ...           124                127\n",
              "1       1        Albert Einstein High  ...           153                145\n",
              "2       2        Alternative Programs  ...             2                 40\n",
              "3       3           Arcola Elementary  ...            95                159\n",
              "4       4               Argyle Middle  ...           130                131\n",
              "\n",
              "[5 rows x 6 columns]"
            ]
          },
          "metadata": {
            "tags": []
          },
          "execution_count": 45
        }
      ]
    },
    {
      "cell_type": "code",
      "metadata": {
        "colab": {
          "base_uri": "https://localhost:8080/"
        },
        "id": "e7FN2BYUU9yQ",
        "outputId": "43542f7e-0367-4289-b81f-ebe2f6b2af63"
      },
      "source": [
        "df_demo[df_demo['school_name'].str.contains(\"Beverly\")]"
      ],
      "execution_count": null,
      "outputs": [
        {
          "output_type": "execute_result",
          "data": {
            "text/html": [
              "<div>\n",
              "<style scoped>\n",
              "    .dataframe tbody tr th:only-of-type {\n",
              "        vertical-align: middle;\n",
              "    }\n",
              "\n",
              "    .dataframe tbody tr th {\n",
              "        vertical-align: top;\n",
              "    }\n",
              "\n",
              "    .dataframe thead th {\n",
              "        text-align: right;\n",
              "    }\n",
              "</style>\n",
              "<table border=\"1\" class=\"dataframe\">\n",
              "  <thead>\n",
              "    <tr style=\"text-align: right;\">\n",
              "      <th></th>\n",
              "      <th>number</th>\n",
              "      <th>school_name</th>\n",
              "      <th>total_enrollment</th>\n",
              "      <th>free_lunch</th>\n",
              "      <th>reduced_lunch</th>\n",
              "      <th>directly_certified</th>\n",
              "    </tr>\n",
              "  </thead>\n",
              "  <tbody>\n",
              "    <tr>\n",
              "      <th>15</th>\n",
              "      <td>15</td>\n",
              "      <td>Beverly Farms Elementary</td>\n",
              "      <td>585</td>\n",
              "      <td>24</td>\n",
              "      <td>10</td>\n",
              "      <td>13</td>\n",
              "    </tr>\n",
              "  </tbody>\n",
              "</table>\n",
              "</div>"
            ],
            "text/plain": [
              "    number               school_name  ... reduced_lunch directly_certified\n",
              "15      15  Beverly Farms Elementary  ...            10                 13\n",
              "\n",
              "[1 rows x 6 columns]"
            ]
          },
          "metadata": {
            "tags": []
          },
          "execution_count": 46
        }
      ]
    },
    {
      "cell_type": "code",
      "metadata": {
        "id": "Q6D57iw7CfAv"
      },
      "source": [
        "df_demo['school_name'] = df_demo['school_name'].str.replace('.', '')\n",
        "df_demo['school_name'] = df_demo['school_name'].str.replace(' Elementary', ' Elementary School')\n",
        "df_demo['school_name'] = df_demo['school_name'].str.replace(' Middle', ' Middle School')\n",
        "df_demo['school_name'] = df_demo['school_name'].str.replace(' High', ' High School')\n",
        "df_demo['school_name'] = df_demo['school_name'].str.replace('DuFief', 'Dufief')\n",
        "df_demo['school_name'] = df_demo['school_name'].str.replace('McAuliffe', 'Mcauliffe')\n",
        "df_demo['school_name'] = df_demo['school_name'].str.replace('John H Poole', 'John Poole')\n",
        "df_demo['school_name'] = df_demo['school_name'].str.replace('New Hampshire Estates Elem', 'New Hampshire Estates Elementary School')\n",
        "df_demo['school_name'] = df_demo['school_name'].str.replace('School School', 'School')\n",
        "df_demo['school_name'] = df_demo['school_name'].str.replace('School ', 'School')\n",
        "df_demo['school_name'] = df_demo['school_name'].str.replace('William Tyler Page', 'William T Page')\n",
        "\n",
        "df_demo['school_name'] = df_demo['school_name'].str.replace('JoAnn Leleck at ', '')"
      ],
      "execution_count": null,
      "outputs": []
    },
    {
      "cell_type": "code",
      "metadata": {
        "colab": {
          "base_uri": "https://localhost:8080/"
        },
        "id": "2D2wvLy0l_8n",
        "outputId": "6f9da5e6-825f-4e06-822e-c0449b449bab"
      },
      "source": [
        "df_demo[df_demo['school_name'].str.contains(\"Beverly\")]"
      ],
      "execution_count": null,
      "outputs": [
        {
          "output_type": "execute_result",
          "data": {
            "text/html": [
              "<div>\n",
              "<style scoped>\n",
              "    .dataframe tbody tr th:only-of-type {\n",
              "        vertical-align: middle;\n",
              "    }\n",
              "\n",
              "    .dataframe tbody tr th {\n",
              "        vertical-align: top;\n",
              "    }\n",
              "\n",
              "    .dataframe thead th {\n",
              "        text-align: right;\n",
              "    }\n",
              "</style>\n",
              "<table border=\"1\" class=\"dataframe\">\n",
              "  <thead>\n",
              "    <tr style=\"text-align: right;\">\n",
              "      <th></th>\n",
              "      <th>number</th>\n",
              "      <th>school_name</th>\n",
              "      <th>total_enrollment</th>\n",
              "      <th>free_lunch</th>\n",
              "      <th>reduced_lunch</th>\n",
              "      <th>directly_certified</th>\n",
              "    </tr>\n",
              "  </thead>\n",
              "  <tbody>\n",
              "    <tr>\n",
              "      <th>15</th>\n",
              "      <td>15</td>\n",
              "      <td>Beverly Farms Elementary School</td>\n",
              "      <td>585</td>\n",
              "      <td>24</td>\n",
              "      <td>10</td>\n",
              "      <td>13</td>\n",
              "    </tr>\n",
              "  </tbody>\n",
              "</table>\n",
              "</div>"
            ],
            "text/plain": [
              "    number                      school_name  ... reduced_lunch directly_certified\n",
              "15      15  Beverly Farms Elementary School  ...            10                 13\n",
              "\n",
              "[1 rows x 6 columns]"
            ]
          },
          "metadata": {
            "tags": []
          },
          "execution_count": 48
        }
      ]
    },
    {
      "cell_type": "code",
      "metadata": {
        "id": "ZRT-_Pzhk1j7"
      },
      "source": [
        "indexNames2 = df_demo[(df_demo['school_name'] == 'Carl Sandburg Center')   |\n",
        "                        (df_demo['school_name'] == 'John L Gildner Regional Inst for Children & Adol') |\n",
        "                        (df_demo['school_name'] == 'Longview School') |\n",
        "                        (df_demo['school_name'] == 'MCPS Transitions School') |\n",
        "                        (df_demo['school_name'] == 'Bayard Rustin Elementary School') |\n",
        "                        (df_demo['school_name'] == 'Alternative Programs') |\n",
        "                        (df_demo['school_name'] == 'Silver Creek Middle School')   |                     \n",
        "                        (df_demo['school_name'] == 'Snowden Farm Elementary School') |\n",
        "                        (df_demo['school_name'] == 'Stephen Knolls School') |\n",
        "                        (df_demo['school_name'] == 'PEP - Itinerant') |\n",
        "                        (df_demo['school_name'] == 'Rock Terrace School') |\n",
        "                        (df_demo['school_name'] == 'Flora M Singer Elementary School')   |\n",
        "                        (df_demo['school_name'] == 'Hallie Wells Middle School')   | \n",
        "                        (df_demo['school_name'] == 'Thomas Edison High Schoolof Technology')   | \n",
        "                        (df_demo['school_name'] == 'Wilson Wims Elementary School')].index\n",
        "df_demo.drop(indexNames2 , inplace=True)\n"
      ],
      "execution_count": null,
      "outputs": []
    },
    {
      "cell_type": "code",
      "metadata": {
        "id": "K1TSyR1KCfAw"
      },
      "source": [
        "df_demo['free_lunch']  = df_demo['free_lunch'].str.replace('–','0')\n",
        "df_demo['reduced_lunch'] = df_demo['reduced_lunch'].str.replace('–','0')\n",
        "df_demo['directly_certified'] = df_demo['directly_certified'].str.replace('–','0')"
      ],
      "execution_count": null,
      "outputs": []
    },
    {
      "cell_type": "code",
      "metadata": {
        "id": "M9k7_RO9CfAw"
      },
      "source": [
        "df_demo['free_lunch'] = df_demo['free_lunch'].str.replace('‡','0')\n",
        "df_demo['reduced_lunch'] = df_demo['reduced_lunch'].str.replace('‡','0')\n",
        "df_demo['directly_certified'] = df_demo['directly_certified'].str.replace('‡','0')"
      ],
      "execution_count": null,
      "outputs": []
    },
    {
      "cell_type": "markdown",
      "metadata": {
        "id": "4wdYEL0QDtS_"
      },
      "source": [
        "### 1d. School Combined Dataset"
      ]
    },
    {
      "cell_type": "code",
      "metadata": {
        "scrolled": true,
        "id": "KjtJnCV3CfAx"
      },
      "source": [
        "# Mergeing the two school datasets\n",
        "df_school_final = df_demo.merge(df_school, on='school_name', how='outer', copy = False)"
      ],
      "execution_count": null,
      "outputs": []
    },
    {
      "cell_type": "code",
      "metadata": {
        "scrolled": true,
        "colab": {
          "base_uri": "https://localhost:8080/",
          "height": 401
        },
        "id": "o9VpK3BRCfAx",
        "outputId": "548a00d3-397d-4a2f-de3a-17107fbc3789"
      },
      "source": [
        "df_school_final.head()"
      ],
      "execution_count": null,
      "outputs": [
        {
          "output_type": "execute_result",
          "data": {
            "text/html": [
              "<div>\n",
              "<style scoped>\n",
              "    .dataframe tbody tr th:only-of-type {\n",
              "        vertical-align: middle;\n",
              "    }\n",
              "\n",
              "    .dataframe tbody tr th {\n",
              "        vertical-align: top;\n",
              "    }\n",
              "\n",
              "    .dataframe thead th {\n",
              "        text-align: right;\n",
              "    }\n",
              "</style>\n",
              "<table border=\"1\" class=\"dataframe\">\n",
              "  <thead>\n",
              "    <tr style=\"text-align: right;\">\n",
              "      <th></th>\n",
              "      <th>number</th>\n",
              "      <th>school_name</th>\n",
              "      <th>total_enrollment</th>\n",
              "      <th>free_lunch</th>\n",
              "      <th>reduced_lunch</th>\n",
              "      <th>directly_certified</th>\n",
              "      <th>category</th>\n",
              "      <th>address</th>\n",
              "      <th>city</th>\n",
              "      <th>zip_code</th>\n",
              "      <th>phone</th>\n",
              "      <th>url</th>\n",
              "      <th>longitude</th>\n",
              "      <th>latitude</th>\n",
              "      <th>location</th>\n",
              "    </tr>\n",
              "  </thead>\n",
              "  <tbody>\n",
              "    <tr>\n",
              "      <th>0</th>\n",
              "      <td>0</td>\n",
              "      <td>A Mario Loiederman Middle School</td>\n",
              "      <td>999</td>\n",
              "      <td>424</td>\n",
              "      <td>124</td>\n",
              "      <td>127</td>\n",
              "      <td>MIDDLE SCHOOLS</td>\n",
              "      <td>12701 Goodhill Rd</td>\n",
              "      <td>Silver Spring</td>\n",
              "      <td>20906</td>\n",
              "      <td>301-929-2282</td>\n",
              "      <td>http://www.montgomeryschoolsmd.org/schools/loi...</td>\n",
              "      <td>-77.070835</td>\n",
              "      <td>39.065306</td>\n",
              "      <td>12701 Goodhill Rd\\nSilver Spring, MD 20906\\n(3...</td>\n",
              "    </tr>\n",
              "    <tr>\n",
              "      <th>1</th>\n",
              "      <td>1</td>\n",
              "      <td>Albert Einstein High School</td>\n",
              "      <td>1,818</td>\n",
              "      <td>492</td>\n",
              "      <td>153</td>\n",
              "      <td>145</td>\n",
              "      <td>HIGH SCHOOLS</td>\n",
              "      <td>11135 Newport Mill Rd</td>\n",
              "      <td>Kensington</td>\n",
              "      <td>20895</td>\n",
              "      <td>301-929-2200</td>\n",
              "      <td>http://www.montgomeryschoolsmd.org/schools/ein...</td>\n",
              "      <td>-77.067036</td>\n",
              "      <td>39.039616</td>\n",
              "      <td>11135 Newport Mill Rd\\nKensington, MD 20895\\n(...</td>\n",
              "    </tr>\n",
              "    <tr>\n",
              "      <th>2</th>\n",
              "      <td>3</td>\n",
              "      <td>Arcola Elementary School</td>\n",
              "      <td>748</td>\n",
              "      <td>456</td>\n",
              "      <td>95</td>\n",
              "      <td>159</td>\n",
              "      <td>ELEMENTARY SCHOOLS</td>\n",
              "      <td>1820 Franwall Ave</td>\n",
              "      <td>Silver Spring</td>\n",
              "      <td>20902</td>\n",
              "      <td>301-649-8590</td>\n",
              "      <td>http://www.montgomeryschoolsmd.org/schools/arc...</td>\n",
              "      <td>-77.039388</td>\n",
              "      <td>39.045559</td>\n",
              "      <td>1820 Franwall Ave\\nSilver Spring, MD 20902\\n(3...</td>\n",
              "    </tr>\n",
              "    <tr>\n",
              "      <th>3</th>\n",
              "      <td>4</td>\n",
              "      <td>Argyle Middle School</td>\n",
              "      <td>1,024</td>\n",
              "      <td>444</td>\n",
              "      <td>130</td>\n",
              "      <td>131</td>\n",
              "      <td>MIDDLE SCHOOLS</td>\n",
              "      <td>2400 Bel Pre Rd</td>\n",
              "      <td>Silver Spring</td>\n",
              "      <td>20906</td>\n",
              "      <td>301-460-2400</td>\n",
              "      <td>http://www.montgomeryschoolsmd.org/schools/arg...</td>\n",
              "      <td>-77.048924</td>\n",
              "      <td>39.089521</td>\n",
              "      <td>2400 Bel Pre Rd\\nSilver Spring, MD 20906\\n(39....</td>\n",
              "    </tr>\n",
              "    <tr>\n",
              "      <th>4</th>\n",
              "      <td>5</td>\n",
              "      <td>Ashburton Elementary School</td>\n",
              "      <td>922</td>\n",
              "      <td>76</td>\n",
              "      <td>24</td>\n",
              "      <td>43</td>\n",
              "      <td>ELEMENTARY SCHOOLS</td>\n",
              "      <td>6314 Lone Oak Dr</td>\n",
              "      <td>Bethesda</td>\n",
              "      <td>20817</td>\n",
              "      <td>301-571-6959</td>\n",
              "      <td>http://www.montgomeryschoolsmd.org/schools/ash...</td>\n",
              "      <td>-77.127721</td>\n",
              "      <td>39.019444</td>\n",
              "      <td>6314 Lone Oak Dr\\nBethesda, MD 20817\\n(39.0194...</td>\n",
              "    </tr>\n",
              "  </tbody>\n",
              "</table>\n",
              "</div>"
            ],
            "text/plain": [
              "   number  ...                                           location\n",
              "0       0  ...  12701 Goodhill Rd\\nSilver Spring, MD 20906\\n(3...\n",
              "1       1  ...  11135 Newport Mill Rd\\nKensington, MD 20895\\n(...\n",
              "2       3  ...  1820 Franwall Ave\\nSilver Spring, MD 20902\\n(3...\n",
              "3       4  ...  2400 Bel Pre Rd\\nSilver Spring, MD 20906\\n(39....\n",
              "4       5  ...  6314 Lone Oak Dr\\nBethesda, MD 20817\\n(39.0194...\n",
              "\n",
              "[5 rows x 15 columns]"
            ]
          },
          "metadata": {
            "tags": []
          },
          "execution_count": 53
        }
      ]
    },
    {
      "cell_type": "code",
      "metadata": {
        "colab": {
          "base_uri": "https://localhost:8080/",
          "height": 67
        },
        "id": "XvC6OiTnVKgC",
        "outputId": "c1bcb53b-39ce-4b13-bbdc-e58afce0b36f"
      },
      "source": [
        "df_school_final[(df_school_final['school_name'] == \"Beverly Farms Elementary School \")]"
      ],
      "execution_count": null,
      "outputs": [
        {
          "output_type": "execute_result",
          "data": {
            "text/html": [
              "<div>\n",
              "<style scoped>\n",
              "    .dataframe tbody tr th:only-of-type {\n",
              "        vertical-align: middle;\n",
              "    }\n",
              "\n",
              "    .dataframe tbody tr th {\n",
              "        vertical-align: top;\n",
              "    }\n",
              "\n",
              "    .dataframe thead th {\n",
              "        text-align: right;\n",
              "    }\n",
              "</style>\n",
              "<table border=\"1\" class=\"dataframe\">\n",
              "  <thead>\n",
              "    <tr style=\"text-align: right;\">\n",
              "      <th></th>\n",
              "      <th>number</th>\n",
              "      <th>school_name</th>\n",
              "      <th>total_enrollment</th>\n",
              "      <th>free_lunch</th>\n",
              "      <th>reduced_lunch</th>\n",
              "      <th>directly_certified</th>\n",
              "      <th>category</th>\n",
              "      <th>address</th>\n",
              "      <th>city</th>\n",
              "      <th>zip_code</th>\n",
              "      <th>phone</th>\n",
              "      <th>url</th>\n",
              "      <th>longitude</th>\n",
              "      <th>latitude</th>\n",
              "      <th>location</th>\n",
              "    </tr>\n",
              "  </thead>\n",
              "  <tbody>\n",
              "  </tbody>\n",
              "</table>\n",
              "</div>"
            ],
            "text/plain": [
              "Empty DataFrame\n",
              "Columns: [number, school_name, total_enrollment, free_lunch, reduced_lunch, directly_certified, category, address, city, zip_code, phone, url, longitude, latitude, location]\n",
              "Index: []"
            ]
          },
          "metadata": {
            "tags": []
          },
          "execution_count": 54
        }
      ]
    },
    {
      "cell_type": "code",
      "metadata": {
        "id": "TTifC0ZPCfAx"
      },
      "source": [
        "df_school_final = df_school_final.sort_values(by=['school_name'])"
      ],
      "execution_count": null,
      "outputs": []
    },
    {
      "cell_type": "code",
      "metadata": {
        "colab": {
          "base_uri": "https://localhost:8080/",
          "height": 401
        },
        "id": "1eTUByzHCfAy",
        "outputId": "b3654d5d-bf59-4b07-8642-bc952174c3fc"
      },
      "source": [
        "df_school_final.head()"
      ],
      "execution_count": null,
      "outputs": [
        {
          "output_type": "execute_result",
          "data": {
            "text/html": [
              "<div>\n",
              "<style scoped>\n",
              "    .dataframe tbody tr th:only-of-type {\n",
              "        vertical-align: middle;\n",
              "    }\n",
              "\n",
              "    .dataframe tbody tr th {\n",
              "        vertical-align: top;\n",
              "    }\n",
              "\n",
              "    .dataframe thead th {\n",
              "        text-align: right;\n",
              "    }\n",
              "</style>\n",
              "<table border=\"1\" class=\"dataframe\">\n",
              "  <thead>\n",
              "    <tr style=\"text-align: right;\">\n",
              "      <th></th>\n",
              "      <th>number</th>\n",
              "      <th>school_name</th>\n",
              "      <th>total_enrollment</th>\n",
              "      <th>free_lunch</th>\n",
              "      <th>reduced_lunch</th>\n",
              "      <th>directly_certified</th>\n",
              "      <th>category</th>\n",
              "      <th>address</th>\n",
              "      <th>city</th>\n",
              "      <th>zip_code</th>\n",
              "      <th>phone</th>\n",
              "      <th>url</th>\n",
              "      <th>longitude</th>\n",
              "      <th>latitude</th>\n",
              "      <th>location</th>\n",
              "    </tr>\n",
              "  </thead>\n",
              "  <tbody>\n",
              "    <tr>\n",
              "      <th>0</th>\n",
              "      <td>0</td>\n",
              "      <td>A Mario Loiederman Middle School</td>\n",
              "      <td>999</td>\n",
              "      <td>424</td>\n",
              "      <td>124</td>\n",
              "      <td>127</td>\n",
              "      <td>MIDDLE SCHOOLS</td>\n",
              "      <td>12701 Goodhill Rd</td>\n",
              "      <td>Silver Spring</td>\n",
              "      <td>20906</td>\n",
              "      <td>301-929-2282</td>\n",
              "      <td>http://www.montgomeryschoolsmd.org/schools/loi...</td>\n",
              "      <td>-77.070835</td>\n",
              "      <td>39.065306</td>\n",
              "      <td>12701 Goodhill Rd\\nSilver Spring, MD 20906\\n(3...</td>\n",
              "    </tr>\n",
              "    <tr>\n",
              "      <th>1</th>\n",
              "      <td>1</td>\n",
              "      <td>Albert Einstein High School</td>\n",
              "      <td>1,818</td>\n",
              "      <td>492</td>\n",
              "      <td>153</td>\n",
              "      <td>145</td>\n",
              "      <td>HIGH SCHOOLS</td>\n",
              "      <td>11135 Newport Mill Rd</td>\n",
              "      <td>Kensington</td>\n",
              "      <td>20895</td>\n",
              "      <td>301-929-2200</td>\n",
              "      <td>http://www.montgomeryschoolsmd.org/schools/ein...</td>\n",
              "      <td>-77.067036</td>\n",
              "      <td>39.039616</td>\n",
              "      <td>11135 Newport Mill Rd\\nKensington, MD 20895\\n(...</td>\n",
              "    </tr>\n",
              "    <tr>\n",
              "      <th>2</th>\n",
              "      <td>3</td>\n",
              "      <td>Arcola Elementary School</td>\n",
              "      <td>748</td>\n",
              "      <td>456</td>\n",
              "      <td>95</td>\n",
              "      <td>159</td>\n",
              "      <td>ELEMENTARY SCHOOLS</td>\n",
              "      <td>1820 Franwall Ave</td>\n",
              "      <td>Silver Spring</td>\n",
              "      <td>20902</td>\n",
              "      <td>301-649-8590</td>\n",
              "      <td>http://www.montgomeryschoolsmd.org/schools/arc...</td>\n",
              "      <td>-77.039388</td>\n",
              "      <td>39.045559</td>\n",
              "      <td>1820 Franwall Ave\\nSilver Spring, MD 20902\\n(3...</td>\n",
              "    </tr>\n",
              "    <tr>\n",
              "      <th>3</th>\n",
              "      <td>4</td>\n",
              "      <td>Argyle Middle School</td>\n",
              "      <td>1,024</td>\n",
              "      <td>444</td>\n",
              "      <td>130</td>\n",
              "      <td>131</td>\n",
              "      <td>MIDDLE SCHOOLS</td>\n",
              "      <td>2400 Bel Pre Rd</td>\n",
              "      <td>Silver Spring</td>\n",
              "      <td>20906</td>\n",
              "      <td>301-460-2400</td>\n",
              "      <td>http://www.montgomeryschoolsmd.org/schools/arg...</td>\n",
              "      <td>-77.048924</td>\n",
              "      <td>39.089521</td>\n",
              "      <td>2400 Bel Pre Rd\\nSilver Spring, MD 20906\\n(39....</td>\n",
              "    </tr>\n",
              "    <tr>\n",
              "      <th>4</th>\n",
              "      <td>5</td>\n",
              "      <td>Ashburton Elementary School</td>\n",
              "      <td>922</td>\n",
              "      <td>76</td>\n",
              "      <td>24</td>\n",
              "      <td>43</td>\n",
              "      <td>ELEMENTARY SCHOOLS</td>\n",
              "      <td>6314 Lone Oak Dr</td>\n",
              "      <td>Bethesda</td>\n",
              "      <td>20817</td>\n",
              "      <td>301-571-6959</td>\n",
              "      <td>http://www.montgomeryschoolsmd.org/schools/ash...</td>\n",
              "      <td>-77.127721</td>\n",
              "      <td>39.019444</td>\n",
              "      <td>6314 Lone Oak Dr\\nBethesda, MD 20817\\n(39.0194...</td>\n",
              "    </tr>\n",
              "  </tbody>\n",
              "</table>\n",
              "</div>"
            ],
            "text/plain": [
              "   number  ...                                           location\n",
              "0       0  ...  12701 Goodhill Rd\\nSilver Spring, MD 20906\\n(3...\n",
              "1       1  ...  11135 Newport Mill Rd\\nKensington, MD 20895\\n(...\n",
              "2       3  ...  1820 Franwall Ave\\nSilver Spring, MD 20902\\n(3...\n",
              "3       4  ...  2400 Bel Pre Rd\\nSilver Spring, MD 20906\\n(39....\n",
              "4       5  ...  6314 Lone Oak Dr\\nBethesda, MD 20817\\n(39.0194...\n",
              "\n",
              "[5 rows x 15 columns]"
            ]
          },
          "metadata": {
            "tags": []
          },
          "execution_count": 56
        }
      ]
    },
    {
      "cell_type": "code",
      "metadata": {
        "scrolled": false,
        "colab": {
          "base_uri": "https://localhost:8080/"
        },
        "id": "Wv2jIwgfCfAy",
        "outputId": "0a7b35d5-3079-453d-e002-80167657d81e"
      },
      "source": [
        "len(df_school_final)"
      ],
      "execution_count": null,
      "outputs": [
        {
          "output_type": "execute_result",
          "data": {
            "text/plain": [
              "194"
            ]
          },
          "metadata": {
            "tags": []
          },
          "execution_count": 57
        }
      ]
    },
    {
      "cell_type": "code",
      "metadata": {
        "scrolled": true,
        "colab": {
          "base_uri": "https://localhost:8080/"
        },
        "id": "ltLqkWNFCfAy",
        "outputId": "790bd744-a659-4cc3-f0e4-b10d635d2be5"
      },
      "source": [
        "df_school_final['free_lunch'].dtypes"
      ],
      "execution_count": null,
      "outputs": [
        {
          "output_type": "execute_result",
          "data": {
            "text/plain": [
              "dtype('O')"
            ]
          },
          "metadata": {
            "tags": []
          },
          "execution_count": 58
        }
      ]
    },
    {
      "cell_type": "code",
      "metadata": {
        "scrolled": false,
        "id": "PNwylZvoCfAy"
      },
      "source": [
        "df_school_final[\"free_lunch\"]         = pd.to_numeric(df_school_final[\"free_lunch\"])\n",
        "df_school_final['reduced_lunch']      = pd.to_numeric(df_school_final['reduced_lunch'])\n",
        "df_school_final['directly_certified'] = pd.to_numeric(df_school_final['directly_certified'])"
      ],
      "execution_count": null,
      "outputs": []
    },
    {
      "cell_type": "code",
      "metadata": {
        "colab": {
          "base_uri": "https://localhost:8080/"
        },
        "id": "Y0XhJ4LsCfAz",
        "outputId": "9da191e0-111e-4565-d468-a89cdf86e595"
      },
      "source": [
        "print(df_school_final['free_lunch'].dtypes)\n",
        "print(df_school_final['reduced_lunch'].dtypes)\n",
        "print(df_school_final['directly_certified'].dtypes)"
      ],
      "execution_count": null,
      "outputs": [
        {
          "output_type": "stream",
          "text": [
            "int64\n",
            "int64\n",
            "int64\n"
          ],
          "name": "stdout"
        }
      ]
    },
    {
      "cell_type": "code",
      "metadata": {
        "colab": {
          "base_uri": "https://localhost:8080/"
        },
        "id": "vHkWjubZQLam",
        "outputId": "9bc57539-b2e0-422d-db2a-26048376539c"
      },
      "source": [
        "df_school_final['total_enrollment'].dtypes"
      ],
      "execution_count": null,
      "outputs": [
        {
          "output_type": "execute_result",
          "data": {
            "text/plain": [
              "dtype('O')"
            ]
          },
          "metadata": {
            "tags": []
          },
          "execution_count": 61
        }
      ]
    },
    {
      "cell_type": "code",
      "metadata": {
        "id": "LN6XLpwMQjhN"
      },
      "source": [
        "df_school_final['total_enrollment'] = df_school_final['total_enrollment'].str.replace(',', '')"
      ],
      "execution_count": null,
      "outputs": []
    },
    {
      "cell_type": "code",
      "metadata": {
        "id": "An9548arQQdS"
      },
      "source": [
        "df_school_final['total_enrollment']   = pd.to_numeric(df_school_final['total_enrollment'])"
      ],
      "execution_count": null,
      "outputs": []
    },
    {
      "cell_type": "code",
      "metadata": {
        "id": "kQlBHzySCfAz"
      },
      "source": [
        "df_school_final[[\"FARMs\"]] = df_school_final[\"free_lunch\"] + df_school_final[\"reduced_lunch\"]\n",
        "df_school_final[[\"FARMs_percentage\"]] =  df_school_final[\"FARMs\"] / df_school_final[\"total_enrollment\"] \n",
        "df_school_final[[\"FARMs_percentage\"]] = df_school_final[\"FARMs_percentage\"] * 100\n"
      ],
      "execution_count": null,
      "outputs": []
    },
    {
      "cell_type": "code",
      "metadata": {
        "colab": {
          "base_uri": "https://localhost:8080/",
          "height": 401
        },
        "id": "NO1LkZRcCfAz",
        "outputId": "b680ea99-69dd-47d1-cc17-9ab298ebed58"
      },
      "source": [
        "df_school_final.head()"
      ],
      "execution_count": null,
      "outputs": [
        {
          "output_type": "execute_result",
          "data": {
            "text/html": [
              "<div>\n",
              "<style scoped>\n",
              "    .dataframe tbody tr th:only-of-type {\n",
              "        vertical-align: middle;\n",
              "    }\n",
              "\n",
              "    .dataframe tbody tr th {\n",
              "        vertical-align: top;\n",
              "    }\n",
              "\n",
              "    .dataframe thead th {\n",
              "        text-align: right;\n",
              "    }\n",
              "</style>\n",
              "<table border=\"1\" class=\"dataframe\">\n",
              "  <thead>\n",
              "    <tr style=\"text-align: right;\">\n",
              "      <th></th>\n",
              "      <th>number</th>\n",
              "      <th>school_name</th>\n",
              "      <th>total_enrollment</th>\n",
              "      <th>free_lunch</th>\n",
              "      <th>reduced_lunch</th>\n",
              "      <th>directly_certified</th>\n",
              "      <th>category</th>\n",
              "      <th>address</th>\n",
              "      <th>city</th>\n",
              "      <th>zip_code</th>\n",
              "      <th>phone</th>\n",
              "      <th>url</th>\n",
              "      <th>longitude</th>\n",
              "      <th>latitude</th>\n",
              "      <th>location</th>\n",
              "      <th>FARMs</th>\n",
              "      <th>FARMs_percentage</th>\n",
              "    </tr>\n",
              "  </thead>\n",
              "  <tbody>\n",
              "    <tr>\n",
              "      <th>0</th>\n",
              "      <td>0</td>\n",
              "      <td>A Mario Loiederman Middle School</td>\n",
              "      <td>999</td>\n",
              "      <td>424</td>\n",
              "      <td>124</td>\n",
              "      <td>127</td>\n",
              "      <td>MIDDLE SCHOOLS</td>\n",
              "      <td>12701 Goodhill Rd</td>\n",
              "      <td>Silver Spring</td>\n",
              "      <td>20906</td>\n",
              "      <td>301-929-2282</td>\n",
              "      <td>http://www.montgomeryschoolsmd.org/schools/loi...</td>\n",
              "      <td>-77.070835</td>\n",
              "      <td>39.065306</td>\n",
              "      <td>12701 Goodhill Rd\\nSilver Spring, MD 20906\\n(3...</td>\n",
              "      <td>548</td>\n",
              "      <td>54.854855</td>\n",
              "    </tr>\n",
              "    <tr>\n",
              "      <th>1</th>\n",
              "      <td>1</td>\n",
              "      <td>Albert Einstein High School</td>\n",
              "      <td>1818</td>\n",
              "      <td>492</td>\n",
              "      <td>153</td>\n",
              "      <td>145</td>\n",
              "      <td>HIGH SCHOOLS</td>\n",
              "      <td>11135 Newport Mill Rd</td>\n",
              "      <td>Kensington</td>\n",
              "      <td>20895</td>\n",
              "      <td>301-929-2200</td>\n",
              "      <td>http://www.montgomeryschoolsmd.org/schools/ein...</td>\n",
              "      <td>-77.067036</td>\n",
              "      <td>39.039616</td>\n",
              "      <td>11135 Newport Mill Rd\\nKensington, MD 20895\\n(...</td>\n",
              "      <td>645</td>\n",
              "      <td>35.478548</td>\n",
              "    </tr>\n",
              "    <tr>\n",
              "      <th>2</th>\n",
              "      <td>3</td>\n",
              "      <td>Arcola Elementary School</td>\n",
              "      <td>748</td>\n",
              "      <td>456</td>\n",
              "      <td>95</td>\n",
              "      <td>159</td>\n",
              "      <td>ELEMENTARY SCHOOLS</td>\n",
              "      <td>1820 Franwall Ave</td>\n",
              "      <td>Silver Spring</td>\n",
              "      <td>20902</td>\n",
              "      <td>301-649-8590</td>\n",
              "      <td>http://www.montgomeryschoolsmd.org/schools/arc...</td>\n",
              "      <td>-77.039388</td>\n",
              "      <td>39.045559</td>\n",
              "      <td>1820 Franwall Ave\\nSilver Spring, MD 20902\\n(3...</td>\n",
              "      <td>551</td>\n",
              "      <td>73.663102</td>\n",
              "    </tr>\n",
              "    <tr>\n",
              "      <th>3</th>\n",
              "      <td>4</td>\n",
              "      <td>Argyle Middle School</td>\n",
              "      <td>1024</td>\n",
              "      <td>444</td>\n",
              "      <td>130</td>\n",
              "      <td>131</td>\n",
              "      <td>MIDDLE SCHOOLS</td>\n",
              "      <td>2400 Bel Pre Rd</td>\n",
              "      <td>Silver Spring</td>\n",
              "      <td>20906</td>\n",
              "      <td>301-460-2400</td>\n",
              "      <td>http://www.montgomeryschoolsmd.org/schools/arg...</td>\n",
              "      <td>-77.048924</td>\n",
              "      <td>39.089521</td>\n",
              "      <td>2400 Bel Pre Rd\\nSilver Spring, MD 20906\\n(39....</td>\n",
              "      <td>574</td>\n",
              "      <td>56.054688</td>\n",
              "    </tr>\n",
              "    <tr>\n",
              "      <th>4</th>\n",
              "      <td>5</td>\n",
              "      <td>Ashburton Elementary School</td>\n",
              "      <td>922</td>\n",
              "      <td>76</td>\n",
              "      <td>24</td>\n",
              "      <td>43</td>\n",
              "      <td>ELEMENTARY SCHOOLS</td>\n",
              "      <td>6314 Lone Oak Dr</td>\n",
              "      <td>Bethesda</td>\n",
              "      <td>20817</td>\n",
              "      <td>301-571-6959</td>\n",
              "      <td>http://www.montgomeryschoolsmd.org/schools/ash...</td>\n",
              "      <td>-77.127721</td>\n",
              "      <td>39.019444</td>\n",
              "      <td>6314 Lone Oak Dr\\nBethesda, MD 20817\\n(39.0194...</td>\n",
              "      <td>100</td>\n",
              "      <td>10.845987</td>\n",
              "    </tr>\n",
              "  </tbody>\n",
              "</table>\n",
              "</div>"
            ],
            "text/plain": [
              "   number                       school_name  ...  FARMs  FARMs_percentage\n",
              "0       0  A Mario Loiederman Middle School  ...    548         54.854855\n",
              "1       1       Albert Einstein High School  ...    645         35.478548\n",
              "2       3          Arcola Elementary School  ...    551         73.663102\n",
              "3       4              Argyle Middle School  ...    574         56.054688\n",
              "4       5       Ashburton Elementary School  ...    100         10.845987\n",
              "\n",
              "[5 rows x 17 columns]"
            ]
          },
          "metadata": {
            "tags": []
          },
          "execution_count": 65
        }
      ]
    },
    {
      "cell_type": "code",
      "metadata": {
        "colab": {
          "base_uri": "https://localhost:8080/"
        },
        "id": "sQ_RtNaVO9F1",
        "outputId": "20942b5b-d9c6-47a0-812f-b6361f44d1fb"
      },
      "source": [
        "df_school_final['FARMs'].dtypes"
      ],
      "execution_count": null,
      "outputs": [
        {
          "output_type": "execute_result",
          "data": {
            "text/plain": [
              "dtype('int64')"
            ]
          },
          "metadata": {
            "tags": []
          },
          "execution_count": 66
        }
      ]
    },
    {
      "cell_type": "code",
      "metadata": {
        "colab": {
          "base_uri": "https://localhost:8080/"
        },
        "id": "Da3BBufkPMUt",
        "outputId": "6ebcb6e1-a7d2-4510-ff09-f96448b84ac2"
      },
      "source": [
        "df_school_final['total_enrollment'].dtypes"
      ],
      "execution_count": null,
      "outputs": [
        {
          "output_type": "execute_result",
          "data": {
            "text/plain": [
              "dtype('int64')"
            ]
          },
          "metadata": {
            "tags": []
          },
          "execution_count": 67
        }
      ]
    },
    {
      "cell_type": "code",
      "metadata": {
        "colab": {
          "base_uri": "https://localhost:8080/"
        },
        "id": "RkwKiiQdqZLj",
        "outputId": "d1db1bc4-40da-48fa-c03a-f5c6a97701e6"
      },
      "source": [
        "df_school_final['school_name'].dtypes"
      ],
      "execution_count": null,
      "outputs": [
        {
          "output_type": "execute_result",
          "data": {
            "text/plain": [
              "dtype('O')"
            ]
          },
          "metadata": {
            "tags": []
          },
          "execution_count": 68
        }
      ]
    },
    {
      "cell_type": "code",
      "metadata": {
        "colab": {
          "base_uri": "https://localhost:8080/"
        },
        "id": "VKy8lESBg-nk",
        "outputId": "d2664052-bac1-4a9e-8c58-7341d3834779"
      },
      "source": [
        "df_school_final['zip_code'].dtypes"
      ],
      "execution_count": null,
      "outputs": [
        {
          "output_type": "execute_result",
          "data": {
            "text/plain": [
              "dtype('int64')"
            ]
          },
          "metadata": {
            "tags": []
          },
          "execution_count": 69
        }
      ]
    },
    {
      "cell_type": "code",
      "metadata": {
        "id": "43WTUV0pJtJc"
      },
      "source": [
        "# Saving to excel file\n",
        "df_school_final.to_excel(\"schools_final_file.xlsx\", sheet_name='Sheet_name_1')  "
      ],
      "execution_count": null,
      "outputs": []
    },
    {
      "cell_type": "markdown",
      "metadata": {
        "id": "_fRyW-pqCfA1"
      },
      "source": [
        "### 1e. Xfinity Wifi Locations Dataset\n"
      ]
    },
    {
      "cell_type": "code",
      "metadata": {
        "id": "PKXNMdMQCfA1"
      },
      "source": [
        "df_xfinity = pd.read_excel('df_xfinity_final.xlsx')"
      ],
      "execution_count": null,
      "outputs": []
    },
    {
      "cell_type": "code",
      "metadata": {
        "scrolled": true,
        "id": "ct-Twd0jCfA2",
        "colab": {
          "base_uri": "https://localhost:8080/"
        },
        "outputId": "6152db2a-ba88-45fb-eb53-e746cbcc08d2"
      },
      "source": [
        "# viewing the xfinity df\n",
        "df_xfinity.head()"
      ],
      "execution_count": null,
      "outputs": [
        {
          "output_type": "execute_result",
          "data": {
            "text/html": [
              "<div>\n",
              "<style scoped>\n",
              "    .dataframe tbody tr th:only-of-type {\n",
              "        vertical-align: middle;\n",
              "    }\n",
              "\n",
              "    .dataframe tbody tr th {\n",
              "        vertical-align: top;\n",
              "    }\n",
              "\n",
              "    .dataframe thead th {\n",
              "        text-align: right;\n",
              "    }\n",
              "</style>\n",
              "<table border=\"1\" class=\"dataframe\">\n",
              "  <thead>\n",
              "    <tr style=\"text-align: right;\">\n",
              "      <th></th>\n",
              "      <th>Full_Address</th>\n",
              "      <th>Latitude</th>\n",
              "      <th>Longitude</th>\n",
              "      <th>City</th>\n",
              "      <th>Zip</th>\n",
              "    </tr>\n",
              "  </thead>\n",
              "  <tbody>\n",
              "    <tr>\n",
              "      <th>0</th>\n",
              "      <td>19737 Frederick Rd, Germantown, Maryland 20876</td>\n",
              "      <td>39.179688</td>\n",
              "      <td>-77.236382</td>\n",
              "      <td>Germantown</td>\n",
              "      <td>20876</td>\n",
              "    </tr>\n",
              "    <tr>\n",
              "      <th>1</th>\n",
              "      <td>8413 Ramsey Ave, Silver Spring, Maryland 20910</td>\n",
              "      <td>38.994217</td>\n",
              "      <td>-77.029010</td>\n",
              "      <td>Silver Spring</td>\n",
              "      <td>20910</td>\n",
              "    </tr>\n",
              "    <tr>\n",
              "      <th>2</th>\n",
              "      <td>3502 Morningwood Dr, Olney, Maryland 20832</td>\n",
              "      <td>39.151327</td>\n",
              "      <td>-77.069516</td>\n",
              "      <td>Olney</td>\n",
              "      <td>20832</td>\n",
              "    </tr>\n",
              "    <tr>\n",
              "      <th>3</th>\n",
              "      <td>9172 Brookville Rd, Silver Spring, Maryland 20910</td>\n",
              "      <td>39.006246</td>\n",
              "      <td>-77.049362</td>\n",
              "      <td>Silver Spring</td>\n",
              "      <td>20910</td>\n",
              "    </tr>\n",
              "    <tr>\n",
              "      <th>4</th>\n",
              "      <td>2211 Greenery Ln, Silver Spring, Maryland 20906</td>\n",
              "      <td>39.062183</td>\n",
              "      <td>-77.048984</td>\n",
              "      <td>Silver Spring</td>\n",
              "      <td>20906</td>\n",
              "    </tr>\n",
              "  </tbody>\n",
              "</table>\n",
              "</div>"
            ],
            "text/plain": [
              "                                        Full_Address  ...    Zip\n",
              "0     19737 Frederick Rd, Germantown, Maryland 20876  ...  20876\n",
              "1     8413 Ramsey Ave, Silver Spring, Maryland 20910  ...  20910\n",
              "2         3502 Morningwood Dr, Olney, Maryland 20832  ...  20832\n",
              "3  9172 Brookville Rd, Silver Spring, Maryland 20910  ...  20910\n",
              "4    2211 Greenery Ln, Silver Spring, Maryland 20906  ...  20906\n",
              "\n",
              "[5 rows x 5 columns]"
            ]
          },
          "metadata": {
            "tags": []
          },
          "execution_count": 72
        }
      ]
    },
    {
      "cell_type": "code",
      "metadata": {
        "id": "hJwDQfQyCfA3",
        "colab": {
          "base_uri": "https://localhost:8080/"
        },
        "outputId": "e6c497ab-0a39-4199-fde5-e0c3c8ab19e0"
      },
      "source": [
        "len(df_xfinity)"
      ],
      "execution_count": null,
      "outputs": [
        {
          "output_type": "execute_result",
          "data": {
            "text/plain": [
              "6076"
            ]
          },
          "metadata": {
            "tags": []
          },
          "execution_count": 73
        }
      ]
    },
    {
      "cell_type": "code",
      "metadata": {
        "colab": {
          "base_uri": "https://localhost:8080/"
        },
        "id": "1f4ajGeqcgUs",
        "outputId": "d1b0352e-7dbb-4ca7-fadf-9d501554da16"
      },
      "source": [
        "print(df_xfinity[df_xfinity['City'].str.contains(\"Washington\")])\n",
        "print( df_xfinity[df_xfinity['City'].str.contains(\"Virfina\")])"
      ],
      "execution_count": null,
      "outputs": [
        {
          "output_type": "stream",
          "text": [
            "                                        Full_Address  ...    Zip\n",
            "1394  205 Grove Rd, Washington Grove, Maryland 20880  ...  20880\n",
            "\n",
            "[1 rows x 5 columns]\n",
            "Empty DataFrame\n",
            "Columns: [Full_Address, Latitude, Longitude, City, Zip]\n",
            "Index: []\n"
          ],
          "name": "stdout"
        }
      ]
    },
    {
      "cell_type": "code",
      "metadata": {
        "colab": {
          "base_uri": "https://localhost:8080/"
        },
        "id": "IvIwjt0Peciq",
        "outputId": "fb36eca6-b458-4c94-df28-8c00de428300"
      },
      "source": [
        "print(df_xfinity.Latitude.isnull().sum())\n",
        "print(df_xfinity.Longitude.isnull().sum())"
      ],
      "execution_count": null,
      "outputs": [
        {
          "output_type": "stream",
          "text": [
            "0\n",
            "0\n"
          ],
          "name": "stdout"
        }
      ]
    },
    {
      "cell_type": "markdown",
      "metadata": {
        "id": "sMioCr7ms41x"
      },
      "source": [
        "### 1f. Monster Dataset\n"
      ]
    },
    {
      "cell_type": "markdown",
      "metadata": {
        "id": "8N9F-Ip3tIKk"
      },
      "source": [
        "In order to graph both the MPCS schools and Xfinity/County wifi, I will create a monster dataset"
      ]
    },
    {
      "cell_type": "markdown",
      "metadata": {
        "id": "MDwJ64_wzO3F"
      },
      "source": [
        "#### 1f.1. School Combined Monster"
      ]
    },
    {
      "cell_type": "code",
      "metadata": {
        "colab": {
          "base_uri": "https://localhost:8080/"
        },
        "id": "fEKbZWA8tF70",
        "outputId": "850efb93-680e-4485-d4b8-aef151027157"
      },
      "source": [
        "monster_school = df_school_final[['school_name','address','category','latitude','longitude']]\n",
        "print(monster_school.head())\n",
        "print(len(monster_school))"
      ],
      "execution_count": null,
      "outputs": [
        {
          "output_type": "stream",
          "text": [
            "                        school_name  ...  longitude\n",
            "0  A Mario Loiederman Middle School  ... -77.070835\n",
            "1       Albert Einstein High School  ... -77.067036\n",
            "2          Arcola Elementary School  ... -77.039388\n",
            "3              Argyle Middle School  ... -77.048924\n",
            "4       Ashburton Elementary School  ... -77.127721\n",
            "\n",
            "[5 rows x 5 columns]\n",
            "194\n"
          ],
          "name": "stdout"
        }
      ]
    },
    {
      "cell_type": "code",
      "metadata": {
        "colab": {
          "base_uri": "https://localhost:8080/"
        },
        "id": "GsPpMQamxFbN",
        "outputId": "a05a3e3b-ba5f-44da-a06e-076fcbfab315"
      },
      "source": [
        "monster_school.columns = ['Name', 'Address', 'Category', 'Latitude', 'Longitude']\n",
        "print(monster_school.head())\n"
      ],
      "execution_count": null,
      "outputs": [
        {
          "output_type": "stream",
          "text": [
            "                               Name  ...  Longitude\n",
            "0  A Mario Loiederman Middle School  ... -77.070835\n",
            "1       Albert Einstein High School  ... -77.067036\n",
            "2          Arcola Elementary School  ... -77.039388\n",
            "3              Argyle Middle School  ... -77.048924\n",
            "4       Ashburton Elementary School  ... -77.127721\n",
            "\n",
            "[5 rows x 5 columns]\n"
          ],
          "name": "stdout"
        }
      ]
    },
    {
      "cell_type": "code",
      "metadata": {
        "colab": {
          "base_uri": "https://localhost:8080/",
          "height": 620
        },
        "id": "Yqr_0pLuxFl8",
        "outputId": "bb56cdcb-2719-435f-a362-4cbee34e787d"
      },
      "source": [
        "monster_school[\"Type\"] = \"\"\n",
        "monster_school[\"Type\"] = 'School'\n",
        "monster_school"
      ],
      "execution_count": null,
      "outputs": [
        {
          "output_type": "stream",
          "text": [
            "/usr/local/lib/python3.7/dist-packages/ipykernel_launcher.py:1: SettingWithCopyWarning: \n",
            "A value is trying to be set on a copy of a slice from a DataFrame.\n",
            "Try using .loc[row_indexer,col_indexer] = value instead\n",
            "\n",
            "See the caveats in the documentation: https://pandas.pydata.org/pandas-docs/stable/user_guide/indexing.html#returning-a-view-versus-a-copy\n",
            "  \"\"\"Entry point for launching an IPython kernel.\n",
            "/usr/local/lib/python3.7/dist-packages/ipykernel_launcher.py:2: SettingWithCopyWarning: \n",
            "A value is trying to be set on a copy of a slice from a DataFrame.\n",
            "Try using .loc[row_indexer,col_indexer] = value instead\n",
            "\n",
            "See the caveats in the documentation: https://pandas.pydata.org/pandas-docs/stable/user_guide/indexing.html#returning-a-view-versus-a-copy\n",
            "  \n"
          ],
          "name": "stderr"
        },
        {
          "output_type": "execute_result",
          "data": {
            "text/html": [
              "<div>\n",
              "<style scoped>\n",
              "    .dataframe tbody tr th:only-of-type {\n",
              "        vertical-align: middle;\n",
              "    }\n",
              "\n",
              "    .dataframe tbody tr th {\n",
              "        vertical-align: top;\n",
              "    }\n",
              "\n",
              "    .dataframe thead th {\n",
              "        text-align: right;\n",
              "    }\n",
              "</style>\n",
              "<table border=\"1\" class=\"dataframe\">\n",
              "  <thead>\n",
              "    <tr style=\"text-align: right;\">\n",
              "      <th></th>\n",
              "      <th>Name</th>\n",
              "      <th>Address</th>\n",
              "      <th>Category</th>\n",
              "      <th>Latitude</th>\n",
              "      <th>Longitude</th>\n",
              "      <th>Type</th>\n",
              "    </tr>\n",
              "  </thead>\n",
              "  <tbody>\n",
              "    <tr>\n",
              "      <th>0</th>\n",
              "      <td>A Mario Loiederman Middle School</td>\n",
              "      <td>12701 Goodhill Rd</td>\n",
              "      <td>MIDDLE SCHOOLS</td>\n",
              "      <td>39.065306</td>\n",
              "      <td>-77.070835</td>\n",
              "      <td>School</td>\n",
              "    </tr>\n",
              "    <tr>\n",
              "      <th>1</th>\n",
              "      <td>Albert Einstein High School</td>\n",
              "      <td>11135 Newport Mill Rd</td>\n",
              "      <td>HIGH SCHOOLS</td>\n",
              "      <td>39.039616</td>\n",
              "      <td>-77.067036</td>\n",
              "      <td>School</td>\n",
              "    </tr>\n",
              "    <tr>\n",
              "      <th>2</th>\n",
              "      <td>Arcola Elementary School</td>\n",
              "      <td>1820 Franwall Ave</td>\n",
              "      <td>ELEMENTARY SCHOOLS</td>\n",
              "      <td>39.045559</td>\n",
              "      <td>-77.039388</td>\n",
              "      <td>School</td>\n",
              "    </tr>\n",
              "    <tr>\n",
              "      <th>3</th>\n",
              "      <td>Argyle Middle School</td>\n",
              "      <td>2400 Bel Pre Rd</td>\n",
              "      <td>MIDDLE SCHOOLS</td>\n",
              "      <td>39.089521</td>\n",
              "      <td>-77.048924</td>\n",
              "      <td>School</td>\n",
              "    </tr>\n",
              "    <tr>\n",
              "      <th>4</th>\n",
              "      <td>Ashburton Elementary School</td>\n",
              "      <td>6314 Lone Oak Dr</td>\n",
              "      <td>ELEMENTARY SCHOOLS</td>\n",
              "      <td>39.019444</td>\n",
              "      <td>-77.127721</td>\n",
              "      <td>School</td>\n",
              "    </tr>\n",
              "    <tr>\n",
              "      <th>...</th>\n",
              "      <td>...</td>\n",
              "      <td>...</td>\n",
              "      <td>...</td>\n",
              "      <td>...</td>\n",
              "      <td>...</td>\n",
              "      <td>...</td>\n",
              "    </tr>\n",
              "    <tr>\n",
              "      <th>189</th>\n",
              "      <td>Winston Churchill High School</td>\n",
              "      <td>11300 Gainsborough Rd</td>\n",
              "      <td>HIGH SCHOOLS</td>\n",
              "      <td>39.044305</td>\n",
              "      <td>-77.173128</td>\n",
              "      <td>School</td>\n",
              "    </tr>\n",
              "    <tr>\n",
              "      <th>190</th>\n",
              "      <td>Wood Acres Elementary School</td>\n",
              "      <td>5800 Cromwell Dr</td>\n",
              "      <td>ELEMENTARY SCHOOLS</td>\n",
              "      <td>38.967587</td>\n",
              "      <td>-77.118672</td>\n",
              "      <td>School</td>\n",
              "    </tr>\n",
              "    <tr>\n",
              "      <th>191</th>\n",
              "      <td>Woodfield Elementary School</td>\n",
              "      <td>24200 Woodfield Rd</td>\n",
              "      <td>ELEMENTARY SCHOOLS</td>\n",
              "      <td>39.252783</td>\n",
              "      <td>-77.198281</td>\n",
              "      <td>School</td>\n",
              "    </tr>\n",
              "    <tr>\n",
              "      <th>192</th>\n",
              "      <td>Woodlin Elementary School</td>\n",
              "      <td>2101 Luzerne Ave</td>\n",
              "      <td>ELEMENTARY SCHOOLS</td>\n",
              "      <td>39.006537</td>\n",
              "      <td>-77.046772</td>\n",
              "      <td>School</td>\n",
              "    </tr>\n",
              "    <tr>\n",
              "      <th>193</th>\n",
              "      <td>Wyngate Elementary School</td>\n",
              "      <td>9300 Wadsworth Dr</td>\n",
              "      <td>ELEMENTARY SCHOOLS</td>\n",
              "      <td>39.009326</td>\n",
              "      <td>-77.128244</td>\n",
              "      <td>School</td>\n",
              "    </tr>\n",
              "  </tbody>\n",
              "</table>\n",
              "<p>194 rows × 6 columns</p>\n",
              "</div>"
            ],
            "text/plain": [
              "                                 Name                Address  ...  Longitude    Type\n",
              "0    A Mario Loiederman Middle School      12701 Goodhill Rd  ... -77.070835  School\n",
              "1         Albert Einstein High School  11135 Newport Mill Rd  ... -77.067036  School\n",
              "2            Arcola Elementary School      1820 Franwall Ave  ... -77.039388  School\n",
              "3                Argyle Middle School        2400 Bel Pre Rd  ... -77.048924  School\n",
              "4         Ashburton Elementary School       6314 Lone Oak Dr  ... -77.127721  School\n",
              "..                                ...                    ...  ...        ...     ...\n",
              "189     Winston Churchill High School  11300 Gainsborough Rd  ... -77.173128  School\n",
              "190      Wood Acres Elementary School       5800 Cromwell Dr  ... -77.118672  School\n",
              "191       Woodfield Elementary School     24200 Woodfield Rd  ... -77.198281  School\n",
              "192         Woodlin Elementary School       2101 Luzerne Ave  ... -77.046772  School\n",
              "193         Wyngate Elementary School      9300 Wadsworth Dr  ... -77.128244  School\n",
              "\n",
              "[194 rows x 6 columns]"
            ]
          },
          "metadata": {
            "tags": []
          },
          "execution_count": 78
        }
      ]
    },
    {
      "cell_type": "markdown",
      "metadata": {
        "id": "OBx4PKCpy7GT"
      },
      "source": [
        "####1f.2. County Monster"
      ]
    },
    {
      "cell_type": "code",
      "metadata": {
        "colab": {
          "base_uri": "https://localhost:8080/"
        },
        "id": "v8jUZxp8zsGb",
        "outputId": "0062a14f-49d2-4f49-e909-8dd1297e73fb"
      },
      "source": [
        "monster_county = df_county_copy[['Name','Department','Address','Latitude','Longitude']]\n",
        "print(monster_county.head())\n",
        "print(len(monster_county))"
      ],
      "execution_count": null,
      "outputs": [
        {
          "output_type": "stream",
          "text": [
            "                                  Name         Department  ...   Latitude  Longitude\n",
            "0                    White Oak Library                DPL  ...  39.048058 -76.992585\n",
            "1  Sidney Kramer Upcounty Service ctr.                RSC  ...  39.179332 -77.267914\n",
            "2                 L3 Helpdesk & Office                DTS  ...  39.108593 -77.151413\n",
            "3                       OIG/ERP Office  CAO/CEX/CC/Courts  ...  39.083800 -77.148147\n",
            "4                                 F&RS                FRS  ...  39.180120 -77.411689\n",
            "\n",
            "[5 rows x 5 columns]\n",
            "178\n"
          ],
          "name": "stdout"
        }
      ]
    },
    {
      "cell_type": "code",
      "metadata": {
        "colab": {
          "base_uri": "https://localhost:8080/"
        },
        "id": "CswW70W20LVu",
        "outputId": "c0aef3f3-dedf-41f0-a2ab-e382cbeca5dc"
      },
      "source": [
        "monster_county.columns = ['Name', 'Category', 'Address', 'Latitude', 'Longitude']\n",
        "print(monster_county.head())"
      ],
      "execution_count": null,
      "outputs": [
        {
          "output_type": "stream",
          "text": [
            "                                  Name           Category  ...   Latitude  Longitude\n",
            "0                    White Oak Library                DPL  ...  39.048058 -76.992585\n",
            "1  Sidney Kramer Upcounty Service ctr.                RSC  ...  39.179332 -77.267914\n",
            "2                 L3 Helpdesk & Office                DTS  ...  39.108593 -77.151413\n",
            "3                       OIG/ERP Office  CAO/CEX/CC/Courts  ...  39.083800 -77.148147\n",
            "4                                 F&RS                FRS  ...  39.180120 -77.411689\n",
            "\n",
            "[5 rows x 5 columns]\n"
          ],
          "name": "stdout"
        }
      ]
    },
    {
      "cell_type": "code",
      "metadata": {
        "colab": {
          "base_uri": "https://localhost:8080/",
          "height": 620
        },
        "id": "0GMhh0f10vD5",
        "outputId": "31e97831-3ca9-4c52-edaa-a4338cfce699"
      },
      "source": [
        "monster_county[\"Type\"] = \"\"\n",
        "monster_county[\"Type\"] = 'County Wifi'\n",
        "monster_county"
      ],
      "execution_count": null,
      "outputs": [
        {
          "output_type": "stream",
          "text": [
            "/usr/local/lib/python3.7/dist-packages/ipykernel_launcher.py:1: SettingWithCopyWarning: \n",
            "A value is trying to be set on a copy of a slice from a DataFrame.\n",
            "Try using .loc[row_indexer,col_indexer] = value instead\n",
            "\n",
            "See the caveats in the documentation: https://pandas.pydata.org/pandas-docs/stable/user_guide/indexing.html#returning-a-view-versus-a-copy\n",
            "  \"\"\"Entry point for launching an IPython kernel.\n",
            "/usr/local/lib/python3.7/dist-packages/ipykernel_launcher.py:2: SettingWithCopyWarning: \n",
            "A value is trying to be set on a copy of a slice from a DataFrame.\n",
            "Try using .loc[row_indexer,col_indexer] = value instead\n",
            "\n",
            "See the caveats in the documentation: https://pandas.pydata.org/pandas-docs/stable/user_guide/indexing.html#returning-a-view-versus-a-copy\n",
            "  \n"
          ],
          "name": "stderr"
        },
        {
          "output_type": "execute_result",
          "data": {
            "text/html": [
              "<div>\n",
              "<style scoped>\n",
              "    .dataframe tbody tr th:only-of-type {\n",
              "        vertical-align: middle;\n",
              "    }\n",
              "\n",
              "    .dataframe tbody tr th {\n",
              "        vertical-align: top;\n",
              "    }\n",
              "\n",
              "    .dataframe thead th {\n",
              "        text-align: right;\n",
              "    }\n",
              "</style>\n",
              "<table border=\"1\" class=\"dataframe\">\n",
              "  <thead>\n",
              "    <tr style=\"text-align: right;\">\n",
              "      <th></th>\n",
              "      <th>Name</th>\n",
              "      <th>Category</th>\n",
              "      <th>Address</th>\n",
              "      <th>Latitude</th>\n",
              "      <th>Longitude</th>\n",
              "      <th>Type</th>\n",
              "    </tr>\n",
              "  </thead>\n",
              "  <tbody>\n",
              "    <tr>\n",
              "      <th>0</th>\n",
              "      <td>White Oak Library</td>\n",
              "      <td>DPL</td>\n",
              "      <td>11701 New Hampshire Avenue, Silver Spring, MD ...</td>\n",
              "      <td>39.048058</td>\n",
              "      <td>-76.992585</td>\n",
              "      <td>County Wifi</td>\n",
              "    </tr>\n",
              "    <tr>\n",
              "      <th>1</th>\n",
              "      <td>Sidney Kramer Upcounty Service ctr.</td>\n",
              "      <td>RSC</td>\n",
              "      <td>12900 Middlebrook Road, Germantown MD</td>\n",
              "      <td>39.179332</td>\n",
              "      <td>-77.267914</td>\n",
              "      <td>County Wifi</td>\n",
              "    </tr>\n",
              "    <tr>\n",
              "      <th>2</th>\n",
              "      <td>L3 Helpdesk &amp; Office</td>\n",
              "      <td>DTS</td>\n",
              "      <td>7361 Calhoun Plaza,  Rockville, MD 20850</td>\n",
              "      <td>39.108593</td>\n",
              "      <td>-77.151413</td>\n",
              "      <td>County Wifi</td>\n",
              "    </tr>\n",
              "    <tr>\n",
              "      <th>3</th>\n",
              "      <td>OIG/ERP Office</td>\n",
              "      <td>CAO/CEX/CC/Courts</td>\n",
              "      <td>51 Monroe Street, Rockville, MD 20850</td>\n",
              "      <td>39.083800</td>\n",
              "      <td>-77.148147</td>\n",
              "      <td>County Wifi</td>\n",
              "    </tr>\n",
              "    <tr>\n",
              "      <th>4</th>\n",
              "      <td>F&amp;RS</td>\n",
              "      <td>FRS</td>\n",
              "      <td>19801 Bealsville Road, Bealsville, MD 20839</td>\n",
              "      <td>39.180120</td>\n",
              "      <td>-77.411689</td>\n",
              "      <td>County Wifi</td>\n",
              "    </tr>\n",
              "    <tr>\n",
              "      <th>...</th>\n",
              "      <td>...</td>\n",
              "      <td>...</td>\n",
              "      <td>...</td>\n",
              "      <td>...</td>\n",
              "      <td>...</td>\n",
              "      <td>...</td>\n",
              "    </tr>\n",
              "    <tr>\n",
              "      <th>173</th>\n",
              "      <td>Swing Office Space</td>\n",
              "      <td>DGS</td>\n",
              "      <td>1451 Seven Locks Road, Rockville, MD</td>\n",
              "      <td>39.070994</td>\n",
              "      <td>-77.162760</td>\n",
              "      <td>County Wifi</td>\n",
              "    </tr>\n",
              "    <tr>\n",
              "      <th>174</th>\n",
              "      <td>HHS - 1301 Piccard Drive</td>\n",
              "      <td>HHS</td>\n",
              "      <td>1301 Piccard Drive, Rockville, MD</td>\n",
              "      <td>39.102672</td>\n",
              "      <td>-77.177593</td>\n",
              "      <td>County Wifi</td>\n",
              "    </tr>\n",
              "    <tr>\n",
              "      <th>175</th>\n",
              "      <td>Wheaton Resource Center</td>\n",
              "      <td>FRS</td>\n",
              "      <td>11435 Grandview Ave, Wheaton, MD</td>\n",
              "      <td>39.042763</td>\n",
              "      <td>-77.053153</td>\n",
              "      <td>County Wifi</td>\n",
              "    </tr>\n",
              "    <tr>\n",
              "      <th>176</th>\n",
              "      <td>Colesville Highway Service Depot</td>\n",
              "      <td>DOT</td>\n",
              "      <td>14335 Cape May Road, Silver Spring, MD 20904</td>\n",
              "      <td>39.090311</td>\n",
              "      <td>-76.996699</td>\n",
              "      <td>County Wifi</td>\n",
              "    </tr>\n",
              "    <tr>\n",
              "      <th>177</th>\n",
              "      <td>Bethesda/Chevy Chase RSC</td>\n",
              "      <td>RSC</td>\n",
              "      <td>4805 Edgemoor Lane, Bethesda, Md</td>\n",
              "      <td>38.984796</td>\n",
              "      <td>-77.095858</td>\n",
              "      <td>County Wifi</td>\n",
              "    </tr>\n",
              "  </tbody>\n",
              "</table>\n",
              "<p>178 rows × 6 columns</p>\n",
              "</div>"
            ],
            "text/plain": [
              "                                    Name  ...         Type\n",
              "0                      White Oak Library  ...  County Wifi\n",
              "1    Sidney Kramer Upcounty Service ctr.  ...  County Wifi\n",
              "2                   L3 Helpdesk & Office  ...  County Wifi\n",
              "3                         OIG/ERP Office  ...  County Wifi\n",
              "4                                   F&RS  ...  County Wifi\n",
              "..                                   ...  ...          ...\n",
              "173                   Swing Office Space  ...  County Wifi\n",
              "174             HHS - 1301 Piccard Drive  ...  County Wifi\n",
              "175              Wheaton Resource Center  ...  County Wifi\n",
              "176     Colesville Highway Service Depot  ...  County Wifi\n",
              "177             Bethesda/Chevy Chase RSC  ...  County Wifi\n",
              "\n",
              "[178 rows x 6 columns]"
            ]
          },
          "metadata": {
            "tags": []
          },
          "execution_count": 81
        }
      ]
    },
    {
      "cell_type": "markdown",
      "metadata": {
        "id": "Aa4QT6qNzhEG"
      },
      "source": [
        "#### 1f.3. Xfinity Monster"
      ]
    },
    {
      "cell_type": "code",
      "metadata": {
        "colab": {
          "base_uri": "https://localhost:8080/"
        },
        "id": "Md8LENuszZZY",
        "outputId": "2818eac5-660e-4486-c321-0dcf7679df86"
      },
      "source": [
        "monster_xfinity = df_xfinity[['Full_Address','Latitude','Longitude']]\n",
        "print(monster_xfinity.head())\n",
        "print(len(monster_xfinity))"
      ],
      "execution_count": null,
      "outputs": [
        {
          "output_type": "stream",
          "text": [
            "                                        Full_Address   Latitude  Longitude\n",
            "0     19737 Frederick Rd, Germantown, Maryland 20876  39.179688 -77.236382\n",
            "1     8413 Ramsey Ave, Silver Spring, Maryland 20910  38.994217 -77.029010\n",
            "2         3502 Morningwood Dr, Olney, Maryland 20832  39.151327 -77.069516\n",
            "3  9172 Brookville Rd, Silver Spring, Maryland 20910  39.006246 -77.049362\n",
            "4    2211 Greenery Ln, Silver Spring, Maryland 20906  39.062183 -77.048984\n",
            "6076\n"
          ],
          "name": "stdout"
        }
      ]
    },
    {
      "cell_type": "code",
      "metadata": {
        "colab": {
          "base_uri": "https://localhost:8080/"
        },
        "id": "PmccPETC1ZB0",
        "outputId": "d208a8fd-8a26-4877-ea1e-04b76739ec30"
      },
      "source": [
        "monster_xfinity.columns = ['Address', 'Latitude', 'Longitude']\n",
        "print(monster_xfinity.head())"
      ],
      "execution_count": null,
      "outputs": [
        {
          "output_type": "stream",
          "text": [
            "                                             Address   Latitude  Longitude\n",
            "0     19737 Frederick Rd, Germantown, Maryland 20876  39.179688 -77.236382\n",
            "1     8413 Ramsey Ave, Silver Spring, Maryland 20910  38.994217 -77.029010\n",
            "2         3502 Morningwood Dr, Olney, Maryland 20832  39.151327 -77.069516\n",
            "3  9172 Brookville Rd, Silver Spring, Maryland 20910  39.006246 -77.049362\n",
            "4    2211 Greenery Ln, Silver Spring, Maryland 20906  39.062183 -77.048984\n"
          ],
          "name": "stdout"
        }
      ]
    },
    {
      "cell_type": "code",
      "metadata": {
        "colab": {
          "base_uri": "https://localhost:8080/",
          "height": 620
        },
        "id": "IVKe0Wr31j0T",
        "outputId": "8ad375ca-8273-4a90-ebed-6208bf6ee5c8"
      },
      "source": [
        "monster_xfinity[\"Type\"] = \"\"\n",
        "monster_xfinity[\"Type\"] = 'Xfinity Wifi'\n",
        "monster_xfinity"
      ],
      "execution_count": null,
      "outputs": [
        {
          "output_type": "stream",
          "text": [
            "/usr/local/lib/python3.7/dist-packages/ipykernel_launcher.py:1: SettingWithCopyWarning: \n",
            "A value is trying to be set on a copy of a slice from a DataFrame.\n",
            "Try using .loc[row_indexer,col_indexer] = value instead\n",
            "\n",
            "See the caveats in the documentation: https://pandas.pydata.org/pandas-docs/stable/user_guide/indexing.html#returning-a-view-versus-a-copy\n",
            "  \"\"\"Entry point for launching an IPython kernel.\n",
            "/usr/local/lib/python3.7/dist-packages/ipykernel_launcher.py:2: SettingWithCopyWarning: \n",
            "A value is trying to be set on a copy of a slice from a DataFrame.\n",
            "Try using .loc[row_indexer,col_indexer] = value instead\n",
            "\n",
            "See the caveats in the documentation: https://pandas.pydata.org/pandas-docs/stable/user_guide/indexing.html#returning-a-view-versus-a-copy\n",
            "  \n"
          ],
          "name": "stderr"
        },
        {
          "output_type": "execute_result",
          "data": {
            "text/html": [
              "<div>\n",
              "<style scoped>\n",
              "    .dataframe tbody tr th:only-of-type {\n",
              "        vertical-align: middle;\n",
              "    }\n",
              "\n",
              "    .dataframe tbody tr th {\n",
              "        vertical-align: top;\n",
              "    }\n",
              "\n",
              "    .dataframe thead th {\n",
              "        text-align: right;\n",
              "    }\n",
              "</style>\n",
              "<table border=\"1\" class=\"dataframe\">\n",
              "  <thead>\n",
              "    <tr style=\"text-align: right;\">\n",
              "      <th></th>\n",
              "      <th>Address</th>\n",
              "      <th>Latitude</th>\n",
              "      <th>Longitude</th>\n",
              "      <th>Type</th>\n",
              "    </tr>\n",
              "  </thead>\n",
              "  <tbody>\n",
              "    <tr>\n",
              "      <th>0</th>\n",
              "      <td>19737 Frederick Rd, Germantown, Maryland 20876</td>\n",
              "      <td>39.179688</td>\n",
              "      <td>-77.236382</td>\n",
              "      <td>Xfinity Wifi</td>\n",
              "    </tr>\n",
              "    <tr>\n",
              "      <th>1</th>\n",
              "      <td>8413 Ramsey Ave, Silver Spring, Maryland 20910</td>\n",
              "      <td>38.994217</td>\n",
              "      <td>-77.029010</td>\n",
              "      <td>Xfinity Wifi</td>\n",
              "    </tr>\n",
              "    <tr>\n",
              "      <th>2</th>\n",
              "      <td>3502 Morningwood Dr, Olney, Maryland 20832</td>\n",
              "      <td>39.151327</td>\n",
              "      <td>-77.069516</td>\n",
              "      <td>Xfinity Wifi</td>\n",
              "    </tr>\n",
              "    <tr>\n",
              "      <th>3</th>\n",
              "      <td>9172 Brookville Rd, Silver Spring, Maryland 20910</td>\n",
              "      <td>39.006246</td>\n",
              "      <td>-77.049362</td>\n",
              "      <td>Xfinity Wifi</td>\n",
              "    </tr>\n",
              "    <tr>\n",
              "      <th>4</th>\n",
              "      <td>2211 Greenery Ln, Silver Spring, Maryland 20906</td>\n",
              "      <td>39.062183</td>\n",
              "      <td>-77.048984</td>\n",
              "      <td>Xfinity Wifi</td>\n",
              "    </tr>\n",
              "    <tr>\n",
              "      <th>...</th>\n",
              "      <td>...</td>\n",
              "      <td>...</td>\n",
              "      <td>...</td>\n",
              "      <td>...</td>\n",
              "    </tr>\n",
              "    <tr>\n",
              "      <th>6071</th>\n",
              "      <td>8821 Brookville Rd, Silver Spring, Maryland 20910</td>\n",
              "      <td>39.000694</td>\n",
              "      <td>-77.054031</td>\n",
              "      <td>Xfinity Wifi</td>\n",
              "    </tr>\n",
              "    <tr>\n",
              "      <th>6072</th>\n",
              "      <td>12623 Wisteria Dr, Germantown, Maryland 20874</td>\n",
              "      <td>39.172108</td>\n",
              "      <td>-77.261473</td>\n",
              "      <td>Xfinity Wifi</td>\n",
              "    </tr>\n",
              "    <tr>\n",
              "      <th>6073</th>\n",
              "      <td>2025 E East West Hwy, Silver Spring, Maryland ...</td>\n",
              "      <td>39.003109</td>\n",
              "      <td>-77.029648</td>\n",
              "      <td>Xfinity Wifi</td>\n",
              "    </tr>\n",
              "    <tr>\n",
              "      <th>6074</th>\n",
              "      <td>210 Lincoln Ave, Rockville, Maryland 20850</td>\n",
              "      <td>39.092136</td>\n",
              "      <td>-77.148363</td>\n",
              "      <td>Xfinity Wifi</td>\n",
              "    </tr>\n",
              "    <tr>\n",
              "      <th>6075</th>\n",
              "      <td>8584 Freyman Dr, Chevy Chase, Maryland 20815</td>\n",
              "      <td>38.996509</td>\n",
              "      <td>-77.058849</td>\n",
              "      <td>Xfinity Wifi</td>\n",
              "    </tr>\n",
              "  </tbody>\n",
              "</table>\n",
              "<p>6076 rows × 4 columns</p>\n",
              "</div>"
            ],
            "text/plain": [
              "                                                Address  ...          Type\n",
              "0        19737 Frederick Rd, Germantown, Maryland 20876  ...  Xfinity Wifi\n",
              "1        8413 Ramsey Ave, Silver Spring, Maryland 20910  ...  Xfinity Wifi\n",
              "2            3502 Morningwood Dr, Olney, Maryland 20832  ...  Xfinity Wifi\n",
              "3     9172 Brookville Rd, Silver Spring, Maryland 20910  ...  Xfinity Wifi\n",
              "4       2211 Greenery Ln, Silver Spring, Maryland 20906  ...  Xfinity Wifi\n",
              "...                                                 ...  ...           ...\n",
              "6071  8821 Brookville Rd, Silver Spring, Maryland 20910  ...  Xfinity Wifi\n",
              "6072      12623 Wisteria Dr, Germantown, Maryland 20874  ...  Xfinity Wifi\n",
              "6073  2025 E East West Hwy, Silver Spring, Maryland ...  ...  Xfinity Wifi\n",
              "6074         210 Lincoln Ave, Rockville, Maryland 20850  ...  Xfinity Wifi\n",
              "6075       8584 Freyman Dr, Chevy Chase, Maryland 20815  ...  Xfinity Wifi\n",
              "\n",
              "[6076 rows x 4 columns]"
            ]
          },
          "metadata": {
            "tags": []
          },
          "execution_count": 84
        }
      ]
    },
    {
      "cell_type": "code",
      "metadata": {
        "colab": {
          "base_uri": "https://localhost:8080/",
          "height": 406
        },
        "id": "niQSElkU1rgF",
        "outputId": "6ef8bcb0-79e1-41ef-bc10-911964b8e797"
      },
      "source": [
        "monster_xfinity[\"Category\"] = \"\"\n",
        "monster_xfinity[\"Name\"] = \"\"\n",
        "\n",
        "monster_xfinity[\"Category\"] = 'Xfinity'\n",
        "monster_xfinity[\"Name\"] = \"Xfinity\"\n",
        "\n",
        "monster_xfinity"
      ],
      "execution_count": null,
      "outputs": [
        {
          "output_type": "execute_result",
          "data": {
            "text/html": [
              "<div>\n",
              "<style scoped>\n",
              "    .dataframe tbody tr th:only-of-type {\n",
              "        vertical-align: middle;\n",
              "    }\n",
              "\n",
              "    .dataframe tbody tr th {\n",
              "        vertical-align: top;\n",
              "    }\n",
              "\n",
              "    .dataframe thead th {\n",
              "        text-align: right;\n",
              "    }\n",
              "</style>\n",
              "<table border=\"1\" class=\"dataframe\">\n",
              "  <thead>\n",
              "    <tr style=\"text-align: right;\">\n",
              "      <th></th>\n",
              "      <th>Address</th>\n",
              "      <th>Latitude</th>\n",
              "      <th>Longitude</th>\n",
              "      <th>Type</th>\n",
              "      <th>Category</th>\n",
              "      <th>Name</th>\n",
              "    </tr>\n",
              "  </thead>\n",
              "  <tbody>\n",
              "    <tr>\n",
              "      <th>0</th>\n",
              "      <td>19737 Frederick Rd, Germantown, Maryland 20876</td>\n",
              "      <td>39.179688</td>\n",
              "      <td>-77.236382</td>\n",
              "      <td>Xfinity Wifi</td>\n",
              "      <td>Xfinity</td>\n",
              "      <td>Xfinity</td>\n",
              "    </tr>\n",
              "    <tr>\n",
              "      <th>1</th>\n",
              "      <td>8413 Ramsey Ave, Silver Spring, Maryland 20910</td>\n",
              "      <td>38.994217</td>\n",
              "      <td>-77.029010</td>\n",
              "      <td>Xfinity Wifi</td>\n",
              "      <td>Xfinity</td>\n",
              "      <td>Xfinity</td>\n",
              "    </tr>\n",
              "    <tr>\n",
              "      <th>2</th>\n",
              "      <td>3502 Morningwood Dr, Olney, Maryland 20832</td>\n",
              "      <td>39.151327</td>\n",
              "      <td>-77.069516</td>\n",
              "      <td>Xfinity Wifi</td>\n",
              "      <td>Xfinity</td>\n",
              "      <td>Xfinity</td>\n",
              "    </tr>\n",
              "    <tr>\n",
              "      <th>3</th>\n",
              "      <td>9172 Brookville Rd, Silver Spring, Maryland 20910</td>\n",
              "      <td>39.006246</td>\n",
              "      <td>-77.049362</td>\n",
              "      <td>Xfinity Wifi</td>\n",
              "      <td>Xfinity</td>\n",
              "      <td>Xfinity</td>\n",
              "    </tr>\n",
              "    <tr>\n",
              "      <th>4</th>\n",
              "      <td>2211 Greenery Ln, Silver Spring, Maryland 20906</td>\n",
              "      <td>39.062183</td>\n",
              "      <td>-77.048984</td>\n",
              "      <td>Xfinity Wifi</td>\n",
              "      <td>Xfinity</td>\n",
              "      <td>Xfinity</td>\n",
              "    </tr>\n",
              "    <tr>\n",
              "      <th>...</th>\n",
              "      <td>...</td>\n",
              "      <td>...</td>\n",
              "      <td>...</td>\n",
              "      <td>...</td>\n",
              "      <td>...</td>\n",
              "      <td>...</td>\n",
              "    </tr>\n",
              "    <tr>\n",
              "      <th>6071</th>\n",
              "      <td>8821 Brookville Rd, Silver Spring, Maryland 20910</td>\n",
              "      <td>39.000694</td>\n",
              "      <td>-77.054031</td>\n",
              "      <td>Xfinity Wifi</td>\n",
              "      <td>Xfinity</td>\n",
              "      <td>Xfinity</td>\n",
              "    </tr>\n",
              "    <tr>\n",
              "      <th>6072</th>\n",
              "      <td>12623 Wisteria Dr, Germantown, Maryland 20874</td>\n",
              "      <td>39.172108</td>\n",
              "      <td>-77.261473</td>\n",
              "      <td>Xfinity Wifi</td>\n",
              "      <td>Xfinity</td>\n",
              "      <td>Xfinity</td>\n",
              "    </tr>\n",
              "    <tr>\n",
              "      <th>6073</th>\n",
              "      <td>2025 E East West Hwy, Silver Spring, Maryland ...</td>\n",
              "      <td>39.003109</td>\n",
              "      <td>-77.029648</td>\n",
              "      <td>Xfinity Wifi</td>\n",
              "      <td>Xfinity</td>\n",
              "      <td>Xfinity</td>\n",
              "    </tr>\n",
              "    <tr>\n",
              "      <th>6074</th>\n",
              "      <td>210 Lincoln Ave, Rockville, Maryland 20850</td>\n",
              "      <td>39.092136</td>\n",
              "      <td>-77.148363</td>\n",
              "      <td>Xfinity Wifi</td>\n",
              "      <td>Xfinity</td>\n",
              "      <td>Xfinity</td>\n",
              "    </tr>\n",
              "    <tr>\n",
              "      <th>6075</th>\n",
              "      <td>8584 Freyman Dr, Chevy Chase, Maryland 20815</td>\n",
              "      <td>38.996509</td>\n",
              "      <td>-77.058849</td>\n",
              "      <td>Xfinity Wifi</td>\n",
              "      <td>Xfinity</td>\n",
              "      <td>Xfinity</td>\n",
              "    </tr>\n",
              "  </tbody>\n",
              "</table>\n",
              "<p>6076 rows × 6 columns</p>\n",
              "</div>"
            ],
            "text/plain": [
              "                                                Address  ...     Name\n",
              "0        19737 Frederick Rd, Germantown, Maryland 20876  ...  Xfinity\n",
              "1        8413 Ramsey Ave, Silver Spring, Maryland 20910  ...  Xfinity\n",
              "2            3502 Morningwood Dr, Olney, Maryland 20832  ...  Xfinity\n",
              "3     9172 Brookville Rd, Silver Spring, Maryland 20910  ...  Xfinity\n",
              "4       2211 Greenery Ln, Silver Spring, Maryland 20906  ...  Xfinity\n",
              "...                                                 ...  ...      ...\n",
              "6071  8821 Brookville Rd, Silver Spring, Maryland 20910  ...  Xfinity\n",
              "6072      12623 Wisteria Dr, Germantown, Maryland 20874  ...  Xfinity\n",
              "6073  2025 E East West Hwy, Silver Spring, Maryland ...  ...  Xfinity\n",
              "6074         210 Lincoln Ave, Rockville, Maryland 20850  ...  Xfinity\n",
              "6075       8584 Freyman Dr, Chevy Chase, Maryland 20815  ...  Xfinity\n",
              "\n",
              "[6076 rows x 6 columns]"
            ]
          },
          "metadata": {
            "tags": []
          },
          "execution_count": 85
        }
      ]
    },
    {
      "cell_type": "code",
      "metadata": {
        "colab": {
          "base_uri": "https://localhost:8080/",
          "height": 197
        },
        "id": "C6Gd9CbQ2Z0H",
        "outputId": "5cfedd8f-fc03-40d1-83f0-44591a81c2ea"
      },
      "source": [
        "monster_2= pd.concat([monster_school,monster_county],ignore_index=True)\n",
        "#df = pd.merge(merged_df, df3, on=\"column1\")\n",
        "monster_2.tail()"
      ],
      "execution_count": null,
      "outputs": [
        {
          "output_type": "execute_result",
          "data": {
            "text/html": [
              "<div>\n",
              "<style scoped>\n",
              "    .dataframe tbody tr th:only-of-type {\n",
              "        vertical-align: middle;\n",
              "    }\n",
              "\n",
              "    .dataframe tbody tr th {\n",
              "        vertical-align: top;\n",
              "    }\n",
              "\n",
              "    .dataframe thead th {\n",
              "        text-align: right;\n",
              "    }\n",
              "</style>\n",
              "<table border=\"1\" class=\"dataframe\">\n",
              "  <thead>\n",
              "    <tr style=\"text-align: right;\">\n",
              "      <th></th>\n",
              "      <th>Name</th>\n",
              "      <th>Address</th>\n",
              "      <th>Category</th>\n",
              "      <th>Latitude</th>\n",
              "      <th>Longitude</th>\n",
              "      <th>Type</th>\n",
              "    </tr>\n",
              "  </thead>\n",
              "  <tbody>\n",
              "    <tr>\n",
              "      <th>367</th>\n",
              "      <td>Swing Office Space</td>\n",
              "      <td>1451 Seven Locks Road, Rockville, MD</td>\n",
              "      <td>DGS</td>\n",
              "      <td>39.070994</td>\n",
              "      <td>-77.162760</td>\n",
              "      <td>County Wifi</td>\n",
              "    </tr>\n",
              "    <tr>\n",
              "      <th>368</th>\n",
              "      <td>HHS - 1301 Piccard Drive</td>\n",
              "      <td>1301 Piccard Drive, Rockville, MD</td>\n",
              "      <td>HHS</td>\n",
              "      <td>39.102672</td>\n",
              "      <td>-77.177593</td>\n",
              "      <td>County Wifi</td>\n",
              "    </tr>\n",
              "    <tr>\n",
              "      <th>369</th>\n",
              "      <td>Wheaton Resource Center</td>\n",
              "      <td>11435 Grandview Ave, Wheaton, MD</td>\n",
              "      <td>FRS</td>\n",
              "      <td>39.042763</td>\n",
              "      <td>-77.053153</td>\n",
              "      <td>County Wifi</td>\n",
              "    </tr>\n",
              "    <tr>\n",
              "      <th>370</th>\n",
              "      <td>Colesville Highway Service Depot</td>\n",
              "      <td>14335 Cape May Road, Silver Spring, MD 20904</td>\n",
              "      <td>DOT</td>\n",
              "      <td>39.090311</td>\n",
              "      <td>-76.996699</td>\n",
              "      <td>County Wifi</td>\n",
              "    </tr>\n",
              "    <tr>\n",
              "      <th>371</th>\n",
              "      <td>Bethesda/Chevy Chase RSC</td>\n",
              "      <td>4805 Edgemoor Lane, Bethesda, Md</td>\n",
              "      <td>RSC</td>\n",
              "      <td>38.984796</td>\n",
              "      <td>-77.095858</td>\n",
              "      <td>County Wifi</td>\n",
              "    </tr>\n",
              "  </tbody>\n",
              "</table>\n",
              "</div>"
            ],
            "text/plain": [
              "                                 Name  ...         Type\n",
              "367                Swing Office Space  ...  County Wifi\n",
              "368          HHS - 1301 Piccard Drive  ...  County Wifi\n",
              "369           Wheaton Resource Center  ...  County Wifi\n",
              "370  Colesville Highway Service Depot  ...  County Wifi\n",
              "371          Bethesda/Chevy Chase RSC  ...  County Wifi\n",
              "\n",
              "[5 rows x 6 columns]"
            ]
          },
          "metadata": {
            "tags": []
          },
          "execution_count": 86
        }
      ]
    },
    {
      "cell_type": "code",
      "metadata": {
        "colab": {
          "base_uri": "https://localhost:8080/",
          "height": 446
        },
        "id": "P5VHs-H93Wqc",
        "outputId": "0027c526-5a3b-4ed0-c491-f505677682ec"
      },
      "source": [
        "monster_final = pd.concat([monster_2,monster_xfinity],ignore_index=True)\n",
        "print(monster_final)\n",
        "monster_final.head()"
      ],
      "execution_count": null,
      "outputs": [
        {
          "output_type": "stream",
          "text": [
            "                                  Name  ...          Type\n",
            "0     A Mario Loiederman Middle School  ...        School\n",
            "1          Albert Einstein High School  ...        School\n",
            "2             Arcola Elementary School  ...        School\n",
            "3                 Argyle Middle School  ...        School\n",
            "4          Ashburton Elementary School  ...        School\n",
            "...                                ...  ...           ...\n",
            "6443                           Xfinity  ...  Xfinity Wifi\n",
            "6444                           Xfinity  ...  Xfinity Wifi\n",
            "6445                           Xfinity  ...  Xfinity Wifi\n",
            "6446                           Xfinity  ...  Xfinity Wifi\n",
            "6447                           Xfinity  ...  Xfinity Wifi\n",
            "\n",
            "[6448 rows x 6 columns]\n"
          ],
          "name": "stdout"
        },
        {
          "output_type": "execute_result",
          "data": {
            "text/html": [
              "<div>\n",
              "<style scoped>\n",
              "    .dataframe tbody tr th:only-of-type {\n",
              "        vertical-align: middle;\n",
              "    }\n",
              "\n",
              "    .dataframe tbody tr th {\n",
              "        vertical-align: top;\n",
              "    }\n",
              "\n",
              "    .dataframe thead th {\n",
              "        text-align: right;\n",
              "    }\n",
              "</style>\n",
              "<table border=\"1\" class=\"dataframe\">\n",
              "  <thead>\n",
              "    <tr style=\"text-align: right;\">\n",
              "      <th></th>\n",
              "      <th>Name</th>\n",
              "      <th>Address</th>\n",
              "      <th>Category</th>\n",
              "      <th>Latitude</th>\n",
              "      <th>Longitude</th>\n",
              "      <th>Type</th>\n",
              "    </tr>\n",
              "  </thead>\n",
              "  <tbody>\n",
              "    <tr>\n",
              "      <th>0</th>\n",
              "      <td>A Mario Loiederman Middle School</td>\n",
              "      <td>12701 Goodhill Rd</td>\n",
              "      <td>MIDDLE SCHOOLS</td>\n",
              "      <td>39.065306</td>\n",
              "      <td>-77.070835</td>\n",
              "      <td>School</td>\n",
              "    </tr>\n",
              "    <tr>\n",
              "      <th>1</th>\n",
              "      <td>Albert Einstein High School</td>\n",
              "      <td>11135 Newport Mill Rd</td>\n",
              "      <td>HIGH SCHOOLS</td>\n",
              "      <td>39.039616</td>\n",
              "      <td>-77.067036</td>\n",
              "      <td>School</td>\n",
              "    </tr>\n",
              "    <tr>\n",
              "      <th>2</th>\n",
              "      <td>Arcola Elementary School</td>\n",
              "      <td>1820 Franwall Ave</td>\n",
              "      <td>ELEMENTARY SCHOOLS</td>\n",
              "      <td>39.045559</td>\n",
              "      <td>-77.039388</td>\n",
              "      <td>School</td>\n",
              "    </tr>\n",
              "    <tr>\n",
              "      <th>3</th>\n",
              "      <td>Argyle Middle School</td>\n",
              "      <td>2400 Bel Pre Rd</td>\n",
              "      <td>MIDDLE SCHOOLS</td>\n",
              "      <td>39.089521</td>\n",
              "      <td>-77.048924</td>\n",
              "      <td>School</td>\n",
              "    </tr>\n",
              "    <tr>\n",
              "      <th>4</th>\n",
              "      <td>Ashburton Elementary School</td>\n",
              "      <td>6314 Lone Oak Dr</td>\n",
              "      <td>ELEMENTARY SCHOOLS</td>\n",
              "      <td>39.019444</td>\n",
              "      <td>-77.127721</td>\n",
              "      <td>School</td>\n",
              "    </tr>\n",
              "  </tbody>\n",
              "</table>\n",
              "</div>"
            ],
            "text/plain": [
              "                               Name                Address  ...  Longitude    Type\n",
              "0  A Mario Loiederman Middle School      12701 Goodhill Rd  ... -77.070835  School\n",
              "1       Albert Einstein High School  11135 Newport Mill Rd  ... -77.067036  School\n",
              "2          Arcola Elementary School      1820 Franwall Ave  ... -77.039388  School\n",
              "3              Argyle Middle School        2400 Bel Pre Rd  ... -77.048924  School\n",
              "4       Ashburton Elementary School       6314 Lone Oak Dr  ... -77.127721  School\n",
              "\n",
              "[5 rows x 6 columns]"
            ]
          },
          "metadata": {
            "tags": []
          },
          "execution_count": 87
        }
      ]
    },
    {
      "cell_type": "code",
      "metadata": {
        "id": "128aYWwt3s0P"
      },
      "source": [
        "monster_final.to_excel(\"monster.xlsx\", sheet_name='monster')  "
      ],
      "execution_count": null,
      "outputs": []
    },
    {
      "cell_type": "markdown",
      "metadata": {
        "id": "G5iySBDeaNeI"
      },
      "source": [
        "#### 1f.4. ANOVA School Dataset"
      ]
    },
    {
      "cell_type": "code",
      "metadata": {
        "colab": {
          "base_uri": "https://localhost:8080/"
        },
        "id": "gK6EqFxtaM7u",
        "outputId": "e91c3cce-a5ad-4dc0-d8e3-fc77cc5bc834"
      },
      "source": [
        "anova_school = df_school_final[['category','FARMs_percentage', 'zip_code']]\n",
        "print(len(anova_school))"
      ],
      "execution_count": null,
      "outputs": [
        {
          "output_type": "stream",
          "text": [
            "194\n"
          ],
          "name": "stdout"
        }
      ]
    },
    {
      "cell_type": "code",
      "metadata": {
        "colab": {
          "base_uri": "https://localhost:8080/",
          "height": 406
        },
        "id": "65309BjVb-FA",
        "outputId": "8e3742c4-901a-4b64-a548-5c02805f9ff6"
      },
      "source": [
        "anova_school"
      ],
      "execution_count": null,
      "outputs": [
        {
          "output_type": "execute_result",
          "data": {
            "text/html": [
              "<div>\n",
              "<style scoped>\n",
              "    .dataframe tbody tr th:only-of-type {\n",
              "        vertical-align: middle;\n",
              "    }\n",
              "\n",
              "    .dataframe tbody tr th {\n",
              "        vertical-align: top;\n",
              "    }\n",
              "\n",
              "    .dataframe thead th {\n",
              "        text-align: right;\n",
              "    }\n",
              "</style>\n",
              "<table border=\"1\" class=\"dataframe\">\n",
              "  <thead>\n",
              "    <tr style=\"text-align: right;\">\n",
              "      <th></th>\n",
              "      <th>category</th>\n",
              "      <th>FARMs_percentage</th>\n",
              "      <th>zip_code</th>\n",
              "    </tr>\n",
              "  </thead>\n",
              "  <tbody>\n",
              "    <tr>\n",
              "      <th>0</th>\n",
              "      <td>MIDDLE SCHOOLS</td>\n",
              "      <td>54.854855</td>\n",
              "      <td>20906</td>\n",
              "    </tr>\n",
              "    <tr>\n",
              "      <th>1</th>\n",
              "      <td>HIGH SCHOOLS</td>\n",
              "      <td>35.478548</td>\n",
              "      <td>20895</td>\n",
              "    </tr>\n",
              "    <tr>\n",
              "      <th>2</th>\n",
              "      <td>ELEMENTARY SCHOOLS</td>\n",
              "      <td>73.663102</td>\n",
              "      <td>20902</td>\n",
              "    </tr>\n",
              "    <tr>\n",
              "      <th>3</th>\n",
              "      <td>MIDDLE SCHOOLS</td>\n",
              "      <td>56.054688</td>\n",
              "      <td>20906</td>\n",
              "    </tr>\n",
              "    <tr>\n",
              "      <th>4</th>\n",
              "      <td>ELEMENTARY SCHOOLS</td>\n",
              "      <td>10.845987</td>\n",
              "      <td>20817</td>\n",
              "    </tr>\n",
              "    <tr>\n",
              "      <th>...</th>\n",
              "      <td>...</td>\n",
              "      <td>...</td>\n",
              "      <td>...</td>\n",
              "    </tr>\n",
              "    <tr>\n",
              "      <th>189</th>\n",
              "      <td>HIGH SCHOOLS</td>\n",
              "      <td>4.309587</td>\n",
              "      <td>20854</td>\n",
              "    </tr>\n",
              "    <tr>\n",
              "      <th>190</th>\n",
              "      <td>ELEMENTARY SCHOOLS</td>\n",
              "      <td>1.540832</td>\n",
              "      <td>20816</td>\n",
              "    </tr>\n",
              "    <tr>\n",
              "      <th>191</th>\n",
              "      <td>ELEMENTARY SCHOOLS</td>\n",
              "      <td>20.000000</td>\n",
              "      <td>20879</td>\n",
              "    </tr>\n",
              "    <tr>\n",
              "      <th>192</th>\n",
              "      <td>ELEMENTARY SCHOOLS</td>\n",
              "      <td>22.423146</td>\n",
              "      <td>20910</td>\n",
              "    </tr>\n",
              "    <tr>\n",
              "      <th>193</th>\n",
              "      <td>ELEMENTARY SCHOOLS</td>\n",
              "      <td>2.564103</td>\n",
              "      <td>20817</td>\n",
              "    </tr>\n",
              "  </tbody>\n",
              "</table>\n",
              "<p>194 rows × 3 columns</p>\n",
              "</div>"
            ],
            "text/plain": [
              "               category  FARMs_percentage  zip_code\n",
              "0        MIDDLE SCHOOLS         54.854855     20906\n",
              "1          HIGH SCHOOLS         35.478548     20895\n",
              "2    ELEMENTARY SCHOOLS         73.663102     20902\n",
              "3        MIDDLE SCHOOLS         56.054688     20906\n",
              "4    ELEMENTARY SCHOOLS         10.845987     20817\n",
              "..                  ...               ...       ...\n",
              "189        HIGH SCHOOLS          4.309587     20854\n",
              "190  ELEMENTARY SCHOOLS          1.540832     20816\n",
              "191  ELEMENTARY SCHOOLS         20.000000     20879\n",
              "192  ELEMENTARY SCHOOLS         22.423146     20910\n",
              "193  ELEMENTARY SCHOOLS          2.564103     20817\n",
              "\n",
              "[194 rows x 3 columns]"
            ]
          },
          "metadata": {
            "tags": []
          },
          "execution_count": 90
        }
      ]
    },
    {
      "cell_type": "code",
      "metadata": {
        "colab": {
          "base_uri": "https://localhost:8080/"
        },
        "id": "i5bDezkzpk5Y",
        "outputId": "859a640b-7365-4d8c-db13-150dbb00c27f"
      },
      "source": [
        "anova_school['zip_code'] = anova_school['zip_code'].astype(str)\n"
      ],
      "execution_count": null,
      "outputs": [
        {
          "output_type": "stream",
          "text": [
            "/usr/local/lib/python3.7/dist-packages/ipykernel_launcher.py:1: SettingWithCopyWarning: \n",
            "A value is trying to be set on a copy of a slice from a DataFrame.\n",
            "Try using .loc[row_indexer,col_indexer] = value instead\n",
            "\n",
            "See the caveats in the documentation: https://pandas.pydata.org/pandas-docs/stable/user_guide/indexing.html#returning-a-view-versus-a-copy\n",
            "  \"\"\"Entry point for launching an IPython kernel.\n"
          ],
          "name": "stderr"
        }
      ]
    },
    {
      "cell_type": "code",
      "metadata": {
        "colab": {
          "base_uri": "https://localhost:8080/"
        },
        "id": "sCLQLnq2pqXB",
        "outputId": "15d5cf2f-8360-40a8-ffaf-667922934558"
      },
      "source": [
        "anova_school['zip_code'].dtypes"
      ],
      "execution_count": null,
      "outputs": [
        {
          "output_type": "execute_result",
          "data": {
            "text/plain": [
              "dtype('O')"
            ]
          },
          "metadata": {
            "tags": []
          },
          "execution_count": 92
        }
      ]
    },
    {
      "cell_type": "code",
      "metadata": {
        "colab": {
          "base_uri": "https://localhost:8080/",
          "height": 35
        },
        "id": "QmEtWiSJI6n0",
        "outputId": "f1fc25ad-eac4-40a4-d0c9-f28e4c086a32"
      },
      "source": [
        "silver_anova_school = anova_school[(anova_school[\"zip_code\"]== '20815') | (anova_school[\"zip_code\"]== '20901') | (anova_school[\"zip_code\"]== '20902') | (anova_school[\"zip_code\"]== '20903') | (anova_school[\"zip_code\"]== '20907') | (anova_school[\"zip_code\"]== '20910') | (anova_school[\"zip_code\"]== '20911') | (anova_school[\"zip_code\"]== '20912') | (anova_school[\"zip_code\"]== '20918')]\n",
        "\n",
        "'''\n",
        "20815\n",
        "20901\n",
        "20902\n",
        "20903\n",
        "20907\n",
        "20910\n",
        "20911\n",
        "20912\n",
        "20918\n",
        "'''"
      ],
      "execution_count": null,
      "outputs": [
        {
          "output_type": "execute_result",
          "data": {
            "application/vnd.google.colaboratory.intrinsic+json": {
              "type": "string"
            },
            "text/plain": [
              "'\\n20815\\n20901\\n20902\\n20903\\n20907\\n20910\\n20911\\n20912\\n20918\\n'"
            ]
          },
          "metadata": {
            "tags": []
          },
          "execution_count": 153
        }
      ]
    },
    {
      "cell_type": "code",
      "metadata": {
        "colab": {
          "base_uri": "https://localhost:8080/",
          "height": 1000
        },
        "id": "gw4HA2KTJo9E",
        "outputId": "00d04129-8b3e-4ec7-dde4-d1d6a12ded43"
      },
      "source": [
        "silver_anova_school"
      ],
      "execution_count": null,
      "outputs": [
        {
          "output_type": "execute_result",
          "data": {
            "text/html": [
              "<div>\n",
              "<style scoped>\n",
              "    .dataframe tbody tr th:only-of-type {\n",
              "        vertical-align: middle;\n",
              "    }\n",
              "\n",
              "    .dataframe tbody tr th {\n",
              "        vertical-align: top;\n",
              "    }\n",
              "\n",
              "    .dataframe thead th {\n",
              "        text-align: right;\n",
              "    }\n",
              "</style>\n",
              "<table border=\"1\" class=\"dataframe\">\n",
              "  <thead>\n",
              "    <tr style=\"text-align: right;\">\n",
              "      <th></th>\n",
              "      <th>category</th>\n",
              "      <th>FARMs_percentage</th>\n",
              "      <th>zip_code</th>\n",
              "    </tr>\n",
              "  </thead>\n",
              "  <tbody>\n",
              "    <tr>\n",
              "      <th>2</th>\n",
              "      <td>ELEMENTARY SCHOOLS</td>\n",
              "      <td>73.663102</td>\n",
              "      <td>20902</td>\n",
              "    </tr>\n",
              "    <tr>\n",
              "      <th>79</th>\n",
              "      <td>ELEMENTARY SCHOOLS</td>\n",
              "      <td>87.414188</td>\n",
              "      <td>20903</td>\n",
              "    </tr>\n",
              "    <tr>\n",
              "      <th>20</th>\n",
              "      <td>ELEMENTARY SCHOOLS</td>\n",
              "      <td>62.975779</td>\n",
              "      <td>20901</td>\n",
              "    </tr>\n",
              "    <tr>\n",
              "      <th>29</th>\n",
              "      <td>ELEMENTARY SCHOOLS</td>\n",
              "      <td>16.952790</td>\n",
              "      <td>20815</td>\n",
              "    </tr>\n",
              "    <tr>\n",
              "      <th>35</th>\n",
              "      <td>MIDDLE SCHOOLS</td>\n",
              "      <td>63.035019</td>\n",
              "      <td>20902</td>\n",
              "    </tr>\n",
              "    <tr>\n",
              "      <th>39</th>\n",
              "      <td>ELEMENTARY SCHOOLS</td>\n",
              "      <td>67.326733</td>\n",
              "      <td>20903</td>\n",
              "    </tr>\n",
              "    <tr>\n",
              "      <th>48</th>\n",
              "      <td>ELEMENTARY SCHOOLS</td>\n",
              "      <td>49.899396</td>\n",
              "      <td>20910</td>\n",
              "    </tr>\n",
              "    <tr>\n",
              "      <th>49</th>\n",
              "      <td>MIDDLE SCHOOLS</td>\n",
              "      <td>50.198020</td>\n",
              "      <td>20901</td>\n",
              "    </tr>\n",
              "    <tr>\n",
              "      <th>56</th>\n",
              "      <td>ELEMENTARY SCHOOLS</td>\n",
              "      <td>30.331126</td>\n",
              "      <td>20901</td>\n",
              "    </tr>\n",
              "    <tr>\n",
              "      <th>59</th>\n",
              "      <td>MIDDLE SCHOOLS</td>\n",
              "      <td>57.071713</td>\n",
              "      <td>20903</td>\n",
              "    </tr>\n",
              "    <tr>\n",
              "      <th>67</th>\n",
              "      <td>ELEMENTARY SCHOOLS</td>\n",
              "      <td>55.968689</td>\n",
              "      <td>20902</td>\n",
              "    </tr>\n",
              "    <tr>\n",
              "      <th>68</th>\n",
              "      <td>ELEMENTARY SCHOOLS</td>\n",
              "      <td>56.317204</td>\n",
              "      <td>20902</td>\n",
              "    </tr>\n",
              "    <tr>\n",
              "      <th>75</th>\n",
              "      <td>ELEMENTARY SCHOOLS</td>\n",
              "      <td>76.576577</td>\n",
              "      <td>20902</td>\n",
              "    </tr>\n",
              "    <tr>\n",
              "      <th>76</th>\n",
              "      <td>ELEMENTARY SCHOOLS</td>\n",
              "      <td>43.317972</td>\n",
              "      <td>20901</td>\n",
              "    </tr>\n",
              "    <tr>\n",
              "      <th>80</th>\n",
              "      <td>HIGH SCHOOLS</td>\n",
              "      <td>47.165658</td>\n",
              "      <td>20902</td>\n",
              "    </tr>\n",
              "    <tr>\n",
              "      <th>86</th>\n",
              "      <td>ELEMENTARY SCHOOLS</td>\n",
              "      <td>87.448560</td>\n",
              "      <td>20902</td>\n",
              "    </tr>\n",
              "    <tr>\n",
              "      <th>102</th>\n",
              "      <td>HIGH SCHOOLS</td>\n",
              "      <td>32.330127</td>\n",
              "      <td>20901</td>\n",
              "    </tr>\n",
              "    <tr>\n",
              "      <th>103</th>\n",
              "      <td>ELEMENTARY SCHOOLS</td>\n",
              "      <td>58.635394</td>\n",
              "      <td>20901</td>\n",
              "    </tr>\n",
              "    <tr>\n",
              "      <th>106</th>\n",
              "      <td>ELEMENTARY SCHOOLS</td>\n",
              "      <td>87.029289</td>\n",
              "      <td>20903</td>\n",
              "    </tr>\n",
              "    <tr>\n",
              "      <th>109</th>\n",
              "      <td>ELEMENTARY SCHOOLS</td>\n",
              "      <td>18.918919</td>\n",
              "      <td>20815</td>\n",
              "    </tr>\n",
              "    <tr>\n",
              "      <th>111</th>\n",
              "      <td>HIGH SCHOOLS</td>\n",
              "      <td>46.703601</td>\n",
              "      <td>20901</td>\n",
              "    </tr>\n",
              "    <tr>\n",
              "      <th>112</th>\n",
              "      <td>ELEMENTARY SCHOOLS</td>\n",
              "      <td>69.976359</td>\n",
              "      <td>20901</td>\n",
              "    </tr>\n",
              "    <tr>\n",
              "      <th>113</th>\n",
              "      <td>ELEMENTARY SCHOOLS</td>\n",
              "      <td>30.508475</td>\n",
              "      <td>20902</td>\n",
              "    </tr>\n",
              "    <tr>\n",
              "      <th>117</th>\n",
              "      <td>ELEMENTARY SCHOOLS</td>\n",
              "      <td>44.794189</td>\n",
              "      <td>20901</td>\n",
              "    </tr>\n",
              "    <tr>\n",
              "      <th>118</th>\n",
              "      <td>ELEMENTARY SCHOOLS</td>\n",
              "      <td>25.692308</td>\n",
              "      <td>20912</td>\n",
              "    </tr>\n",
              "    <tr>\n",
              "      <th>130</th>\n",
              "      <td>ELEMENTARY SCHOOLS</td>\n",
              "      <td>25.000000</td>\n",
              "      <td>20815</td>\n",
              "    </tr>\n",
              "    <tr>\n",
              "      <th>135</th>\n",
              "      <td>ELEMENTARY SCHOOLS</td>\n",
              "      <td>79.096774</td>\n",
              "      <td>20912</td>\n",
              "    </tr>\n",
              "    <tr>\n",
              "      <th>138</th>\n",
              "      <td>ELEMENTARY SCHOOLS</td>\n",
              "      <td>67.842324</td>\n",
              "      <td>20903</td>\n",
              "    </tr>\n",
              "    <tr>\n",
              "      <th>139</th>\n",
              "      <td>ELEMENTARY SCHOOLS</td>\n",
              "      <td>26.315789</td>\n",
              "      <td>20910</td>\n",
              "    </tr>\n",
              "    <tr>\n",
              "      <th>149</th>\n",
              "      <td>MIDDLE SCHOOLS</td>\n",
              "      <td>39.809193</td>\n",
              "      <td>20910</td>\n",
              "    </tr>\n",
              "    <tr>\n",
              "      <th>150</th>\n",
              "      <td>ELEMENTARY SCHOOLS</td>\n",
              "      <td>8.100147</td>\n",
              "      <td>20910</td>\n",
              "    </tr>\n",
              "    <tr>\n",
              "      <th>151</th>\n",
              "      <td>MIDDLE SCHOOLS</td>\n",
              "      <td>41.828255</td>\n",
              "      <td>20902</td>\n",
              "    </tr>\n",
              "    <tr>\n",
              "      <th>152</th>\n",
              "      <td>ELEMENTARY SCHOOLS</td>\n",
              "      <td>7.388316</td>\n",
              "      <td>20815</td>\n",
              "    </tr>\n",
              "    <tr>\n",
              "      <th>162</th>\n",
              "      <td>ELEMENTARY SCHOOLS</td>\n",
              "      <td>27.079935</td>\n",
              "      <td>20912</td>\n",
              "    </tr>\n",
              "    <tr>\n",
              "      <th>163</th>\n",
              "      <td>MIDDLE SCHOOLS</td>\n",
              "      <td>26.161790</td>\n",
              "      <td>20910</td>\n",
              "    </tr>\n",
              "    <tr>\n",
              "      <th>192</th>\n",
              "      <td>ELEMENTARY SCHOOLS</td>\n",
              "      <td>22.423146</td>\n",
              "      <td>20910</td>\n",
              "    </tr>\n",
              "  </tbody>\n",
              "</table>\n",
              "</div>"
            ],
            "text/plain": [
              "               category  FARMs_percentage zip_code\n",
              "2    ELEMENTARY SCHOOLS         73.663102    20902\n",
              "79   ELEMENTARY SCHOOLS         87.414188    20903\n",
              "20   ELEMENTARY SCHOOLS         62.975779    20901\n",
              "29   ELEMENTARY SCHOOLS         16.952790    20815\n",
              "35       MIDDLE SCHOOLS         63.035019    20902\n",
              "39   ELEMENTARY SCHOOLS         67.326733    20903\n",
              "48   ELEMENTARY SCHOOLS         49.899396    20910\n",
              "49       MIDDLE SCHOOLS         50.198020    20901\n",
              "56   ELEMENTARY SCHOOLS         30.331126    20901\n",
              "59       MIDDLE SCHOOLS         57.071713    20903\n",
              "67   ELEMENTARY SCHOOLS         55.968689    20902\n",
              "68   ELEMENTARY SCHOOLS         56.317204    20902\n",
              "75   ELEMENTARY SCHOOLS         76.576577    20902\n",
              "76   ELEMENTARY SCHOOLS         43.317972    20901\n",
              "80         HIGH SCHOOLS         47.165658    20902\n",
              "86   ELEMENTARY SCHOOLS         87.448560    20902\n",
              "102        HIGH SCHOOLS         32.330127    20901\n",
              "103  ELEMENTARY SCHOOLS         58.635394    20901\n",
              "106  ELEMENTARY SCHOOLS         87.029289    20903\n",
              "109  ELEMENTARY SCHOOLS         18.918919    20815\n",
              "111        HIGH SCHOOLS         46.703601    20901\n",
              "112  ELEMENTARY SCHOOLS         69.976359    20901\n",
              "113  ELEMENTARY SCHOOLS         30.508475    20902\n",
              "117  ELEMENTARY SCHOOLS         44.794189    20901\n",
              "118  ELEMENTARY SCHOOLS         25.692308    20912\n",
              "130  ELEMENTARY SCHOOLS         25.000000    20815\n",
              "135  ELEMENTARY SCHOOLS         79.096774    20912\n",
              "138  ELEMENTARY SCHOOLS         67.842324    20903\n",
              "139  ELEMENTARY SCHOOLS         26.315789    20910\n",
              "149      MIDDLE SCHOOLS         39.809193    20910\n",
              "150  ELEMENTARY SCHOOLS          8.100147    20910\n",
              "151      MIDDLE SCHOOLS         41.828255    20902\n",
              "152  ELEMENTARY SCHOOLS          7.388316    20815\n",
              "162  ELEMENTARY SCHOOLS         27.079935    20912\n",
              "163      MIDDLE SCHOOLS         26.161790    20910\n",
              "192  ELEMENTARY SCHOOLS         22.423146    20910"
            ]
          },
          "metadata": {
            "tags": []
          },
          "execution_count": 154
        }
      ]
    },
    {
      "cell_type": "markdown",
      "metadata": {
        "id": "o65_eHIOD5eT"
      },
      "source": [
        "## 2. Exploratory Data Analysis "
      ]
    },
    {
      "cell_type": "code",
      "metadata": {
        "id": "pavkEqY5CfA5"
      },
      "source": [
        "# import seaborn as sns\n",
        "import matplotlib.pyplot as plt\n",
        "import seaborn as sns"
      ],
      "execution_count": null,
      "outputs": []
    },
    {
      "cell_type": "markdown",
      "metadata": {
        "id": "pOgwNdU9D84u"
      },
      "source": [
        "### 2a. County Government Wifi Locations"
      ]
    },
    {
      "cell_type": "code",
      "metadata": {
        "colab": {
          "base_uri": "https://localhost:8080/",
          "height": 168
        },
        "id": "x_IaOhQMwdt7",
        "outputId": "bb49ad12-c878-436f-be96-b22494ae36a5"
      },
      "source": [
        "df_county.describe()"
      ],
      "execution_count": 1,
      "outputs": [
        {
          "output_type": "error",
          "ename": "NameError",
          "evalue": "ignored",
          "traceback": [
            "\u001b[0;31m---------------------------------------------------------------------------\u001b[0m",
            "\u001b[0;31mNameError\u001b[0m                                 Traceback (most recent call last)",
            "\u001b[0;32m<ipython-input-1-079be72db49f>\u001b[0m in \u001b[0;36m<module>\u001b[0;34m()\u001b[0m\n\u001b[0;32m----> 1\u001b[0;31m \u001b[0mdf_county\u001b[0m\u001b[0;34m.\u001b[0m\u001b[0mdescribe\u001b[0m\u001b[0;34m(\u001b[0m\u001b[0;34m)\u001b[0m\u001b[0;34m\u001b[0m\u001b[0;34m\u001b[0m\u001b[0m\n\u001b[0m",
            "\u001b[0;31mNameError\u001b[0m: name 'df_county' is not defined"
          ]
        }
      ]
    },
    {
      "cell_type": "code",
      "metadata": {
        "id": "M9xE2_14CfA6",
        "colab": {
          "base_uri": "https://localhost:8080/",
          "height": 301
        },
        "outputId": "76290d7b-e00e-4aa0-fa9b-301aa1e5cf48"
      },
      "source": [
        "descending_order = df_county['Department'].value_counts().sort_values(ascending=False).index\n",
        "\n",
        "sns.set_theme(style=\"darkgrid\")\n",
        "sns.countplot(y='Department',data=df_county, order= descending_order)\n",
        "plt.xlabel('Count')\n",
        "plt.ylabel('Departments')\n",
        "plt.title('Departments of County Wifi')\n",
        "plt.show()"
      ],
      "execution_count": null,
      "outputs": [
        {
          "output_type": "display_data",
          "data": {
            "image/png": "[encoded data removed]",
            "text/plain": [
              "<Figure size 432x288 with 1 Axes>"
            ]
          },
          "metadata": {
            "tags": []
          }
        }
      ]
    },
    {
      "cell_type": "code",
      "metadata": {
        "colab": {
          "base_uri": "https://localhost:8080/"
        },
        "id": "F-eXIrfQKTWe",
        "outputId": "22df1bbe-30c7-4db3-80a7-41d7e827132b"
      },
      "source": [
        "df_county['Department'].value_counts()"
      ],
      "execution_count": null,
      "outputs": [
        {
          "output_type": "execute_result",
          "data": {
            "text/plain": [
              "FRS                  40\n",
              "REC                  27\n",
              "DLC                  25\n",
              "DPL                  22\n",
              "HHS                  14\n",
              "MCPD                  9\n",
              "CAO/CEX/CC/Courts     8\n",
              "DGS                   7\n",
              "DOT                   6\n",
              "DED/DEP               4\n",
              "RSC                   4\n",
              "DTS                   3\n",
              "PIO/PublicSafety      3\n",
              "DOCR                  2\n",
              "Warehouse             1\n",
              "DPS                   1\n",
              "BOE                   1\n",
              "DHS                   1\n",
              "Name: Department, dtype: int64"
            ]
          },
          "metadata": {
            "tags": []
          },
          "execution_count": 96
        }
      ]
    },
    {
      "cell_type": "markdown",
      "metadata": {
        "id": "xX6qGMUXEANI"
      },
      "source": [
        "### 2b. Public Schools"
      ]
    },
    {
      "cell_type": "code",
      "metadata": {
        "colab": {
          "base_uri": "https://localhost:8080/",
          "height": 307
        },
        "id": "_00wbKD1v9UZ",
        "outputId": "bac56ca1-261d-4317-957c-731c7b4976a9"
      },
      "source": [
        "df_school_final.describe()"
      ],
      "execution_count": null,
      "outputs": [
        {
          "output_type": "execute_result",
          "data": {
            "text/html": [
              "<div>\n",
              "<style scoped>\n",
              "    .dataframe tbody tr th:only-of-type {\n",
              "        vertical-align: middle;\n",
              "    }\n",
              "\n",
              "    .dataframe tbody tr th {\n",
              "        vertical-align: top;\n",
              "    }\n",
              "\n",
              "    .dataframe thead th {\n",
              "        text-align: right;\n",
              "    }\n",
              "</style>\n",
              "<table border=\"1\" class=\"dataframe\">\n",
              "  <thead>\n",
              "    <tr style=\"text-align: right;\">\n",
              "      <th></th>\n",
              "      <th>number</th>\n",
              "      <th>total_enrollment</th>\n",
              "      <th>free_lunch</th>\n",
              "      <th>reduced_lunch</th>\n",
              "      <th>directly_certified</th>\n",
              "      <th>zip_code</th>\n",
              "      <th>longitude</th>\n",
              "      <th>latitude</th>\n",
              "      <th>FARMs</th>\n",
              "      <th>FARMs_percentage</th>\n",
              "    </tr>\n",
              "  </thead>\n",
              "  <tbody>\n",
              "    <tr>\n",
              "      <th>count</th>\n",
              "      <td>194.000000</td>\n",
              "      <td>194.000000</td>\n",
              "      <td>194.000000</td>\n",
              "      <td>194.000000</td>\n",
              "      <td>194.000000</td>\n",
              "      <td>194.000000</td>\n",
              "      <td>194.000000</td>\n",
              "      <td>194.000000</td>\n",
              "      <td>194.000000</td>\n",
              "      <td>194.000000</td>\n",
              "    </tr>\n",
              "    <tr>\n",
              "      <th>mean</th>\n",
              "      <td>103.778351</td>\n",
              "      <td>824.613402</td>\n",
              "      <td>218.943299</td>\n",
              "      <td>58.984536</td>\n",
              "      <td>93.907216</td>\n",
              "      <td>20871.371134</td>\n",
              "      <td>-77.128336</td>\n",
              "      <td>39.093005</td>\n",
              "      <td>277.927835</td>\n",
              "      <td>35.259114</td>\n",
              "    </tr>\n",
              "    <tr>\n",
              "      <th>std</th>\n",
              "      <td>60.413149</td>\n",
              "      <td>536.706904</td>\n",
              "      <td>180.475486</td>\n",
              "      <td>48.666623</td>\n",
              "      <td>71.905822</td>\n",
              "      <td>28.678608</td>\n",
              "      <td>0.102345</td>\n",
              "      <td>0.074559</td>\n",
              "      <td>226.552273</td>\n",
              "      <td>23.979643</td>\n",
              "    </tr>\n",
              "    <tr>\n",
              "      <th>min</th>\n",
              "      <td>0.000000</td>\n",
              "      <td>151.000000</td>\n",
              "      <td>0.000000</td>\n",
              "      <td>0.000000</td>\n",
              "      <td>3.000000</td>\n",
              "      <td>20814.000000</td>\n",
              "      <td>-77.418780</td>\n",
              "      <td>38.958471</td>\n",
              "      <td>0.000000</td>\n",
              "      <td>0.000000</td>\n",
              "    </tr>\n",
              "    <tr>\n",
              "      <th>25%</th>\n",
              "      <td>51.250000</td>\n",
              "      <td>500.250000</td>\n",
              "      <td>71.500000</td>\n",
              "      <td>23.250000</td>\n",
              "      <td>34.500000</td>\n",
              "      <td>20853.000000</td>\n",
              "      <td>-77.208897</td>\n",
              "      <td>39.034305</td>\n",
              "      <td>96.000000</td>\n",
              "      <td>14.406782</td>\n",
              "    </tr>\n",
              "    <tr>\n",
              "      <th>50%</th>\n",
              "      <td>103.500000</td>\n",
              "      <td>642.000000</td>\n",
              "      <td>182.500000</td>\n",
              "      <td>47.000000</td>\n",
              "      <td>81.000000</td>\n",
              "      <td>20876.000000</td>\n",
              "      <td>-77.121005</td>\n",
              "      <td>39.086207</td>\n",
              "      <td>233.500000</td>\n",
              "      <td>31.704007</td>\n",
              "    </tr>\n",
              "    <tr>\n",
              "      <th>75%</th>\n",
              "      <td>154.750000</td>\n",
              "      <td>893.000000</td>\n",
              "      <td>320.750000</td>\n",
              "      <td>84.750000</td>\n",
              "      <td>135.500000</td>\n",
              "      <td>20901.000000</td>\n",
              "      <td>-77.045557</td>\n",
              "      <td>39.147862</td>\n",
              "      <td>418.250000</td>\n",
              "      <td>53.854798</td>\n",
              "    </tr>\n",
              "    <tr>\n",
              "      <th>max</th>\n",
              "      <td>208.000000</td>\n",
              "      <td>3223.000000</td>\n",
              "      <td>810.000000</td>\n",
              "      <td>282.000000</td>\n",
              "      <td>347.000000</td>\n",
              "      <td>20912.000000</td>\n",
              "      <td>-76.936416</td>\n",
              "      <td>39.285506</td>\n",
              "      <td>1042.000000</td>\n",
              "      <td>87.448560</td>\n",
              "    </tr>\n",
              "  </tbody>\n",
              "</table>\n",
              "</div>"
            ],
            "text/plain": [
              "           number  total_enrollment  ...        FARMs  FARMs_percentage\n",
              "count  194.000000        194.000000  ...   194.000000        194.000000\n",
              "mean   103.778351        824.613402  ...   277.927835         35.259114\n",
              "std     60.413149        536.706904  ...   226.552273         23.979643\n",
              "min      0.000000        151.000000  ...     0.000000          0.000000\n",
              "25%     51.250000        500.250000  ...    96.000000         14.406782\n",
              "50%    103.500000        642.000000  ...   233.500000         31.704007\n",
              "75%    154.750000        893.000000  ...   418.250000         53.854798\n",
              "max    208.000000       3223.000000  ...  1042.000000         87.448560\n",
              "\n",
              "[8 rows x 10 columns]"
            ]
          },
          "metadata": {
            "tags": []
          },
          "execution_count": 97
        }
      ]
    },
    {
      "cell_type": "code",
      "metadata": {
        "id": "8QKm5FWdCfA6",
        "colab": {
          "base_uri": "https://localhost:8080/",
          "height": 301
        },
        "outputId": "5f2017f2-4900-47ae-d6b7-2d3cfbdcb4d0"
      },
      "source": [
        "# graphing the number of categories of schools\n",
        "descending_order = df_school_final['category'].value_counts().sort_values(ascending=False).index\n",
        "\n",
        "sns.set_theme(style=\"darkgrid\")\n",
        "sns.countplot(y='category',data=df_school_final, order = descending_order)\n",
        "plt.xlabel('Types of Schools')\n",
        "plt.ylabel('Count')\n",
        "plt.title('School')\n",
        "plt.show()"
      ],
      "execution_count": null,
      "outputs": [
        {
          "output_type": "display_data",
          "data": {
            "image/png": "[encoded data removed]",
            "text/plain": [
              "<Figure size 432x288 with 1 Axes>"
            ]
          },
          "metadata": {
            "tags": []
          }
        }
      ]
    },
    {
      "cell_type": "code",
      "metadata": {
        "id": "fTBlmRrACfA6",
        "colab": {
          "base_uri": "https://localhost:8080/",
          "height": 301
        },
        "outputId": "dbb51c01-2925-4c44-d53f-c91d1e4eaacb"
      },
      "source": [
        "# Looking at which cities have the most schools\n",
        "descending_order = df_school_final['city'].value_counts().sort_values(ascending=False).index\n",
        "\n",
        "sns.set_theme(style=\"darkgrid\")\n",
        "sns.countplot(y='city',data=df_school_final, order = descending_order)\n",
        "plt.xlabel('Count')\n",
        "plt.ylabel('City')\n",
        "plt.title('Cities of MCPS Schools')\n",
        "plt.show()"
      ],
      "execution_count": null,
      "outputs": [
        {
          "output_type": "display_data",
          "data": {
            "image/png": "[encoded data removed]",
            "text/plain": [
              "<Figure size 432x288 with 1 Axes>"
            ]
          },
          "metadata": {
            "tags": []
          }
        }
      ]
    },
    {
      "cell_type": "markdown",
      "metadata": {
        "id": "dGRRYolIKeG_"
      },
      "source": [
        "### 2c. School Combined Dataset"
      ]
    },
    {
      "cell_type": "code",
      "metadata": {
        "colab": {
          "base_uri": "https://localhost:8080/",
          "height": 301
        },
        "id": "UZBq7L1lN7l1",
        "outputId": "c610a23c-b100-4b5d-ba7f-0b57c2c3b901"
      },
      "source": [
        "ax = sns.boxplot(x=df_school_final[\"FARMs_percentage\"])\n",
        "plt.xlabel('Percentage')\n",
        "plt.title('FARMs Percentage of all Students in MPCS')\n",
        "plt.show()"
      ],
      "execution_count": null,
      "outputs": [
        {
          "output_type": "display_data",
          "data": {
            "image/png": "[encoded data removed]",
            "text/plain": [
              "<Figure size 432x288 with 1 Axes>"
            ]
          },
          "metadata": {
            "tags": []
          }
        }
      ]
    },
    {
      "cell_type": "code",
      "metadata": {
        "colab": {
          "base_uri": "https://localhost:8080/"
        },
        "id": "1qVgVaHX5bM9",
        "outputId": "b9baef75-a9e6-4b34-c3be-d1e92163aaf5"
      },
      "source": [
        "df_school_final['FARMs_percentage'].mean()"
      ],
      "execution_count": null,
      "outputs": [
        {
          "output_type": "execute_result",
          "data": {
            "text/plain": [
              "35.25911408810446"
            ]
          },
          "metadata": {
            "tags": []
          },
          "execution_count": 101
        }
      ]
    },
    {
      "cell_type": "code",
      "metadata": {
        "id": "ZGFIhHltCfA7",
        "colab": {
          "base_uri": "https://localhost:8080/",
          "height": 318
        },
        "outputId": "7a83f76e-d4c2-4bce-a44d-3a3475518140"
      },
      "source": [
        "ax = sns.boxplot(x=df_school_final[\"total_enrollment\"])\n",
        "plt.xlabel('Enrollment')\n",
        "plt.title('Enrollment of all Students in MPCS')"
      ],
      "execution_count": null,
      "outputs": [
        {
          "output_type": "execute_result",
          "data": {
            "text/plain": [
              "Text(0.5, 1.0, 'Enrollment of all Students in MPCS')"
            ]
          },
          "metadata": {
            "tags": []
          },
          "execution_count": 102
        },
        {
          "output_type": "display_data",
          "data": {
            "image/png": "[encoded data removed]",
            "text/plain": [
              "<Figure size 432x288 with 1 Axes>"
            ]
          },
          "metadata": {
            "tags": []
          }
        }
      ]
    },
    {
      "cell_type": "code",
      "metadata": {
        "colab": {
          "base_uri": "https://localhost:8080/"
        },
        "id": "3xHJlof96Bku",
        "outputId": "62acaf3b-4540-4d1c-8b0e-3ef26669d3f7"
      },
      "source": [
        "df_school_final['total_enrollment'].mean()"
      ],
      "execution_count": null,
      "outputs": [
        {
          "output_type": "execute_result",
          "data": {
            "text/plain": [
              "824.6134020618557"
            ]
          },
          "metadata": {
            "tags": []
          },
          "execution_count": 103
        }
      ]
    },
    {
      "cell_type": "code",
      "metadata": {
        "colab": {
          "base_uri": "https://localhost:8080/",
          "height": 318
        },
        "id": "SXSr47_XuEEG",
        "outputId": "a6b3f4a5-e1b1-4fee-c5f8-43d7cf4e0359"
      },
      "source": [
        "df_school_final.plot.scatter(x='zip_code',  y='total_enrollment', c='DarkBlue')\n",
        "plt.xlabel('Zip Code')\n",
        "plt.ylabel('Enrollment')\n",
        "plt.title('Enrollment & Zipcodes of all Students in MPCS')"
      ],
      "execution_count": null,
      "outputs": [
        {
          "output_type": "execute_result",
          "data": {
            "text/plain": [
              "Text(0.5, 1.0, 'Enrollment & Zipcodes of all Students in MPCS')"
            ]
          },
          "metadata": {
            "tags": []
          },
          "execution_count": 104
        },
        {
          "output_type": "display_data",
          "data": {
            "image/png": "[encoded data removed]",
            "text/plain": [
              "<Figure size 432x288 with 1 Axes>"
            ]
          },
          "metadata": {
            "tags": []
          }
        }
      ]
    },
    {
      "cell_type": "code",
      "metadata": {
        "colab": {
          "base_uri": "https://localhost:8080/",
          "height": 318
        },
        "id": "W8EzG9rwvgBb",
        "outputId": "99b08f32-3d7b-49e8-d784-397f4154792d"
      },
      "source": [
        "df_school_final.plot.scatter(x='zip_code',  y='FARMs_percentage', c='DarkBlue')\n",
        "plt.xlabel('Zip Code')\n",
        "plt.ylabel('FARMs Percentage')\n",
        "plt.title('FARMS & Zipcodes in MPCS')"
      ],
      "execution_count": null,
      "outputs": [
        {
          "output_type": "execute_result",
          "data": {
            "text/plain": [
              "Text(0.5, 1.0, 'FARMS & Zipcodes in MPCS')"
            ]
          },
          "metadata": {
            "tags": []
          },
          "execution_count": 105
        },
        {
          "output_type": "display_data",
          "data": {
            "image/png": "[encoded data removed]",
            "text/plain": [
              "<Figure size 432x288 with 1 Axes>"
            ]
          },
          "metadata": {
            "tags": []
          }
        }
      ]
    },
    {
      "cell_type": "code",
      "metadata": {
        "colab": {
          "base_uri": "https://localhost:8080/",
          "height": 810
        },
        "id": "_Y_8E7Y2MYS9",
        "outputId": "e037188f-3554-4fdb-a7b1-2ba86c9d1f1d"
      },
      "source": [
        " df_school_final.sort_values(\"FARMs_percentage\")"
      ],
      "execution_count": null,
      "outputs": [
        {
          "output_type": "execute_result",
          "data": {
            "text/html": [
              "<div>\n",
              "<style scoped>\n",
              "    .dataframe tbody tr th:only-of-type {\n",
              "        vertical-align: middle;\n",
              "    }\n",
              "\n",
              "    .dataframe tbody tr th {\n",
              "        vertical-align: top;\n",
              "    }\n",
              "\n",
              "    .dataframe thead th {\n",
              "        text-align: right;\n",
              "    }\n",
              "</style>\n",
              "<table border=\"1\" class=\"dataframe\">\n",
              "  <thead>\n",
              "    <tr style=\"text-align: right;\">\n",
              "      <th></th>\n",
              "      <th>number</th>\n",
              "      <th>school_name</th>\n",
              "      <th>total_enrollment</th>\n",
              "      <th>free_lunch</th>\n",
              "      <th>reduced_lunch</th>\n",
              "      <th>directly_certified</th>\n",
              "      <th>category</th>\n",
              "      <th>address</th>\n",
              "      <th>city</th>\n",
              "      <th>zip_code</th>\n",
              "      <th>phone</th>\n",
              "      <th>url</th>\n",
              "      <th>longitude</th>\n",
              "      <th>latitude</th>\n",
              "      <th>location</th>\n",
              "      <th>FARMs</th>\n",
              "      <th>FARMs_percentage</th>\n",
              "    </tr>\n",
              "  </thead>\n",
              "  <tbody>\n",
              "    <tr>\n",
              "      <th>37</th>\n",
              "      <td>40</td>\n",
              "      <td>Cold Spring Elementary School</td>\n",
              "      <td>332</td>\n",
              "      <td>0</td>\n",
              "      <td>0</td>\n",
              "      <td>3</td>\n",
              "      <td>ELEMENTARY SCHOOLS</td>\n",
              "      <td>9201 Falls Chapel Way</td>\n",
              "      <td>Potomac</td>\n",
              "      <td>20854</td>\n",
              "      <td>301-279-8480</td>\n",
              "      <td>http://www.montgomeryschoolsmd.org/schools/col...</td>\n",
              "      <td>-77.188864</td>\n",
              "      <td>39.059219</td>\n",
              "      <td>9201 Falls Chapel Way\\nPotomac, MD 20854\\n(39....</td>\n",
              "      <td>0</td>\n",
              "      <td>0.000000</td>\n",
              "    </tr>\n",
              "    <tr>\n",
              "      <th>14</th>\n",
              "      <td>16</td>\n",
              "      <td>Bradley Hills Elementary School</td>\n",
              "      <td>566</td>\n",
              "      <td>4</td>\n",
              "      <td>0</td>\n",
              "      <td>3</td>\n",
              "      <td>ELEMENTARY SCHOOLS</td>\n",
              "      <td>8701 Hartsdale Ave</td>\n",
              "      <td>Bethesda</td>\n",
              "      <td>20817</td>\n",
              "      <td>301-571-6966</td>\n",
              "      <td>http://www.montgomeryschoolsmd.org/schools/bra...</td>\n",
              "      <td>-77.118062</td>\n",
              "      <td>38.999685</td>\n",
              "      <td>8701 Hartsdale Ave\\nBethesda, MD 20817\\n(38.99...</td>\n",
              "      <td>4</td>\n",
              "      <td>0.706714</td>\n",
              "    </tr>\n",
              "    <tr>\n",
              "      <th>26</th>\n",
              "      <td>28</td>\n",
              "      <td>Carderock Springs Elementary School</td>\n",
              "      <td>366</td>\n",
              "      <td>4</td>\n",
              "      <td>1</td>\n",
              "      <td>3</td>\n",
              "      <td>ELEMENTARY SCHOOLS</td>\n",
              "      <td>7401 Persimmon Tree La</td>\n",
              "      <td>Bethesda</td>\n",
              "      <td>20817</td>\n",
              "      <td>301-469-1034</td>\n",
              "      <td>http://www.montgomeryschoolsmd.org/schools/car...</td>\n",
              "      <td>-77.171760</td>\n",
              "      <td>38.983296</td>\n",
              "      <td>7401 Persimmon Tree La\\nBethesda, MD 20817\\n(3...</td>\n",
              "      <td>5</td>\n",
              "      <td>1.366120</td>\n",
              "    </tr>\n",
              "    <tr>\n",
              "      <th>179</th>\n",
              "      <td>193</td>\n",
              "      <td>Westbrook Elementary School</td>\n",
              "      <td>341</td>\n",
              "      <td>5</td>\n",
              "      <td>0</td>\n",
              "      <td>3</td>\n",
              "      <td>ELEMENTARY SCHOOLS</td>\n",
              "      <td>5110 Allan Ter</td>\n",
              "      <td>Bethesda</td>\n",
              "      <td>20816</td>\n",
              "      <td>301-320-6506</td>\n",
              "      <td>http://www.montgomeryschoolsmd.org/schools/wes...</td>\n",
              "      <td>-77.102819</td>\n",
              "      <td>38.958471</td>\n",
              "      <td>5110 Allan Ter\\nBethesda, MD 20816\\n(38.958471...</td>\n",
              "      <td>5</td>\n",
              "      <td>1.466276</td>\n",
              "    </tr>\n",
              "    <tr>\n",
              "      <th>190</th>\n",
              "      <td>205</td>\n",
              "      <td>Wood Acres Elementary School</td>\n",
              "      <td>649</td>\n",
              "      <td>8</td>\n",
              "      <td>2</td>\n",
              "      <td>4</td>\n",
              "      <td>ELEMENTARY SCHOOLS</td>\n",
              "      <td>5800 Cromwell Dr</td>\n",
              "      <td>Bethesda</td>\n",
              "      <td>20816</td>\n",
              "      <td>301-320-6502</td>\n",
              "      <td>http://www.montgomeryschoolsmd.org/schools/woo...</td>\n",
              "      <td>-77.118672</td>\n",
              "      <td>38.967587</td>\n",
              "      <td>5800 Cromwell Dr\\nBethesda, MD 20816\\n(38.9675...</td>\n",
              "      <td>10</td>\n",
              "      <td>1.540832</td>\n",
              "    </tr>\n",
              "    <tr>\n",
              "      <th>...</th>\n",
              "      <td>...</td>\n",
              "      <td>...</td>\n",
              "      <td>...</td>\n",
              "      <td>...</td>\n",
              "      <td>...</td>\n",
              "      <td>...</td>\n",
              "      <td>...</td>\n",
              "      <td>...</td>\n",
              "      <td>...</td>\n",
              "      <td>...</td>\n",
              "      <td>...</td>\n",
              "      <td>...</td>\n",
              "      <td>...</td>\n",
              "      <td>...</td>\n",
              "      <td>...</td>\n",
              "      <td>...</td>\n",
              "      <td>...</td>\n",
              "    </tr>\n",
              "    <tr>\n",
              "      <th>153</th>\n",
              "      <td>165</td>\n",
              "      <td>South Lake Elementary School</td>\n",
              "      <td>893</td>\n",
              "      <td>631</td>\n",
              "      <td>120</td>\n",
              "      <td>293</td>\n",
              "      <td>ELEMENTARY SCHOOLS</td>\n",
              "      <td>18201 Contour Rd</td>\n",
              "      <td>Gaithersburg</td>\n",
              "      <td>20877</td>\n",
              "      <td>301-840-7141</td>\n",
              "      <td>http://www.montgomeryschoolsmd.org/schools/sou...</td>\n",
              "      <td>-77.196983</td>\n",
              "      <td>39.155816</td>\n",
              "      <td>18201 Contour Rd\\nGaithersburg, MD 20877\\n(39....</td>\n",
              "      <td>751</td>\n",
              "      <td>84.098544</td>\n",
              "    </tr>\n",
              "    <tr>\n",
              "      <th>60</th>\n",
              "      <td>64</td>\n",
              "      <td>Gaithersburg Elementary School</td>\n",
              "      <td>865</td>\n",
              "      <td>632</td>\n",
              "      <td>101</td>\n",
              "      <td>251</td>\n",
              "      <td>ELEMENTARY SCHOOLS</td>\n",
              "      <td>35 N Summit Ave</td>\n",
              "      <td>Gaithersburg</td>\n",
              "      <td>20877</td>\n",
              "      <td>301-840-7136</td>\n",
              "      <td>http://www.montgomeryschoolsmd.org/schools/gai...</td>\n",
              "      <td>-77.192051</td>\n",
              "      <td>39.143572</td>\n",
              "      <td>35 N Summit Ave\\nGaithersburg, MD 20877\\n(39.1...</td>\n",
              "      <td>733</td>\n",
              "      <td>84.739884</td>\n",
              "    </tr>\n",
              "    <tr>\n",
              "      <th>106</th>\n",
              "      <td>114</td>\n",
              "      <td>New Hampshire Estates Elementary School</td>\n",
              "      <td>478</td>\n",
              "      <td>357</td>\n",
              "      <td>59</td>\n",
              "      <td>145</td>\n",
              "      <td>ELEMENTARY SCHOOLS</td>\n",
              "      <td>8720 Carroll Ave</td>\n",
              "      <td>Silver Spring</td>\n",
              "      <td>20903</td>\n",
              "      <td>301-431-7607</td>\n",
              "      <td>http://www.montgomeryschoolsmd.org/schools/nhees</td>\n",
              "      <td>-76.992305</td>\n",
              "      <td>38.998197</td>\n",
              "      <td>8720 Carroll Ave\\nSilver Spring, MD 20903\\n(38...</td>\n",
              "      <td>416</td>\n",
              "      <td>87.029289</td>\n",
              "    </tr>\n",
              "    <tr>\n",
              "      <th>79</th>\n",
              "      <td>84</td>\n",
              "      <td>Broad Acres Elementary School</td>\n",
              "      <td>874</td>\n",
              "      <td>656</td>\n",
              "      <td>108</td>\n",
              "      <td>215</td>\n",
              "      <td>ELEMENTARY SCHOOLS</td>\n",
              "      <td>710 Beacon Rd</td>\n",
              "      <td>Silver Spring</td>\n",
              "      <td>20903</td>\n",
              "      <td>301-431-7616</td>\n",
              "      <td>http://www.montgomeryschoolsmd.org/schools/bro...</td>\n",
              "      <td>-76.985188</td>\n",
              "      <td>39.009359</td>\n",
              "      <td>710 Beacon Rd\\nSilver Spring, MD 20903\\n(39.00...</td>\n",
              "      <td>764</td>\n",
              "      <td>87.414188</td>\n",
              "    </tr>\n",
              "    <tr>\n",
              "      <th>86</th>\n",
              "      <td>92</td>\n",
              "      <td>Kemp Mill Elementary School</td>\n",
              "      <td>486</td>\n",
              "      <td>352</td>\n",
              "      <td>73</td>\n",
              "      <td>126</td>\n",
              "      <td>ELEMENTARY SCHOOLS</td>\n",
              "      <td>411 Sisson St</td>\n",
              "      <td>Silver Spring</td>\n",
              "      <td>20902</td>\n",
              "      <td>301-649-8046</td>\n",
              "      <td>http://www.montgomeryschoolsmd.org/schools/kem...</td>\n",
              "      <td>-77.017047</td>\n",
              "      <td>39.043638</td>\n",
              "      <td>411 Sisson St\\nSilver Spring, MD 20902\\n(39.04...</td>\n",
              "      <td>425</td>\n",
              "      <td>87.448560</td>\n",
              "    </tr>\n",
              "  </tbody>\n",
              "</table>\n",
              "<p>194 rows × 17 columns</p>\n",
              "</div>"
            ],
            "text/plain": [
              "     number                              school_name  ...  FARMs  FARMs_percentage\n",
              "37       40            Cold Spring Elementary School  ...      0          0.000000\n",
              "14       16          Bradley Hills Elementary School  ...      4          0.706714\n",
              "26       28      Carderock Springs Elementary School  ...      5          1.366120\n",
              "179     193              Westbrook Elementary School  ...      5          1.466276\n",
              "190     205             Wood Acres Elementary School  ...     10          1.540832\n",
              "..      ...                                      ...  ...    ...               ...\n",
              "153     165             South Lake Elementary School  ...    751         84.098544\n",
              "60       64           Gaithersburg Elementary School  ...    733         84.739884\n",
              "106     114  New Hampshire Estates Elementary School  ...    416         87.029289\n",
              "79       84            Broad Acres Elementary School  ...    764         87.414188\n",
              "86       92              Kemp Mill Elementary School  ...    425         87.448560\n",
              "\n",
              "[194 rows x 17 columns]"
            ]
          },
          "metadata": {
            "tags": []
          },
          "execution_count": 157
        }
      ]
    },
    {
      "cell_type": "markdown",
      "metadata": {
        "id": "71azWhfAEDEs"
      },
      "source": [
        "### 2c. Xfinity Hotstops Locations\n"
      ]
    },
    {
      "cell_type": "code",
      "metadata": {
        "colab": {
          "base_uri": "https://localhost:8080/",
          "height": 287
        },
        "id": "d_1-_4db2GSP",
        "outputId": "a22f6173-0fee-4768-c3c4-4f80149a1927"
      },
      "source": [
        "df_xfinity.describe()"
      ],
      "execution_count": null,
      "outputs": [
        {
          "output_type": "execute_result",
          "data": {
            "text/html": [
              "<div>\n",
              "<style scoped>\n",
              "    .dataframe tbody tr th:only-of-type {\n",
              "        vertical-align: middle;\n",
              "    }\n",
              "\n",
              "    .dataframe tbody tr th {\n",
              "        vertical-align: top;\n",
              "    }\n",
              "\n",
              "    .dataframe thead th {\n",
              "        text-align: right;\n",
              "    }\n",
              "</style>\n",
              "<table border=\"1\" class=\"dataframe\">\n",
              "  <thead>\n",
              "    <tr style=\"text-align: right;\">\n",
              "      <th></th>\n",
              "      <th>Latitude</th>\n",
              "      <th>Longitude</th>\n",
              "      <th>Zip</th>\n",
              "    </tr>\n",
              "  </thead>\n",
              "  <tbody>\n",
              "    <tr>\n",
              "      <th>count</th>\n",
              "      <td>6076.000000</td>\n",
              "      <td>6076.000000</td>\n",
              "      <td>6076.000000</td>\n",
              "    </tr>\n",
              "    <tr>\n",
              "      <th>mean</th>\n",
              "      <td>39.080834</td>\n",
              "      <td>-77.124086</td>\n",
              "      <td>20869.570935</td>\n",
              "    </tr>\n",
              "    <tr>\n",
              "      <th>std</th>\n",
              "      <td>0.069896</td>\n",
              "      <td>0.086998</td>\n",
              "      <td>34.800815</td>\n",
              "    </tr>\n",
              "    <tr>\n",
              "      <th>min</th>\n",
              "      <td>38.942893</td>\n",
              "      <td>-77.504380</td>\n",
              "      <td>20147.000000</td>\n",
              "    </tr>\n",
              "    <tr>\n",
              "      <th>25%</th>\n",
              "      <td>39.025535</td>\n",
              "      <td>-77.187154</td>\n",
              "      <td>20851.000000</td>\n",
              "    </tr>\n",
              "    <tr>\n",
              "      <th>50%</th>\n",
              "      <td>39.080196</td>\n",
              "      <td>-77.123087</td>\n",
              "      <td>20876.000000</td>\n",
              "    </tr>\n",
              "    <tr>\n",
              "      <th>75%</th>\n",
              "      <td>39.131864</td>\n",
              "      <td>-77.059596</td>\n",
              "      <td>20901.000000</td>\n",
              "    </tr>\n",
              "    <tr>\n",
              "      <th>max</th>\n",
              "      <td>39.315603</td>\n",
              "      <td>-76.916416</td>\n",
              "      <td>20912.000000</td>\n",
              "    </tr>\n",
              "  </tbody>\n",
              "</table>\n",
              "</div>"
            ],
            "text/plain": [
              "          Latitude    Longitude           Zip\n",
              "count  6076.000000  6076.000000   6076.000000\n",
              "mean     39.080834   -77.124086  20869.570935\n",
              "std       0.069896     0.086998     34.800815\n",
              "min      38.942893   -77.504380  20147.000000\n",
              "25%      39.025535   -77.187154  20851.000000\n",
              "50%      39.080196   -77.123087  20876.000000\n",
              "75%      39.131864   -77.059596  20901.000000\n",
              "max      39.315603   -76.916416  20912.000000"
            ]
          },
          "metadata": {
            "tags": []
          },
          "execution_count": 106
        }
      ]
    },
    {
      "cell_type": "code",
      "metadata": {
        "colab": {
          "base_uri": "https://localhost:8080/",
          "height": 775
        },
        "id": "FLkxTrSWsk8Z",
        "outputId": "ca5cf59a-677f-4faa-e8a1-7ab6042f1995"
      },
      "source": [
        "sns.catplot(y=\"City\",\n",
        "                data= df_xfinity, kind=\"count\",\n",
        "                height=10,aspect=.7,\n",
        "             order =df_xfinity.City.value_counts().index)\n",
        "plt.xlabel('Count')\n",
        "plt.ylabel('City')\n",
        "plt.title('Cities of Xfinity Wifi Hotspots')"
      ],
      "execution_count": null,
      "outputs": [
        {
          "output_type": "execute_result",
          "data": {
            "text/plain": [
              "Text(0.5, 1.0, 'Cities of Xfinity Wifi Hotspots')"
            ]
          },
          "metadata": {
            "tags": []
          },
          "execution_count": 107
        },
        {
          "output_type": "display_data",
          "data": {
            "image/png": "[encoded data removed]",
            "text/plain": [
              "<Figure size 504x720 with 1 Axes>"
            ]
          },
          "metadata": {
            "tags": []
          }
        }
      ]
    },
    {
      "cell_type": "code",
      "metadata": {
        "colab": {
          "base_uri": "https://localhost:8080/",
          "height": 775
        },
        "id": "SPIMuEUvtZVA",
        "outputId": "845152de-8219-485c-bff6-22acdfeab8c3"
      },
      "source": [
        "sns.catplot(y=\"Zip\",\n",
        "                data= df_xfinity, kind=\"count\",\n",
        "                height=10,aspect=.7,\n",
        "                order =df_xfinity.Zip.value_counts().index)\n",
        "plt.xlabel('Count')\n",
        "plt.ylabel('Zip Code')\n",
        "plt.title('Zip Codes of Xfinity Wifi Hotspots')"
      ],
      "execution_count": null,
      "outputs": [
        {
          "output_type": "execute_result",
          "data": {
            "text/plain": [
              "Text(0.5, 1.0, 'Zip Codes of Xfinity Wifi Hotspots')"
            ]
          },
          "metadata": {
            "tags": []
          },
          "execution_count": 108
        },
        {
          "output_type": "display_data",
          "data": {
            "image/png": "[encoded data removed]",
            "text/plain": [
              "<Figure size 504x720 with 1 Axes>"
            ]
          },
          "metadata": {
            "tags": []
          }
        }
      ]
    },
    {
      "cell_type": "markdown",
      "metadata": {
        "id": "1W75nMgL2kz3"
      },
      "source": [
        "## 3. Mapping"
      ]
    },
    {
      "cell_type": "markdown",
      "metadata": {
        "id": "l3rUM0Pk8ghf"
      },
      "source": [
        "### 3a. Tableau Graphs\n"
      ]
    },
    {
      "cell_type": "markdown",
      "metadata": {
        "id": "_US_q2TX-f8q"
      },
      "source": [
        "Tableau Graphs located here:\n",
        "\n",
        "https://public.tableau.com/profile/ana3260#!/\n",
        "\n",
        "\t\n",
        "1. MCPS Schools and FARMs Percentages\n",
        "2. School Categories in MCPS\n",
        "3. Xfinity Wifi Locations\n",
        "4. County Government Wifi Locations\n",
        "5. County Wifi and Xfinity Wifi\n",
        "6. MCPS Schools and County Wifi\n",
        "7. MCPS Schools and Xfinity Wifi\n"
      ]
    },
    {
      "cell_type": "markdown",
      "metadata": {
        "id": "fDz_a5vG3zjr"
      },
      "source": [
        "## 4. Statistical Analysis"
      ]
    },
    {
      "cell_type": "code",
      "metadata": {
        "id": "A7y6LqC-4CGj"
      },
      "source": [
        "import pandas as pd\n",
        "import numpy as np\n",
        "import matplotlib.pyplot as plt\n",
        "\n",
        "import matplotlib.pyplot as plt\n",
        "import scipy.stats as stats\n",
        "\n",
        "import seaborn as sn"
      ],
      "execution_count": null,
      "outputs": []
    },
    {
      "cell_type": "code",
      "metadata": {
        "colab": {
          "base_uri": "https://localhost:8080/",
          "height": 526
        },
        "id": "1zi17ieAmdHh",
        "outputId": "3efcf2f0-a914-41e2-8a83-b587a301aabe"
      },
      "source": [
        "!pip install researchpy\n",
        "\n",
        "import researchpy as rp"
      ],
      "execution_count": null,
      "outputs": [
        {
          "output_type": "stream",
          "text": [
            "Collecting researchpy\n",
            "  Downloading https://files.pythonhosted.org/packages/14/98/622cb34a27d4c3071a8123ed16b21e79aaa49de0a359ff81c49dd0840daf/researchpy-0.3-py3-none-any.whl\n",
            "Requirement already satisfied: numpy in /usr/local/lib/python3.7/dist-packages (from researchpy) (1.19.5)\n",
            "Requirement already satisfied: patsy in /usr/local/lib/python3.7/dist-packages (from researchpy) (0.5.1)\n",
            "Requirement already satisfied: statsmodels in /usr/local/lib/python3.7/dist-packages (from researchpy) (0.10.2)\n",
            "Requirement already satisfied: pandas in /usr/local/lib/python3.7/dist-packages (from researchpy) (1.1.5)\n",
            "Requirement already satisfied: scipy in /usr/local/lib/python3.7/dist-packages (from researchpy) (1.4.1)\n",
            "\u001b[31mERROR: Could not find a version that satisfies the requirement re (from researchpy) (from versions: none)\u001b[0m\n",
            "\u001b[31mERROR: No matching distribution found for re (from researchpy)\u001b[0m\n"
          ],
          "name": "stdout"
        },
        {
          "output_type": "error",
          "ename": "ModuleNotFoundError",
          "evalue": "ignored",
          "traceback": [
            "\u001b[0;31m---------------------------------------------------------------------------\u001b[0m",
            "\u001b[0;31mModuleNotFoundError\u001b[0m                       Traceback (most recent call last)",
            "\u001b[0;32m<ipython-input-112-af6c8b149949>\u001b[0m in \u001b[0;36m<module>\u001b[0;34m()\u001b[0m\n\u001b[1;32m      1\u001b[0m \u001b[0mget_ipython\u001b[0m\u001b[0;34m(\u001b[0m\u001b[0;34m)\u001b[0m\u001b[0;34m.\u001b[0m\u001b[0msystem\u001b[0m\u001b[0;34m(\u001b[0m\u001b[0;34m'pip install researchpy'\u001b[0m\u001b[0;34m)\u001b[0m\u001b[0;34m\u001b[0m\u001b[0;34m\u001b[0m\u001b[0m\n\u001b[1;32m      2\u001b[0m \u001b[0;34m\u001b[0m\u001b[0m\n\u001b[0;32m----> 3\u001b[0;31m \u001b[0;32mimport\u001b[0m \u001b[0mresearchpy\u001b[0m \u001b[0;32mas\u001b[0m \u001b[0mrp\u001b[0m\u001b[0;34m\u001b[0m\u001b[0;34m\u001b[0m\u001b[0m\n\u001b[0m",
            "\u001b[0;31mModuleNotFoundError\u001b[0m: No module named 'researchpy'",
            "",
            "\u001b[0;31m---------------------------------------------------------------------------\u001b[0;32m\nNOTE: If your import is failing due to a missing package, you can\nmanually install dependencies using either !pip or !apt.\n\nTo view examples of installing some common dependencies, click the\n\"Open Examples\" button below.\n\u001b[0;31m---------------------------------------------------------------------------\u001b[0m\n"
          ]
        }
      ]
    },
    {
      "cell_type": "markdown",
      "metadata": {
        "id": "ILOqzA6KbU1T"
      },
      "source": [
        "#### 4a. ANOVA"
      ]
    },
    {
      "cell_type": "code",
      "metadata": {
        "colab": {
          "base_uri": "https://localhost:8080/"
        },
        "id": "UcXUC0ajncGQ",
        "outputId": "c402eeb6-1c00-4721-e160-a193fad16044"
      },
      "source": [
        "stats.f_oneway(anova_school['FARMs_percentage'][anova_school['category'] == 'ELEMENTARY SCHOOLS'],\n",
        "               anova_school['FARMs_percentage'][anova_school['category'] == 'MIDDLE SCHOOLS'],\n",
        "               anova_school['FARMs_percentage'][anova_school['category'] == 'HIGH SCHOOLS'])"
      ],
      "execution_count": null,
      "outputs": [
        {
          "output_type": "execute_result",
          "data": {
            "text/plain": [
              "F_onewayResult(statistic=2.0366130132211704, pvalue=0.13329364735137886)"
            ]
          },
          "metadata": {
            "tags": []
          },
          "execution_count": 113
        }
      ]
    },
    {
      "cell_type": "code",
      "metadata": {
        "colab": {
          "base_uri": "https://localhost:8080/"
        },
        "id": "pqfgVIDsq9KH",
        "outputId": "efd12c21-5129-4a7d-e0f5-8676c5e5b056"
      },
      "source": [
        "stats.f_oneway(anova_school['zip_code'][anova_school['category'] == 'ELEMENTARY SCHOOLS'],\n",
        "               anova_school['zip_code'][anova_school['category'] == 'MIDDLE SCHOOLS'],\n",
        "               anova_school['zip_code'][anova_school['category'] == 'HIGH SCHOOLS'])"
      ],
      "execution_count": null,
      "outputs": [
        {
          "output_type": "execute_result",
          "data": {
            "text/plain": [
              "F_onewayResult(statistic=0.18341301888323155, pvalue=0.8325707159456672)"
            ]
          },
          "metadata": {
            "tags": []
          },
          "execution_count": 105
        }
      ]
    },
    {
      "cell_type": "code",
      "metadata": {
        "colab": {
          "base_uri": "https://localhost:8080/"
        },
        "id": "RJ4Qy4uULJ0Z",
        "outputId": "43b48507-d351-43b2-ed30-fbdf328f8f3c"
      },
      "source": [
        "stats.f_oneway(silver_anova_school['FARMs_percentage'][silver_anova_school['category'] == 'ELEMENTARY SCHOOLS'],\n",
        "               silver_anova_school['FARMs_percentage'][silver_anova_school['category'] == 'MIDDLE SCHOOLS'],\n",
        "               silver_anova_school['FARMs_percentage'][silver_anova_school['category'] == 'HIGH SCHOOLS'])"
      ],
      "execution_count": null,
      "outputs": [
        {
          "output_type": "execute_result",
          "data": {
            "text/plain": [
              "F_onewayResult(statistic=0.10814425270280884, pvalue=0.8978148662041534)"
            ]
          },
          "metadata": {
            "tags": []
          },
          "execution_count": 155
        }
      ]
    },
    {
      "cell_type": "code",
      "metadata": {
        "colab": {
          "base_uri": "https://localhost:8080/"
        },
        "id": "B-MfzpaeLKEx",
        "outputId": "00340154-c776-43a5-82c2-23bc636884d1"
      },
      "source": [
        "stats.f_oneway(silver_anova_school['zip_code'][silver_anova_school['category'] == 'ELEMENTARY SCHOOLS'],\n",
        "               silver_anova_school['zip_code'][silver_anova_school['category'] == 'MIDDLE SCHOOLS'],\n",
        "               silver_anova_school['zip_code'][silver_anova_school['category'] == 'HIGH SCHOOLS'])"
      ],
      "execution_count": null,
      "outputs": [
        {
          "output_type": "execute_result",
          "data": {
            "text/plain": [
              "F_onewayResult(statistic=0.6103872017613134, pvalue=0.5491585624900588)"
            ]
          },
          "metadata": {
            "tags": []
          },
          "execution_count": 156
        }
      ]
    }
  ]
}