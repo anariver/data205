{
  "nbformat": 4,
  "nbformat_minor": 0,
  "metadata": {
    "kernelspec": {
      "display_name": "Python 3",
      "language": "python",
      "name": "python3"
    },
    "language_info": {
      "codemirror_mode": {
        "name": "ipython",
        "version": 3
      },
      "file_extension": ".py",
      "mimetype": "text/x-python",
      "name": "python",
      "nbconvert_exporter": "python",
      "pygments_lexer": "ipython3",
      "version": "3.8.5"
    },
    "colab": {
      "name": "Xfinity_Scraper.ipynb",
      "provenance": [],
      "include_colab_link": true
    }
  },
  "cells": [
    {
      "cell_type": "markdown",
      "metadata": {
        "id": "view-in-github",
        "colab_type": "text"
      },
      "source": [
        "<a href=\"https://colab.research.google.com/github/anariver/data205/blob/main/Xfinity_Scraper.ipynb\" target=\"_parent\"><img src=\"https://colab.research.google.com/assets/colab-badge.svg\" alt=\"Open In Colab\"/></a>"
      ]
    },
    {
      "cell_type": "code",
      "metadata": {
        "scrolled": false,
        "id": "5fL4N1NVV1IP",
        "colab": {
          "base_uri": "https://localhost:8080/",
          "height": 382
        },
        "outputId": "34cc53ea-2bcb-4f72-962f-dd9369fa8f50"
      },
      "source": [
        "import random\n",
        "import time\n",
        "from selenium import webdriver\n",
        "\n",
        "outputFile = open('xfinity_hotspots2.txt', 'w')\n",
        "\n",
        "DRIVER_PATH = '/Users/anaortez-rivera/data205/chromedriver'\n",
        "driver = webdriver.Chrome(executable_path=DRIVER_PATH)\n",
        "#driver.get('https://finder.wifi.xfinity.com/?zip=20910')\n",
        "base_url = ('https://finder.wifi.xfinity.com/?zip=')\n",
        "\n",
        "\n",
        "# zips = ['20906','20878']\n",
        "# '''\n",
        "# zips = ['20906','20878','20874','20852','20910','20904','20850','20902','20854','20814','20815','20817','20877',\n",
        "#         '20901','20886','20853','20912','20871','20879','20832','20876','20895','20903','20816','20855','20905',\n",
        "#         '20866','20851','20872','20882','20841','20833','20837','20861','20842','20818','20860','20875','20914',\n",
        "#         '20849','20827','20896','20907','20880','20848','20915','20824','20868','20916','20830','20898','20859',\n",
        "#         '20884','20883','20885','20913','20918','20812','20847','20838','20862','20813','20839','20825','20908',\n",
        "#         '20891','20911','20857','20889','20892','20894','20897','20899','20811','20810','20697','20207','20076',\n",
        "#         '20058','20993','20997','20047']\n",
        "# 20875\n",
        "zips = ['20810',\n",
        "        '20849','20827','20896','20907','20880','20848','20915','20824','20868','20916','20830','20898','20859',\n",
        "        '20884','20883','20885','20913','20918','20812','20847','20838','20862','20813','20839','20825','20908',\n",
        "        '20891','20911','20857','20889','20892','20894','20897','20899','20811','20810','20697','20207','20076',\n",
        "        '20058','20993','20997','20047']\n",
        "\n",
        "# Iterate through versions of the url by adding the zip code to it\n",
        "results = []\n",
        "for Zip in zips:\n",
        "    time.sleep(random.uniform(1, 10))\n",
        "    driver.get(base_url + Zip)\n",
        "    search = driver.find_element_by_id('SearchForm')\n",
        "    javaScript = 'submitSearchForm();'\n",
        "    driver.execute_script(javaScript)\n",
        "    span_list = driver.find_elements_by_class_name('ResultsList')[0].find_elements_by_class_name('resultsAddress')\n",
        "    for span in span_list:\n",
        "        results.append(span.get_attribute(\"innerHTML\"))\n",
        "\n",
        "driver.quit()\n",
        "outputFile.close()"
      ],
      "execution_count": null,
      "outputs": [
        {
          "output_type": "error",
          "ename": "ModuleNotFoundError",
          "evalue": "ignored",
          "traceback": [
            "\u001b[0;31m---------------------------------------------------------------------------\u001b[0m",
            "\u001b[0;31mModuleNotFoundError\u001b[0m                       Traceback (most recent call last)",
            "\u001b[0;32m<ipython-input-1-1333dc4ef46b>\u001b[0m in \u001b[0;36m<module>\u001b[0;34m()\u001b[0m\n\u001b[1;32m      1\u001b[0m \u001b[0;32mimport\u001b[0m \u001b[0mrandom\u001b[0m\u001b[0;34m\u001b[0m\u001b[0;34m\u001b[0m\u001b[0m\n\u001b[1;32m      2\u001b[0m \u001b[0;32mimport\u001b[0m \u001b[0mtime\u001b[0m\u001b[0;34m\u001b[0m\u001b[0;34m\u001b[0m\u001b[0m\n\u001b[0;32m----> 3\u001b[0;31m \u001b[0;32mfrom\u001b[0m \u001b[0mselenium\u001b[0m \u001b[0;32mimport\u001b[0m \u001b[0mwebdriver\u001b[0m\u001b[0;34m\u001b[0m\u001b[0;34m\u001b[0m\u001b[0m\n\u001b[0m\u001b[1;32m      4\u001b[0m \u001b[0;34m\u001b[0m\u001b[0m\n\u001b[1;32m      5\u001b[0m \u001b[0moutputFile\u001b[0m \u001b[0;34m=\u001b[0m \u001b[0mopen\u001b[0m\u001b[0;34m(\u001b[0m\u001b[0;34m'xfinity_hotspots2.txt'\u001b[0m\u001b[0;34m,\u001b[0m \u001b[0;34m'w'\u001b[0m\u001b[0;34m)\u001b[0m\u001b[0;34m\u001b[0m\u001b[0;34m\u001b[0m\u001b[0m\n",
            "\u001b[0;31mModuleNotFoundError\u001b[0m: No module named 'selenium'",
            "",
            "\u001b[0;31m---------------------------------------------------------------------------\u001b[0;32m\nNOTE: If your import is failing due to a missing package, you can\nmanually install dependencies using either !pip or !apt.\n\nTo view examples of installing some common dependencies, click the\n\"Open Examples\" button below.\n\u001b[0;31m---------------------------------------------------------------------------\u001b[0m\n"
          ]
        }
      ]
    },
    {
      "cell_type": "code",
      "metadata": {
        "id": "FiS9qWK6V1Iz"
      },
      "source": [
        "def filter_zips(results, zipcode):\n",
        "    return [i.replace(\"<br>\", \", \") for i in set(results) if zipcode in i]\n",
        "\n",
        "final_data = []\n",
        "for zipcode in zips:\n",
        "    final_data.extend(filter_zips(results, zipcode))"
      ],
      "execution_count": null,
      "outputs": []
    },
    {
      "cell_type": "code",
      "metadata": {
        "id": "c3mgZnNZV1I3",
        "outputId": "00efde88-f562-405b-c912-7edf82bfeb32"
      },
      "source": [
        "len(set(final_data1))"
      ],
      "execution_count": null,
      "outputs": [
        {
          "output_type": "execute_result",
          "data": {
            "text/plain": [
              "7678"
            ]
          },
          "metadata": {
            "tags": []
          },
          "execution_count": 83
        }
      ]
    }
  ]
}