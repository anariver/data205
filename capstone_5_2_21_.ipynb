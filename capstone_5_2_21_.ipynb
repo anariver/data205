{
  "nbformat": 4,
  "nbformat_minor": 0,
  "metadata": {
    "colab": {
      "name": "capstone_5.2.21 .ipynb",
      "provenance": [],
      "collapsed_sections": [],
      "toc_visible": true,
      "include_colab_link": true
    },
    "kernelspec": {
      "display_name": "Python 3",
      "language": "python",
      "name": "python3"
    },
    "language_info": {
      "codemirror_mode": {
        "name": "ipython",
        "version": 3
      },
      "file_extension": ".py",
      "mimetype": "text/x-python",
      "name": "python",
      "nbconvert_exporter": "python",
      "pygments_lexer": "ipython3",
      "version": "3.8.5"
    }
  },
  "cells": [
    {
      "cell_type": "markdown",
      "metadata": {
        "id": "view-in-github",
        "colab_type": "text"
      },
      "source": [
        "<a href=\"https://colab.research.google.com/github/anariver/data205/blob/main/capstone_5_2_21_.ipynb\" target=\"_parent\"><img src=\"https://colab.research.google.com/assets/colab-badge.svg\" alt=\"Open In Colab\"/></a>"
      ]
    },
    {
      "cell_type": "markdown",
      "metadata": {
        "id": "BBwEGftXCfAL"
      },
      "source": [
        "## Introduction"
      ]
    },
    {
      "cell_type": "markdown",
      "metadata": {
        "id": "pkFEbqPpCfAZ"
      },
      "source": [
        "####**Table of Contents**\n",
        "#### 1.  Data Ingestion & Wrangling \n",
        "> ##### 1a. County Public Wifi\n",
        "> ##### 1b. Public Schools Dataset\n",
        "> ##### 1c. Xfinity Wifi Locations\n",
        "#### 2. Exploratory Data Analysis \n",
        ">##### 2a. County Public Wifi\n",
        ">##### 2b. Public Schools\n",
        ">##### 2c. Xfinity Wifi Locations\n",
        "#### 3. Mapping\n",
        "#### 4. Statistical Analysis\n",
        "#### 5. Conclusion"
      ]
    },
    {
      "cell_type": "markdown",
      "metadata": {
        "id": "S3MArrnHCfAa"
      },
      "source": [
        "## 1.  Data Ingestion & Wrangling"
      ]
    },
    {
      "cell_type": "code",
      "metadata": {
        "id": "sZIbfjowXXgk"
      },
      "source": [
        "# Loading packages\n",
        "import pandas as pd\n",
        "import numpy as np"
      ],
      "execution_count": 1,
      "outputs": []
    },
    {
      "cell_type": "markdown",
      "metadata": {
        "id": "Bdu0Q-mMCldm"
      },
      "source": [
        "### 1a. County Wifi Locations dataset\n"
      ]
    },
    {
      "cell_type": "code",
      "metadata": {
        "id": "uDAsS9ktXX9-"
      },
      "source": [
        "# reading the csv files for county government wifi locations\n",
        "df_county = pd.read_csv('og_county_wifi.csv')"
      ],
      "execution_count": 190,
      "outputs": []
    },
    {
      "cell_type": "code",
      "metadata": {
        "id": "J109MpIHXYLc",
        "scrolled": true,
        "colab": {
          "base_uri": "https://localhost:8080/",
          "height": 197
        },
        "outputId": "35acd437-0ace-4286-a5e0-41f9d36de529"
      },
      "source": [
        "# viewing the head of the dataframe\n",
        "df_county.head()"
      ],
      "execution_count": 191,
      "outputs": [
        {
          "output_type": "execute_result",
          "data": {
            "text/html": [
              "<div>\n",
              "<style scoped>\n",
              "    .dataframe tbody tr th:only-of-type {\n",
              "        vertical-align: middle;\n",
              "    }\n",
              "\n",
              "    .dataframe tbody tr th {\n",
              "        vertical-align: top;\n",
              "    }\n",
              "\n",
              "    .dataframe thead th {\n",
              "        text-align: right;\n",
              "    }\n",
              "</style>\n",
              "<table border=\"1\" class=\"dataframe\">\n",
              "  <thead>\n",
              "    <tr style=\"text-align: right;\">\n",
              "      <th></th>\n",
              "      <th>Agency</th>\n",
              "      <th>Department</th>\n",
              "      <th>Name</th>\n",
              "      <th>Address</th>\n",
              "      <th>Location</th>\n",
              "    </tr>\n",
              "  </thead>\n",
              "  <tbody>\n",
              "    <tr>\n",
              "      <th>0</th>\n",
              "      <td>MCG</td>\n",
              "      <td>DPL</td>\n",
              "      <td>White Oak Library</td>\n",
              "      <td>11701 New Hampshire Avenue, Silver Spring, MD ...</td>\n",
              "      <td>NaN</td>\n",
              "    </tr>\n",
              "    <tr>\n",
              "      <th>1</th>\n",
              "      <td>MCG</td>\n",
              "      <td>RSC</td>\n",
              "      <td>Sidney Kramer Upcounty Service ctr.</td>\n",
              "      <td>12900 Middlebrook Road, Germantown MD</td>\n",
              "      <td>POINT (-77.267914 39.179332)</td>\n",
              "    </tr>\n",
              "    <tr>\n",
              "      <th>2</th>\n",
              "      <td>MCG</td>\n",
              "      <td>DTS</td>\n",
              "      <td>L3 Helpdesk &amp; Office</td>\n",
              "      <td>7361 Calhoun Plaza,  Rockville, MD 20850</td>\n",
              "      <td>NaN</td>\n",
              "    </tr>\n",
              "    <tr>\n",
              "      <th>3</th>\n",
              "      <td>MCG</td>\n",
              "      <td>CAO/CEX/CC/Courts</td>\n",
              "      <td>OIG/ERP Office</td>\n",
              "      <td>51 Monroe Street, Rockville, MD 20850</td>\n",
              "      <td>POINT (-90.409668 40.720439)</td>\n",
              "    </tr>\n",
              "    <tr>\n",
              "      <th>4</th>\n",
              "      <td>MCG</td>\n",
              "      <td>FRS</td>\n",
              "      <td>F&amp;RS</td>\n",
              "      <td>19801 Bealsville Road, Bealsville, MD 20839</td>\n",
              "      <td>NaN</td>\n",
              "    </tr>\n",
              "  </tbody>\n",
              "</table>\n",
              "</div>"
            ],
            "text/plain": [
              "  Agency  ...                      Location\n",
              "0    MCG  ...                           NaN\n",
              "1    MCG  ...  POINT (-77.267914 39.179332)\n",
              "2    MCG  ...                           NaN\n",
              "3    MCG  ...  POINT (-90.409668 40.720439)\n",
              "4    MCG  ...                           NaN\n",
              "\n",
              "[5 rows x 5 columns]"
            ]
          },
          "metadata": {
            "tags": []
          },
          "execution_count": 191
        }
      ]
    },
    {
      "cell_type": "code",
      "metadata": {
        "id": "PHU04CTGXYWx",
        "colab": {
          "base_uri": "https://localhost:8080/"
        },
        "outputId": "fb900067-ab26-4855-a98e-06ce626cadb4"
      },
      "source": [
        "# viewing the unique departments that the data contains\n",
        "df_county.Department.unique()"
      ],
      "execution_count": 192,
      "outputs": [
        {
          "output_type": "execute_result",
          "data": {
            "text/plain": [
              "array(['DPL', 'RSC', 'DTS', 'CAO/CEX/CC/Courts', 'FRS', 'REC', 'DOT',\n",
              "       'DGS', 'HHS', 'BOE', 'DED/DEP', 'DOCR', 'MCPD', 'DLC',\n",
              "       'PIO/PublicSafety', 'Warehouse', 'DHS', 'DPS'], dtype=object)"
            ]
          },
          "metadata": {
            "tags": []
          },
          "execution_count": 192
        }
      ]
    },
    {
      "cell_type": "code",
      "metadata": {
        "id": "HbIDSaK9Y4w5",
        "colab": {
          "base_uri": "https://localhost:8080/"
        },
        "outputId": "0d9ee2ca-fd60-4e46-cb0c-05e1a7a5e2a0"
      },
      "source": [
        "# Looking at how many are missing\n",
        "# it is an issue that there is missing data because that will affect in plotting the points\n",
        "df_county.Location.isnull().sum() "
      ],
      "execution_count": 193,
      "outputs": [
        {
          "output_type": "execute_result",
          "data": {
            "text/plain": [
              "34"
            ]
          },
          "metadata": {
            "tags": []
          },
          "execution_count": 193
        }
      ]
    },
    {
      "cell_type": "code",
      "metadata": {
        "id": "RMIkw1A1ZAae",
        "colab": {
          "base_uri": "https://localhost:8080/"
        },
        "outputId": "4879ff38-a08e-4e9c-e652-a78c6cc24aec"
      },
      "source": [
        "# fixing the way that the \"points\" are in the dataframe\n",
        "# socrata POINT datatypes list their coordinates as \"longitude,latitude\"\n",
        "df_county[[\"Longitude\", \"Latitude\"]] = df_county[\"Location\"].str.replace(\"POINT \\(\",\"\").str.replace(\"\\)\",\"\").str.split(\" \", expand=True)\n",
        "print(df_county)"
      ],
      "execution_count": 194,
      "outputs": [
        {
          "output_type": "stream",
          "text": [
            "    Agency         Department  ...    Longitude   Latitude\n",
            "0      MCG                DPL  ...          NaN        NaN\n",
            "1      MCG                RSC  ...   -77.267914  39.179332\n",
            "2      MCG                DTS  ...          NaN        NaN\n",
            "3      MCG  CAO/CEX/CC/Courts  ...   -90.409668  40.720439\n",
            "4      MCG                FRS  ...          NaN        NaN\n",
            "..     ...                ...  ...          ...        ...\n",
            "173    MCG                DGS  ...  -121.500155  38.549099\n",
            "174    MCG                HHS  ...   -77.177593  39.102672\n",
            "175    MCG                FRS  ...   -77.053153  39.042763\n",
            "176    MCG                DOT  ...          NaN        NaN\n",
            "177    MCG                RSC  ...   -77.095858  38.984796\n",
            "\n",
            "[178 rows x 7 columns]\n"
          ],
          "name": "stdout"
        }
      ]
    },
    {
      "cell_type": "code",
      "metadata": {
        "id": "vQh-yGa-ZjXf"
      },
      "source": [
        "# using geopy to fill in the missing data.\n",
        "from geopy.geocoders import Nominatim\n",
        "geolocator = Nominatim(user_agent=\"capstone\")"
      ],
      "execution_count": 195,
      "outputs": []
    },
    {
      "cell_type": "code",
      "metadata": {
        "id": "6b-ICGowmLNf",
        "colab": {
          "base_uri": "https://localhost:8080/"
        },
        "outputId": "993058da-4c93-4e3b-eba3-6ae7f4d40f20"
      },
      "source": [
        "# the NaN are floats\n",
        "type(df_county['Location'][0])"
      ],
      "execution_count": 196,
      "outputs": [
        {
          "output_type": "execute_result",
          "data": {
            "text/plain": [
              "float"
            ]
          },
          "metadata": {
            "tags": []
          },
          "execution_count": 196
        }
      ]
    },
    {
      "cell_type": "code",
      "metadata": {
        "id": "15-SWcmNmfob",
        "colab": {
          "base_uri": "https://localhost:8080/"
        },
        "outputId": "1d263146-e7c7-40ee-d323-ea61ce5e4c83"
      },
      "source": [
        "# the values that are not missing in locations are strings\n",
        "type(df_county['Location'][10])"
      ],
      "execution_count": 197,
      "outputs": [
        {
          "output_type": "execute_result",
          "data": {
            "text/plain": [
              "str"
            ]
          },
          "metadata": {
            "tags": []
          },
          "execution_count": 197
        }
      ]
    },
    {
      "cell_type": "code",
      "metadata": {
        "id": "EZXzMJ9ZbR2l",
        "colab": {
          "base_uri": "https://localhost:8080/"
        },
        "outputId": "485dc4eb-78bf-49a8-9a92-8f15a26e58b0"
      },
      "source": [
        "# counting the number of times the geolocator fails\n",
        "failed = 0 \n",
        "# getting the value and index of the all the rows\n",
        "for row_num, row in enumerate(df_county[\"Location\"]):\n",
        "  # if the value is NaN (float type) \n",
        "  if type(row) == float:\n",
        "    # geocode the address at the same row\n",
        "    location = geolocator.geocode(df_county[\"Address\"][row_num])\n",
        "    # if geocoded successfully\n",
        "    if location is not None:\n",
        "      df_county[\"Latitude\"][row_num] = location.latitude\n",
        "      df_county[\"Longitude\"][row_num] = location.longitude\n",
        "    else:\n",
        "      failed += 1\n",
        "      print(df_county[\"Address\"][row_num])\n",
        "print(failed)"
      ],
      "execution_count": 198,
      "outputs": [
        {
          "output_type": "stream",
          "text": [
            "7361 Calhoun Plaza,  Rockville, MD 20850\n",
            "19801 Bealsville Road, Bealsville, MD 20839\n",
            "8540 Anniversary Drive, Gaithersburg, MD 20877\n",
            "8630 Fenton Street, 10th floor, Silver Spring, MD\n",
            "1400 Spring St suite 305, Silver Spring, MD 20910\n",
            "19300 Georgia Avenue, Brookville,  MD 20833\n",
            "3300 Briggs Chaney Road, Silver Spring, MD 20904\n",
            "14715 Good Hope Road, Silver Spring, MD 20905\n",
            "13900 Old Columbia Pike, Silver Spring, MD 20904\n",
            "14910 Old Comumbia Pike, Burtonsville, MD 20866\n",
            "18905 Kingsview Drive, Germantown, MD, 20874\n",
            "4407 Aspen Hill Road, Rockville, MD\n",
            "14335 Cape May Road, Silver Spring, MD 20904\n",
            "13\n"
          ],
          "name": "stdout"
        }
      ]
    },
    {
      "cell_type": "markdown",
      "metadata": {
        "id": "aC3Lsw4yc1gE"
      },
      "source": [
        "I then took this missing addresses, and was not able to find them all using GeoPy, and therefore decided to use an online platform called \"Geocodio\" to upload files with the address that are missing above.\n",
        "\n",
        "After using Geogodio, I uploaded a CSV that has all the complete missing addresses"
      ]
    },
    {
      "cell_type": "code",
      "metadata": {
        "colab": {
          "base_uri": "https://localhost:8080/"
        },
        "id": "9NlccNZCXfI0",
        "outputId": "89a0a0a9-f6ef-43e1-bcfc-79846f747de0"
      },
      "source": [
        "df_county_missing = pd.read_csv('county_wifi_complete.csv')\n",
        "print(df_county_missing)"
      ],
      "execution_count": 199,
      "outputs": [
        {
          "output_type": "stream",
          "text": [
            "                                              Address   Latitude  Longitude\n",
            "0            7361 Calhoun Plaza,  Rockville, MD 20850  39.108593 -77.151413\n",
            "1         19801 Bealsville Road, Bealsville, MD 20839  39.180120 -77.411689\n",
            "2      8540 Anniversary Drive, Gaithersburg, MD 20877  39.128437 -77.176747\n",
            "3   8630 Fenton Street, 10th floor, Silver Spring, MD  38.997800 -77.028504\n",
            "4   1400 Spring St suite 305, Silver Spring, MD 20910  38.998277 -77.033385\n",
            "5         19300 Georgia Avenue, Brookville,  MD 20833  39.173028 -77.059161\n",
            "6    3300 Briggs Chaney Road, Silver Spring, MD 20904  39.078652 -76.943824\n",
            "7       14715 Good Hope Road, Silver Spring, MD 20905  39.096230 -76.984972\n",
            "8    13900 Old Columbia Pike, Silver Spring, MD 20904  39.085080 -76.951411\n",
            "9     14910 Old Comumbia Pike, Burtonsville, MD 20866  39.105644 -76.935861\n",
            "10       18905 Kingsview Drive, Germantown, MD, 20874  39.165153 -77.285467\n",
            "11                4407 Aspen Hill Road, Rockville, MD  39.079657 -77.088606\n",
            "12       14335 Cape May Road, Silver Spring, MD 20904  39.090311 -76.996699\n"
          ],
          "name": "stdout"
        }
      ]
    },
    {
      "cell_type": "code",
      "metadata": {
        "colab": {
          "base_uri": "https://localhost:8080/"
        },
        "id": "Gy7OMXTUgBsY",
        "outputId": "814ef376-75a9-4e1e-ea72-aab1d342a244"
      },
      "source": [
        "# Printing the indexes of the orginal missing data\n",
        "print(df_county[df_county['Address']== '7361 Calhoun Plaza,  Rockville, MD 20850'].index.values)\n",
        "print(df_county[df_county['Address']== '19801 Bealsville Road, Bealsville, MD 20839'].index.values)\n",
        "print(df_county[df_county['Address']== '8540 Anniversary Drive, Gaithersburg, MD 20877'].index.values)\n",
        "print(df_county[df_county['Address']== '8630 Fenton Street, 10th floor, Silver Spring, MD'].index.values)\n",
        "print(df_county[df_county['Address']== '1400 Spring St suite 305, Silver Spring, MD 20910'].index.values)\n",
        "print(df_county[df_county['Address']== '19300 Georgia Avenue, Brookville,  MD 20833'].index.values)\n",
        "print(df_county[df_county['Address']== '3300 Briggs Chaney Road, Silver Spring, MD 20904'].index.values)\n",
        "print(df_county[df_county['Address']== '14715 Good Hope Road, Silver Spring, MD 20905'].index.values)\n",
        "print(df_county[df_county['Address']== '13900 Old Columbia Pike, Silver Spring, MD 20904'].index.values)\n",
        "print(df_county[df_county['Address']== '14910 Old Comumbia Pike, Burtonsville, MD 20866'].index.values)\n",
        "print(df_county[df_county['Address']== '18905 Kingsview Drive, Germantown, MD, 20874'].index.values)\n",
        "print(df_county[df_county['Address']== '4407 Aspen Hill Road, Rockville, MD'].index.values)\n",
        "print(df_county[df_county['Address']== '14335 Cape May Road, Silver Spring, MD 20904'].index.values)"
      ],
      "execution_count": 200,
      "outputs": [
        {
          "output_type": "stream",
          "text": [
            "[2]\n",
            "[4]\n",
            "[13]\n",
            "[29]\n",
            "[41]\n",
            "[48]\n",
            "[130]\n",
            "[131]\n",
            "[133]\n",
            "[142]\n",
            "[147]\n",
            "[152]\n",
            "[176]\n"
          ],
          "name": "stdout"
        }
      ]
    },
    {
      "cell_type": "code",
      "metadata": {
        "id": "h5z6jBMyXeXv"
      },
      "source": [
        "# Replacing missing value \n",
        "df_county.loc[2, 'Latitude'] = 39.108593\n",
        "df_county.loc[2, 'Longitude'] = -77.151413\n",
        "\n",
        "df_county.loc[4, 'Latitude'] = 39.180120\n",
        "df_county.loc[4, 'Longitude'] = -77.411689\n",
        "\n",
        "df_county.loc[13, 'Latitude'] = 39.128437 \n",
        "df_county.loc[13, 'Longitude'] = -77.176747\n",
        "\n",
        "df_county.loc[29, 'Latitude'] = 38.997800 \n",
        "df_county.loc[29, 'Longitude'] = -77.028504\n",
        "\n",
        "df_county.loc[41, 'Latitude'] = 38.998277 \n",
        "df_county.loc[41, 'Longitude'] = -77.033385\n",
        "\n",
        "df_county.loc[48, 'Latitude'] = 39.173028 \n",
        "df_county.loc[48, 'Longitude'] = -77.059161\n",
        "\n",
        "df_county.loc[130, 'Latitude'] = 39.078652 \n",
        "df_county.loc[130, 'Longitude'] = -76.943824\n",
        "\n",
        "df_county.loc[131, 'Latitude'] = 39.096230 \n",
        "df_county.loc[131,'Longitude'] = -76.984972\n",
        "\n",
        "df_county.loc[133, 'Latitude'] = 39.085080 \n",
        "df_county.loc[133, 'Longitude'] = -76.951411\n",
        "\n",
        "df_county.loc[142, 'Latitude'] = 39.105644 \n",
        "df_county.loc[142, 'Longitude'] = -76.935861\n",
        "\n",
        "df_county.loc[147, 'Latitude'] = 39.165153 \n",
        "df_county.loc[147, 'Longitude'] = -77.285467\n",
        "\n",
        "df_county.loc[152, 'Latitude'] = 39.079657 \n",
        "df_county.loc[152, 'Longitude'] = -77.088606\n",
        "\n",
        "df_county.loc[176, 'Latitude'] = 39.090311 \n",
        "df_county.loc[176, 'Longitude'] = -76.99669\n",
        "\n",
        "df_county.loc[176, 'Latitude'] = 39.090311 \n",
        "df_county.loc[176, 'Longitude'] = -76.99669"
      ],
      "execution_count": 201,
      "outputs": []
    },
    {
      "cell_type": "code",
      "metadata": {
        "colab": {
          "base_uri": "https://localhost:8080/"
        },
        "id": "dcmBZxLIIECh",
        "outputId": "b7f4b862-1d68-479b-8b87-8543be7c123f"
      },
      "source": [
        "# Checking that the missing data was inserted correctly\n",
        "df_county.loc[133] "
      ],
      "execution_count": 202,
      "outputs": [
        {
          "output_type": "execute_result",
          "data": {
            "text/plain": [
              "Agency                                                     MCG\n",
              "Department                                                 FRS\n",
              "Name                                                      F&RS\n",
              "Address       13900 Old Columbia Pike, Silver Spring, MD 20904\n",
              "Location                                                   NaN\n",
              "Longitude                                             -76.9514\n",
              "Latitude                                               39.0851\n",
              "Name: 133, dtype: object"
            ]
          },
          "metadata": {
            "tags": []
          },
          "execution_count": 202
        }
      ]
    },
    {
      "cell_type": "code",
      "metadata": {
        "colab": {
          "base_uri": "https://localhost:8080/"
        },
        "id": "mBoU6bv9P0MW",
        "outputId": "abe24e2e-9451-4314-d557-655f3e99dae1"
      },
      "source": [
        "# Checking that there are no more null values\n",
        "print(df_county.Latitude.isnull().sum())\n",
        "print(df_county.Longitude.isnull().sum())"
      ],
      "execution_count": 203,
      "outputs": [
        {
          "output_type": "stream",
          "text": [
            "0\n",
            "0\n"
          ],
          "name": "stdout"
        }
      ]
    },
    {
      "cell_type": "code",
      "metadata": {
        "colab": {
          "base_uri": "https://localhost:8080/",
          "height": 77
        },
        "id": "gOK6oEB5eCQ2",
        "outputId": "83b5316e-7d82-43ce-da64-354c73762a49"
      },
      "source": [
        "df_county[(df_county['Address'] == '401 Hungford Dr.')]"
      ],
      "execution_count": 204,
      "outputs": [
        {
          "output_type": "execute_result",
          "data": {
            "text/html": [
              "<div>\n",
              "<style scoped>\n",
              "    .dataframe tbody tr th:only-of-type {\n",
              "        vertical-align: middle;\n",
              "    }\n",
              "\n",
              "    .dataframe tbody tr th {\n",
              "        vertical-align: top;\n",
              "    }\n",
              "\n",
              "    .dataframe thead th {\n",
              "        text-align: right;\n",
              "    }\n",
              "</style>\n",
              "<table border=\"1\" class=\"dataframe\">\n",
              "  <thead>\n",
              "    <tr style=\"text-align: right;\">\n",
              "      <th></th>\n",
              "      <th>Agency</th>\n",
              "      <th>Department</th>\n",
              "      <th>Name</th>\n",
              "      <th>Address</th>\n",
              "      <th>Location</th>\n",
              "      <th>Longitude</th>\n",
              "      <th>Latitude</th>\n",
              "    </tr>\n",
              "  </thead>\n",
              "  <tbody>\n",
              "    <tr>\n",
              "      <th>107</th>\n",
              "      <td>MCG</td>\n",
              "      <td>HHS</td>\n",
              "      <td>HHS -401 Hungford</td>\n",
              "      <td>401 Hungford Dr.</td>\n",
              "      <td>POINT (-88.238807 42.044501)</td>\n",
              "      <td>-88.238807</td>\n",
              "      <td>42.044501</td>\n",
              "    </tr>\n",
              "  </tbody>\n",
              "</table>\n",
              "</div>"
            ],
            "text/plain": [
              "    Agency Department  ...   Longitude   Latitude\n",
              "107    MCG        HHS  ...  -88.238807  42.044501\n",
              "\n",
              "[1 rows x 7 columns]"
            ]
          },
          "metadata": {
            "tags": []
          },
          "execution_count": 204
        }
      ]
    },
    {
      "cell_type": "code",
      "metadata": {
        "id": "EHXeYMrgQBjj"
      },
      "source": [
        "df_county.to_excel(\"df_wifi_final.xlsx\", sheet_name='county_wifi')  "
      ],
      "execution_count": 205,
      "outputs": []
    },
    {
      "cell_type": "code",
      "metadata": {
        "colab": {
          "base_uri": "https://localhost:8080/"
        },
        "id": "9rKt4aF2DAJ_",
        "outputId": "f48ba564-b933-4f14-b9a8-c4119ab1aa95"
      },
      "source": [
        "df_county.dtypes"
      ],
      "execution_count": 206,
      "outputs": [
        {
          "output_type": "execute_result",
          "data": {
            "text/plain": [
              "Agency        object\n",
              "Department    object\n",
              "Name          object\n",
              "Address       object\n",
              "Location      object\n",
              "Longitude     object\n",
              "Latitude      object\n",
              "dtype: object"
            ]
          },
          "metadata": {
            "tags": []
          },
          "execution_count": 206
        }
      ]
    },
    {
      "cell_type": "markdown",
      "metadata": {
        "id": "buDitfjo_CLN"
      },
      "source": [
        "#### 1a.1. County Wifi Dataset Corrections"
      ]
    },
    {
      "cell_type": "markdown",
      "metadata": {
        "id": "sJrN7M88_UDs"
      },
      "source": [
        "Through graphing coordinates provided by the original county wifi dataset in Tableau, I noticed that are some errors in the Longitude and Latitude in the OG dataset, and must make corrections in order to accurately map."
      ]
    },
    {
      "cell_type": "code",
      "metadata": {
        "id": "sebLFfkLDkn5"
      },
      "source": [
        "# Changing all the Longitude and Latiude to numeric \n",
        "df_county[\"Longitude\"]         = pd.to_numeric(df_county[\"Longitude\"])\n",
        "df_county[\"Latitude\"]         = pd.to_numeric(df_county[\"Latitude\"])"
      ],
      "execution_count": 207,
      "outputs": []
    },
    {
      "cell_type": "code",
      "metadata": {
        "id": "sJ3hh6Ac_Bib"
      },
      "source": [
        "# Identifying those addresses with the incorrect Longitude (less than -77.5) or (more than -77)\n",
        "errors = df_county[df_county['Longitude'] < -77.5].index\n",
        "errors = sorted(np.append(errors, df_county[df_county['Longitude'] > -77].index))\n",
        "df_errors = df_county.iloc[errors][\"Address\"]"
      ],
      "execution_count": 208,
      "outputs": []
    },
    {
      "cell_type": "code",
      "metadata": {
        "colab": {
          "base_uri": "https://localhost:8080/"
        },
        "id": "PTPk0X7ZGFbZ",
        "outputId": "0af9e870-1fba-40f7-c580-745c921a1268"
      },
      "source": [
        "print(df_errors)"
      ],
      "execution_count": 209,
      "outputs": [
        {
          "output_type": "stream",
          "text": [
            "0      11701 New Hampshire Avenue, Silver Spring, MD ...\n",
            "3                  51 Monroe Street, Rockville, MD 20850\n",
            "6               8700 Piney Branch Rd., Silver Spring, MD\n",
            "11                  27 Court House Square, Rockville, MD\n",
            "12                     50 Maryland Avenue, Rockville, MD\n",
            "14             14906 Old Columbia Pike, Burtonsville, MD\n",
            "18                         9701 Main Street Damascus, MD\n",
            "20                   1201 Jackson Rd., Silver Spring, MD\n",
            "21                  29 Court House Square, Rockville, MD\n",
            "22        18753 North Frederick Avenue, Gaithersburg, MD\n",
            "25                     50 Maryland Avenue, Rockville, MD\n",
            "27     14015 New Hampshire Avenue,Â Silver Spring, MD...\n",
            "37                     4301 Willow Lane, Chevy Chase, MD\n",
            "42          100 Maryland Avenue, 3rd Floor, Rockville MD\n",
            "69         13216 New Hampshire Avenue, Silver Spring, MD\n",
            "71       15620 Old Columbia Pike, Burtonsville, MD 20866\n",
            "76                    1700 April Lane, Silver Spring, Md\n",
            "80     11239 New Hampshire Avenue, Silver Spring, MD ...\n",
            "92                1002 Milestone Dr, White Oak, MD 20904\n",
            "100    10617 New Hampshire Ave., Silver Spring, MD 20903\n",
            "103        723 Cloverly Avenue, Silver Spring , MD 20905\n",
            "107                                     401 Hungford Dr.\n",
            "130     3300 Briggs Chaney Road, Silver Spring, MD 20904\n",
            "131        14715 Good Hope Road, Silver Spring, MD 20905\n",
            "133     13900 Old Columbia Pike, Silver Spring, MD 20904\n",
            "138             8005 Connecticut Avenue, Chevy Chase, MD\n",
            "140             191 East Jefferson, Rockville, MD, 20850\n",
            "142      14910 Old Comumbia Pike, Burtonsville, MD 20866\n",
            "144                        8001 River Road, Bethesda, MD\n",
            "145                4010 Randolph Road, Silver Spring. MD\n",
            "153                 18529 Brooke Road,  Sandy Spring, Md\n",
            "154              1000 Forest Glen Rd., Silver Spring, Md\n",
            "156               8800 Garland Avenue, Silver Spring, MD\n",
            "159              8712 Brookville Road, Silver Spring, MD\n",
            "160                   9404 Falls Road, Potomac, MD 20854\n",
            "161                   100 Maryland Avenue, Rockville, MD\n",
            "163                        3310 Gateshead  Manor Way, MD\n",
            "172                  2004 Queensguard Drive, Wheaton, MD\n",
            "173                 1451 Seven Locks Road, Rockville, MD\n",
            "176         14335 Cape May Road, Silver Spring, MD 20904\n",
            "Name: Address, dtype: object\n"
          ],
          "name": "stdout"
        }
      ]
    },
    {
      "cell_type": "code",
      "metadata": {
        "id": "qrzR48YtGTds"
      },
      "source": [
        "# Saving error rows to a csv file in order to use online coordinates finder\n",
        "df_errors.to_csv('df_county_errors.csv')"
      ],
      "execution_count": 210,
      "outputs": []
    },
    {
      "cell_type": "markdown",
      "metadata": {
        "id": "qPRcDaWMgSyo"
      },
      "source": [
        "Once again, I used the online platform Geocodio to find the missing coordinates. "
      ]
    },
    {
      "cell_type": "code",
      "metadata": {
        "colab": {
          "base_uri": "https://localhost:8080/",
          "height": 601
        },
        "id": "SSCxM7z_Hjmk",
        "outputId": "710f8979-65ad-476e-e2f7-63c67a6e34e0"
      },
      "source": [
        "# Importing the corrected addresses\n",
        "df_county_corrections = pd.read_csv('df_county_corrections.csv')\n",
        "df_county_corrections.head()"
      ],
      "execution_count": 211,
      "outputs": [
        {
          "output_type": "execute_result",
          "data": {
            "text/html": [
              "<div>\n",
              "<style scoped>\n",
              "    .dataframe tbody tr th:only-of-type {\n",
              "        vertical-align: middle;\n",
              "    }\n",
              "\n",
              "    .dataframe tbody tr th {\n",
              "        vertical-align: top;\n",
              "    }\n",
              "\n",
              "    .dataframe thead th {\n",
              "        text-align: right;\n",
              "    }\n",
              "</style>\n",
              "<table border=\"1\" class=\"dataframe\">\n",
              "  <thead>\n",
              "    <tr style=\"text-align: right;\">\n",
              "      <th></th>\n",
              "      <th>Unnamed: 0</th>\n",
              "      <th>Address</th>\n",
              "      <th>Latitude</th>\n",
              "      <th>Longitude</th>\n",
              "      <th>Accuracy Score</th>\n",
              "      <th>Accuracy Type</th>\n",
              "      <th>Number</th>\n",
              "      <th>Street</th>\n",
              "      <th>Unit Type</th>\n",
              "      <th>Unit Number</th>\n",
              "      <th>City</th>\n",
              "      <th>State</th>\n",
              "      <th>County</th>\n",
              "      <th>Zip</th>\n",
              "      <th>Country</th>\n",
              "      <th>Source</th>\n",
              "    </tr>\n",
              "  </thead>\n",
              "  <tbody>\n",
              "    <tr>\n",
              "      <th>0</th>\n",
              "      <td>0</td>\n",
              "      <td>11701 New Hampshire Avenue, Silver Spring, MD ...</td>\n",
              "      <td>39.048058</td>\n",
              "      <td>-76.992585</td>\n",
              "      <td>0.95</td>\n",
              "      <td>rooftop</td>\n",
              "      <td>11701.0</td>\n",
              "      <td>New Hampshire Ave</td>\n",
              "      <td>NaN</td>\n",
              "      <td>NaN</td>\n",
              "      <td>Silver Spring</td>\n",
              "      <td>MD</td>\n",
              "      <td>Montgomery County</td>\n",
              "      <td>20904.0</td>\n",
              "      <td>US</td>\n",
              "      <td>Montgomery</td>\n",
              "    </tr>\n",
              "    <tr>\n",
              "      <th>1</th>\n",
              "      <td>3</td>\n",
              "      <td>51 Monroe Street, Rockville, MD 20850</td>\n",
              "      <td>39.083800</td>\n",
              "      <td>-77.148147</td>\n",
              "      <td>1.00</td>\n",
              "      <td>rooftop</td>\n",
              "      <td>51.0</td>\n",
              "      <td>Monroe St</td>\n",
              "      <td>NaN</td>\n",
              "      <td>NaN</td>\n",
              "      <td>Rockville</td>\n",
              "      <td>MD</td>\n",
              "      <td>Montgomery County</td>\n",
              "      <td>20850.0</td>\n",
              "      <td>US</td>\n",
              "      <td>Montgomery</td>\n",
              "    </tr>\n",
              "    <tr>\n",
              "      <th>2</th>\n",
              "      <td>6</td>\n",
              "      <td>8700 Piney Branch Rd., Silver Spring, MD</td>\n",
              "      <td>38.999811</td>\n",
              "      <td>-76.998220</td>\n",
              "      <td>1.00</td>\n",
              "      <td>rooftop</td>\n",
              "      <td>8700.0</td>\n",
              "      <td>Piney Branch Rd</td>\n",
              "      <td>NaN</td>\n",
              "      <td>NaN</td>\n",
              "      <td>Silver Spring</td>\n",
              "      <td>MD</td>\n",
              "      <td>Montgomery County</td>\n",
              "      <td>20901.0</td>\n",
              "      <td>US</td>\n",
              "      <td>Montgomery</td>\n",
              "    </tr>\n",
              "    <tr>\n",
              "      <th>3</th>\n",
              "      <td>11</td>\n",
              "      <td>27 Court House Square, Rockville, MD</td>\n",
              "      <td>39.004046</td>\n",
              "      <td>-77.101972</td>\n",
              "      <td>0.80</td>\n",
              "      <td>range_interpolation</td>\n",
              "      <td>27.0</td>\n",
              "      <td>N Ct</td>\n",
              "      <td>NaN</td>\n",
              "      <td>NaN</td>\n",
              "      <td>Bethesda</td>\n",
              "      <td>MD</td>\n",
              "      <td>Montgomery County</td>\n",
              "      <td>20814.0</td>\n",
              "      <td>US</td>\n",
              "      <td>TIGER/Line® dataset from the US Census Bureau</td>\n",
              "    </tr>\n",
              "    <tr>\n",
              "      <th>4</th>\n",
              "      <td>12</td>\n",
              "      <td>50 Maryland Avenue, Rockville, MD</td>\n",
              "      <td>39.083283</td>\n",
              "      <td>-77.150677</td>\n",
              "      <td>1.00</td>\n",
              "      <td>rooftop</td>\n",
              "      <td>50.0</td>\n",
              "      <td>Maryland Ave</td>\n",
              "      <td>NaN</td>\n",
              "      <td>NaN</td>\n",
              "      <td>Rockville</td>\n",
              "      <td>MD</td>\n",
              "      <td>Montgomery County</td>\n",
              "      <td>20850.0</td>\n",
              "      <td>US</td>\n",
              "      <td>City of Rockville</td>\n",
              "    </tr>\n",
              "  </tbody>\n",
              "</table>\n",
              "</div>"
            ],
            "text/plain": [
              "   Unnamed: 0  ...                                         Source\n",
              "0           0  ...                                     Montgomery\n",
              "1           3  ...                                     Montgomery\n",
              "2           6  ...                                     Montgomery\n",
              "3          11  ...  TIGER/Line® dataset from the US Census Bureau\n",
              "4          12  ...                              City of Rockville\n",
              "\n",
              "[5 rows x 16 columns]"
            ]
          },
          "metadata": {
            "tags": []
          },
          "execution_count": 211
        }
      ]
    },
    {
      "cell_type": "code",
      "metadata": {
        "id": "l4xRK1LMLxgA"
      },
      "source": [
        "# combinging the missing data with with corrected data for the specific rows\n",
        "df_county_copy = df_county.copy()\n",
        "for col_num, col in zip(errors, df_county_copy.iloc[errors][\"Address\"]):\n",
        "  df_county_copy.loc[col_num, \"Longitude\"] = df_county_corrections[df_county_corrections[\"Address\"] == col][\"Longitude\"].values[0]\n",
        "  df_county_copy.loc[col_num, \"Latitude\"] = df_county_corrections[df_county_corrections[\"Address\"] == col][\"Latitude\"].values[0]"
      ],
      "execution_count": 212,
      "outputs": []
    },
    {
      "cell_type": "code",
      "metadata": {
        "colab": {
          "base_uri": "https://localhost:8080/",
          "height": 523
        },
        "id": "eimo35e5N56I",
        "outputId": "04ae1bd1-9f4f-40bb-f7ca-68796e8e55b5"
      },
      "source": [
        "# Viewing the corrected data\n",
        "df_county_copy"
      ],
      "execution_count": 213,
      "outputs": [
        {
          "output_type": "execute_result",
          "data": {
            "text/html": [
              "<div>\n",
              "<style scoped>\n",
              "    .dataframe tbody tr th:only-of-type {\n",
              "        vertical-align: middle;\n",
              "    }\n",
              "\n",
              "    .dataframe tbody tr th {\n",
              "        vertical-align: top;\n",
              "    }\n",
              "\n",
              "    .dataframe thead th {\n",
              "        text-align: right;\n",
              "    }\n",
              "</style>\n",
              "<table border=\"1\" class=\"dataframe\">\n",
              "  <thead>\n",
              "    <tr style=\"text-align: right;\">\n",
              "      <th></th>\n",
              "      <th>Agency</th>\n",
              "      <th>Department</th>\n",
              "      <th>Name</th>\n",
              "      <th>Address</th>\n",
              "      <th>Location</th>\n",
              "      <th>Longitude</th>\n",
              "      <th>Latitude</th>\n",
              "    </tr>\n",
              "  </thead>\n",
              "  <tbody>\n",
              "    <tr>\n",
              "      <th>0</th>\n",
              "      <td>MCG</td>\n",
              "      <td>DPL</td>\n",
              "      <td>White Oak Library</td>\n",
              "      <td>11701 New Hampshire Avenue, Silver Spring, MD ...</td>\n",
              "      <td>NaN</td>\n",
              "      <td>-76.992585</td>\n",
              "      <td>39.048058</td>\n",
              "    </tr>\n",
              "    <tr>\n",
              "      <th>1</th>\n",
              "      <td>MCG</td>\n",
              "      <td>RSC</td>\n",
              "      <td>Sidney Kramer Upcounty Service ctr.</td>\n",
              "      <td>12900 Middlebrook Road, Germantown MD</td>\n",
              "      <td>POINT (-77.267914 39.179332)</td>\n",
              "      <td>-77.267914</td>\n",
              "      <td>39.179332</td>\n",
              "    </tr>\n",
              "    <tr>\n",
              "      <th>2</th>\n",
              "      <td>MCG</td>\n",
              "      <td>DTS</td>\n",
              "      <td>L3 Helpdesk &amp; Office</td>\n",
              "      <td>7361 Calhoun Plaza,  Rockville, MD 20850</td>\n",
              "      <td>NaN</td>\n",
              "      <td>-77.151413</td>\n",
              "      <td>39.108593</td>\n",
              "    </tr>\n",
              "    <tr>\n",
              "      <th>3</th>\n",
              "      <td>MCG</td>\n",
              "      <td>CAO/CEX/CC/Courts</td>\n",
              "      <td>OIG/ERP Office</td>\n",
              "      <td>51 Monroe Street, Rockville, MD 20850</td>\n",
              "      <td>POINT (-90.409668 40.720439)</td>\n",
              "      <td>-77.148147</td>\n",
              "      <td>39.083800</td>\n",
              "    </tr>\n",
              "    <tr>\n",
              "      <th>4</th>\n",
              "      <td>MCG</td>\n",
              "      <td>FRS</td>\n",
              "      <td>F&amp;RS</td>\n",
              "      <td>19801 Bealsville Road, Bealsville, MD 20839</td>\n",
              "      <td>NaN</td>\n",
              "      <td>-77.411689</td>\n",
              "      <td>39.180120</td>\n",
              "    </tr>\n",
              "    <tr>\n",
              "      <th>...</th>\n",
              "      <td>...</td>\n",
              "      <td>...</td>\n",
              "      <td>...</td>\n",
              "      <td>...</td>\n",
              "      <td>...</td>\n",
              "      <td>...</td>\n",
              "      <td>...</td>\n",
              "    </tr>\n",
              "    <tr>\n",
              "      <th>173</th>\n",
              "      <td>MCG</td>\n",
              "      <td>DGS</td>\n",
              "      <td>Swing Office Space</td>\n",
              "      <td>1451 Seven Locks Road, Rockville, MD</td>\n",
              "      <td>POINT (-121.500155 38.549099)</td>\n",
              "      <td>-77.162760</td>\n",
              "      <td>39.070994</td>\n",
              "    </tr>\n",
              "    <tr>\n",
              "      <th>174</th>\n",
              "      <td>MCG</td>\n",
              "      <td>HHS</td>\n",
              "      <td>HHS - 1301 Piccard Drive</td>\n",
              "      <td>1301 Piccard Drive, Rockville, MD</td>\n",
              "      <td>POINT (-77.177593 39.102672)</td>\n",
              "      <td>-77.177593</td>\n",
              "      <td>39.102672</td>\n",
              "    </tr>\n",
              "    <tr>\n",
              "      <th>175</th>\n",
              "      <td>MCG</td>\n",
              "      <td>FRS</td>\n",
              "      <td>Wheaton Resource Center</td>\n",
              "      <td>11435 Grandview Ave, Wheaton, MD</td>\n",
              "      <td>POINT (-77.053153 39.042763)</td>\n",
              "      <td>-77.053153</td>\n",
              "      <td>39.042763</td>\n",
              "    </tr>\n",
              "    <tr>\n",
              "      <th>176</th>\n",
              "      <td>MCG</td>\n",
              "      <td>DOT</td>\n",
              "      <td>Colesville Highway Service Depot</td>\n",
              "      <td>14335 Cape May Road, Silver Spring, MD 20904</td>\n",
              "      <td>NaN</td>\n",
              "      <td>-76.996699</td>\n",
              "      <td>39.090311</td>\n",
              "    </tr>\n",
              "    <tr>\n",
              "      <th>177</th>\n",
              "      <td>MCG</td>\n",
              "      <td>RSC</td>\n",
              "      <td>Bethesda/Chevy Chase RSC</td>\n",
              "      <td>4805 Edgemoor Lane, Bethesda, Md</td>\n",
              "      <td>POINT (-77.095858 38.984796)</td>\n",
              "      <td>-77.095858</td>\n",
              "      <td>38.984796</td>\n",
              "    </tr>\n",
              "  </tbody>\n",
              "</table>\n",
              "<p>178 rows × 7 columns</p>\n",
              "</div>"
            ],
            "text/plain": [
              "    Agency         Department  ...  Longitude   Latitude\n",
              "0      MCG                DPL  ... -76.992585  39.048058\n",
              "1      MCG                RSC  ... -77.267914  39.179332\n",
              "2      MCG                DTS  ... -77.151413  39.108593\n",
              "3      MCG  CAO/CEX/CC/Courts  ... -77.148147  39.083800\n",
              "4      MCG                FRS  ... -77.411689  39.180120\n",
              "..     ...                ...  ...        ...        ...\n",
              "173    MCG                DGS  ... -77.162760  39.070994\n",
              "174    MCG                HHS  ... -77.177593  39.102672\n",
              "175    MCG                FRS  ... -77.053153  39.042763\n",
              "176    MCG                DOT  ... -76.996699  39.090311\n",
              "177    MCG                RSC  ... -77.095858  38.984796\n",
              "\n",
              "[178 rows x 7 columns]"
            ]
          },
          "metadata": {
            "tags": []
          },
          "execution_count": 213
        }
      ]
    },
    {
      "cell_type": "code",
      "metadata": {
        "id": "DnkYIFNGIWO4"
      },
      "source": [
        "# Saving it into a new file in order to plot in tableeau\n",
        "df_county_copy.to_excel(\"df_county_corrections_final.xlsx\", sheet_name='county_corrections')  "
      ],
      "execution_count": 214,
      "outputs": []
    },
    {
      "cell_type": "markdown",
      "metadata": {
        "id": "t6HwJ2Q4Cu1r"
      },
      "source": [
        "### 1b. Public Schools Dataset"
      ]
    },
    {
      "cell_type": "code",
      "metadata": {
        "colab": {
          "base_uri": "https://localhost:8080/",
          "height": 397
        },
        "id": "H_wjBipLCfAr",
        "outputId": "953526ff-e3ba-4a0f-da6f-47335df4fa90"
      },
      "source": [
        "# reading and viewing the head of the csv files for county government wifi locations\n",
        "df_school = pd.read_csv('Public_Schools.csv')\n",
        "df_school.head()"
      ],
      "execution_count": 65,
      "outputs": [
        {
          "output_type": "execute_result",
          "data": {
            "text/html": [
              "<div>\n",
              "<style scoped>\n",
              "    .dataframe tbody tr th:only-of-type {\n",
              "        vertical-align: middle;\n",
              "    }\n",
              "\n",
              "    .dataframe tbody tr th {\n",
              "        vertical-align: top;\n",
              "    }\n",
              "\n",
              "    .dataframe thead th {\n",
              "        text-align: right;\n",
              "    }\n",
              "</style>\n",
              "<table border=\"1\" class=\"dataframe\">\n",
              "  <thead>\n",
              "    <tr style=\"text-align: right;\">\n",
              "      <th></th>\n",
              "      <th>CATEGORY</th>\n",
              "      <th>SCHOOL NAME</th>\n",
              "      <th>ADDRESS</th>\n",
              "      <th>CITY</th>\n",
              "      <th>ZIP CODE</th>\n",
              "      <th>PHONE</th>\n",
              "      <th>URL</th>\n",
              "      <th>LONGITUDE</th>\n",
              "      <th>LATITUDE</th>\n",
              "      <th>LOCATION</th>\n",
              "    </tr>\n",
              "  </thead>\n",
              "  <tbody>\n",
              "    <tr>\n",
              "      <th>0</th>\n",
              "      <td>ELEMENTARY SCHOOLS</td>\n",
              "      <td>Beall ES</td>\n",
              "      <td>451 Beall Ave</td>\n",
              "      <td>Rockville</td>\n",
              "      <td>20850</td>\n",
              "      <td>301-279-8460</td>\n",
              "      <td>http://www.montgomeryschoolsmd.org/schools/bea...</td>\n",
              "      <td>-77.161758</td>\n",
              "      <td>39.087775</td>\n",
              "      <td>451 Beall Ave\\nRockville, MD 20850\\n(39.087775...</td>\n",
              "    </tr>\n",
              "    <tr>\n",
              "      <th>1</th>\n",
              "      <td>ELEMENTARY SCHOOLS</td>\n",
              "      <td>Clearspring ES</td>\n",
              "      <td>9930 Moyer Rd</td>\n",
              "      <td>Damascus</td>\n",
              "      <td>20872</td>\n",
              "      <td>301-253-7004</td>\n",
              "      <td>http://www.montgomeryschoolsmd.org/schools/cle...</td>\n",
              "      <td>-77.207301</td>\n",
              "      <td>39.265783</td>\n",
              "      <td>9930 Moyer Rd\\nDamascus, MD 20872\\n(39.2657831...</td>\n",
              "    </tr>\n",
              "    <tr>\n",
              "      <th>2</th>\n",
              "      <td>ELEMENTARY SCHOOLS</td>\n",
              "      <td>Sherwood ES</td>\n",
              "      <td>1401 Olney Sandy Spring Rd</td>\n",
              "      <td>Sandy Spring</td>\n",
              "      <td>20860</td>\n",
              "      <td>301-924-3195</td>\n",
              "      <td>http://www.montgomeryschoolsmd.org/schools/she...</td>\n",
              "      <td>-77.033116</td>\n",
              "      <td>39.149584</td>\n",
              "      <td>1401 Olney Sandy Spring Rd\\nSandy Spring, MD 2...</td>\n",
              "    </tr>\n",
              "    <tr>\n",
              "      <th>3</th>\n",
              "      <td>ELEMENTARY SCHOOLS</td>\n",
              "      <td>Pine Crest ES</td>\n",
              "      <td>201 Woodmoor Dr</td>\n",
              "      <td>Silver Spring</td>\n",
              "      <td>20901</td>\n",
              "      <td>301-649-8066</td>\n",
              "      <td>http://www.montgomeryschoolsmd.org/schools/pin...</td>\n",
              "      <td>-77.005038</td>\n",
              "      <td>39.021311</td>\n",
              "      <td>201 Woodmoor Dr\\nSilver Spring, MD 20901\\n(39....</td>\n",
              "    </tr>\n",
              "    <tr>\n",
              "      <th>4</th>\n",
              "      <td>MIDDLE SCHOOLS</td>\n",
              "      <td>Earle B. Wood MS</td>\n",
              "      <td>14615 Bauer Dr</td>\n",
              "      <td>Rockville</td>\n",
              "      <td>20852</td>\n",
              "      <td>301-460-2150</td>\n",
              "      <td>http://www.montgomeryschoolsmd.org/schools/woodms</td>\n",
              "      <td>-77.107529</td>\n",
              "      <td>39.093295</td>\n",
              "      <td>14615 Bauer Dr\\nRockville, MD 20852\\n(39.09329...</td>\n",
              "    </tr>\n",
              "  </tbody>\n",
              "</table>\n",
              "</div>"
            ],
            "text/plain": [
              "             CATEGORY  ...                                           LOCATION\n",
              "0  ELEMENTARY SCHOOLS  ...  451 Beall Ave\\nRockville, MD 20850\\n(39.087775...\n",
              "1  ELEMENTARY SCHOOLS  ...  9930 Moyer Rd\\nDamascus, MD 20872\\n(39.2657831...\n",
              "2  ELEMENTARY SCHOOLS  ...  1401 Olney Sandy Spring Rd\\nSandy Spring, MD 2...\n",
              "3  ELEMENTARY SCHOOLS  ...  201 Woodmoor Dr\\nSilver Spring, MD 20901\\n(39....\n",
              "4      MIDDLE SCHOOLS  ...  14615 Bauer Dr\\nRockville, MD 20852\\n(39.09329...\n",
              "\n",
              "[5 rows x 10 columns]"
            ]
          },
          "metadata": {
            "tags": []
          },
          "execution_count": 65
        }
      ]
    },
    {
      "cell_type": "code",
      "metadata": {
        "scrolled": true,
        "colab": {
          "base_uri": "https://localhost:8080/",
          "height": 401
        },
        "id": "1TB92ci-CfAr",
        "outputId": "d64a0502-59bb-4fc0-b789-30de0aa66723"
      },
      "source": [
        "# Change the column names, lower case and removing spaces\n",
        "df_school.columns =['category', 'school_name', 'address', 'city', 'zip_code', 'phone','url','longitude','latitude','location']\n",
        "df_school.head()"
      ],
      "execution_count": 66,
      "outputs": [
        {
          "output_type": "execute_result",
          "data": {
            "text/html": [
              "<div>\n",
              "<style scoped>\n",
              "    .dataframe tbody tr th:only-of-type {\n",
              "        vertical-align: middle;\n",
              "    }\n",
              "\n",
              "    .dataframe tbody tr th {\n",
              "        vertical-align: top;\n",
              "    }\n",
              "\n",
              "    .dataframe thead th {\n",
              "        text-align: right;\n",
              "    }\n",
              "</style>\n",
              "<table border=\"1\" class=\"dataframe\">\n",
              "  <thead>\n",
              "    <tr style=\"text-align: right;\">\n",
              "      <th></th>\n",
              "      <th>category</th>\n",
              "      <th>school_name</th>\n",
              "      <th>address</th>\n",
              "      <th>city</th>\n",
              "      <th>zip_code</th>\n",
              "      <th>phone</th>\n",
              "      <th>url</th>\n",
              "      <th>longitude</th>\n",
              "      <th>latitude</th>\n",
              "      <th>location</th>\n",
              "    </tr>\n",
              "  </thead>\n",
              "  <tbody>\n",
              "    <tr>\n",
              "      <th>0</th>\n",
              "      <td>ELEMENTARY SCHOOLS</td>\n",
              "      <td>Beall ES</td>\n",
              "      <td>451 Beall Ave</td>\n",
              "      <td>Rockville</td>\n",
              "      <td>20850</td>\n",
              "      <td>301-279-8460</td>\n",
              "      <td>http://www.montgomeryschoolsmd.org/schools/bea...</td>\n",
              "      <td>-77.161758</td>\n",
              "      <td>39.087775</td>\n",
              "      <td>451 Beall Ave\\nRockville, MD 20850\\n(39.087775...</td>\n",
              "    </tr>\n",
              "    <tr>\n",
              "      <th>1</th>\n",
              "      <td>ELEMENTARY SCHOOLS</td>\n",
              "      <td>Clearspring ES</td>\n",
              "      <td>9930 Moyer Rd</td>\n",
              "      <td>Damascus</td>\n",
              "      <td>20872</td>\n",
              "      <td>301-253-7004</td>\n",
              "      <td>http://www.montgomeryschoolsmd.org/schools/cle...</td>\n",
              "      <td>-77.207301</td>\n",
              "      <td>39.265783</td>\n",
              "      <td>9930 Moyer Rd\\nDamascus, MD 20872\\n(39.2657831...</td>\n",
              "    </tr>\n",
              "    <tr>\n",
              "      <th>2</th>\n",
              "      <td>ELEMENTARY SCHOOLS</td>\n",
              "      <td>Sherwood ES</td>\n",
              "      <td>1401 Olney Sandy Spring Rd</td>\n",
              "      <td>Sandy Spring</td>\n",
              "      <td>20860</td>\n",
              "      <td>301-924-3195</td>\n",
              "      <td>http://www.montgomeryschoolsmd.org/schools/she...</td>\n",
              "      <td>-77.033116</td>\n",
              "      <td>39.149584</td>\n",
              "      <td>1401 Olney Sandy Spring Rd\\nSandy Spring, MD 2...</td>\n",
              "    </tr>\n",
              "    <tr>\n",
              "      <th>3</th>\n",
              "      <td>ELEMENTARY SCHOOLS</td>\n",
              "      <td>Pine Crest ES</td>\n",
              "      <td>201 Woodmoor Dr</td>\n",
              "      <td>Silver Spring</td>\n",
              "      <td>20901</td>\n",
              "      <td>301-649-8066</td>\n",
              "      <td>http://www.montgomeryschoolsmd.org/schools/pin...</td>\n",
              "      <td>-77.005038</td>\n",
              "      <td>39.021311</td>\n",
              "      <td>201 Woodmoor Dr\\nSilver Spring, MD 20901\\n(39....</td>\n",
              "    </tr>\n",
              "    <tr>\n",
              "      <th>4</th>\n",
              "      <td>MIDDLE SCHOOLS</td>\n",
              "      <td>Earle B. Wood MS</td>\n",
              "      <td>14615 Bauer Dr</td>\n",
              "      <td>Rockville</td>\n",
              "      <td>20852</td>\n",
              "      <td>301-460-2150</td>\n",
              "      <td>http://www.montgomeryschoolsmd.org/schools/woodms</td>\n",
              "      <td>-77.107529</td>\n",
              "      <td>39.093295</td>\n",
              "      <td>14615 Bauer Dr\\nRockville, MD 20852\\n(39.09329...</td>\n",
              "    </tr>\n",
              "  </tbody>\n",
              "</table>\n",
              "</div>"
            ],
            "text/plain": [
              "             category  ...                                           location\n",
              "0  ELEMENTARY SCHOOLS  ...  451 Beall Ave\\nRockville, MD 20850\\n(39.087775...\n",
              "1  ELEMENTARY SCHOOLS  ...  9930 Moyer Rd\\nDamascus, MD 20872\\n(39.2657831...\n",
              "2  ELEMENTARY SCHOOLS  ...  1401 Olney Sandy Spring Rd\\nSandy Spring, MD 2...\n",
              "3  ELEMENTARY SCHOOLS  ...  201 Woodmoor Dr\\nSilver Spring, MD 20901\\n(39....\n",
              "4      MIDDLE SCHOOLS  ...  14615 Bauer Dr\\nRockville, MD 20852\\n(39.09329...\n",
              "\n",
              "[5 rows x 10 columns]"
            ]
          },
          "metadata": {
            "tags": []
          },
          "execution_count": 66
        }
      ]
    },
    {
      "cell_type": "code",
      "metadata": {
        "scrolled": true,
        "colab": {
          "base_uri": "https://localhost:8080/"
        },
        "id": "YCF0JPDpCfAr",
        "outputId": "cff3e6eb-3a98-4dbe-ada4-9e142fe97206"
      },
      "source": [
        "# checking that there is no null in longitude and latitde\n",
        "df_school.longitude.isnull().sum()\n",
        "df_school.latitude.isnull().sum()"
      ],
      "execution_count": 67,
      "outputs": [
        {
          "output_type": "execute_result",
          "data": {
            "text/plain": [
              "0"
            ]
          },
          "metadata": {
            "tags": []
          },
          "execution_count": 67
        }
      ]
    },
    {
      "cell_type": "code",
      "metadata": {
        "colab": {
          "base_uri": "https://localhost:8080/",
          "height": 224
        },
        "id": "W1VXii9VMC0A",
        "outputId": "d5def6db-0d72-4fe9-9260-40fe55ee7f66"
      },
      "source": [
        "df_school[df_school['school_name'].str.contains(\"Cannon\")]"
      ],
      "execution_count": 68,
      "outputs": [
        {
          "output_type": "execute_result",
          "data": {
            "text/html": [
              "<div>\n",
              "<style scoped>\n",
              "    .dataframe tbody tr th:only-of-type {\n",
              "        vertical-align: middle;\n",
              "    }\n",
              "\n",
              "    .dataframe tbody tr th {\n",
              "        vertical-align: top;\n",
              "    }\n",
              "\n",
              "    .dataframe thead th {\n",
              "        text-align: right;\n",
              "    }\n",
              "</style>\n",
              "<table border=\"1\" class=\"dataframe\">\n",
              "  <thead>\n",
              "    <tr style=\"text-align: right;\">\n",
              "      <th></th>\n",
              "      <th>category</th>\n",
              "      <th>school_name</th>\n",
              "      <th>address</th>\n",
              "      <th>city</th>\n",
              "      <th>zip_code</th>\n",
              "      <th>phone</th>\n",
              "      <th>url</th>\n",
              "      <th>longitude</th>\n",
              "      <th>latitude</th>\n",
              "      <th>location</th>\n",
              "    </tr>\n",
              "  </thead>\n",
              "  <tbody>\n",
              "    <tr>\n",
              "      <th>14</th>\n",
              "      <td>ELEMENTARY SCHOOLS</td>\n",
              "      <td>Cannon Road ES (at Fairland Center)</td>\n",
              "      <td>13313 Old Columbia Pike</td>\n",
              "      <td>Silver Spring</td>\n",
              "      <td>20904</td>\n",
              "      <td>301-989-5662</td>\n",
              "      <td>http://www.montgomeryschoolsmd.org/schools/can...</td>\n",
              "      <td>-76.957893</td>\n",
              "      <td>39.074604</td>\n",
              "      <td>13313 Old Columbia Pike\\nSilver Spring, MD 209...</td>\n",
              "    </tr>\n",
              "    <tr>\n",
              "      <th>73</th>\n",
              "      <td>ELEMENTARY SCHOOLS</td>\n",
              "      <td>Cannon Road ES (Construction)</td>\n",
              "      <td>901 Cannon Rd</td>\n",
              "      <td>Silver Spring</td>\n",
              "      <td>20904</td>\n",
              "      <td>301-989-5662</td>\n",
              "      <td>http://www.montgomeryschoolsmd.org/schools/can...</td>\n",
              "      <td>-76.994173</td>\n",
              "      <td>39.068767</td>\n",
              "      <td>901 Cannon Rd\\nSilver Spring, MD 20904\\n(39.06...</td>\n",
              "    </tr>\n",
              "  </tbody>\n",
              "</table>\n",
              "</div>"
            ],
            "text/plain": [
              "              category  ...                                           location\n",
              "14  ELEMENTARY SCHOOLS  ...  13313 Old Columbia Pike\\nSilver Spring, MD 209...\n",
              "73  ELEMENTARY SCHOOLS  ...  901 Cannon Rd\\nSilver Spring, MD 20904\\n(39.06...\n",
              "\n",
              "[2 rows x 10 columns]"
            ]
          },
          "metadata": {
            "tags": []
          },
          "execution_count": 68
        }
      ]
    },
    {
      "cell_type": "code",
      "metadata": {
        "colab": {
          "base_uri": "https://localhost:8080/"
        },
        "id": "AxhVO5flM5yX",
        "outputId": "ea1250d1-c4d6-4699-ba1b-778b494ddacd"
      },
      "source": [
        "indexNames = df_school[(df_school['school_name'] == 'Beverly Farms ES (Construction)') | \n",
        "                 (df_school['school_name'] == 'Garrett Park ES (Construction)')  |\n",
        "                 (df_school['school_name'] == 'Cannon Road ES (Construction)')   |\n",
        "                 (df_school['school_name'] == 'Broad Acres Elementary School')                  |\n",
        "                 (df_school['school_name'] == 'Downcounty Consortium Elementary School (2012)') |\n",
        "                 (df_school['school_name'] == 'Seven Locks ES (Construction)')   |\n",
        "                 (df_school['school_name'] == 'Downcounty Consortium ES (2012)')   |\n",
        "                 (df_school['school_name'] == 'Herbert Hoover MS (Construction)')].index\n",
        "indexNames "
      ],
      "execution_count": 69,
      "outputs": [
        {
          "output_type": "execute_result",
          "data": {
            "text/plain": [
              "Int64Index([43, 62, 73, 103, 144, 171], dtype='int64')"
            ]
          },
          "metadata": {
            "tags": []
          },
          "execution_count": 69
        }
      ]
    },
    {
      "cell_type": "code",
      "metadata": {
        "id": "0fOl7AWjM-cL"
      },
      "source": [
        "df_school.drop(indexNames , inplace=True)"
      ],
      "execution_count": 70,
      "outputs": []
    },
    {
      "cell_type": "code",
      "metadata": {
        "scrolled": false,
        "id": "euikJlB7CfAs"
      },
      "source": [
        "# changing index cols with rename()\n",
        "df_school['school_name'] = df_school['school_name'].str.replace('ES', 'Elementary School')\n",
        "df_school['school_name'] = df_school['school_name'].str.replace('MS', 'Middle School')\n",
        "df_school['school_name'] = df_school['school_name'].str.replace('HS', 'High School')\n",
        "df_school['school_name'] = df_school['school_name'].str.replace('.', '')\n",
        "df_school['school_name'] = df_school['school_name'].str.replace('Capt','Captain')\n",
        "df_school['school_name'] = df_school['school_name'].str.replace('Martin Luther King','Martin Luther King Jr')\n",
        "df_school['school_name'] = df_school['school_name'].str.replace('School ', 'School')\n",
        "df_school['school_name'] = df_school['school_name'].str.replace('\\(\\w.*\\)', '', regex=True)"
      ],
      "execution_count": 71,
      "outputs": []
    },
    {
      "cell_type": "code",
      "metadata": {
        "colab": {
          "base_uri": "https://localhost:8080/",
          "height": 144
        },
        "id": "JkMgrzy9KiFu",
        "outputId": "4d3930bd-fad0-4e07-bde4-1c13928971a5"
      },
      "source": [
        "df_school[df_school['school_name'].str.contains(\"Cannon\")]"
      ],
      "execution_count": 72,
      "outputs": [
        {
          "output_type": "execute_result",
          "data": {
            "text/html": [
              "<div>\n",
              "<style scoped>\n",
              "    .dataframe tbody tr th:only-of-type {\n",
              "        vertical-align: middle;\n",
              "    }\n",
              "\n",
              "    .dataframe tbody tr th {\n",
              "        vertical-align: top;\n",
              "    }\n",
              "\n",
              "    .dataframe thead th {\n",
              "        text-align: right;\n",
              "    }\n",
              "</style>\n",
              "<table border=\"1\" class=\"dataframe\">\n",
              "  <thead>\n",
              "    <tr style=\"text-align: right;\">\n",
              "      <th></th>\n",
              "      <th>category</th>\n",
              "      <th>school_name</th>\n",
              "      <th>address</th>\n",
              "      <th>city</th>\n",
              "      <th>zip_code</th>\n",
              "      <th>phone</th>\n",
              "      <th>url</th>\n",
              "      <th>longitude</th>\n",
              "      <th>latitude</th>\n",
              "      <th>location</th>\n",
              "    </tr>\n",
              "  </thead>\n",
              "  <tbody>\n",
              "    <tr>\n",
              "      <th>14</th>\n",
              "      <td>ELEMENTARY SCHOOLS</td>\n",
              "      <td>Cannon Road Elementary School</td>\n",
              "      <td>13313 Old Columbia Pike</td>\n",
              "      <td>Silver Spring</td>\n",
              "      <td>20904</td>\n",
              "      <td>301-989-5662</td>\n",
              "      <td>http://www.montgomeryschoolsmd.org/schools/can...</td>\n",
              "      <td>-76.957893</td>\n",
              "      <td>39.074604</td>\n",
              "      <td>13313 Old Columbia Pike\\nSilver Spring, MD 209...</td>\n",
              "    </tr>\n",
              "  </tbody>\n",
              "</table>\n",
              "</div>"
            ],
            "text/plain": [
              "              category  ...                                           location\n",
              "14  ELEMENTARY SCHOOLS  ...  13313 Old Columbia Pike\\nSilver Spring, MD 209...\n",
              "\n",
              "[1 rows x 10 columns]"
            ]
          },
          "metadata": {
            "tags": []
          },
          "execution_count": 72
        }
      ]
    },
    {
      "cell_type": "code",
      "metadata": {
        "colab": {
          "base_uri": "https://localhost:8080/",
          "height": 401
        },
        "id": "FqOGENHKCfAs",
        "outputId": "20a4c529-9f78-43c4-a6b7-569bfb6e32ff"
      },
      "source": [
        "df_school.head()"
      ],
      "execution_count": 73,
      "outputs": [
        {
          "output_type": "execute_result",
          "data": {
            "text/html": [
              "<div>\n",
              "<style scoped>\n",
              "    .dataframe tbody tr th:only-of-type {\n",
              "        vertical-align: middle;\n",
              "    }\n",
              "\n",
              "    .dataframe tbody tr th {\n",
              "        vertical-align: top;\n",
              "    }\n",
              "\n",
              "    .dataframe thead th {\n",
              "        text-align: right;\n",
              "    }\n",
              "</style>\n",
              "<table border=\"1\" class=\"dataframe\">\n",
              "  <thead>\n",
              "    <tr style=\"text-align: right;\">\n",
              "      <th></th>\n",
              "      <th>category</th>\n",
              "      <th>school_name</th>\n",
              "      <th>address</th>\n",
              "      <th>city</th>\n",
              "      <th>zip_code</th>\n",
              "      <th>phone</th>\n",
              "      <th>url</th>\n",
              "      <th>longitude</th>\n",
              "      <th>latitude</th>\n",
              "      <th>location</th>\n",
              "    </tr>\n",
              "  </thead>\n",
              "  <tbody>\n",
              "    <tr>\n",
              "      <th>0</th>\n",
              "      <td>ELEMENTARY SCHOOLS</td>\n",
              "      <td>Beall Elementary School</td>\n",
              "      <td>451 Beall Ave</td>\n",
              "      <td>Rockville</td>\n",
              "      <td>20850</td>\n",
              "      <td>301-279-8460</td>\n",
              "      <td>http://www.montgomeryschoolsmd.org/schools/bea...</td>\n",
              "      <td>-77.161758</td>\n",
              "      <td>39.087775</td>\n",
              "      <td>451 Beall Ave\\nRockville, MD 20850\\n(39.087775...</td>\n",
              "    </tr>\n",
              "    <tr>\n",
              "      <th>1</th>\n",
              "      <td>ELEMENTARY SCHOOLS</td>\n",
              "      <td>Clearspring Elementary School</td>\n",
              "      <td>9930 Moyer Rd</td>\n",
              "      <td>Damascus</td>\n",
              "      <td>20872</td>\n",
              "      <td>301-253-7004</td>\n",
              "      <td>http://www.montgomeryschoolsmd.org/schools/cle...</td>\n",
              "      <td>-77.207301</td>\n",
              "      <td>39.265783</td>\n",
              "      <td>9930 Moyer Rd\\nDamascus, MD 20872\\n(39.2657831...</td>\n",
              "    </tr>\n",
              "    <tr>\n",
              "      <th>2</th>\n",
              "      <td>ELEMENTARY SCHOOLS</td>\n",
              "      <td>Sherwood Elementary School</td>\n",
              "      <td>1401 Olney Sandy Spring Rd</td>\n",
              "      <td>Sandy Spring</td>\n",
              "      <td>20860</td>\n",
              "      <td>301-924-3195</td>\n",
              "      <td>http://www.montgomeryschoolsmd.org/schools/she...</td>\n",
              "      <td>-77.033116</td>\n",
              "      <td>39.149584</td>\n",
              "      <td>1401 Olney Sandy Spring Rd\\nSandy Spring, MD 2...</td>\n",
              "    </tr>\n",
              "    <tr>\n",
              "      <th>3</th>\n",
              "      <td>ELEMENTARY SCHOOLS</td>\n",
              "      <td>Pine Crest Elementary School</td>\n",
              "      <td>201 Woodmoor Dr</td>\n",
              "      <td>Silver Spring</td>\n",
              "      <td>20901</td>\n",
              "      <td>301-649-8066</td>\n",
              "      <td>http://www.montgomeryschoolsmd.org/schools/pin...</td>\n",
              "      <td>-77.005038</td>\n",
              "      <td>39.021311</td>\n",
              "      <td>201 Woodmoor Dr\\nSilver Spring, MD 20901\\n(39....</td>\n",
              "    </tr>\n",
              "    <tr>\n",
              "      <th>4</th>\n",
              "      <td>MIDDLE SCHOOLS</td>\n",
              "      <td>Earle B Wood Middle School</td>\n",
              "      <td>14615 Bauer Dr</td>\n",
              "      <td>Rockville</td>\n",
              "      <td>20852</td>\n",
              "      <td>301-460-2150</td>\n",
              "      <td>http://www.montgomeryschoolsmd.org/schools/woodms</td>\n",
              "      <td>-77.107529</td>\n",
              "      <td>39.093295</td>\n",
              "      <td>14615 Bauer Dr\\nRockville, MD 20852\\n(39.09329...</td>\n",
              "    </tr>\n",
              "  </tbody>\n",
              "</table>\n",
              "</div>"
            ],
            "text/plain": [
              "             category  ...                                           location\n",
              "0  ELEMENTARY SCHOOLS  ...  451 Beall Ave\\nRockville, MD 20850\\n(39.087775...\n",
              "1  ELEMENTARY SCHOOLS  ...  9930 Moyer Rd\\nDamascus, MD 20872\\n(39.2657831...\n",
              "2  ELEMENTARY SCHOOLS  ...  1401 Olney Sandy Spring Rd\\nSandy Spring, MD 2...\n",
              "3  ELEMENTARY SCHOOLS  ...  201 Woodmoor Dr\\nSilver Spring, MD 20901\\n(39....\n",
              "4      MIDDLE SCHOOLS  ...  14615 Bauer Dr\\nRockville, MD 20852\\n(39.09329...\n",
              "\n",
              "[5 rows x 10 columns]"
            ]
          },
          "metadata": {
            "tags": []
          },
          "execution_count": 73
        }
      ]
    },
    {
      "cell_type": "code",
      "metadata": {
        "colab": {
          "base_uri": "https://localhost:8080/",
          "height": 144
        },
        "id": "UCAu8f9vIkn9",
        "outputId": "b3d158e9-4cf3-49c8-c82a-262fd1a85dc2"
      },
      "source": [
        "df_school[df_school['school_name'].str.contains(\"Cabin\")]"
      ],
      "execution_count": 74,
      "outputs": [
        {
          "output_type": "execute_result",
          "data": {
            "text/html": [
              "<div>\n",
              "<style scoped>\n",
              "    .dataframe tbody tr th:only-of-type {\n",
              "        vertical-align: middle;\n",
              "    }\n",
              "\n",
              "    .dataframe tbody tr th {\n",
              "        vertical-align: top;\n",
              "    }\n",
              "\n",
              "    .dataframe thead th {\n",
              "        text-align: right;\n",
              "    }\n",
              "</style>\n",
              "<table border=\"1\" class=\"dataframe\">\n",
              "  <thead>\n",
              "    <tr style=\"text-align: right;\">\n",
              "      <th></th>\n",
              "      <th>category</th>\n",
              "      <th>school_name</th>\n",
              "      <th>address</th>\n",
              "      <th>city</th>\n",
              "      <th>zip_code</th>\n",
              "      <th>phone</th>\n",
              "      <th>url</th>\n",
              "      <th>longitude</th>\n",
              "      <th>latitude</th>\n",
              "      <th>location</th>\n",
              "    </tr>\n",
              "  </thead>\n",
              "  <tbody>\n",
              "    <tr>\n",
              "      <th>21</th>\n",
              "      <td>MIDDLE SCHOOLS</td>\n",
              "      <td>Cabin John Middle School</td>\n",
              "      <td>10701 Gainsborough Rd</td>\n",
              "      <td>Potomac</td>\n",
              "      <td>20854</td>\n",
              "      <td>301-469-1150</td>\n",
              "      <td>http://www.montgomeryschoolsmd.org/schools/cab...</td>\n",
              "      <td>-77.172022</td>\n",
              "      <td>39.031578</td>\n",
              "      <td>10701 Gainsborough Rd\\nPotomac, MD 20854\\n(39....</td>\n",
              "    </tr>\n",
              "  </tbody>\n",
              "</table>\n",
              "</div>"
            ],
            "text/plain": [
              "          category  ...                                           location\n",
              "21  MIDDLE SCHOOLS  ...  10701 Gainsborough Rd\\nPotomac, MD 20854\\n(39....\n",
              "\n",
              "[1 rows x 10 columns]"
            ]
          },
          "metadata": {
            "tags": []
          },
          "execution_count": 74
        }
      ]
    },
    {
      "cell_type": "code",
      "metadata": {
        "colab": {
          "base_uri": "https://localhost:8080/"
        },
        "id": "ItKf_S1PCfAt",
        "outputId": "72094d20-ada4-4d63-8094-0469242c7235"
      },
      "source": [
        "len(df_school)"
      ],
      "execution_count": 75,
      "outputs": [
        {
          "output_type": "execute_result",
          "data": {
            "text/plain": [
              "194"
            ]
          },
          "metadata": {
            "tags": []
          },
          "execution_count": 75
        }
      ]
    },
    {
      "cell_type": "code",
      "metadata": {
        "id": "jPnTn1uxCfAu"
      },
      "source": [
        "df_school = df_school.sort_values(by=['school_name'])"
      ],
      "execution_count": 76,
      "outputs": []
    },
    {
      "cell_type": "code",
      "metadata": {
        "scrolled": true,
        "colab": {
          "base_uri": "https://localhost:8080/"
        },
        "id": "zUhsQKA6CfAu",
        "outputId": "6a983800-f160-4a7e-ec9a-54dcde0a6e70"
      },
      "source": [
        "len(df_school)"
      ],
      "execution_count": 77,
      "outputs": [
        {
          "output_type": "execute_result",
          "data": {
            "text/plain": [
              "194"
            ]
          },
          "metadata": {
            "tags": []
          },
          "execution_count": 77
        }
      ]
    },
    {
      "cell_type": "code",
      "metadata": {
        "colab": {
          "base_uri": "https://localhost:8080/",
          "height": 401
        },
        "id": "0F602edrCfAu",
        "outputId": "6f44b56e-2b97-4d3a-cadb-0efcc76d5664"
      },
      "source": [
        "df_school.head()"
      ],
      "execution_count": 78,
      "outputs": [
        {
          "output_type": "execute_result",
          "data": {
            "text/html": [
              "<div>\n",
              "<style scoped>\n",
              "    .dataframe tbody tr th:only-of-type {\n",
              "        vertical-align: middle;\n",
              "    }\n",
              "\n",
              "    .dataframe tbody tr th {\n",
              "        vertical-align: top;\n",
              "    }\n",
              "\n",
              "    .dataframe thead th {\n",
              "        text-align: right;\n",
              "    }\n",
              "</style>\n",
              "<table border=\"1\" class=\"dataframe\">\n",
              "  <thead>\n",
              "    <tr style=\"text-align: right;\">\n",
              "      <th></th>\n",
              "      <th>category</th>\n",
              "      <th>school_name</th>\n",
              "      <th>address</th>\n",
              "      <th>city</th>\n",
              "      <th>zip_code</th>\n",
              "      <th>phone</th>\n",
              "      <th>url</th>\n",
              "      <th>longitude</th>\n",
              "      <th>latitude</th>\n",
              "      <th>location</th>\n",
              "    </tr>\n",
              "  </thead>\n",
              "  <tbody>\n",
              "    <tr>\n",
              "      <th>17</th>\n",
              "      <td>MIDDLE SCHOOLS</td>\n",
              "      <td>A Mario Loiederman Middle School</td>\n",
              "      <td>12701 Goodhill Rd</td>\n",
              "      <td>Silver Spring</td>\n",
              "      <td>20906</td>\n",
              "      <td>301-929-2282</td>\n",
              "      <td>http://www.montgomeryschoolsmd.org/schools/loi...</td>\n",
              "      <td>-77.070835</td>\n",
              "      <td>39.065306</td>\n",
              "      <td>12701 Goodhill Rd\\nSilver Spring, MD 20906\\n(3...</td>\n",
              "    </tr>\n",
              "    <tr>\n",
              "      <th>141</th>\n",
              "      <td>HIGH SCHOOLS</td>\n",
              "      <td>Albert Einstein High School</td>\n",
              "      <td>11135 Newport Mill Rd</td>\n",
              "      <td>Kensington</td>\n",
              "      <td>20895</td>\n",
              "      <td>301-929-2200</td>\n",
              "      <td>http://www.montgomeryschoolsmd.org/schools/ein...</td>\n",
              "      <td>-77.067036</td>\n",
              "      <td>39.039616</td>\n",
              "      <td>11135 Newport Mill Rd\\nKensington, MD 20895\\n(...</td>\n",
              "    </tr>\n",
              "    <tr>\n",
              "      <th>111</th>\n",
              "      <td>ELEMENTARY SCHOOLS</td>\n",
              "      <td>Arcola Elementary School</td>\n",
              "      <td>1820 Franwall Ave</td>\n",
              "      <td>Silver Spring</td>\n",
              "      <td>20902</td>\n",
              "      <td>301-649-8590</td>\n",
              "      <td>http://www.montgomeryschoolsmd.org/schools/arc...</td>\n",
              "      <td>-77.039388</td>\n",
              "      <td>39.045559</td>\n",
              "      <td>1820 Franwall Ave\\nSilver Spring, MD 20902\\n(3...</td>\n",
              "    </tr>\n",
              "    <tr>\n",
              "      <th>8</th>\n",
              "      <td>MIDDLE SCHOOLS</td>\n",
              "      <td>Argyle Middle School</td>\n",
              "      <td>2400 Bel Pre Rd</td>\n",
              "      <td>Silver Spring</td>\n",
              "      <td>20906</td>\n",
              "      <td>301-460-2400</td>\n",
              "      <td>http://www.montgomeryschoolsmd.org/schools/arg...</td>\n",
              "      <td>-77.048924</td>\n",
              "      <td>39.089521</td>\n",
              "      <td>2400 Bel Pre Rd\\nSilver Spring, MD 20906\\n(39....</td>\n",
              "    </tr>\n",
              "    <tr>\n",
              "      <th>195</th>\n",
              "      <td>ELEMENTARY SCHOOLS</td>\n",
              "      <td>Ashburton Elementary School</td>\n",
              "      <td>6314 Lone Oak Dr</td>\n",
              "      <td>Bethesda</td>\n",
              "      <td>20817</td>\n",
              "      <td>301-571-6959</td>\n",
              "      <td>http://www.montgomeryschoolsmd.org/schools/ash...</td>\n",
              "      <td>-77.127721</td>\n",
              "      <td>39.019444</td>\n",
              "      <td>6314 Lone Oak Dr\\nBethesda, MD 20817\\n(39.0194...</td>\n",
              "    </tr>\n",
              "  </tbody>\n",
              "</table>\n",
              "</div>"
            ],
            "text/plain": [
              "               category  ...                                           location\n",
              "17       MIDDLE SCHOOLS  ...  12701 Goodhill Rd\\nSilver Spring, MD 20906\\n(3...\n",
              "141        HIGH SCHOOLS  ...  11135 Newport Mill Rd\\nKensington, MD 20895\\n(...\n",
              "111  ELEMENTARY SCHOOLS  ...  1820 Franwall Ave\\nSilver Spring, MD 20902\\n(3...\n",
              "8        MIDDLE SCHOOLS  ...  2400 Bel Pre Rd\\nSilver Spring, MD 20906\\n(39....\n",
              "195  ELEMENTARY SCHOOLS  ...  6314 Lone Oak Dr\\nBethesda, MD 20817\\n(39.0194...\n",
              "\n",
              "[5 rows x 10 columns]"
            ]
          },
          "metadata": {
            "tags": []
          },
          "execution_count": 78
        }
      ]
    },
    {
      "cell_type": "markdown",
      "metadata": {
        "id": "IM2zTc9rDgk8"
      },
      "source": [
        "### 1c. Scraped Schools Dataset"
      ]
    },
    {
      "cell_type": "code",
      "metadata": {
        "id": "B2IYytxLCfAv"
      },
      "source": [
        "df_demo = pd.read_csv('mcps_demo.csv',sep=',')"
      ],
      "execution_count": 82,
      "outputs": []
    },
    {
      "cell_type": "code",
      "metadata": {
        "scrolled": true,
        "colab": {
          "base_uri": "https://localhost:8080/",
          "height": 297
        },
        "id": "jMOYNKTqCfAv",
        "outputId": "6111573d-8874-4b0a-c527-a98201e1bf3b"
      },
      "source": [
        "df_demo.head()"
      ],
      "execution_count": 84,
      "outputs": [
        {
          "output_type": "execute_result",
          "data": {
            "text/html": [
              "<div>\n",
              "<style scoped>\n",
              "    .dataframe tbody tr th:only-of-type {\n",
              "        vertical-align: middle;\n",
              "    }\n",
              "\n",
              "    .dataframe tbody tr th {\n",
              "        vertical-align: top;\n",
              "    }\n",
              "\n",
              "    .dataframe thead th {\n",
              "        text-align: right;\n",
              "    }\n",
              "</style>\n",
              "<table border=\"1\" class=\"dataframe\">\n",
              "  <thead>\n",
              "    <tr style=\"text-align: right;\">\n",
              "      <th></th>\n",
              "      <th>Unnamed: 0</th>\n",
              "      <th>Name</th>\n",
              "      <th>Total Enrollment</th>\n",
              "      <th>Free lunch eligible1</th>\n",
              "      <th>Reduced-price lunch eligible1</th>\n",
              "      <th>Directly certified2</th>\n",
              "    </tr>\n",
              "  </thead>\n",
              "  <tbody>\n",
              "    <tr>\n",
              "      <th>0</th>\n",
              "      <td>0</td>\n",
              "      <td>A. Mario Loiederman Middle</td>\n",
              "      <td>999</td>\n",
              "      <td>424</td>\n",
              "      <td>124</td>\n",
              "      <td>127</td>\n",
              "    </tr>\n",
              "    <tr>\n",
              "      <th>1</th>\n",
              "      <td>1</td>\n",
              "      <td>Albert Einstein High</td>\n",
              "      <td>1,818</td>\n",
              "      <td>492</td>\n",
              "      <td>153</td>\n",
              "      <td>145</td>\n",
              "    </tr>\n",
              "    <tr>\n",
              "      <th>2</th>\n",
              "      <td>2</td>\n",
              "      <td>Alternative Programs</td>\n",
              "      <td>126</td>\n",
              "      <td>58</td>\n",
              "      <td>2</td>\n",
              "      <td>40</td>\n",
              "    </tr>\n",
              "    <tr>\n",
              "      <th>3</th>\n",
              "      <td>3</td>\n",
              "      <td>Arcola Elementary</td>\n",
              "      <td>748</td>\n",
              "      <td>456</td>\n",
              "      <td>95</td>\n",
              "      <td>159</td>\n",
              "    </tr>\n",
              "    <tr>\n",
              "      <th>4</th>\n",
              "      <td>4</td>\n",
              "      <td>Argyle Middle</td>\n",
              "      <td>1,024</td>\n",
              "      <td>444</td>\n",
              "      <td>130</td>\n",
              "      <td>131</td>\n",
              "    </tr>\n",
              "  </tbody>\n",
              "</table>\n",
              "</div>"
            ],
            "text/plain": [
              "   Unnamed: 0  ... Directly certified2\n",
              "0           0  ...                 127\n",
              "1           1  ...                 145\n",
              "2           2  ...                  40\n",
              "3           3  ...                 159\n",
              "4           4  ...                 131\n",
              "\n",
              "[5 rows x 6 columns]"
            ]
          },
          "metadata": {
            "tags": []
          },
          "execution_count": 84
        }
      ]
    },
    {
      "cell_type": "code",
      "metadata": {
        "colab": {
          "base_uri": "https://localhost:8080/"
        },
        "id": "9DfoXGxLCfAv",
        "outputId": "e56395d5-2e54-4067-a585-3cfd74c6a541"
      },
      "source": [
        "len(df_demo)"
      ],
      "execution_count": 85,
      "outputs": [
        {
          "output_type": "execute_result",
          "data": {
            "text/plain": [
              "209"
            ]
          },
          "metadata": {
            "tags": []
          },
          "execution_count": 85
        }
      ]
    },
    {
      "cell_type": "code",
      "metadata": {
        "colab": {
          "base_uri": "https://localhost:8080/",
          "height": 301
        },
        "id": "VVUiEs42CfAv",
        "outputId": "57f88b84-0e60-4b55-a942-38d21f0f75f1"
      },
      "source": [
        "df_demo.columns =['number', 'school_name', 'total_enrollment', 'free_lunch', 'reduced_lunch', 'directly_certified']\n",
        "df_demo.head()"
      ],
      "execution_count": 86,
      "outputs": [
        {
          "output_type": "execute_result",
          "data": {
            "text/html": [
              "<div>\n",
              "<style scoped>\n",
              "    .dataframe tbody tr th:only-of-type {\n",
              "        vertical-align: middle;\n",
              "    }\n",
              "\n",
              "    .dataframe tbody tr th {\n",
              "        vertical-align: top;\n",
              "    }\n",
              "\n",
              "    .dataframe thead th {\n",
              "        text-align: right;\n",
              "    }\n",
              "</style>\n",
              "<table border=\"1\" class=\"dataframe\">\n",
              "  <thead>\n",
              "    <tr style=\"text-align: right;\">\n",
              "      <th></th>\n",
              "      <th>number</th>\n",
              "      <th>school_name</th>\n",
              "      <th>total_enrollment</th>\n",
              "      <th>free_lunch</th>\n",
              "      <th>reduced_lunch</th>\n",
              "      <th>directly_certified</th>\n",
              "    </tr>\n",
              "  </thead>\n",
              "  <tbody>\n",
              "    <tr>\n",
              "      <th>0</th>\n",
              "      <td>0</td>\n",
              "      <td>A. Mario Loiederman Middle</td>\n",
              "      <td>999</td>\n",
              "      <td>424</td>\n",
              "      <td>124</td>\n",
              "      <td>127</td>\n",
              "    </tr>\n",
              "    <tr>\n",
              "      <th>1</th>\n",
              "      <td>1</td>\n",
              "      <td>Albert Einstein High</td>\n",
              "      <td>1,818</td>\n",
              "      <td>492</td>\n",
              "      <td>153</td>\n",
              "      <td>145</td>\n",
              "    </tr>\n",
              "    <tr>\n",
              "      <th>2</th>\n",
              "      <td>2</td>\n",
              "      <td>Alternative Programs</td>\n",
              "      <td>126</td>\n",
              "      <td>58</td>\n",
              "      <td>2</td>\n",
              "      <td>40</td>\n",
              "    </tr>\n",
              "    <tr>\n",
              "      <th>3</th>\n",
              "      <td>3</td>\n",
              "      <td>Arcola Elementary</td>\n",
              "      <td>748</td>\n",
              "      <td>456</td>\n",
              "      <td>95</td>\n",
              "      <td>159</td>\n",
              "    </tr>\n",
              "    <tr>\n",
              "      <th>4</th>\n",
              "      <td>4</td>\n",
              "      <td>Argyle Middle</td>\n",
              "      <td>1,024</td>\n",
              "      <td>444</td>\n",
              "      <td>130</td>\n",
              "      <td>131</td>\n",
              "    </tr>\n",
              "  </tbody>\n",
              "</table>\n",
              "</div>"
            ],
            "text/plain": [
              "   number                 school_name  ... reduced_lunch directly_certified\n",
              "0       0  A. Mario Loiederman Middle  ...           124                127\n",
              "1       1        Albert Einstein High  ...           153                145\n",
              "2       2        Alternative Programs  ...             2                 40\n",
              "3       3           Arcola Elementary  ...            95                159\n",
              "4       4               Argyle Middle  ...           130                131\n",
              "\n",
              "[5 rows x 6 columns]"
            ]
          },
          "metadata": {
            "tags": []
          },
          "execution_count": 86
        }
      ]
    },
    {
      "cell_type": "code",
      "metadata": {
        "colab": {
          "base_uri": "https://localhost:8080/",
          "height": 114
        },
        "id": "e7FN2BYUU9yQ",
        "outputId": "abdba7a5-691e-4344-a4ae-cb324c8c5c7c"
      },
      "source": [
        "df_demo[df_demo['school_name'].str.contains(\"Beverly\")]"
      ],
      "execution_count": 87,
      "outputs": [
        {
          "output_type": "execute_result",
          "data": {
            "text/html": [
              "<div>\n",
              "<style scoped>\n",
              "    .dataframe tbody tr th:only-of-type {\n",
              "        vertical-align: middle;\n",
              "    }\n",
              "\n",
              "    .dataframe tbody tr th {\n",
              "        vertical-align: top;\n",
              "    }\n",
              "\n",
              "    .dataframe thead th {\n",
              "        text-align: right;\n",
              "    }\n",
              "</style>\n",
              "<table border=\"1\" class=\"dataframe\">\n",
              "  <thead>\n",
              "    <tr style=\"text-align: right;\">\n",
              "      <th></th>\n",
              "      <th>number</th>\n",
              "      <th>school_name</th>\n",
              "      <th>total_enrollment</th>\n",
              "      <th>free_lunch</th>\n",
              "      <th>reduced_lunch</th>\n",
              "      <th>directly_certified</th>\n",
              "    </tr>\n",
              "  </thead>\n",
              "  <tbody>\n",
              "    <tr>\n",
              "      <th>15</th>\n",
              "      <td>15</td>\n",
              "      <td>Beverly Farms Elementary</td>\n",
              "      <td>585</td>\n",
              "      <td>24</td>\n",
              "      <td>10</td>\n",
              "      <td>13</td>\n",
              "    </tr>\n",
              "  </tbody>\n",
              "</table>\n",
              "</div>"
            ],
            "text/plain": [
              "    number               school_name  ... reduced_lunch directly_certified\n",
              "15      15  Beverly Farms Elementary  ...            10                 13\n",
              "\n",
              "[1 rows x 6 columns]"
            ]
          },
          "metadata": {
            "tags": []
          },
          "execution_count": 87
        }
      ]
    },
    {
      "cell_type": "code",
      "metadata": {
        "id": "Q6D57iw7CfAv"
      },
      "source": [
        "df_demo['school_name'] = df_demo['school_name'].str.replace('.', '')\n",
        "df_demo['school_name'] = df_demo['school_name'].str.replace(' Elementary', ' Elementary School')\n",
        "df_demo['school_name'] = df_demo['school_name'].str.replace(' Middle', ' Middle School')\n",
        "df_demo['school_name'] = df_demo['school_name'].str.replace(' High', ' High School')\n",
        "df_demo['school_name'] = df_demo['school_name'].str.replace('DuFief', 'Dufief')\n",
        "df_demo['school_name'] = df_demo['school_name'].str.replace('McAuliffe', 'Mcauliffe')\n",
        "df_demo['school_name'] = df_demo['school_name'].str.replace('John H Poole', 'John Poole')\n",
        "df_demo['school_name'] = df_demo['school_name'].str.replace('New Hampshire Estates Elem', 'New Hampshire Estates Elementary School')\n",
        "df_demo['school_name'] = df_demo['school_name'].str.replace('School School', 'School')\n",
        "df_demo['school_name'] = df_demo['school_name'].str.replace('School ', 'School')\n",
        "df_demo['school_name'] = df_demo['school_name'].str.replace('William Tyler Page', 'William T Page')\n",
        "\n",
        "df_demo['school_name'] = df_demo['school_name'].str.replace('JoAnn Leleck at ', '')"
      ],
      "execution_count": 88,
      "outputs": []
    },
    {
      "cell_type": "code",
      "metadata": {
        "colab": {
          "base_uri": "https://localhost:8080/",
          "height": 131
        },
        "id": "2D2wvLy0l_8n",
        "outputId": "516d61ec-9b77-422a-e3f2-e0a859150448"
      },
      "source": [
        "df_demo[df_demo['school_name'].str.contains(\"Beverly\")]"
      ],
      "execution_count": 89,
      "outputs": [
        {
          "output_type": "execute_result",
          "data": {
            "text/html": [
              "<div>\n",
              "<style scoped>\n",
              "    .dataframe tbody tr th:only-of-type {\n",
              "        vertical-align: middle;\n",
              "    }\n",
              "\n",
              "    .dataframe tbody tr th {\n",
              "        vertical-align: top;\n",
              "    }\n",
              "\n",
              "    .dataframe thead th {\n",
              "        text-align: right;\n",
              "    }\n",
              "</style>\n",
              "<table border=\"1\" class=\"dataframe\">\n",
              "  <thead>\n",
              "    <tr style=\"text-align: right;\">\n",
              "      <th></th>\n",
              "      <th>number</th>\n",
              "      <th>school_name</th>\n",
              "      <th>total_enrollment</th>\n",
              "      <th>free_lunch</th>\n",
              "      <th>reduced_lunch</th>\n",
              "      <th>directly_certified</th>\n",
              "    </tr>\n",
              "  </thead>\n",
              "  <tbody>\n",
              "    <tr>\n",
              "      <th>15</th>\n",
              "      <td>15</td>\n",
              "      <td>Beverly Farms Elementary School</td>\n",
              "      <td>585</td>\n",
              "      <td>24</td>\n",
              "      <td>10</td>\n",
              "      <td>13</td>\n",
              "    </tr>\n",
              "  </tbody>\n",
              "</table>\n",
              "</div>"
            ],
            "text/plain": [
              "    number                      school_name  ... reduced_lunch directly_certified\n",
              "15      15  Beverly Farms Elementary School  ...            10                 13\n",
              "\n",
              "[1 rows x 6 columns]"
            ]
          },
          "metadata": {
            "tags": []
          },
          "execution_count": 89
        }
      ]
    },
    {
      "cell_type": "code",
      "metadata": {
        "id": "ZRT-_Pzhk1j7"
      },
      "source": [
        "indexNames2 = df_demo[(df_demo['school_name'] == 'Carl Sandburg Center')   |\n",
        "                        (df_demo['school_name'] == 'John L Gildner Regional Inst for Children & Adol') |\n",
        "                        (df_demo['school_name'] == 'Longview School') |\n",
        "                        (df_demo['school_name'] == 'MCPS Transitions School') |\n",
        "                        (df_demo['school_name'] == 'Bayard Rustin Elementary School') |\n",
        "                        (df_demo['school_name'] == 'Alternative Programs') |\n",
        "                        (df_demo['school_name'] == 'Silver Creek Middle School')   |                     \n",
        "                        (df_demo['school_name'] == 'Snowden Farm Elementary School') |\n",
        "                        (df_demo['school_name'] == 'Stephen Knolls School') |\n",
        "                        (df_demo['school_name'] == 'PEP - Itinerant') |\n",
        "                        (df_demo['school_name'] == 'Rock Terrace School') |\n",
        "                        (df_demo['school_name'] == 'Flora M Singer Elementary School')   |\n",
        "                        (df_demo['school_name'] == 'Hallie Wells Middle School')   | \n",
        "                        (df_demo['school_name'] == 'Thomas Edison High Schoolof Technology')   | \n",
        "                        (df_demo['school_name'] == 'Wilson Wims Elementary School')].index\n",
        "df_demo.drop(indexNames2 , inplace=True)\n"
      ],
      "execution_count": 90,
      "outputs": []
    },
    {
      "cell_type": "code",
      "metadata": {
        "id": "K1TSyR1KCfAw"
      },
      "source": [
        "df_demo['free_lunch']  = df_demo['free_lunch'].str.replace('–','0')\n",
        "df_demo['reduced_lunch'] = df_demo['reduced_lunch'].str.replace('–','0')\n",
        "df_demo['directly_certified'] = df_demo['directly_certified'].str.replace('–','0')"
      ],
      "execution_count": 91,
      "outputs": []
    },
    {
      "cell_type": "code",
      "metadata": {
        "id": "M9k7_RO9CfAw"
      },
      "source": [
        "df_demo['free_lunch'] = df_demo['free_lunch'].str.replace('‡','0')\n",
        "df_demo['reduced_lunch'] = df_demo['reduced_lunch'].str.replace('‡','0')\n",
        "df_demo['directly_certified'] = df_demo['directly_certified'].str.replace('‡','0')"
      ],
      "execution_count": 92,
      "outputs": []
    },
    {
      "cell_type": "markdown",
      "metadata": {
        "id": "4wdYEL0QDtS_"
      },
      "source": [
        "### 1d. School Combined Dataset"
      ]
    },
    {
      "cell_type": "code",
      "metadata": {
        "scrolled": true,
        "id": "KjtJnCV3CfAx"
      },
      "source": [
        "df_school_final = df_demo.merge(df_school, on='school_name', how='outer', copy = False)"
      ],
      "execution_count": 93,
      "outputs": []
    },
    {
      "cell_type": "code",
      "metadata": {
        "scrolled": true,
        "colab": {
          "base_uri": "https://localhost:8080/",
          "height": 401
        },
        "id": "o9VpK3BRCfAx",
        "outputId": "3c456b3b-ccb2-4126-9de9-72e278ffd731"
      },
      "source": [
        "df_school_final.head()"
      ],
      "execution_count": 94,
      "outputs": [
        {
          "output_type": "execute_result",
          "data": {
            "text/html": [
              "<div>\n",
              "<style scoped>\n",
              "    .dataframe tbody tr th:only-of-type {\n",
              "        vertical-align: middle;\n",
              "    }\n",
              "\n",
              "    .dataframe tbody tr th {\n",
              "        vertical-align: top;\n",
              "    }\n",
              "\n",
              "    .dataframe thead th {\n",
              "        text-align: right;\n",
              "    }\n",
              "</style>\n",
              "<table border=\"1\" class=\"dataframe\">\n",
              "  <thead>\n",
              "    <tr style=\"text-align: right;\">\n",
              "      <th></th>\n",
              "      <th>number</th>\n",
              "      <th>school_name</th>\n",
              "      <th>total_enrollment</th>\n",
              "      <th>free_lunch</th>\n",
              "      <th>reduced_lunch</th>\n",
              "      <th>directly_certified</th>\n",
              "      <th>category</th>\n",
              "      <th>address</th>\n",
              "      <th>city</th>\n",
              "      <th>zip_code</th>\n",
              "      <th>phone</th>\n",
              "      <th>url</th>\n",
              "      <th>longitude</th>\n",
              "      <th>latitude</th>\n",
              "      <th>location</th>\n",
              "    </tr>\n",
              "  </thead>\n",
              "  <tbody>\n",
              "    <tr>\n",
              "      <th>0</th>\n",
              "      <td>0</td>\n",
              "      <td>A Mario Loiederman Middle School</td>\n",
              "      <td>999</td>\n",
              "      <td>424</td>\n",
              "      <td>124</td>\n",
              "      <td>127</td>\n",
              "      <td>MIDDLE SCHOOLS</td>\n",
              "      <td>12701 Goodhill Rd</td>\n",
              "      <td>Silver Spring</td>\n",
              "      <td>20906</td>\n",
              "      <td>301-929-2282</td>\n",
              "      <td>http://www.montgomeryschoolsmd.org/schools/loi...</td>\n",
              "      <td>-77.070835</td>\n",
              "      <td>39.065306</td>\n",
              "      <td>12701 Goodhill Rd\\nSilver Spring, MD 20906\\n(3...</td>\n",
              "    </tr>\n",
              "    <tr>\n",
              "      <th>1</th>\n",
              "      <td>1</td>\n",
              "      <td>Albert Einstein High School</td>\n",
              "      <td>1,818</td>\n",
              "      <td>492</td>\n",
              "      <td>153</td>\n",
              "      <td>145</td>\n",
              "      <td>HIGH SCHOOLS</td>\n",
              "      <td>11135 Newport Mill Rd</td>\n",
              "      <td>Kensington</td>\n",
              "      <td>20895</td>\n",
              "      <td>301-929-2200</td>\n",
              "      <td>http://www.montgomeryschoolsmd.org/schools/ein...</td>\n",
              "      <td>-77.067036</td>\n",
              "      <td>39.039616</td>\n",
              "      <td>11135 Newport Mill Rd\\nKensington, MD 20895\\n(...</td>\n",
              "    </tr>\n",
              "    <tr>\n",
              "      <th>2</th>\n",
              "      <td>3</td>\n",
              "      <td>Arcola Elementary School</td>\n",
              "      <td>748</td>\n",
              "      <td>456</td>\n",
              "      <td>95</td>\n",
              "      <td>159</td>\n",
              "      <td>ELEMENTARY SCHOOLS</td>\n",
              "      <td>1820 Franwall Ave</td>\n",
              "      <td>Silver Spring</td>\n",
              "      <td>20902</td>\n",
              "      <td>301-649-8590</td>\n",
              "      <td>http://www.montgomeryschoolsmd.org/schools/arc...</td>\n",
              "      <td>-77.039388</td>\n",
              "      <td>39.045559</td>\n",
              "      <td>1820 Franwall Ave\\nSilver Spring, MD 20902\\n(3...</td>\n",
              "    </tr>\n",
              "    <tr>\n",
              "      <th>3</th>\n",
              "      <td>4</td>\n",
              "      <td>Argyle Middle School</td>\n",
              "      <td>1,024</td>\n",
              "      <td>444</td>\n",
              "      <td>130</td>\n",
              "      <td>131</td>\n",
              "      <td>MIDDLE SCHOOLS</td>\n",
              "      <td>2400 Bel Pre Rd</td>\n",
              "      <td>Silver Spring</td>\n",
              "      <td>20906</td>\n",
              "      <td>301-460-2400</td>\n",
              "      <td>http://www.montgomeryschoolsmd.org/schools/arg...</td>\n",
              "      <td>-77.048924</td>\n",
              "      <td>39.089521</td>\n",
              "      <td>2400 Bel Pre Rd\\nSilver Spring, MD 20906\\n(39....</td>\n",
              "    </tr>\n",
              "    <tr>\n",
              "      <th>4</th>\n",
              "      <td>5</td>\n",
              "      <td>Ashburton Elementary School</td>\n",
              "      <td>922</td>\n",
              "      <td>76</td>\n",
              "      <td>24</td>\n",
              "      <td>43</td>\n",
              "      <td>ELEMENTARY SCHOOLS</td>\n",
              "      <td>6314 Lone Oak Dr</td>\n",
              "      <td>Bethesda</td>\n",
              "      <td>20817</td>\n",
              "      <td>301-571-6959</td>\n",
              "      <td>http://www.montgomeryschoolsmd.org/schools/ash...</td>\n",
              "      <td>-77.127721</td>\n",
              "      <td>39.019444</td>\n",
              "      <td>6314 Lone Oak Dr\\nBethesda, MD 20817\\n(39.0194...</td>\n",
              "    </tr>\n",
              "  </tbody>\n",
              "</table>\n",
              "</div>"
            ],
            "text/plain": [
              "   number  ...                                           location\n",
              "0       0  ...  12701 Goodhill Rd\\nSilver Spring, MD 20906\\n(3...\n",
              "1       1  ...  11135 Newport Mill Rd\\nKensington, MD 20895\\n(...\n",
              "2       3  ...  1820 Franwall Ave\\nSilver Spring, MD 20902\\n(3...\n",
              "3       4  ...  2400 Bel Pre Rd\\nSilver Spring, MD 20906\\n(39....\n",
              "4       5  ...  6314 Lone Oak Dr\\nBethesda, MD 20817\\n(39.0194...\n",
              "\n",
              "[5 rows x 15 columns]"
            ]
          },
          "metadata": {
            "tags": []
          },
          "execution_count": 94
        }
      ]
    },
    {
      "cell_type": "code",
      "metadata": {
        "colab": {
          "base_uri": "https://localhost:8080/",
          "height": 67
        },
        "id": "XvC6OiTnVKgC",
        "outputId": "50228769-00dd-42fd-8b98-c3df742d0268"
      },
      "source": [
        "df_school_final[(df_school_final['school_name'] == \"Beverly Farms Elementary School \")]"
      ],
      "execution_count": 95,
      "outputs": [
        {
          "output_type": "execute_result",
          "data": {
            "text/html": [
              "<div>\n",
              "<style scoped>\n",
              "    .dataframe tbody tr th:only-of-type {\n",
              "        vertical-align: middle;\n",
              "    }\n",
              "\n",
              "    .dataframe tbody tr th {\n",
              "        vertical-align: top;\n",
              "    }\n",
              "\n",
              "    .dataframe thead th {\n",
              "        text-align: right;\n",
              "    }\n",
              "</style>\n",
              "<table border=\"1\" class=\"dataframe\">\n",
              "  <thead>\n",
              "    <tr style=\"text-align: right;\">\n",
              "      <th></th>\n",
              "      <th>number</th>\n",
              "      <th>school_name</th>\n",
              "      <th>total_enrollment</th>\n",
              "      <th>free_lunch</th>\n",
              "      <th>reduced_lunch</th>\n",
              "      <th>directly_certified</th>\n",
              "      <th>category</th>\n",
              "      <th>address</th>\n",
              "      <th>city</th>\n",
              "      <th>zip_code</th>\n",
              "      <th>phone</th>\n",
              "      <th>url</th>\n",
              "      <th>longitude</th>\n",
              "      <th>latitude</th>\n",
              "      <th>location</th>\n",
              "    </tr>\n",
              "  </thead>\n",
              "  <tbody>\n",
              "  </tbody>\n",
              "</table>\n",
              "</div>"
            ],
            "text/plain": [
              "Empty DataFrame\n",
              "Columns: [number, school_name, total_enrollment, free_lunch, reduced_lunch, directly_certified, category, address, city, zip_code, phone, url, longitude, latitude, location]\n",
              "Index: []"
            ]
          },
          "metadata": {
            "tags": []
          },
          "execution_count": 95
        }
      ]
    },
    {
      "cell_type": "code",
      "metadata": {
        "id": "TTifC0ZPCfAx"
      },
      "source": [
        "df_school_final = df_school_final.sort_values(by=['school_name'])"
      ],
      "execution_count": 96,
      "outputs": []
    },
    {
      "cell_type": "code",
      "metadata": {
        "colab": {
          "base_uri": "https://localhost:8080/",
          "height": 401
        },
        "id": "1eTUByzHCfAy",
        "outputId": "6843e2ee-9dd6-4209-ef82-837962e2b006"
      },
      "source": [
        "df_school_final.head()"
      ],
      "execution_count": 97,
      "outputs": [
        {
          "output_type": "execute_result",
          "data": {
            "text/html": [
              "<div>\n",
              "<style scoped>\n",
              "    .dataframe tbody tr th:only-of-type {\n",
              "        vertical-align: middle;\n",
              "    }\n",
              "\n",
              "    .dataframe tbody tr th {\n",
              "        vertical-align: top;\n",
              "    }\n",
              "\n",
              "    .dataframe thead th {\n",
              "        text-align: right;\n",
              "    }\n",
              "</style>\n",
              "<table border=\"1\" class=\"dataframe\">\n",
              "  <thead>\n",
              "    <tr style=\"text-align: right;\">\n",
              "      <th></th>\n",
              "      <th>number</th>\n",
              "      <th>school_name</th>\n",
              "      <th>total_enrollment</th>\n",
              "      <th>free_lunch</th>\n",
              "      <th>reduced_lunch</th>\n",
              "      <th>directly_certified</th>\n",
              "      <th>category</th>\n",
              "      <th>address</th>\n",
              "      <th>city</th>\n",
              "      <th>zip_code</th>\n",
              "      <th>phone</th>\n",
              "      <th>url</th>\n",
              "      <th>longitude</th>\n",
              "      <th>latitude</th>\n",
              "      <th>location</th>\n",
              "    </tr>\n",
              "  </thead>\n",
              "  <tbody>\n",
              "    <tr>\n",
              "      <th>0</th>\n",
              "      <td>0</td>\n",
              "      <td>A Mario Loiederman Middle School</td>\n",
              "      <td>999</td>\n",
              "      <td>424</td>\n",
              "      <td>124</td>\n",
              "      <td>127</td>\n",
              "      <td>MIDDLE SCHOOLS</td>\n",
              "      <td>12701 Goodhill Rd</td>\n",
              "      <td>Silver Spring</td>\n",
              "      <td>20906</td>\n",
              "      <td>301-929-2282</td>\n",
              "      <td>http://www.montgomeryschoolsmd.org/schools/loi...</td>\n",
              "      <td>-77.070835</td>\n",
              "      <td>39.065306</td>\n",
              "      <td>12701 Goodhill Rd\\nSilver Spring, MD 20906\\n(3...</td>\n",
              "    </tr>\n",
              "    <tr>\n",
              "      <th>1</th>\n",
              "      <td>1</td>\n",
              "      <td>Albert Einstein High School</td>\n",
              "      <td>1,818</td>\n",
              "      <td>492</td>\n",
              "      <td>153</td>\n",
              "      <td>145</td>\n",
              "      <td>HIGH SCHOOLS</td>\n",
              "      <td>11135 Newport Mill Rd</td>\n",
              "      <td>Kensington</td>\n",
              "      <td>20895</td>\n",
              "      <td>301-929-2200</td>\n",
              "      <td>http://www.montgomeryschoolsmd.org/schools/ein...</td>\n",
              "      <td>-77.067036</td>\n",
              "      <td>39.039616</td>\n",
              "      <td>11135 Newport Mill Rd\\nKensington, MD 20895\\n(...</td>\n",
              "    </tr>\n",
              "    <tr>\n",
              "      <th>2</th>\n",
              "      <td>3</td>\n",
              "      <td>Arcola Elementary School</td>\n",
              "      <td>748</td>\n",
              "      <td>456</td>\n",
              "      <td>95</td>\n",
              "      <td>159</td>\n",
              "      <td>ELEMENTARY SCHOOLS</td>\n",
              "      <td>1820 Franwall Ave</td>\n",
              "      <td>Silver Spring</td>\n",
              "      <td>20902</td>\n",
              "      <td>301-649-8590</td>\n",
              "      <td>http://www.montgomeryschoolsmd.org/schools/arc...</td>\n",
              "      <td>-77.039388</td>\n",
              "      <td>39.045559</td>\n",
              "      <td>1820 Franwall Ave\\nSilver Spring, MD 20902\\n(3...</td>\n",
              "    </tr>\n",
              "    <tr>\n",
              "      <th>3</th>\n",
              "      <td>4</td>\n",
              "      <td>Argyle Middle School</td>\n",
              "      <td>1,024</td>\n",
              "      <td>444</td>\n",
              "      <td>130</td>\n",
              "      <td>131</td>\n",
              "      <td>MIDDLE SCHOOLS</td>\n",
              "      <td>2400 Bel Pre Rd</td>\n",
              "      <td>Silver Spring</td>\n",
              "      <td>20906</td>\n",
              "      <td>301-460-2400</td>\n",
              "      <td>http://www.montgomeryschoolsmd.org/schools/arg...</td>\n",
              "      <td>-77.048924</td>\n",
              "      <td>39.089521</td>\n",
              "      <td>2400 Bel Pre Rd\\nSilver Spring, MD 20906\\n(39....</td>\n",
              "    </tr>\n",
              "    <tr>\n",
              "      <th>4</th>\n",
              "      <td>5</td>\n",
              "      <td>Ashburton Elementary School</td>\n",
              "      <td>922</td>\n",
              "      <td>76</td>\n",
              "      <td>24</td>\n",
              "      <td>43</td>\n",
              "      <td>ELEMENTARY SCHOOLS</td>\n",
              "      <td>6314 Lone Oak Dr</td>\n",
              "      <td>Bethesda</td>\n",
              "      <td>20817</td>\n",
              "      <td>301-571-6959</td>\n",
              "      <td>http://www.montgomeryschoolsmd.org/schools/ash...</td>\n",
              "      <td>-77.127721</td>\n",
              "      <td>39.019444</td>\n",
              "      <td>6314 Lone Oak Dr\\nBethesda, MD 20817\\n(39.0194...</td>\n",
              "    </tr>\n",
              "  </tbody>\n",
              "</table>\n",
              "</div>"
            ],
            "text/plain": [
              "   number  ...                                           location\n",
              "0       0  ...  12701 Goodhill Rd\\nSilver Spring, MD 20906\\n(3...\n",
              "1       1  ...  11135 Newport Mill Rd\\nKensington, MD 20895\\n(...\n",
              "2       3  ...  1820 Franwall Ave\\nSilver Spring, MD 20902\\n(3...\n",
              "3       4  ...  2400 Bel Pre Rd\\nSilver Spring, MD 20906\\n(39....\n",
              "4       5  ...  6314 Lone Oak Dr\\nBethesda, MD 20817\\n(39.0194...\n",
              "\n",
              "[5 rows x 15 columns]"
            ]
          },
          "metadata": {
            "tags": []
          },
          "execution_count": 97
        }
      ]
    },
    {
      "cell_type": "code",
      "metadata": {
        "scrolled": false,
        "colab": {
          "base_uri": "https://localhost:8080/"
        },
        "id": "Wv2jIwgfCfAy",
        "outputId": "bbf965b1-7b7e-4e20-f5e8-fb82a97c15a1"
      },
      "source": [
        "len(df_school_final)"
      ],
      "execution_count": 98,
      "outputs": [
        {
          "output_type": "execute_result",
          "data": {
            "text/plain": [
              "194"
            ]
          },
          "metadata": {
            "tags": []
          },
          "execution_count": 98
        }
      ]
    },
    {
      "cell_type": "code",
      "metadata": {
        "scrolled": true,
        "colab": {
          "base_uri": "https://localhost:8080/"
        },
        "id": "ltLqkWNFCfAy",
        "outputId": "7ed5f56c-b285-4dfc-f31a-5334ef41b0b9"
      },
      "source": [
        "df_school_final['free_lunch'].dtypes"
      ],
      "execution_count": 99,
      "outputs": [
        {
          "output_type": "execute_result",
          "data": {
            "text/plain": [
              "dtype('O')"
            ]
          },
          "metadata": {
            "tags": []
          },
          "execution_count": 99
        }
      ]
    },
    {
      "cell_type": "code",
      "metadata": {
        "scrolled": false,
        "id": "PNwylZvoCfAy"
      },
      "source": [
        "df_school_final[\"free_lunch\"]         = pd.to_numeric(df_school_final[\"free_lunch\"])\n",
        "df_school_final['reduced_lunch']      = pd.to_numeric(df_school_final['reduced_lunch'])\n",
        "df_school_final['directly_certified'] = pd.to_numeric(df_school_final['directly_certified'])"
      ],
      "execution_count": 100,
      "outputs": []
    },
    {
      "cell_type": "code",
      "metadata": {
        "colab": {
          "base_uri": "https://localhost:8080/"
        },
        "id": "Y0XhJ4LsCfAz",
        "outputId": "c92b26c7-0592-464c-8a55-450270f03ca9"
      },
      "source": [
        "print(df_school_final['free_lunch'].dtypes)\n",
        "print(df_school_final['reduced_lunch'].dtypes)\n",
        "print(df_school_final['directly_certified'].dtypes)"
      ],
      "execution_count": 101,
      "outputs": [
        {
          "output_type": "stream",
          "text": [
            "int64\n",
            "int64\n",
            "int64\n"
          ],
          "name": "stdout"
        }
      ]
    },
    {
      "cell_type": "code",
      "metadata": {
        "colab": {
          "base_uri": "https://localhost:8080/"
        },
        "id": "vHkWjubZQLam",
        "outputId": "77dffbff-666e-4002-e556-24636c3eeb6d"
      },
      "source": [
        "df_school_final['total_enrollment'].dtypes"
      ],
      "execution_count": 102,
      "outputs": [
        {
          "output_type": "execute_result",
          "data": {
            "text/plain": [
              "dtype('O')"
            ]
          },
          "metadata": {
            "tags": []
          },
          "execution_count": 102
        }
      ]
    },
    {
      "cell_type": "code",
      "metadata": {
        "id": "LN6XLpwMQjhN"
      },
      "source": [
        "df_school_final['total_enrollment'] = df_school_final['total_enrollment'].str.replace(',', '')"
      ],
      "execution_count": 103,
      "outputs": []
    },
    {
      "cell_type": "code",
      "metadata": {
        "id": "An9548arQQdS"
      },
      "source": [
        "df_school_final['total_enrollment']   = pd.to_numeric(df_school_final['total_enrollment'])"
      ],
      "execution_count": 104,
      "outputs": []
    },
    {
      "cell_type": "code",
      "metadata": {
        "id": "kQlBHzySCfAz"
      },
      "source": [
        "df_school_final[[\"FARMs\"]] = df_school_final[\"free_lunch\"] + df_school_final[\"reduced_lunch\"]\n",
        "df_school_final[[\"FARMs_percentage\"]] =  df_school_final[\"FARMs\"] / df_school_final[\"total_enrollment\"] \n",
        "df_school_final[[\"FARMs_percentage\"]] = df_school_final[\"FARMs_percentage\"] * 100\n"
      ],
      "execution_count": 105,
      "outputs": []
    },
    {
      "cell_type": "code",
      "metadata": {
        "colab": {
          "base_uri": "https://localhost:8080/",
          "height": 401
        },
        "id": "NO1LkZRcCfAz",
        "outputId": "f37ad5f1-2e9e-4c72-a915-0092044349e4"
      },
      "source": [
        "df_school_final.head()"
      ],
      "execution_count": 106,
      "outputs": [
        {
          "output_type": "execute_result",
          "data": {
            "text/html": [
              "<div>\n",
              "<style scoped>\n",
              "    .dataframe tbody tr th:only-of-type {\n",
              "        vertical-align: middle;\n",
              "    }\n",
              "\n",
              "    .dataframe tbody tr th {\n",
              "        vertical-align: top;\n",
              "    }\n",
              "\n",
              "    .dataframe thead th {\n",
              "        text-align: right;\n",
              "    }\n",
              "</style>\n",
              "<table border=\"1\" class=\"dataframe\">\n",
              "  <thead>\n",
              "    <tr style=\"text-align: right;\">\n",
              "      <th></th>\n",
              "      <th>number</th>\n",
              "      <th>school_name</th>\n",
              "      <th>total_enrollment</th>\n",
              "      <th>free_lunch</th>\n",
              "      <th>reduced_lunch</th>\n",
              "      <th>directly_certified</th>\n",
              "      <th>category</th>\n",
              "      <th>address</th>\n",
              "      <th>city</th>\n",
              "      <th>zip_code</th>\n",
              "      <th>phone</th>\n",
              "      <th>url</th>\n",
              "      <th>longitude</th>\n",
              "      <th>latitude</th>\n",
              "      <th>location</th>\n",
              "      <th>FARMs</th>\n",
              "      <th>FARMs_percentage</th>\n",
              "    </tr>\n",
              "  </thead>\n",
              "  <tbody>\n",
              "    <tr>\n",
              "      <th>0</th>\n",
              "      <td>0</td>\n",
              "      <td>A Mario Loiederman Middle School</td>\n",
              "      <td>999</td>\n",
              "      <td>424</td>\n",
              "      <td>124</td>\n",
              "      <td>127</td>\n",
              "      <td>MIDDLE SCHOOLS</td>\n",
              "      <td>12701 Goodhill Rd</td>\n",
              "      <td>Silver Spring</td>\n",
              "      <td>20906</td>\n",
              "      <td>301-929-2282</td>\n",
              "      <td>http://www.montgomeryschoolsmd.org/schools/loi...</td>\n",
              "      <td>-77.070835</td>\n",
              "      <td>39.065306</td>\n",
              "      <td>12701 Goodhill Rd\\nSilver Spring, MD 20906\\n(3...</td>\n",
              "      <td>548</td>\n",
              "      <td>54.854855</td>\n",
              "    </tr>\n",
              "    <tr>\n",
              "      <th>1</th>\n",
              "      <td>1</td>\n",
              "      <td>Albert Einstein High School</td>\n",
              "      <td>1818</td>\n",
              "      <td>492</td>\n",
              "      <td>153</td>\n",
              "      <td>145</td>\n",
              "      <td>HIGH SCHOOLS</td>\n",
              "      <td>11135 Newport Mill Rd</td>\n",
              "      <td>Kensington</td>\n",
              "      <td>20895</td>\n",
              "      <td>301-929-2200</td>\n",
              "      <td>http://www.montgomeryschoolsmd.org/schools/ein...</td>\n",
              "      <td>-77.067036</td>\n",
              "      <td>39.039616</td>\n",
              "      <td>11135 Newport Mill Rd\\nKensington, MD 20895\\n(...</td>\n",
              "      <td>645</td>\n",
              "      <td>35.478548</td>\n",
              "    </tr>\n",
              "    <tr>\n",
              "      <th>2</th>\n",
              "      <td>3</td>\n",
              "      <td>Arcola Elementary School</td>\n",
              "      <td>748</td>\n",
              "      <td>456</td>\n",
              "      <td>95</td>\n",
              "      <td>159</td>\n",
              "      <td>ELEMENTARY SCHOOLS</td>\n",
              "      <td>1820 Franwall Ave</td>\n",
              "      <td>Silver Spring</td>\n",
              "      <td>20902</td>\n",
              "      <td>301-649-8590</td>\n",
              "      <td>http://www.montgomeryschoolsmd.org/schools/arc...</td>\n",
              "      <td>-77.039388</td>\n",
              "      <td>39.045559</td>\n",
              "      <td>1820 Franwall Ave\\nSilver Spring, MD 20902\\n(3...</td>\n",
              "      <td>551</td>\n",
              "      <td>73.663102</td>\n",
              "    </tr>\n",
              "    <tr>\n",
              "      <th>3</th>\n",
              "      <td>4</td>\n",
              "      <td>Argyle Middle School</td>\n",
              "      <td>1024</td>\n",
              "      <td>444</td>\n",
              "      <td>130</td>\n",
              "      <td>131</td>\n",
              "      <td>MIDDLE SCHOOLS</td>\n",
              "      <td>2400 Bel Pre Rd</td>\n",
              "      <td>Silver Spring</td>\n",
              "      <td>20906</td>\n",
              "      <td>301-460-2400</td>\n",
              "      <td>http://www.montgomeryschoolsmd.org/schools/arg...</td>\n",
              "      <td>-77.048924</td>\n",
              "      <td>39.089521</td>\n",
              "      <td>2400 Bel Pre Rd\\nSilver Spring, MD 20906\\n(39....</td>\n",
              "      <td>574</td>\n",
              "      <td>56.054688</td>\n",
              "    </tr>\n",
              "    <tr>\n",
              "      <th>4</th>\n",
              "      <td>5</td>\n",
              "      <td>Ashburton Elementary School</td>\n",
              "      <td>922</td>\n",
              "      <td>76</td>\n",
              "      <td>24</td>\n",
              "      <td>43</td>\n",
              "      <td>ELEMENTARY SCHOOLS</td>\n",
              "      <td>6314 Lone Oak Dr</td>\n",
              "      <td>Bethesda</td>\n",
              "      <td>20817</td>\n",
              "      <td>301-571-6959</td>\n",
              "      <td>http://www.montgomeryschoolsmd.org/schools/ash...</td>\n",
              "      <td>-77.127721</td>\n",
              "      <td>39.019444</td>\n",
              "      <td>6314 Lone Oak Dr\\nBethesda, MD 20817\\n(39.0194...</td>\n",
              "      <td>100</td>\n",
              "      <td>10.845987</td>\n",
              "    </tr>\n",
              "  </tbody>\n",
              "</table>\n",
              "</div>"
            ],
            "text/plain": [
              "   number                       school_name  ...  FARMs  FARMs_percentage\n",
              "0       0  A Mario Loiederman Middle School  ...    548         54.854855\n",
              "1       1       Albert Einstein High School  ...    645         35.478548\n",
              "2       3          Arcola Elementary School  ...    551         73.663102\n",
              "3       4              Argyle Middle School  ...    574         56.054688\n",
              "4       5       Ashburton Elementary School  ...    100         10.845987\n",
              "\n",
              "[5 rows x 17 columns]"
            ]
          },
          "metadata": {
            "tags": []
          },
          "execution_count": 106
        }
      ]
    },
    {
      "cell_type": "code",
      "metadata": {
        "colab": {
          "base_uri": "https://localhost:8080/"
        },
        "id": "sQ_RtNaVO9F1",
        "outputId": "2532a288-d7d7-4738-9b0c-8e702f40e9c6"
      },
      "source": [
        "df_school_final['FARMs'].dtypes"
      ],
      "execution_count": 107,
      "outputs": [
        {
          "output_type": "execute_result",
          "data": {
            "text/plain": [
              "dtype('int64')"
            ]
          },
          "metadata": {
            "tags": []
          },
          "execution_count": 107
        }
      ]
    },
    {
      "cell_type": "code",
      "metadata": {
        "colab": {
          "base_uri": "https://localhost:8080/"
        },
        "id": "Da3BBufkPMUt",
        "outputId": "5be5fb49-fe75-4959-f2c0-abec891816c7"
      },
      "source": [
        "df_school_final['total_enrollment'].dtypes"
      ],
      "execution_count": 108,
      "outputs": [
        {
          "output_type": "execute_result",
          "data": {
            "text/plain": [
              "dtype('int64')"
            ]
          },
          "metadata": {
            "tags": []
          },
          "execution_count": 108
        }
      ]
    },
    {
      "cell_type": "code",
      "metadata": {
        "id": "43WTUV0pJtJc"
      },
      "source": [
        "df_school_final.to_excel(\"schools_final_file.xlsx\", sheet_name='Sheet_name_1')  "
      ],
      "execution_count": 109,
      "outputs": []
    },
    {
      "cell_type": "markdown",
      "metadata": {
        "id": "_fRyW-pqCfA1"
      },
      "source": [
        "### 1e. Xfinity Wifi Locations Dataset\n"
      ]
    },
    {
      "cell_type": "code",
      "metadata": {
        "id": "PKXNMdMQCfA1"
      },
      "source": [
        "df_xfinity = pd.read_excel('df_xfinity_final.xlsx')"
      ],
      "execution_count": 167,
      "outputs": []
    },
    {
      "cell_type": "code",
      "metadata": {
        "scrolled": true,
        "id": "ct-Twd0jCfA2",
        "colab": {
          "base_uri": "https://localhost:8080/",
          "height": 197
        },
        "outputId": "a385e273-ad4f-40be-ed7c-d4213b3f2dba"
      },
      "source": [
        "# viewing the xfinity df\n",
        "df_xfinity.head()"
      ],
      "execution_count": 168,
      "outputs": [
        {
          "output_type": "execute_result",
          "data": {
            "text/html": [
              "<div>\n",
              "<style scoped>\n",
              "    .dataframe tbody tr th:only-of-type {\n",
              "        vertical-align: middle;\n",
              "    }\n",
              "\n",
              "    .dataframe tbody tr th {\n",
              "        vertical-align: top;\n",
              "    }\n",
              "\n",
              "    .dataframe thead th {\n",
              "        text-align: right;\n",
              "    }\n",
              "</style>\n",
              "<table border=\"1\" class=\"dataframe\">\n",
              "  <thead>\n",
              "    <tr style=\"text-align: right;\">\n",
              "      <th></th>\n",
              "      <th>Full_Address</th>\n",
              "      <th>Latitude</th>\n",
              "      <th>Longitude</th>\n",
              "      <th>City</th>\n",
              "      <th>Zip</th>\n",
              "    </tr>\n",
              "  </thead>\n",
              "  <tbody>\n",
              "    <tr>\n",
              "      <th>0</th>\n",
              "      <td>19737 Frederick Rd, Germantown, Maryland 20876</td>\n",
              "      <td>39.179688</td>\n",
              "      <td>-77.236382</td>\n",
              "      <td>Germantown</td>\n",
              "      <td>20876</td>\n",
              "    </tr>\n",
              "    <tr>\n",
              "      <th>1</th>\n",
              "      <td>8413 Ramsey Ave, Silver Spring, Maryland 20910</td>\n",
              "      <td>38.994217</td>\n",
              "      <td>-77.029010</td>\n",
              "      <td>Silver Spring</td>\n",
              "      <td>20910</td>\n",
              "    </tr>\n",
              "    <tr>\n",
              "      <th>2</th>\n",
              "      <td>3502 Morningwood Dr, Olney, Maryland 20832</td>\n",
              "      <td>39.151327</td>\n",
              "      <td>-77.069516</td>\n",
              "      <td>Olney</td>\n",
              "      <td>20832</td>\n",
              "    </tr>\n",
              "    <tr>\n",
              "      <th>3</th>\n",
              "      <td>9172 Brookville Rd, Silver Spring, Maryland 20910</td>\n",
              "      <td>39.006246</td>\n",
              "      <td>-77.049362</td>\n",
              "      <td>Silver Spring</td>\n",
              "      <td>20910</td>\n",
              "    </tr>\n",
              "    <tr>\n",
              "      <th>4</th>\n",
              "      <td>2211 Greenery Ln, Silver Spring, Maryland 20906</td>\n",
              "      <td>39.062183</td>\n",
              "      <td>-77.048984</td>\n",
              "      <td>Silver Spring</td>\n",
              "      <td>20906</td>\n",
              "    </tr>\n",
              "  </tbody>\n",
              "</table>\n",
              "</div>"
            ],
            "text/plain": [
              "                                        Full_Address  ...    Zip\n",
              "0     19737 Frederick Rd, Germantown, Maryland 20876  ...  20876\n",
              "1     8413 Ramsey Ave, Silver Spring, Maryland 20910  ...  20910\n",
              "2         3502 Morningwood Dr, Olney, Maryland 20832  ...  20832\n",
              "3  9172 Brookville Rd, Silver Spring, Maryland 20910  ...  20910\n",
              "4    2211 Greenery Ln, Silver Spring, Maryland 20906  ...  20906\n",
              "\n",
              "[5 rows x 5 columns]"
            ]
          },
          "metadata": {
            "tags": []
          },
          "execution_count": 168
        }
      ]
    },
    {
      "cell_type": "code",
      "metadata": {
        "id": "hJwDQfQyCfA3",
        "colab": {
          "base_uri": "https://localhost:8080/"
        },
        "outputId": "7dd525bf-8cb1-4763-a7e7-e0ee8df3c333"
      },
      "source": [
        "len(df_xfinity)"
      ],
      "execution_count": 169,
      "outputs": [
        {
          "output_type": "execute_result",
          "data": {
            "text/plain": [
              "6076"
            ]
          },
          "metadata": {
            "tags": []
          },
          "execution_count": 169
        }
      ]
    },
    {
      "cell_type": "code",
      "metadata": {
        "colab": {
          "base_uri": "https://localhost:8080/"
        },
        "id": "1f4ajGeqcgUs",
        "outputId": "790a91c7-fba7-4f62-ef5f-ffb9a4adc95e"
      },
      "source": [
        "print(df_xfinity[df_xfinity['City'].str.contains(\"Washington\")])\n",
        "print( df_xfinity[df_xfinity['City'].str.contains(\"Virfina\")])"
      ],
      "execution_count": 170,
      "outputs": [
        {
          "output_type": "stream",
          "text": [
            "                                        Full_Address  ...    Zip\n",
            "1394  205 Grove Rd, Washington Grove, Maryland 20880  ...  20880\n",
            "\n",
            "[1 rows x 5 columns]\n",
            "Empty DataFrame\n",
            "Columns: [Full_Address, Latitude, Longitude, City, Zip]\n",
            "Index: []\n"
          ],
          "name": "stdout"
        }
      ]
    },
    {
      "cell_type": "code",
      "metadata": {
        "colab": {
          "base_uri": "https://localhost:8080/"
        },
        "id": "IvIwjt0Peciq",
        "outputId": "799eed0d-c591-492e-bb5e-9a3a457dfaf0"
      },
      "source": [
        "print(df_xfinity.Latitude.isnull().sum())\n",
        "print(df_xfinity.Longitude.isnull().sum())"
      ],
      "execution_count": 171,
      "outputs": [
        {
          "output_type": "stream",
          "text": [
            "0\n",
            "0\n"
          ],
          "name": "stdout"
        }
      ]
    },
    {
      "cell_type": "markdown",
      "metadata": {
        "id": "sMioCr7ms41x"
      },
      "source": [
        "### 1f. Monster Combined Dataset\n"
      ]
    },
    {
      "cell_type": "markdown",
      "metadata": {
        "id": "8N9F-Ip3tIKk"
      },
      "source": [
        "In order to graph both the MPCS schools and Xfinity/County wifi, I will create a monster dataset"
      ]
    },
    {
      "cell_type": "markdown",
      "metadata": {
        "id": "MDwJ64_wzO3F"
      },
      "source": [
        "#### 1f.1. Monster School"
      ]
    },
    {
      "cell_type": "code",
      "metadata": {
        "colab": {
          "base_uri": "https://localhost:8080/"
        },
        "id": "fEKbZWA8tF70",
        "outputId": "8d04fcdb-b1f3-4c03-d742-b1df6fdfb2a8"
      },
      "source": [
        "monster_school = df_school_final[['school_name','address','category','latitude','longitude']]\n",
        "print(monster_school.head())\n",
        "print(len(monster_school))"
      ],
      "execution_count": 116,
      "outputs": [
        {
          "output_type": "stream",
          "text": [
            "                        school_name  ...  longitude\n",
            "0  A Mario Loiederman Middle School  ... -77.070835\n",
            "1       Albert Einstein High School  ... -77.067036\n",
            "2          Arcola Elementary School  ... -77.039388\n",
            "3              Argyle Middle School  ... -77.048924\n",
            "4       Ashburton Elementary School  ... -77.127721\n",
            "\n",
            "[5 rows x 5 columns]\n",
            "194\n"
          ],
          "name": "stdout"
        }
      ]
    },
    {
      "cell_type": "code",
      "metadata": {
        "colab": {
          "base_uri": "https://localhost:8080/"
        },
        "id": "GsPpMQamxFbN",
        "outputId": "522f0adf-28a8-49a5-9d56-a2eb1dfe4456"
      },
      "source": [
        "monster_school.columns = ['Name', 'Address', 'Category', 'Latitude', 'Longitude']\n",
        "print(monster_school.head())\n"
      ],
      "execution_count": 118,
      "outputs": [
        {
          "output_type": "stream",
          "text": [
            "                               Name  ...  Longitude\n",
            "0  A Mario Loiederman Middle School  ... -77.070835\n",
            "1       Albert Einstein High School  ... -77.067036\n",
            "2          Arcola Elementary School  ... -77.039388\n",
            "3              Argyle Middle School  ... -77.048924\n",
            "4       Ashburton Elementary School  ... -77.127721\n",
            "\n",
            "[5 rows x 5 columns]\n"
          ],
          "name": "stdout"
        }
      ]
    },
    {
      "cell_type": "code",
      "metadata": {
        "colab": {
          "base_uri": "https://localhost:8080/",
          "height": 806
        },
        "id": "Yqr_0pLuxFl8",
        "outputId": "0b7c7b57-2607-42c8-d5a8-bf967acc4d31"
      },
      "source": [
        "monster_school[\"Type\"] = \"\"\n",
        "monster_school[\"Type\"] = 'School'\n",
        "monster_school"
      ],
      "execution_count": 129,
      "outputs": [
        {
          "output_type": "stream",
          "text": [
            "/usr/local/lib/python3.7/dist-packages/ipykernel_launcher.py:1: SettingWithCopyWarning: \n",
            "A value is trying to be set on a copy of a slice from a DataFrame.\n",
            "Try using .loc[row_indexer,col_indexer] = value instead\n",
            "\n",
            "See the caveats in the documentation: https://pandas.pydata.org/pandas-docs/stable/user_guide/indexing.html#returning-a-view-versus-a-copy\n",
            "  \"\"\"Entry point for launching an IPython kernel.\n",
            "/usr/local/lib/python3.7/dist-packages/ipykernel_launcher.py:2: SettingWithCopyWarning: \n",
            "A value is trying to be set on a copy of a slice from a DataFrame.\n",
            "Try using .loc[row_indexer,col_indexer] = value instead\n",
            "\n",
            "See the caveats in the documentation: https://pandas.pydata.org/pandas-docs/stable/user_guide/indexing.html#returning-a-view-versus-a-copy\n",
            "  \n"
          ],
          "name": "stderr"
        },
        {
          "output_type": "execute_result",
          "data": {
            "text/html": [
              "<div>\n",
              "<style scoped>\n",
              "    .dataframe tbody tr th:only-of-type {\n",
              "        vertical-align: middle;\n",
              "    }\n",
              "\n",
              "    .dataframe tbody tr th {\n",
              "        vertical-align: top;\n",
              "    }\n",
              "\n",
              "    .dataframe thead th {\n",
              "        text-align: right;\n",
              "    }\n",
              "</style>\n",
              "<table border=\"1\" class=\"dataframe\">\n",
              "  <thead>\n",
              "    <tr style=\"text-align: right;\">\n",
              "      <th></th>\n",
              "      <th>Name</th>\n",
              "      <th>Address</th>\n",
              "      <th>Category</th>\n",
              "      <th>Latitude</th>\n",
              "      <th>Longitude</th>\n",
              "      <th>Type</th>\n",
              "    </tr>\n",
              "  </thead>\n",
              "  <tbody>\n",
              "    <tr>\n",
              "      <th>0</th>\n",
              "      <td>A Mario Loiederman Middle School</td>\n",
              "      <td>12701 Goodhill Rd</td>\n",
              "      <td>MIDDLE SCHOOLS</td>\n",
              "      <td>39.065306</td>\n",
              "      <td>-77.070835</td>\n",
              "      <td>School</td>\n",
              "    </tr>\n",
              "    <tr>\n",
              "      <th>1</th>\n",
              "      <td>Albert Einstein High School</td>\n",
              "      <td>11135 Newport Mill Rd</td>\n",
              "      <td>HIGH SCHOOLS</td>\n",
              "      <td>39.039616</td>\n",
              "      <td>-77.067036</td>\n",
              "      <td>School</td>\n",
              "    </tr>\n",
              "    <tr>\n",
              "      <th>2</th>\n",
              "      <td>Arcola Elementary School</td>\n",
              "      <td>1820 Franwall Ave</td>\n",
              "      <td>ELEMENTARY SCHOOLS</td>\n",
              "      <td>39.045559</td>\n",
              "      <td>-77.039388</td>\n",
              "      <td>School</td>\n",
              "    </tr>\n",
              "    <tr>\n",
              "      <th>3</th>\n",
              "      <td>Argyle Middle School</td>\n",
              "      <td>2400 Bel Pre Rd</td>\n",
              "      <td>MIDDLE SCHOOLS</td>\n",
              "      <td>39.089521</td>\n",
              "      <td>-77.048924</td>\n",
              "      <td>School</td>\n",
              "    </tr>\n",
              "    <tr>\n",
              "      <th>4</th>\n",
              "      <td>Ashburton Elementary School</td>\n",
              "      <td>6314 Lone Oak Dr</td>\n",
              "      <td>ELEMENTARY SCHOOLS</td>\n",
              "      <td>39.019444</td>\n",
              "      <td>-77.127721</td>\n",
              "      <td>School</td>\n",
              "    </tr>\n",
              "    <tr>\n",
              "      <th>...</th>\n",
              "      <td>...</td>\n",
              "      <td>...</td>\n",
              "      <td>...</td>\n",
              "      <td>...</td>\n",
              "      <td>...</td>\n",
              "      <td>...</td>\n",
              "    </tr>\n",
              "    <tr>\n",
              "      <th>189</th>\n",
              "      <td>Winston Churchill High School</td>\n",
              "      <td>11300 Gainsborough Rd</td>\n",
              "      <td>HIGH SCHOOLS</td>\n",
              "      <td>39.044305</td>\n",
              "      <td>-77.173128</td>\n",
              "      <td>School</td>\n",
              "    </tr>\n",
              "    <tr>\n",
              "      <th>190</th>\n",
              "      <td>Wood Acres Elementary School</td>\n",
              "      <td>5800 Cromwell Dr</td>\n",
              "      <td>ELEMENTARY SCHOOLS</td>\n",
              "      <td>38.967587</td>\n",
              "      <td>-77.118672</td>\n",
              "      <td>School</td>\n",
              "    </tr>\n",
              "    <tr>\n",
              "      <th>191</th>\n",
              "      <td>Woodfield Elementary School</td>\n",
              "      <td>24200 Woodfield Rd</td>\n",
              "      <td>ELEMENTARY SCHOOLS</td>\n",
              "      <td>39.252783</td>\n",
              "      <td>-77.198281</td>\n",
              "      <td>School</td>\n",
              "    </tr>\n",
              "    <tr>\n",
              "      <th>192</th>\n",
              "      <td>Woodlin Elementary School</td>\n",
              "      <td>2101 Luzerne Ave</td>\n",
              "      <td>ELEMENTARY SCHOOLS</td>\n",
              "      <td>39.006537</td>\n",
              "      <td>-77.046772</td>\n",
              "      <td>School</td>\n",
              "    </tr>\n",
              "    <tr>\n",
              "      <th>193</th>\n",
              "      <td>Wyngate Elementary School</td>\n",
              "      <td>9300 Wadsworth Dr</td>\n",
              "      <td>ELEMENTARY SCHOOLS</td>\n",
              "      <td>39.009326</td>\n",
              "      <td>-77.128244</td>\n",
              "      <td>School</td>\n",
              "    </tr>\n",
              "  </tbody>\n",
              "</table>\n",
              "<p>194 rows × 6 columns</p>\n",
              "</div>"
            ],
            "text/plain": [
              "                                 Name                Address  ...  Longitude    Type\n",
              "0    A Mario Loiederman Middle School      12701 Goodhill Rd  ... -77.070835  School\n",
              "1         Albert Einstein High School  11135 Newport Mill Rd  ... -77.067036  School\n",
              "2            Arcola Elementary School      1820 Franwall Ave  ... -77.039388  School\n",
              "3                Argyle Middle School        2400 Bel Pre Rd  ... -77.048924  School\n",
              "4         Ashburton Elementary School       6314 Lone Oak Dr  ... -77.127721  School\n",
              "..                                ...                    ...  ...        ...     ...\n",
              "189     Winston Churchill High School  11300 Gainsborough Rd  ... -77.173128  School\n",
              "190      Wood Acres Elementary School       5800 Cromwell Dr  ... -77.118672  School\n",
              "191       Woodfield Elementary School     24200 Woodfield Rd  ... -77.198281  School\n",
              "192         Woodlin Elementary School       2101 Luzerne Ave  ... -77.046772  School\n",
              "193         Wyngate Elementary School      9300 Wadsworth Dr  ... -77.128244  School\n",
              "\n",
              "[194 rows x 6 columns]"
            ]
          },
          "metadata": {
            "tags": []
          },
          "execution_count": 129
        }
      ]
    },
    {
      "cell_type": "markdown",
      "metadata": {
        "id": "OBx4PKCpy7GT"
      },
      "source": [
        "####1f.2. County Monster"
      ]
    },
    {
      "cell_type": "code",
      "metadata": {
        "colab": {
          "base_uri": "https://localhost:8080/"
        },
        "id": "v8jUZxp8zsGb",
        "outputId": "6824dcc2-0d71-4966-dfbf-9cba97b78932"
      },
      "source": [
        "monster_county = df_county_copy[['Name','Department','Address','Latitude','Longitude']]\n",
        "print(monster_county.head())\n",
        "print(len(monster_county))"
      ],
      "execution_count": 160,
      "outputs": [
        {
          "output_type": "stream",
          "text": [
            "                                  Name         Department  ...   Latitude  Longitude\n",
            "0                    White Oak Library                DPL  ...  39.048058 -76.992585\n",
            "1  Sidney Kramer Upcounty Service ctr.                RSC  ...  39.179332 -77.267914\n",
            "2                 L3 Helpdesk & Office                DTS  ...  39.108593 -77.151413\n",
            "3                       OIG/ERP Office  CAO/CEX/CC/Courts  ...  39.083800 -77.148147\n",
            "4                                 F&RS                FRS  ...  39.180120 -77.411689\n",
            "\n",
            "[5 rows x 5 columns]\n",
            "178\n"
          ],
          "name": "stdout"
        }
      ]
    },
    {
      "cell_type": "code",
      "metadata": {
        "colab": {
          "base_uri": "https://localhost:8080/"
        },
        "id": "CswW70W20LVu",
        "outputId": "ab66214f-01d6-4629-8c78-cb880771502f"
      },
      "source": [
        "monster_county.columns = ['Name', 'Category', 'Address', 'Latitude', 'Longitude']\n",
        "print(monster_county.head())"
      ],
      "execution_count": 162,
      "outputs": [
        {
          "output_type": "stream",
          "text": [
            "                                  Name           Category  ...   Latitude  Longitude\n",
            "0                    White Oak Library                DPL  ...  39.048058 -76.992585\n",
            "1  Sidney Kramer Upcounty Service ctr.                RSC  ...  39.179332 -77.267914\n",
            "2                 L3 Helpdesk & Office                DTS  ...  39.108593 -77.151413\n",
            "3                       OIG/ERP Office  CAO/CEX/CC/Courts  ...  39.083800 -77.148147\n",
            "4                                 F&RS                FRS  ...  39.180120 -77.411689\n",
            "\n",
            "[5 rows x 5 columns]\n"
          ],
          "name": "stdout"
        }
      ]
    },
    {
      "cell_type": "code",
      "metadata": {
        "colab": {
          "base_uri": "https://localhost:8080/",
          "height": 873
        },
        "id": "0GMhh0f10vD5",
        "outputId": "93978d68-8153-4794-8ed5-3c60bbe9d992"
      },
      "source": [
        "monster_county[\"Type\"] = \"\"\n",
        "monster_county[\"Type\"] = 'County Wifi'\n",
        "monster_county"
      ],
      "execution_count": 163,
      "outputs": [
        {
          "output_type": "stream",
          "text": [
            "/usr/local/lib/python3.7/dist-packages/ipykernel_launcher.py:1: SettingWithCopyWarning: \n",
            "A value is trying to be set on a copy of a slice from a DataFrame.\n",
            "Try using .loc[row_indexer,col_indexer] = value instead\n",
            "\n",
            "See the caveats in the documentation: https://pandas.pydata.org/pandas-docs/stable/user_guide/indexing.html#returning-a-view-versus-a-copy\n",
            "  \"\"\"Entry point for launching an IPython kernel.\n",
            "/usr/local/lib/python3.7/dist-packages/ipykernel_launcher.py:2: SettingWithCopyWarning: \n",
            "A value is trying to be set on a copy of a slice from a DataFrame.\n",
            "Try using .loc[row_indexer,col_indexer] = value instead\n",
            "\n",
            "See the caveats in the documentation: https://pandas.pydata.org/pandas-docs/stable/user_guide/indexing.html#returning-a-view-versus-a-copy\n",
            "  \n"
          ],
          "name": "stderr"
        },
        {
          "output_type": "execute_result",
          "data": {
            "text/html": [
              "<div>\n",
              "<style scoped>\n",
              "    .dataframe tbody tr th:only-of-type {\n",
              "        vertical-align: middle;\n",
              "    }\n",
              "\n",
              "    .dataframe tbody tr th {\n",
              "        vertical-align: top;\n",
              "    }\n",
              "\n",
              "    .dataframe thead th {\n",
              "        text-align: right;\n",
              "    }\n",
              "</style>\n",
              "<table border=\"1\" class=\"dataframe\">\n",
              "  <thead>\n",
              "    <tr style=\"text-align: right;\">\n",
              "      <th></th>\n",
              "      <th>Name</th>\n",
              "      <th>Category</th>\n",
              "      <th>Address</th>\n",
              "      <th>Latitude</th>\n",
              "      <th>Longitude</th>\n",
              "      <th>Type</th>\n",
              "    </tr>\n",
              "  </thead>\n",
              "  <tbody>\n",
              "    <tr>\n",
              "      <th>0</th>\n",
              "      <td>White Oak Library</td>\n",
              "      <td>DPL</td>\n",
              "      <td>11701 New Hampshire Avenue, Silver Spring, MD ...</td>\n",
              "      <td>39.048058</td>\n",
              "      <td>-76.992585</td>\n",
              "      <td>County Wifi</td>\n",
              "    </tr>\n",
              "    <tr>\n",
              "      <th>1</th>\n",
              "      <td>Sidney Kramer Upcounty Service ctr.</td>\n",
              "      <td>RSC</td>\n",
              "      <td>12900 Middlebrook Road, Germantown MD</td>\n",
              "      <td>39.179332</td>\n",
              "      <td>-77.267914</td>\n",
              "      <td>County Wifi</td>\n",
              "    </tr>\n",
              "    <tr>\n",
              "      <th>2</th>\n",
              "      <td>L3 Helpdesk &amp; Office</td>\n",
              "      <td>DTS</td>\n",
              "      <td>7361 Calhoun Plaza,  Rockville, MD 20850</td>\n",
              "      <td>39.108593</td>\n",
              "      <td>-77.151413</td>\n",
              "      <td>County Wifi</td>\n",
              "    </tr>\n",
              "    <tr>\n",
              "      <th>3</th>\n",
              "      <td>OIG/ERP Office</td>\n",
              "      <td>CAO/CEX/CC/Courts</td>\n",
              "      <td>51 Monroe Street, Rockville, MD 20850</td>\n",
              "      <td>39.083800</td>\n",
              "      <td>-77.148147</td>\n",
              "      <td>County Wifi</td>\n",
              "    </tr>\n",
              "    <tr>\n",
              "      <th>4</th>\n",
              "      <td>F&amp;RS</td>\n",
              "      <td>FRS</td>\n",
              "      <td>19801 Bealsville Road, Bealsville, MD 20839</td>\n",
              "      <td>39.180120</td>\n",
              "      <td>-77.411689</td>\n",
              "      <td>County Wifi</td>\n",
              "    </tr>\n",
              "    <tr>\n",
              "      <th>...</th>\n",
              "      <td>...</td>\n",
              "      <td>...</td>\n",
              "      <td>...</td>\n",
              "      <td>...</td>\n",
              "      <td>...</td>\n",
              "      <td>...</td>\n",
              "    </tr>\n",
              "    <tr>\n",
              "      <th>173</th>\n",
              "      <td>Swing Office Space</td>\n",
              "      <td>DGS</td>\n",
              "      <td>1451 Seven Locks Road, Rockville, MD</td>\n",
              "      <td>39.070994</td>\n",
              "      <td>-77.162760</td>\n",
              "      <td>County Wifi</td>\n",
              "    </tr>\n",
              "    <tr>\n",
              "      <th>174</th>\n",
              "      <td>HHS - 1301 Piccard Drive</td>\n",
              "      <td>HHS</td>\n",
              "      <td>1301 Piccard Drive, Rockville, MD</td>\n",
              "      <td>39.102672</td>\n",
              "      <td>-77.177593</td>\n",
              "      <td>County Wifi</td>\n",
              "    </tr>\n",
              "    <tr>\n",
              "      <th>175</th>\n",
              "      <td>Wheaton Resource Center</td>\n",
              "      <td>FRS</td>\n",
              "      <td>11435 Grandview Ave, Wheaton, MD</td>\n",
              "      <td>39.042763</td>\n",
              "      <td>-77.053153</td>\n",
              "      <td>County Wifi</td>\n",
              "    </tr>\n",
              "    <tr>\n",
              "      <th>176</th>\n",
              "      <td>Colesville Highway Service Depot</td>\n",
              "      <td>DOT</td>\n",
              "      <td>14335 Cape May Road, Silver Spring, MD 20904</td>\n",
              "      <td>39.090311</td>\n",
              "      <td>-76.996699</td>\n",
              "      <td>County Wifi</td>\n",
              "    </tr>\n",
              "    <tr>\n",
              "      <th>177</th>\n",
              "      <td>Bethesda/Chevy Chase RSC</td>\n",
              "      <td>RSC</td>\n",
              "      <td>4805 Edgemoor Lane, Bethesda, Md</td>\n",
              "      <td>38.984796</td>\n",
              "      <td>-77.095858</td>\n",
              "      <td>County Wifi</td>\n",
              "    </tr>\n",
              "  </tbody>\n",
              "</table>\n",
              "<p>178 rows × 6 columns</p>\n",
              "</div>"
            ],
            "text/plain": [
              "                                    Name  ...         Type\n",
              "0                      White Oak Library  ...  County Wifi\n",
              "1    Sidney Kramer Upcounty Service ctr.  ...  County Wifi\n",
              "2                   L3 Helpdesk & Office  ...  County Wifi\n",
              "3                         OIG/ERP Office  ...  County Wifi\n",
              "4                                   F&RS  ...  County Wifi\n",
              "..                                   ...  ...          ...\n",
              "173                   Swing Office Space  ...  County Wifi\n",
              "174             HHS - 1301 Piccard Drive  ...  County Wifi\n",
              "175              Wheaton Resource Center  ...  County Wifi\n",
              "176     Colesville Highway Service Depot  ...  County Wifi\n",
              "177             Bethesda/Chevy Chase RSC  ...  County Wifi\n",
              "\n",
              "[178 rows x 6 columns]"
            ]
          },
          "metadata": {
            "tags": []
          },
          "execution_count": 163
        }
      ]
    },
    {
      "cell_type": "markdown",
      "metadata": {
        "id": "Aa4QT6qNzhEG"
      },
      "source": [
        "#### 1f.3. Xfinity Monster"
      ]
    },
    {
      "cell_type": "code",
      "metadata": {
        "colab": {
          "base_uri": "https://localhost:8080/"
        },
        "id": "Md8LENuszZZY",
        "outputId": "adc5e41e-2b15-49b0-fa44-590b710fdd96"
      },
      "source": [
        "monster_xfinity = df_xfinity[['Full_Address','Latitude','Longitude']]\n",
        "print(monster_xfinity.head())\n",
        "print(len(monster_xfinity))"
      ],
      "execution_count": 172,
      "outputs": [
        {
          "output_type": "stream",
          "text": [
            "                                        Full_Address   Latitude  Longitude\n",
            "0     19737 Frederick Rd, Germantown, Maryland 20876  39.179688 -77.236382\n",
            "1     8413 Ramsey Ave, Silver Spring, Maryland 20910  38.994217 -77.029010\n",
            "2         3502 Morningwood Dr, Olney, Maryland 20832  39.151327 -77.069516\n",
            "3  9172 Brookville Rd, Silver Spring, Maryland 20910  39.006246 -77.049362\n",
            "4    2211 Greenery Ln, Silver Spring, Maryland 20906  39.062183 -77.048984\n",
            "6076\n"
          ],
          "name": "stdout"
        }
      ]
    },
    {
      "cell_type": "code",
      "metadata": {
        "colab": {
          "base_uri": "https://localhost:8080/"
        },
        "id": "PmccPETC1ZB0",
        "outputId": "4ed4d675-8472-442c-bccb-e8c7eb2c32f2"
      },
      "source": [
        "monster_xfinity.columns = ['Address', 'Latitude', 'Longitude']\n",
        "print(monster_xfinity.head())"
      ],
      "execution_count": 174,
      "outputs": [
        {
          "output_type": "stream",
          "text": [
            "                                             Address   Latitude  Longitude\n",
            "0     19737 Frederick Rd, Germantown, Maryland 20876  39.179688 -77.236382\n",
            "1     8413 Ramsey Ave, Silver Spring, Maryland 20910  38.994217 -77.029010\n",
            "2         3502 Morningwood Dr, Olney, Maryland 20832  39.151327 -77.069516\n",
            "3  9172 Brookville Rd, Silver Spring, Maryland 20910  39.006246 -77.049362\n",
            "4    2211 Greenery Ln, Silver Spring, Maryland 20906  39.062183 -77.048984\n"
          ],
          "name": "stdout"
        }
      ]
    },
    {
      "cell_type": "code",
      "metadata": {
        "colab": {
          "base_uri": "https://localhost:8080/",
          "height": 620
        },
        "id": "IVKe0Wr31j0T",
        "outputId": "3eb08d24-ed62-4182-f4cf-849d293efc67"
      },
      "source": [
        "monster_xfinity[\"Type\"] = \"\"\n",
        "monster_xfinity[\"Type\"] = 'Xfinity Wifi'\n",
        "monster_xfinity"
      ],
      "execution_count": 175,
      "outputs": [
        {
          "output_type": "stream",
          "text": [
            "/usr/local/lib/python3.7/dist-packages/ipykernel_launcher.py:1: SettingWithCopyWarning: \n",
            "A value is trying to be set on a copy of a slice from a DataFrame.\n",
            "Try using .loc[row_indexer,col_indexer] = value instead\n",
            "\n",
            "See the caveats in the documentation: https://pandas.pydata.org/pandas-docs/stable/user_guide/indexing.html#returning-a-view-versus-a-copy\n",
            "  \"\"\"Entry point for launching an IPython kernel.\n",
            "/usr/local/lib/python3.7/dist-packages/ipykernel_launcher.py:2: SettingWithCopyWarning: \n",
            "A value is trying to be set on a copy of a slice from a DataFrame.\n",
            "Try using .loc[row_indexer,col_indexer] = value instead\n",
            "\n",
            "See the caveats in the documentation: https://pandas.pydata.org/pandas-docs/stable/user_guide/indexing.html#returning-a-view-versus-a-copy\n",
            "  \n"
          ],
          "name": "stderr"
        },
        {
          "output_type": "execute_result",
          "data": {
            "text/html": [
              "<div>\n",
              "<style scoped>\n",
              "    .dataframe tbody tr th:only-of-type {\n",
              "        vertical-align: middle;\n",
              "    }\n",
              "\n",
              "    .dataframe tbody tr th {\n",
              "        vertical-align: top;\n",
              "    }\n",
              "\n",
              "    .dataframe thead th {\n",
              "        text-align: right;\n",
              "    }\n",
              "</style>\n",
              "<table border=\"1\" class=\"dataframe\">\n",
              "  <thead>\n",
              "    <tr style=\"text-align: right;\">\n",
              "      <th></th>\n",
              "      <th>Address</th>\n",
              "      <th>Latitude</th>\n",
              "      <th>Longitude</th>\n",
              "      <th>Type</th>\n",
              "    </tr>\n",
              "  </thead>\n",
              "  <tbody>\n",
              "    <tr>\n",
              "      <th>0</th>\n",
              "      <td>19737 Frederick Rd, Germantown, Maryland 20876</td>\n",
              "      <td>39.179688</td>\n",
              "      <td>-77.236382</td>\n",
              "      <td>Xfinity Wifi</td>\n",
              "    </tr>\n",
              "    <tr>\n",
              "      <th>1</th>\n",
              "      <td>8413 Ramsey Ave, Silver Spring, Maryland 20910</td>\n",
              "      <td>38.994217</td>\n",
              "      <td>-77.029010</td>\n",
              "      <td>Xfinity Wifi</td>\n",
              "    </tr>\n",
              "    <tr>\n",
              "      <th>2</th>\n",
              "      <td>3502 Morningwood Dr, Olney, Maryland 20832</td>\n",
              "      <td>39.151327</td>\n",
              "      <td>-77.069516</td>\n",
              "      <td>Xfinity Wifi</td>\n",
              "    </tr>\n",
              "    <tr>\n",
              "      <th>3</th>\n",
              "      <td>9172 Brookville Rd, Silver Spring, Maryland 20910</td>\n",
              "      <td>39.006246</td>\n",
              "      <td>-77.049362</td>\n",
              "      <td>Xfinity Wifi</td>\n",
              "    </tr>\n",
              "    <tr>\n",
              "      <th>4</th>\n",
              "      <td>2211 Greenery Ln, Silver Spring, Maryland 20906</td>\n",
              "      <td>39.062183</td>\n",
              "      <td>-77.048984</td>\n",
              "      <td>Xfinity Wifi</td>\n",
              "    </tr>\n",
              "    <tr>\n",
              "      <th>...</th>\n",
              "      <td>...</td>\n",
              "      <td>...</td>\n",
              "      <td>...</td>\n",
              "      <td>...</td>\n",
              "    </tr>\n",
              "    <tr>\n",
              "      <th>6071</th>\n",
              "      <td>8821 Brookville Rd, Silver Spring, Maryland 20910</td>\n",
              "      <td>39.000694</td>\n",
              "      <td>-77.054031</td>\n",
              "      <td>Xfinity Wifi</td>\n",
              "    </tr>\n",
              "    <tr>\n",
              "      <th>6072</th>\n",
              "      <td>12623 Wisteria Dr, Germantown, Maryland 20874</td>\n",
              "      <td>39.172108</td>\n",
              "      <td>-77.261473</td>\n",
              "      <td>Xfinity Wifi</td>\n",
              "    </tr>\n",
              "    <tr>\n",
              "      <th>6073</th>\n",
              "      <td>2025 E East West Hwy, Silver Spring, Maryland ...</td>\n",
              "      <td>39.003109</td>\n",
              "      <td>-77.029648</td>\n",
              "      <td>Xfinity Wifi</td>\n",
              "    </tr>\n",
              "    <tr>\n",
              "      <th>6074</th>\n",
              "      <td>210 Lincoln Ave, Rockville, Maryland 20850</td>\n",
              "      <td>39.092136</td>\n",
              "      <td>-77.148363</td>\n",
              "      <td>Xfinity Wifi</td>\n",
              "    </tr>\n",
              "    <tr>\n",
              "      <th>6075</th>\n",
              "      <td>8584 Freyman Dr, Chevy Chase, Maryland 20815</td>\n",
              "      <td>38.996509</td>\n",
              "      <td>-77.058849</td>\n",
              "      <td>Xfinity Wifi</td>\n",
              "    </tr>\n",
              "  </tbody>\n",
              "</table>\n",
              "<p>6076 rows × 4 columns</p>\n",
              "</div>"
            ],
            "text/plain": [
              "                                                Address  ...          Type\n",
              "0        19737 Frederick Rd, Germantown, Maryland 20876  ...  Xfinity Wifi\n",
              "1        8413 Ramsey Ave, Silver Spring, Maryland 20910  ...  Xfinity Wifi\n",
              "2            3502 Morningwood Dr, Olney, Maryland 20832  ...  Xfinity Wifi\n",
              "3     9172 Brookville Rd, Silver Spring, Maryland 20910  ...  Xfinity Wifi\n",
              "4       2211 Greenery Ln, Silver Spring, Maryland 20906  ...  Xfinity Wifi\n",
              "...                                                 ...  ...           ...\n",
              "6071  8821 Brookville Rd, Silver Spring, Maryland 20910  ...  Xfinity Wifi\n",
              "6072      12623 Wisteria Dr, Germantown, Maryland 20874  ...  Xfinity Wifi\n",
              "6073  2025 E East West Hwy, Silver Spring, Maryland ...  ...  Xfinity Wifi\n",
              "6074         210 Lincoln Ave, Rockville, Maryland 20850  ...  Xfinity Wifi\n",
              "6075       8584 Freyman Dr, Chevy Chase, Maryland 20815  ...  Xfinity Wifi\n",
              "\n",
              "[6076 rows x 4 columns]"
            ]
          },
          "metadata": {
            "tags": []
          },
          "execution_count": 175
        }
      ]
    },
    {
      "cell_type": "code",
      "metadata": {
        "colab": {
          "base_uri": "https://localhost:8080/",
          "height": 573
        },
        "id": "niQSElkU1rgF",
        "outputId": "ef7c9d85-5e76-4f0d-bd1a-7c60a6b0058a"
      },
      "source": [
        "monster_xfinity[\"Category\"] = \"\"\n",
        "monster_xfinity[\"Name\"] = \"\"\n",
        "\n",
        "monster_xfinity[\"Category\"] = 'Xfinity'\n",
        "monster_xfinity[\"Name\"] = \"Xfinity\"\n",
        "\n",
        "monster_xfinity"
      ],
      "execution_count": 177,
      "outputs": [
        {
          "output_type": "execute_result",
          "data": {
            "text/html": [
              "<div>\n",
              "<style scoped>\n",
              "    .dataframe tbody tr th:only-of-type {\n",
              "        vertical-align: middle;\n",
              "    }\n",
              "\n",
              "    .dataframe tbody tr th {\n",
              "        vertical-align: top;\n",
              "    }\n",
              "\n",
              "    .dataframe thead th {\n",
              "        text-align: right;\n",
              "    }\n",
              "</style>\n",
              "<table border=\"1\" class=\"dataframe\">\n",
              "  <thead>\n",
              "    <tr style=\"text-align: right;\">\n",
              "      <th></th>\n",
              "      <th>Address</th>\n",
              "      <th>Latitude</th>\n",
              "      <th>Longitude</th>\n",
              "      <th>Type</th>\n",
              "      <th>Category</th>\n",
              "      <th>Name</th>\n",
              "    </tr>\n",
              "  </thead>\n",
              "  <tbody>\n",
              "    <tr>\n",
              "      <th>0</th>\n",
              "      <td>19737 Frederick Rd, Germantown, Maryland 20876</td>\n",
              "      <td>39.179688</td>\n",
              "      <td>-77.236382</td>\n",
              "      <td>Xfinity Wifi</td>\n",
              "      <td>Xfinity</td>\n",
              "      <td>Xfinity</td>\n",
              "    </tr>\n",
              "    <tr>\n",
              "      <th>1</th>\n",
              "      <td>8413 Ramsey Ave, Silver Spring, Maryland 20910</td>\n",
              "      <td>38.994217</td>\n",
              "      <td>-77.029010</td>\n",
              "      <td>Xfinity Wifi</td>\n",
              "      <td>Xfinity</td>\n",
              "      <td>Xfinity</td>\n",
              "    </tr>\n",
              "    <tr>\n",
              "      <th>2</th>\n",
              "      <td>3502 Morningwood Dr, Olney, Maryland 20832</td>\n",
              "      <td>39.151327</td>\n",
              "      <td>-77.069516</td>\n",
              "      <td>Xfinity Wifi</td>\n",
              "      <td>Xfinity</td>\n",
              "      <td>Xfinity</td>\n",
              "    </tr>\n",
              "    <tr>\n",
              "      <th>3</th>\n",
              "      <td>9172 Brookville Rd, Silver Spring, Maryland 20910</td>\n",
              "      <td>39.006246</td>\n",
              "      <td>-77.049362</td>\n",
              "      <td>Xfinity Wifi</td>\n",
              "      <td>Xfinity</td>\n",
              "      <td>Xfinity</td>\n",
              "    </tr>\n",
              "    <tr>\n",
              "      <th>4</th>\n",
              "      <td>2211 Greenery Ln, Silver Spring, Maryland 20906</td>\n",
              "      <td>39.062183</td>\n",
              "      <td>-77.048984</td>\n",
              "      <td>Xfinity Wifi</td>\n",
              "      <td>Xfinity</td>\n",
              "      <td>Xfinity</td>\n",
              "    </tr>\n",
              "    <tr>\n",
              "      <th>...</th>\n",
              "      <td>...</td>\n",
              "      <td>...</td>\n",
              "      <td>...</td>\n",
              "      <td>...</td>\n",
              "      <td>...</td>\n",
              "      <td>...</td>\n",
              "    </tr>\n",
              "    <tr>\n",
              "      <th>6071</th>\n",
              "      <td>8821 Brookville Rd, Silver Spring, Maryland 20910</td>\n",
              "      <td>39.000694</td>\n",
              "      <td>-77.054031</td>\n",
              "      <td>Xfinity Wifi</td>\n",
              "      <td>Xfinity</td>\n",
              "      <td>Xfinity</td>\n",
              "    </tr>\n",
              "    <tr>\n",
              "      <th>6072</th>\n",
              "      <td>12623 Wisteria Dr, Germantown, Maryland 20874</td>\n",
              "      <td>39.172108</td>\n",
              "      <td>-77.261473</td>\n",
              "      <td>Xfinity Wifi</td>\n",
              "      <td>Xfinity</td>\n",
              "      <td>Xfinity</td>\n",
              "    </tr>\n",
              "    <tr>\n",
              "      <th>6073</th>\n",
              "      <td>2025 E East West Hwy, Silver Spring, Maryland ...</td>\n",
              "      <td>39.003109</td>\n",
              "      <td>-77.029648</td>\n",
              "      <td>Xfinity Wifi</td>\n",
              "      <td>Xfinity</td>\n",
              "      <td>Xfinity</td>\n",
              "    </tr>\n",
              "    <tr>\n",
              "      <th>6074</th>\n",
              "      <td>210 Lincoln Ave, Rockville, Maryland 20850</td>\n",
              "      <td>39.092136</td>\n",
              "      <td>-77.148363</td>\n",
              "      <td>Xfinity Wifi</td>\n",
              "      <td>Xfinity</td>\n",
              "      <td>Xfinity</td>\n",
              "    </tr>\n",
              "    <tr>\n",
              "      <th>6075</th>\n",
              "      <td>8584 Freyman Dr, Chevy Chase, Maryland 20815</td>\n",
              "      <td>38.996509</td>\n",
              "      <td>-77.058849</td>\n",
              "      <td>Xfinity Wifi</td>\n",
              "      <td>Xfinity</td>\n",
              "      <td>Xfinity</td>\n",
              "    </tr>\n",
              "  </tbody>\n",
              "</table>\n",
              "<p>6076 rows × 6 columns</p>\n",
              "</div>"
            ],
            "text/plain": [
              "                                                Address  ...     Name\n",
              "0        19737 Frederick Rd, Germantown, Maryland 20876  ...  Xfinity\n",
              "1        8413 Ramsey Ave, Silver Spring, Maryland 20910  ...  Xfinity\n",
              "2            3502 Morningwood Dr, Olney, Maryland 20832  ...  Xfinity\n",
              "3     9172 Brookville Rd, Silver Spring, Maryland 20910  ...  Xfinity\n",
              "4       2211 Greenery Ln, Silver Spring, Maryland 20906  ...  Xfinity\n",
              "...                                                 ...  ...      ...\n",
              "6071  8821 Brookville Rd, Silver Spring, Maryland 20910  ...  Xfinity\n",
              "6072      12623 Wisteria Dr, Germantown, Maryland 20874  ...  Xfinity\n",
              "6073  2025 E East West Hwy, Silver Spring, Maryland ...  ...  Xfinity\n",
              "6074         210 Lincoln Ave, Rockville, Maryland 20850  ...  Xfinity\n",
              "6075       8584 Freyman Dr, Chevy Chase, Maryland 20815  ...  Xfinity\n",
              "\n",
              "[6076 rows x 6 columns]"
            ]
          },
          "metadata": {
            "tags": []
          },
          "execution_count": 177
        }
      ]
    },
    {
      "cell_type": "code",
      "metadata": {
        "colab": {
          "base_uri": "https://localhost:8080/",
          "height": 281
        },
        "id": "C6Gd9CbQ2Z0H",
        "outputId": "b4d8165f-f33f-49c2-f0eb-20c41f98bfec"
      },
      "source": [
        "monster_2= pd.concat([monster_school,monster_county],ignore_index=True)\n",
        "#df = pd.merge(merged_df, df3, on=\"column1\")\n",
        "monster_2.tail()"
      ],
      "execution_count": 185,
      "outputs": [
        {
          "output_type": "execute_result",
          "data": {
            "text/html": [
              "<div>\n",
              "<style scoped>\n",
              "    .dataframe tbody tr th:only-of-type {\n",
              "        vertical-align: middle;\n",
              "    }\n",
              "\n",
              "    .dataframe tbody tr th {\n",
              "        vertical-align: top;\n",
              "    }\n",
              "\n",
              "    .dataframe thead th {\n",
              "        text-align: right;\n",
              "    }\n",
              "</style>\n",
              "<table border=\"1\" class=\"dataframe\">\n",
              "  <thead>\n",
              "    <tr style=\"text-align: right;\">\n",
              "      <th></th>\n",
              "      <th>Name</th>\n",
              "      <th>Address</th>\n",
              "      <th>Category</th>\n",
              "      <th>Latitude</th>\n",
              "      <th>Longitude</th>\n",
              "      <th>Type</th>\n",
              "    </tr>\n",
              "  </thead>\n",
              "  <tbody>\n",
              "    <tr>\n",
              "      <th>367</th>\n",
              "      <td>Swing Office Space</td>\n",
              "      <td>1451 Seven Locks Road, Rockville, MD</td>\n",
              "      <td>DGS</td>\n",
              "      <td>39.070994</td>\n",
              "      <td>-77.162760</td>\n",
              "      <td>County Wifi</td>\n",
              "    </tr>\n",
              "    <tr>\n",
              "      <th>368</th>\n",
              "      <td>HHS - 1301 Piccard Drive</td>\n",
              "      <td>1301 Piccard Drive, Rockville, MD</td>\n",
              "      <td>HHS</td>\n",
              "      <td>39.102672</td>\n",
              "      <td>-77.177593</td>\n",
              "      <td>County Wifi</td>\n",
              "    </tr>\n",
              "    <tr>\n",
              "      <th>369</th>\n",
              "      <td>Wheaton Resource Center</td>\n",
              "      <td>11435 Grandview Ave, Wheaton, MD</td>\n",
              "      <td>FRS</td>\n",
              "      <td>39.042763</td>\n",
              "      <td>-77.053153</td>\n",
              "      <td>County Wifi</td>\n",
              "    </tr>\n",
              "    <tr>\n",
              "      <th>370</th>\n",
              "      <td>Colesville Highway Service Depot</td>\n",
              "      <td>14335 Cape May Road, Silver Spring, MD 20904</td>\n",
              "      <td>DOT</td>\n",
              "      <td>39.090311</td>\n",
              "      <td>-76.996699</td>\n",
              "      <td>County Wifi</td>\n",
              "    </tr>\n",
              "    <tr>\n",
              "      <th>371</th>\n",
              "      <td>Bethesda/Chevy Chase RSC</td>\n",
              "      <td>4805 Edgemoor Lane, Bethesda, Md</td>\n",
              "      <td>RSC</td>\n",
              "      <td>38.984796</td>\n",
              "      <td>-77.095858</td>\n",
              "      <td>County Wifi</td>\n",
              "    </tr>\n",
              "  </tbody>\n",
              "</table>\n",
              "</div>"
            ],
            "text/plain": [
              "                                 Name  ...         Type\n",
              "367                Swing Office Space  ...  County Wifi\n",
              "368          HHS - 1301 Piccard Drive  ...  County Wifi\n",
              "369           Wheaton Resource Center  ...  County Wifi\n",
              "370  Colesville Highway Service Depot  ...  County Wifi\n",
              "371          Bethesda/Chevy Chase RSC  ...  County Wifi\n",
              "\n",
              "[5 rows x 6 columns]"
            ]
          },
          "metadata": {
            "tags": []
          },
          "execution_count": 185
        }
      ]
    },
    {
      "cell_type": "code",
      "metadata": {
        "colab": {
          "base_uri": "https://localhost:8080/"
        },
        "id": "P5VHs-H93Wqc",
        "outputId": "180691f1-a467-4177-f554-68ed5a921882"
      },
      "source": [
        "monster_final = pd.concat([monster_2,monster_xfinity],ignore_index=True)\n",
        "print(monster_final)"
      ],
      "execution_count": 186,
      "outputs": [
        {
          "output_type": "stream",
          "text": [
            "                                  Name  ...          Type\n",
            "0     A Mario Loiederman Middle School  ...        School\n",
            "1          Albert Einstein High School  ...        School\n",
            "2             Arcola Elementary School  ...        School\n",
            "3                 Argyle Middle School  ...        School\n",
            "4          Ashburton Elementary School  ...        School\n",
            "...                                ...  ...           ...\n",
            "6443                           Xfinity  ...  Xfinity Wifi\n",
            "6444                           Xfinity  ...  Xfinity Wifi\n",
            "6445                           Xfinity  ...  Xfinity Wifi\n",
            "6446                           Xfinity  ...  Xfinity Wifi\n",
            "6447                           Xfinity  ...  Xfinity Wifi\n",
            "\n",
            "[6448 rows x 6 columns]\n"
          ],
          "name": "stdout"
        }
      ]
    },
    {
      "cell_type": "code",
      "metadata": {
        "id": "128aYWwt3s0P"
      },
      "source": [
        "monster_final.to_excel(\"monster.xlsx\", sheet_name='monster')  "
      ],
      "execution_count": 187,
      "outputs": []
    },
    {
      "cell_type": "markdown",
      "metadata": {
        "id": "o65_eHIOD5eT"
      },
      "source": [
        "## 2. Exploratory Data Analysis "
      ]
    },
    {
      "cell_type": "code",
      "metadata": {
        "id": "pavkEqY5CfA5"
      },
      "source": [
        "# import seaborn as sns\n",
        "import matplotlib.pyplot as plt\n",
        "import seaborn as sns"
      ],
      "execution_count": 218,
      "outputs": []
    },
    {
      "cell_type": "markdown",
      "metadata": {
        "id": "pOgwNdU9D84u"
      },
      "source": [
        "### 2a. County Government Wifi Locations"
      ]
    },
    {
      "cell_type": "code",
      "metadata": {
        "colab": {
          "base_uri": "https://localhost:8080/",
          "height": 287
        },
        "id": "x_IaOhQMwdt7",
        "outputId": "4e3ad5a2-e7d3-4a82-e65c-20684dc811b3"
      },
      "source": [
        "df_county_copy.describe()"
      ],
      "execution_count": 216,
      "outputs": [
        {
          "output_type": "execute_result",
          "data": {
            "text/html": [
              "<div>\n",
              "<style scoped>\n",
              "    .dataframe tbody tr th:only-of-type {\n",
              "        vertical-align: middle;\n",
              "    }\n",
              "\n",
              "    .dataframe tbody tr th {\n",
              "        vertical-align: top;\n",
              "    }\n",
              "\n",
              "    .dataframe thead th {\n",
              "        text-align: right;\n",
              "    }\n",
              "</style>\n",
              "<table border=\"1\" class=\"dataframe\">\n",
              "  <thead>\n",
              "    <tr style=\"text-align: right;\">\n",
              "      <th></th>\n",
              "      <th>Longitude</th>\n",
              "      <th>Latitude</th>\n",
              "    </tr>\n",
              "  </thead>\n",
              "  <tbody>\n",
              "    <tr>\n",
              "      <th>count</th>\n",
              "      <td>178.000000</td>\n",
              "      <td>178.000000</td>\n",
              "    </tr>\n",
              "    <tr>\n",
              "      <th>mean</th>\n",
              "      <td>-77.126760</td>\n",
              "      <td>39.087458</td>\n",
              "    </tr>\n",
              "    <tr>\n",
              "      <th>std</th>\n",
              "      <td>0.102685</td>\n",
              "      <td>0.087412</td>\n",
              "    </tr>\n",
              "    <tr>\n",
              "      <th>min</th>\n",
              "      <td>-77.444954</td>\n",
              "      <td>38.646975</td>\n",
              "    </tr>\n",
              "    <tr>\n",
              "      <th>25%</th>\n",
              "      <td>-77.186592</td>\n",
              "      <td>39.030827</td>\n",
              "    </tr>\n",
              "    <tr>\n",
              "      <th>50%</th>\n",
              "      <td>-77.136382</td>\n",
              "      <td>39.083283</td>\n",
              "    </tr>\n",
              "    <tr>\n",
              "      <th>75%</th>\n",
              "      <td>-77.061064</td>\n",
              "      <td>39.129984</td>\n",
              "    </tr>\n",
              "    <tr>\n",
              "      <th>max</th>\n",
              "      <td>-76.564690</td>\n",
              "      <td>39.557328</td>\n",
              "    </tr>\n",
              "  </tbody>\n",
              "</table>\n",
              "</div>"
            ],
            "text/plain": [
              "        Longitude    Latitude\n",
              "count  178.000000  178.000000\n",
              "mean   -77.126760   39.087458\n",
              "std      0.102685    0.087412\n",
              "min    -77.444954   38.646975\n",
              "25%    -77.186592   39.030827\n",
              "50%    -77.136382   39.083283\n",
              "75%    -77.061064   39.129984\n",
              "max    -76.564690   39.557328"
            ]
          },
          "metadata": {
            "tags": []
          },
          "execution_count": 216
        }
      ]
    },
    {
      "cell_type": "code",
      "metadata": {
        "id": "M9xE2_14CfA6",
        "colab": {
          "base_uri": "https://localhost:8080/",
          "height": 301
        },
        "outputId": "7f4dbccc-58a1-463a-baba-a2a5248a3614"
      },
      "source": [
        "sns.set_theme(style=\"darkgrid\")\n",
        "sns.countplot(y='Department',data=df_county)\n",
        "plt.xlabel('Count')\n",
        "plt.ylabel('Departments')\n",
        "plt.title('Departments of County Wifi')\n",
        "plt.show()"
      ],
      "execution_count": 219,
      "outputs": [
        {
          "output_type": "display_data",
          "data": {
            "image/png": "[encoded data removed]",
            "text/plain": [
              "<Figure size 432x288 with 1 Axes>"
            ]
          },
          "metadata": {
            "tags": []
          }
        }
      ]
    },
    {
      "cell_type": "markdown",
      "metadata": {
        "id": "xX6qGMUXEANI"
      },
      "source": [
        "### 2b. Public Schools"
      ]
    },
    {
      "cell_type": "code",
      "metadata": {
        "colab": {
          "base_uri": "https://localhost:8080/",
          "height": 307
        },
        "id": "_00wbKD1v9UZ",
        "outputId": "dc2bb89c-59c2-4e0c-87e8-28c0bd9e8926"
      },
      "source": [
        "df_school_final.describe()"
      ],
      "execution_count": 220,
      "outputs": [
        {
          "output_type": "execute_result",
          "data": {
            "text/html": [
              "<div>\n",
              "<style scoped>\n",
              "    .dataframe tbody tr th:only-of-type {\n",
              "        vertical-align: middle;\n",
              "    }\n",
              "\n",
              "    .dataframe tbody tr th {\n",
              "        vertical-align: top;\n",
              "    }\n",
              "\n",
              "    .dataframe thead th {\n",
              "        text-align: right;\n",
              "    }\n",
              "</style>\n",
              "<table border=\"1\" class=\"dataframe\">\n",
              "  <thead>\n",
              "    <tr style=\"text-align: right;\">\n",
              "      <th></th>\n",
              "      <th>number</th>\n",
              "      <th>total_enrollment</th>\n",
              "      <th>free_lunch</th>\n",
              "      <th>reduced_lunch</th>\n",
              "      <th>directly_certified</th>\n",
              "      <th>zip_code</th>\n",
              "      <th>longitude</th>\n",
              "      <th>latitude</th>\n",
              "      <th>FARMs</th>\n",
              "      <th>FARMs_percentage</th>\n",
              "    </tr>\n",
              "  </thead>\n",
              "  <tbody>\n",
              "    <tr>\n",
              "      <th>count</th>\n",
              "      <td>194.000000</td>\n",
              "      <td>194.000000</td>\n",
              "      <td>194.000000</td>\n",
              "      <td>194.000000</td>\n",
              "      <td>194.000000</td>\n",
              "      <td>194.000000</td>\n",
              "      <td>194.000000</td>\n",
              "      <td>194.000000</td>\n",
              "      <td>194.000000</td>\n",
              "      <td>194.000000</td>\n",
              "    </tr>\n",
              "    <tr>\n",
              "      <th>mean</th>\n",
              "      <td>103.778351</td>\n",
              "      <td>824.613402</td>\n",
              "      <td>218.943299</td>\n",
              "      <td>58.984536</td>\n",
              "      <td>93.907216</td>\n",
              "      <td>20871.371134</td>\n",
              "      <td>-77.128336</td>\n",
              "      <td>39.093005</td>\n",
              "      <td>277.927835</td>\n",
              "      <td>35.259114</td>\n",
              "    </tr>\n",
              "    <tr>\n",
              "      <th>std</th>\n",
              "      <td>60.413149</td>\n",
              "      <td>536.706904</td>\n",
              "      <td>180.475486</td>\n",
              "      <td>48.666623</td>\n",
              "      <td>71.905822</td>\n",
              "      <td>28.678608</td>\n",
              "      <td>0.102345</td>\n",
              "      <td>0.074559</td>\n",
              "      <td>226.552273</td>\n",
              "      <td>23.979643</td>\n",
              "    </tr>\n",
              "    <tr>\n",
              "      <th>min</th>\n",
              "      <td>0.000000</td>\n",
              "      <td>151.000000</td>\n",
              "      <td>0.000000</td>\n",
              "      <td>0.000000</td>\n",
              "      <td>3.000000</td>\n",
              "      <td>20814.000000</td>\n",
              "      <td>-77.418780</td>\n",
              "      <td>38.958471</td>\n",
              "      <td>0.000000</td>\n",
              "      <td>0.000000</td>\n",
              "    </tr>\n",
              "    <tr>\n",
              "      <th>25%</th>\n",
              "      <td>51.250000</td>\n",
              "      <td>500.250000</td>\n",
              "      <td>71.500000</td>\n",
              "      <td>23.250000</td>\n",
              "      <td>34.500000</td>\n",
              "      <td>20853.000000</td>\n",
              "      <td>-77.208897</td>\n",
              "      <td>39.034305</td>\n",
              "      <td>96.000000</td>\n",
              "      <td>14.406782</td>\n",
              "    </tr>\n",
              "    <tr>\n",
              "      <th>50%</th>\n",
              "      <td>103.500000</td>\n",
              "      <td>642.000000</td>\n",
              "      <td>182.500000</td>\n",
              "      <td>47.000000</td>\n",
              "      <td>81.000000</td>\n",
              "      <td>20876.000000</td>\n",
              "      <td>-77.121005</td>\n",
              "      <td>39.086207</td>\n",
              "      <td>233.500000</td>\n",
              "      <td>31.704007</td>\n",
              "    </tr>\n",
              "    <tr>\n",
              "      <th>75%</th>\n",
              "      <td>154.750000</td>\n",
              "      <td>893.000000</td>\n",
              "      <td>320.750000</td>\n",
              "      <td>84.750000</td>\n",
              "      <td>135.500000</td>\n",
              "      <td>20901.000000</td>\n",
              "      <td>-77.045557</td>\n",
              "      <td>39.147862</td>\n",
              "      <td>418.250000</td>\n",
              "      <td>53.854798</td>\n",
              "    </tr>\n",
              "    <tr>\n",
              "      <th>max</th>\n",
              "      <td>208.000000</td>\n",
              "      <td>3223.000000</td>\n",
              "      <td>810.000000</td>\n",
              "      <td>282.000000</td>\n",
              "      <td>347.000000</td>\n",
              "      <td>20912.000000</td>\n",
              "      <td>-76.936416</td>\n",
              "      <td>39.285506</td>\n",
              "      <td>1042.000000</td>\n",
              "      <td>87.448560</td>\n",
              "    </tr>\n",
              "  </tbody>\n",
              "</table>\n",
              "</div>"
            ],
            "text/plain": [
              "           number  total_enrollment  ...        FARMs  FARMs_percentage\n",
              "count  194.000000        194.000000  ...   194.000000        194.000000\n",
              "mean   103.778351        824.613402  ...   277.927835         35.259114\n",
              "std     60.413149        536.706904  ...   226.552273         23.979643\n",
              "min      0.000000        151.000000  ...     0.000000          0.000000\n",
              "25%     51.250000        500.250000  ...    96.000000         14.406782\n",
              "50%    103.500000        642.000000  ...   233.500000         31.704007\n",
              "75%    154.750000        893.000000  ...   418.250000         53.854798\n",
              "max    208.000000       3223.000000  ...  1042.000000         87.448560\n",
              "\n",
              "[8 rows x 10 columns]"
            ]
          },
          "metadata": {
            "tags": []
          },
          "execution_count": 220
        }
      ]
    },
    {
      "cell_type": "code",
      "metadata": {
        "id": "8QKm5FWdCfA6",
        "colab": {
          "base_uri": "https://localhost:8080/",
          "height": 301
        },
        "outputId": "0342c442-849b-4a28-d264-41ad9f211df9"
      },
      "source": [
        "# graphing the number of categories of schools\n",
        "sns.set_theme(style=\"darkgrid\")\n",
        "sns.countplot(y='category',data=df_school_final)\n",
        "plt.xlabel('Types of Schools')\n",
        "plt.ylabel('Count')\n",
        "plt.title('School')\n",
        "plt.show()"
      ],
      "execution_count": 221,
      "outputs": [
        {
          "output_type": "display_data",
          "data": {
            "image/png": "[encoded data removed]",
            "text/plain": [
              "<Figure size 432x288 with 1 Axes>"
            ]
          },
          "metadata": {
            "tags": []
          }
        }
      ]
    },
    {
      "cell_type": "code",
      "metadata": {
        "id": "fTBlmRrACfA6",
        "colab": {
          "base_uri": "https://localhost:8080/",
          "height": 301
        },
        "outputId": "4c5e56f4-0b12-405b-a95f-343fa5192d2e"
      },
      "source": [
        "# Looking at which cities have the most schools\n",
        "sns.set_theme(style=\"darkgrid\")\n",
        "sns.countplot(y='city',data=df_school_final)\n",
        "plt.xlabel('Count')\n",
        "plt.ylabel('City')\n",
        "plt.title('Cities of MCPS Schools')\n",
        "plt.show()"
      ],
      "execution_count": 222,
      "outputs": [
        {
          "output_type": "display_data",
          "data": {
            "image/png": "[encoded data removed]",
            "text/plain": [
              "<Figure size 432x288 with 1 Axes>"
            ]
          },
          "metadata": {
            "tags": []
          }
        }
      ]
    },
    {
      "cell_type": "markdown",
      "metadata": {
        "id": "dGRRYolIKeG_"
      },
      "source": [
        "### 2c. School Combined Dataset"
      ]
    },
    {
      "cell_type": "code",
      "metadata": {
        "colab": {
          "base_uri": "https://localhost:8080/",
          "height": 284
        },
        "id": "UZBq7L1lN7l1",
        "outputId": "531ab776-6c4a-4c6c-ebf1-437badc7044d"
      },
      "source": [
        "ax = sns.boxplot(x=df_school_final[\"FARMs_percentage\"])"
      ],
      "execution_count": 223,
      "outputs": [
        {
          "output_type": "display_data",
          "data": {
            "image/png": "[encoded data removed]",
            "text/plain": [
              "<Figure size 432x288 with 1 Axes>"
            ]
          },
          "metadata": {
            "tags": []
          }
        }
      ]
    },
    {
      "cell_type": "code",
      "metadata": {
        "id": "ZGFIhHltCfA7",
        "colab": {
          "base_uri": "https://localhost:8080/",
          "height": 284
        },
        "outputId": "88858dfb-6d6d-45e3-ba80-2c2dcd425eaa"
      },
      "source": [
        "ax = sns.boxplot(x=df_school_final[\"total_enrollment\"])"
      ],
      "execution_count": 224,
      "outputs": [
        {
          "output_type": "display_data",
          "data": {
            "image/png": "[encoded data removed]",
            "text/plain": [
              "<Figure size 432x288 with 1 Axes>"
            ]
          },
          "metadata": {
            "tags": []
          }
        }
      ]
    },
    {
      "cell_type": "code",
      "metadata": {
        "colab": {
          "base_uri": "https://localhost:8080/",
          "height": 302
        },
        "id": "SXSr47_XuEEG",
        "outputId": "e2d68872-ed6e-4115-c2b8-8bb72bb24a26"
      },
      "source": [
        "df_school_final.plot.scatter(x='zip_code',  y='total_enrollment', c='DarkBlue')"
      ],
      "execution_count": 225,
      "outputs": [
        {
          "output_type": "execute_result",
          "data": {
            "text/plain": [
              "<matplotlib.axes._subplots.AxesSubplot at 0x7f18a1bfa7d0>"
            ]
          },
          "metadata": {
            "tags": []
          },
          "execution_count": 225
        },
        {
          "output_type": "display_data",
          "data": {
            "image/png": "[encoded data removed]",
            "text/plain": [
              "<Figure size 432x288 with 1 Axes>"
            ]
          },
          "metadata": {
            "tags": []
          }
        }
      ]
    },
    {
      "cell_type": "code",
      "metadata": {
        "colab": {
          "base_uri": "https://localhost:8080/",
          "height": 302
        },
        "id": "W8EzG9rwvgBb",
        "outputId": "7374f58f-1544-4867-e918-63f479f82e8c"
      },
      "source": [
        "df_school_final.plot.scatter(x='zip_code',  y='FARMs_percentage', c='DarkBlue')"
      ],
      "execution_count": 226,
      "outputs": [
        {
          "output_type": "execute_result",
          "data": {
            "text/plain": [
              "<matplotlib.axes._subplots.AxesSubplot at 0x7f18a1b2f0d0>"
            ]
          },
          "metadata": {
            "tags": []
          },
          "execution_count": 226
        },
        {
          "output_type": "display_data",
          "data": {
            "image/png": "[encoded data removed]",
            "text/plain": [
              "<Figure size 432x288 with 1 Axes>"
            ]
          },
          "metadata": {
            "tags": []
          }
        }
      ]
    },
    {
      "cell_type": "markdown",
      "metadata": {
        "id": "71azWhfAEDEs"
      },
      "source": [
        "### 2c. Xfinity Hotstops Locations\n"
      ]
    },
    {
      "cell_type": "code",
      "metadata": {
        "colab": {
          "base_uri": "https://localhost:8080/",
          "height": 287
        },
        "id": "d_1-_4db2GSP",
        "outputId": "a36aae8b-ab20-4d7b-e5b6-2ef3e397acea"
      },
      "source": [
        "df_xfinity.describe()"
      ],
      "execution_count": 155,
      "outputs": [
        {
          "output_type": "execute_result",
          "data": {
            "text/html": [
              "<div>\n",
              "<style scoped>\n",
              "    .dataframe tbody tr th:only-of-type {\n",
              "        vertical-align: middle;\n",
              "    }\n",
              "\n",
              "    .dataframe tbody tr th {\n",
              "        vertical-align: top;\n",
              "    }\n",
              "\n",
              "    .dataframe thead th {\n",
              "        text-align: right;\n",
              "    }\n",
              "</style>\n",
              "<table border=\"1\" class=\"dataframe\">\n",
              "  <thead>\n",
              "    <tr style=\"text-align: right;\">\n",
              "      <th></th>\n",
              "      <th>Latitude</th>\n",
              "      <th>Longitude</th>\n",
              "      <th>Zip</th>\n",
              "    </tr>\n",
              "  </thead>\n",
              "  <tbody>\n",
              "    <tr>\n",
              "      <th>count</th>\n",
              "      <td>6076.000000</td>\n",
              "      <td>6076.000000</td>\n",
              "      <td>6076.000000</td>\n",
              "    </tr>\n",
              "    <tr>\n",
              "      <th>mean</th>\n",
              "      <td>39.080833</td>\n",
              "      <td>-77.124087</td>\n",
              "      <td>20869.570935</td>\n",
              "    </tr>\n",
              "    <tr>\n",
              "      <th>std</th>\n",
              "      <td>0.069896</td>\n",
              "      <td>0.086998</td>\n",
              "      <td>34.800815</td>\n",
              "    </tr>\n",
              "    <tr>\n",
              "      <th>min</th>\n",
              "      <td>38.942893</td>\n",
              "      <td>-77.504380</td>\n",
              "      <td>20147.000000</td>\n",
              "    </tr>\n",
              "    <tr>\n",
              "      <th>25%</th>\n",
              "      <td>39.025535</td>\n",
              "      <td>-77.187154</td>\n",
              "      <td>20851.000000</td>\n",
              "    </tr>\n",
              "    <tr>\n",
              "      <th>50%</th>\n",
              "      <td>39.080196</td>\n",
              "      <td>-77.123087</td>\n",
              "      <td>20876.000000</td>\n",
              "    </tr>\n",
              "    <tr>\n",
              "      <th>75%</th>\n",
              "      <td>39.131864</td>\n",
              "      <td>-77.059596</td>\n",
              "      <td>20901.000000</td>\n",
              "    </tr>\n",
              "    <tr>\n",
              "      <th>max</th>\n",
              "      <td>39.315603</td>\n",
              "      <td>-76.916416</td>\n",
              "      <td>20912.000000</td>\n",
              "    </tr>\n",
              "  </tbody>\n",
              "</table>\n",
              "</div>"
            ],
            "text/plain": [
              "          Latitude    Longitude           Zip\n",
              "count  6076.000000  6076.000000   6076.000000\n",
              "mean     39.080833   -77.124087  20869.570935\n",
              "std       0.069896     0.086998     34.800815\n",
              "min      38.942893   -77.504380  20147.000000\n",
              "25%      39.025535   -77.187154  20851.000000\n",
              "50%      39.080196   -77.123087  20876.000000\n",
              "75%      39.131864   -77.059596  20901.000000\n",
              "max      39.315603   -76.916416  20912.000000"
            ]
          },
          "metadata": {
            "tags": []
          },
          "execution_count": 155
        }
      ]
    },
    {
      "cell_type": "code",
      "metadata": {
        "colab": {
          "base_uri": "https://localhost:8080/",
          "height": 760
        },
        "id": "FLkxTrSWsk8Z",
        "outputId": "ddbdffd2-db81-458b-f69a-b4f4244f36db"
      },
      "source": [
        "sns.catplot(y=\"City\",\n",
        "                data= df_xfinity, kind=\"count\",\n",
        "                height=10,aspect=.7)"
      ],
      "execution_count": 227,
      "outputs": [
        {
          "output_type": "execute_result",
          "data": {
            "text/plain": [
              "<seaborn.axisgrid.FacetGrid at 0x7f18a23b1550>"
            ]
          },
          "metadata": {
            "tags": []
          },
          "execution_count": 227
        },
        {
          "output_type": "display_data",
          "data": {
            "image/png": "[encoded data removed]",
            "text/plain": [
              "<Figure size 504x720 with 1 Axes>"
            ]
          },
          "metadata": {
            "tags": []
          }
        }
      ]
    },
    {
      "cell_type": "code",
      "metadata": {
        "colab": {
          "base_uri": "https://localhost:8080/",
          "height": 760
        },
        "id": "SPIMuEUvtZVA",
        "outputId": "16849e9b-bcac-4725-c6f5-5a85b27bb564"
      },
      "source": [
        "sns.catplot(y=\"Zip\",\n",
        "                data= df_xfinity, kind=\"count\",\n",
        "                height=10,aspect=.7)"
      ],
      "execution_count": 228,
      "outputs": [
        {
          "output_type": "execute_result",
          "data": {
            "text/plain": [
              "<seaborn.axisgrid.FacetGrid at 0x7f18a1a97850>"
            ]
          },
          "metadata": {
            "tags": []
          },
          "execution_count": 228
        },
        {
          "output_type": "display_data",
          "data": {
            "image/png": "[encoded data removed]",
            "text/plain": [
              "<Figure size 504x720 with 1 Axes>"
            ]
          },
          "metadata": {
            "tags": []
          }
        }
      ]
    },
    {
      "cell_type": "markdown",
      "metadata": {
        "id": "1W75nMgL2kz3"
      },
      "source": [
        "## 3. Mapping"
      ]
    },
    {
      "cell_type": "markdown",
      "metadata": {
        "id": "l3rUM0Pk8ghf"
      },
      "source": [
        "### 3a. Tableau Graphs\n"
      ]
    },
    {
      "cell_type": "markdown",
      "metadata": {
        "id": "_US_q2TX-f8q"
      },
      "source": [
        "Tableau Graphs located here:\n",
        "\n",
        "https://public.tableau.com/profile/ana3260#!/\n",
        "\n",
        "\t\n",
        "1. MCPS Schools and FARMs Percentages\n",
        "2. School Categories in MCPS\n",
        "3. Xfinity Wifi Locations\n",
        "4. County Government Wifi Locations\n",
        "5. County Wifi and Xfinity Wifi\n",
        "6. MCPS Schools and County Wifi\n",
        "7. MCPS Schools and Xfinity Wifi\n"
      ]
    },
    {
      "cell_type": "markdown",
      "metadata": {
        "id": "fDz_a5vG3zjr"
      },
      "source": [
        "## 4. Statistical Analysis"
      ]
    },
    {
      "cell_type": "code",
      "metadata": {
        "id": "A7y6LqC-4CGj"
      },
      "source": [
        "# k-means clustering\n",
        "import pandas as pd\n",
        "import numpy as np\n",
        "import matplotlib.pyplot as plt\n",
        "from sklearn.cluster import KMeans\n",
        "import seaborn as sn"
      ],
      "execution_count": 247,
      "outputs": []
    },
    {
      "cell_type": "markdown",
      "metadata": {
        "id": "YKl4JmXYbhuE"
      },
      "source": [
        "####4a. Clustering School Dataset"
      ]
    },
    {
      "cell_type": "code",
      "metadata": {
        "colab": {
          "base_uri": "https://localhost:8080/",
          "height": 347
        },
        "id": "qYZn2dDPaM1z",
        "outputId": "19de8ae9-18b8-4d98-85a7-8d47c48cf5ec"
      },
      "source": [
        "# Variable with the Longitude and Latitude\n",
        "X=df_school_final.loc[:,['FARMs_percentage','latitude','longitude']]\n",
        "X.head(10)"
      ],
      "execution_count": 231,
      "outputs": [
        {
          "output_type": "execute_result",
          "data": {
            "text/html": [
              "<div>\n",
              "<style scoped>\n",
              "    .dataframe tbody tr th:only-of-type {\n",
              "        vertical-align: middle;\n",
              "    }\n",
              "\n",
              "    .dataframe tbody tr th {\n",
              "        vertical-align: top;\n",
              "    }\n",
              "\n",
              "    .dataframe thead th {\n",
              "        text-align: right;\n",
              "    }\n",
              "</style>\n",
              "<table border=\"1\" class=\"dataframe\">\n",
              "  <thead>\n",
              "    <tr style=\"text-align: right;\">\n",
              "      <th></th>\n",
              "      <th>FARMs_percentage</th>\n",
              "      <th>latitude</th>\n",
              "      <th>longitude</th>\n",
              "    </tr>\n",
              "  </thead>\n",
              "  <tbody>\n",
              "    <tr>\n",
              "      <th>0</th>\n",
              "      <td>54.854855</td>\n",
              "      <td>39.065306</td>\n",
              "      <td>-77.070835</td>\n",
              "    </tr>\n",
              "    <tr>\n",
              "      <th>1</th>\n",
              "      <td>35.478548</td>\n",
              "      <td>39.039616</td>\n",
              "      <td>-77.067036</td>\n",
              "    </tr>\n",
              "    <tr>\n",
              "      <th>2</th>\n",
              "      <td>73.663102</td>\n",
              "      <td>39.045559</td>\n",
              "      <td>-77.039388</td>\n",
              "    </tr>\n",
              "    <tr>\n",
              "      <th>3</th>\n",
              "      <td>56.054688</td>\n",
              "      <td>39.089521</td>\n",
              "      <td>-77.048924</td>\n",
              "    </tr>\n",
              "    <tr>\n",
              "      <th>4</th>\n",
              "      <td>10.845987</td>\n",
              "      <td>39.019444</td>\n",
              "      <td>-77.127721</td>\n",
              "    </tr>\n",
              "    <tr>\n",
              "      <th>5</th>\n",
              "      <td>1.735358</td>\n",
              "      <td>38.974375</td>\n",
              "      <td>-77.138334</td>\n",
              "    </tr>\n",
              "    <tr>\n",
              "      <th>6</th>\n",
              "      <td>29.755179</td>\n",
              "      <td>39.087775</td>\n",
              "      <td>-77.161758</td>\n",
              "    </tr>\n",
              "    <tr>\n",
              "      <th>7</th>\n",
              "      <td>64.705882</td>\n",
              "      <td>39.081604</td>\n",
              "      <td>-77.054724</td>\n",
              "    </tr>\n",
              "    <tr>\n",
              "      <th>8</th>\n",
              "      <td>9.813084</td>\n",
              "      <td>39.032012</td>\n",
              "      <td>-77.168740</td>\n",
              "    </tr>\n",
              "    <tr>\n",
              "      <th>9</th>\n",
              "      <td>4.885057</td>\n",
              "      <td>39.178581</td>\n",
              "      <td>-77.066803</td>\n",
              "    </tr>\n",
              "  </tbody>\n",
              "</table>\n",
              "</div>"
            ],
            "text/plain": [
              "   FARMs_percentage   latitude  longitude\n",
              "0         54.854855  39.065306 -77.070835\n",
              "1         35.478548  39.039616 -77.067036\n",
              "2         73.663102  39.045559 -77.039388\n",
              "3         56.054688  39.089521 -77.048924\n",
              "4         10.845987  39.019444 -77.127721\n",
              "5          1.735358  38.974375 -77.138334\n",
              "6         29.755179  39.087775 -77.161758\n",
              "7         64.705882  39.081604 -77.054724\n",
              "8          9.813084  39.032012 -77.168740\n",
              "9          4.885057  39.178581 -77.066803"
            ]
          },
          "metadata": {
            "tags": []
          },
          "execution_count": 231
        }
      ]
    },
    {
      "cell_type": "code",
      "metadata": {
        "colab": {
          "base_uri": "https://localhost:8080/",
          "height": 301
        },
        "id": "mCyso4YkahCi",
        "outputId": "dd1f8805-f2df-4846-f318-19ffdce01ace"
      },
      "source": [
        "K_clusters = range(1,10)\n",
        "kmeans = [KMeans(n_clusters=i) for i in K_clusters]\n",
        "Y_axis = df_school_final[['latitude']]\n",
        "X_axis = df_school_final[['longitude']]\n",
        "score = [kmeans[i].fit(Y_axis).score(Y_axis) for i in range(len(kmeans))]\n",
        "# Visualize\n",
        "plt.plot(K_clusters, score)\n",
        "plt.xlabel('Number of Clusters')\n",
        "plt.ylabel('Score')\n",
        "plt.title('Elbow Curve')\n",
        "plt.show()"
      ],
      "execution_count": 233,
      "outputs": [
        {
          "output_type": "display_data",
          "data": {
            "image/png": "[encoded data removed]",
            "text/plain": [
              "<Figure size 432x288 with 1 Axes>"
            ]
          },
          "metadata": {
            "tags": []
          }
        }
      ]
    },
    {
      "cell_type": "code",
      "metadata": {
        "colab": {
          "base_uri": "https://localhost:8080/",
          "height": 347
        },
        "id": "-f7qfng-ax-Y",
        "outputId": "2b0ecf06-1c94-42f8-dbb4-12abd94858be"
      },
      "source": [
        "kmeans = KMeans(n_clusters = 3, init ='k-means++')\n",
        "kmeans.fit(X[X.columns[1:3]]) # Compute k-means clustering.\n",
        "X['cluster_label'] = kmeans.fit_predict(X[X.columns[1:3]])\n",
        "centers = kmeans.cluster_centers_ # Coordinates of cluster centers.\n",
        "labels = kmeans.predict(X[X.columns[1:3]]) # Labels of each point\n",
        "X.head(10)"
      ],
      "execution_count": 234,
      "outputs": [
        {
          "output_type": "execute_result",
          "data": {
            "text/html": [
              "<div>\n",
              "<style scoped>\n",
              "    .dataframe tbody tr th:only-of-type {\n",
              "        vertical-align: middle;\n",
              "    }\n",
              "\n",
              "    .dataframe tbody tr th {\n",
              "        vertical-align: top;\n",
              "    }\n",
              "\n",
              "    .dataframe thead th {\n",
              "        text-align: right;\n",
              "    }\n",
              "</style>\n",
              "<table border=\"1\" class=\"dataframe\">\n",
              "  <thead>\n",
              "    <tr style=\"text-align: right;\">\n",
              "      <th></th>\n",
              "      <th>FARMs_percentage</th>\n",
              "      <th>latitude</th>\n",
              "      <th>longitude</th>\n",
              "      <th>cluster_label</th>\n",
              "    </tr>\n",
              "  </thead>\n",
              "  <tbody>\n",
              "    <tr>\n",
              "      <th>0</th>\n",
              "      <td>54.854855</td>\n",
              "      <td>39.065306</td>\n",
              "      <td>-77.070835</td>\n",
              "      <td>0</td>\n",
              "    </tr>\n",
              "    <tr>\n",
              "      <th>1</th>\n",
              "      <td>35.478548</td>\n",
              "      <td>39.039616</td>\n",
              "      <td>-77.067036</td>\n",
              "      <td>0</td>\n",
              "    </tr>\n",
              "    <tr>\n",
              "      <th>2</th>\n",
              "      <td>73.663102</td>\n",
              "      <td>39.045559</td>\n",
              "      <td>-77.039388</td>\n",
              "      <td>0</td>\n",
              "    </tr>\n",
              "    <tr>\n",
              "      <th>3</th>\n",
              "      <td>56.054688</td>\n",
              "      <td>39.089521</td>\n",
              "      <td>-77.048924</td>\n",
              "      <td>0</td>\n",
              "    </tr>\n",
              "    <tr>\n",
              "      <th>4</th>\n",
              "      <td>10.845987</td>\n",
              "      <td>39.019444</td>\n",
              "      <td>-77.127721</td>\n",
              "      <td>2</td>\n",
              "    </tr>\n",
              "    <tr>\n",
              "      <th>5</th>\n",
              "      <td>1.735358</td>\n",
              "      <td>38.974375</td>\n",
              "      <td>-77.138334</td>\n",
              "      <td>2</td>\n",
              "    </tr>\n",
              "    <tr>\n",
              "      <th>6</th>\n",
              "      <td>29.755179</td>\n",
              "      <td>39.087775</td>\n",
              "      <td>-77.161758</td>\n",
              "      <td>2</td>\n",
              "    </tr>\n",
              "    <tr>\n",
              "      <th>7</th>\n",
              "      <td>64.705882</td>\n",
              "      <td>39.081604</td>\n",
              "      <td>-77.054724</td>\n",
              "      <td>0</td>\n",
              "    </tr>\n",
              "    <tr>\n",
              "      <th>8</th>\n",
              "      <td>9.813084</td>\n",
              "      <td>39.032012</td>\n",
              "      <td>-77.168740</td>\n",
              "      <td>2</td>\n",
              "    </tr>\n",
              "    <tr>\n",
              "      <th>9</th>\n",
              "      <td>4.885057</td>\n",
              "      <td>39.178581</td>\n",
              "      <td>-77.066803</td>\n",
              "      <td>0</td>\n",
              "    </tr>\n",
              "  </tbody>\n",
              "</table>\n",
              "</div>"
            ],
            "text/plain": [
              "   FARMs_percentage   latitude  longitude  cluster_label\n",
              "0         54.854855  39.065306 -77.070835              0\n",
              "1         35.478548  39.039616 -77.067036              0\n",
              "2         73.663102  39.045559 -77.039388              0\n",
              "3         56.054688  39.089521 -77.048924              0\n",
              "4         10.845987  39.019444 -77.127721              2\n",
              "5          1.735358  38.974375 -77.138334              2\n",
              "6         29.755179  39.087775 -77.161758              2\n",
              "7         64.705882  39.081604 -77.054724              0\n",
              "8          9.813084  39.032012 -77.168740              2\n",
              "9          4.885057  39.178581 -77.066803              0"
            ]
          },
          "metadata": {
            "tags": []
          },
          "execution_count": 234
        }
      ]
    },
    {
      "cell_type": "code",
      "metadata": {
        "colab": {
          "base_uri": "https://localhost:8080/",
          "height": 275
        },
        "id": "ZjXajXdOa7E5",
        "outputId": "1d3ed2ea-1ad8-4dcd-c497-421c5a80f5ae"
      },
      "source": [
        "X.plot.scatter(x = 'latitude', y = 'longitude', c=labels, s=50, cmap='viridis')\n",
        "plt.scatter(centers[:, 0], centers[:, 1], c='black', s=200, alpha=0.5)"
      ],
      "execution_count": 235,
      "outputs": [
        {
          "output_type": "execute_result",
          "data": {
            "text/plain": [
              "<matplotlib.collections.PathCollection at 0x7f18b15d2f50>"
            ]
          },
          "metadata": {
            "tags": []
          },
          "execution_count": 235
        },
        {
          "output_type": "display_data",
          "data": {
            "image/png": "[encoded data removed]",
            "text/plain": [
              "<Figure size 432x288 with 2 Axes>"
            ]
          },
          "metadata": {
            "tags": []
          }
        }
      ]
    },
    {
      "cell_type": "markdown",
      "metadata": {
        "id": "EnFJHJFbbnn_"
      },
      "source": [
        "#### 4b. Clustering County Dataset\n"
      ]
    },
    {
      "cell_type": "code",
      "metadata": {
        "colab": {
          "base_uri": "https://localhost:8080/",
          "height": 347
        },
        "id": "rSKcPY1mbs2W",
        "outputId": "0387c14f-8a21-4bcd-aa4e-38caa5283c36"
      },
      "source": [
        "X=df_county.loc[:,['Department','Latitude','Longitude']]\n",
        "X.head(10)"
      ],
      "execution_count": 238,
      "outputs": [
        {
          "output_type": "execute_result",
          "data": {
            "text/html": [
              "<div>\n",
              "<style scoped>\n",
              "    .dataframe tbody tr th:only-of-type {\n",
              "        vertical-align: middle;\n",
              "    }\n",
              "\n",
              "    .dataframe tbody tr th {\n",
              "        vertical-align: top;\n",
              "    }\n",
              "\n",
              "    .dataframe thead th {\n",
              "        text-align: right;\n",
              "    }\n",
              "</style>\n",
              "<table border=\"1\" class=\"dataframe\">\n",
              "  <thead>\n",
              "    <tr style=\"text-align: right;\">\n",
              "      <th></th>\n",
              "      <th>Department</th>\n",
              "      <th>Latitude</th>\n",
              "      <th>Longitude</th>\n",
              "    </tr>\n",
              "  </thead>\n",
              "  <tbody>\n",
              "    <tr>\n",
              "      <th>0</th>\n",
              "      <td>DPL</td>\n",
              "      <td>39.010175</td>\n",
              "      <td>-76.979224</td>\n",
              "    </tr>\n",
              "    <tr>\n",
              "      <th>1</th>\n",
              "      <td>RSC</td>\n",
              "      <td>39.179332</td>\n",
              "      <td>-77.267914</td>\n",
              "    </tr>\n",
              "    <tr>\n",
              "      <th>2</th>\n",
              "      <td>DTS</td>\n",
              "      <td>39.108593</td>\n",
              "      <td>-77.151413</td>\n",
              "    </tr>\n",
              "    <tr>\n",
              "      <th>3</th>\n",
              "      <td>CAO/CEX/CC/Courts</td>\n",
              "      <td>40.720439</td>\n",
              "      <td>-90.409668</td>\n",
              "    </tr>\n",
              "    <tr>\n",
              "      <th>4</th>\n",
              "      <td>FRS</td>\n",
              "      <td>39.180120</td>\n",
              "      <td>-77.411689</td>\n",
              "    </tr>\n",
              "    <tr>\n",
              "      <th>5</th>\n",
              "      <td>REC</td>\n",
              "      <td>39.277124</td>\n",
              "      <td>-77.215208</td>\n",
              "    </tr>\n",
              "    <tr>\n",
              "      <th>6</th>\n",
              "      <td>REC</td>\n",
              "      <td>39.000810</td>\n",
              "      <td>-76.998224</td>\n",
              "    </tr>\n",
              "    <tr>\n",
              "      <th>7</th>\n",
              "      <td>DOT</td>\n",
              "      <td>39.045098</td>\n",
              "      <td>-77.103056</td>\n",
              "    </tr>\n",
              "    <tr>\n",
              "      <th>8</th>\n",
              "      <td>FRS</td>\n",
              "      <td>38.986278</td>\n",
              "      <td>-77.077227</td>\n",
              "    </tr>\n",
              "    <tr>\n",
              "      <th>9</th>\n",
              "      <td>FRS</td>\n",
              "      <td>39.160549</td>\n",
              "      <td>-77.030146</td>\n",
              "    </tr>\n",
              "  </tbody>\n",
              "</table>\n",
              "</div>"
            ],
            "text/plain": [
              "          Department   Latitude  Longitude\n",
              "0                DPL  39.010175 -76.979224\n",
              "1                RSC  39.179332 -77.267914\n",
              "2                DTS  39.108593 -77.151413\n",
              "3  CAO/CEX/CC/Courts  40.720439 -90.409668\n",
              "4                FRS  39.180120 -77.411689\n",
              "5                REC  39.277124 -77.215208\n",
              "6                REC  39.000810 -76.998224\n",
              "7                DOT  39.045098 -77.103056\n",
              "8                FRS  38.986278 -77.077227\n",
              "9                FRS  39.160549 -77.030146"
            ]
          },
          "metadata": {
            "tags": []
          },
          "execution_count": 238
        }
      ]
    },
    {
      "cell_type": "code",
      "metadata": {
        "colab": {
          "base_uri": "https://localhost:8080/",
          "height": 301
        },
        "id": "IVqvS_HOcGVt",
        "outputId": "0deb05d5-c98a-4396-a482-09c3fd03542f"
      },
      "source": [
        "K_clusters = range(1,10)\n",
        "kmeans = [KMeans(n_clusters=i) for i in K_clusters]\n",
        "Y_axis = df_county[['Latitude']]\n",
        "X_axis = df_county[['Longitude']]\n",
        "score = [kmeans[i].fit(Y_axis).score(Y_axis) for i in range(len(kmeans))]\n",
        "# Visualize\n",
        "plt.plot(K_clusters, score)\n",
        "plt.xlabel('Number of Clusters')\n",
        "plt.ylabel('Score')\n",
        "plt.title('Elbow Curve')\n",
        "plt.show()"
      ],
      "execution_count": 241,
      "outputs": [
        {
          "output_type": "display_data",
          "data": {
            "image/png": "[encoded data removed]",
            "text/plain": [
              "<Figure size 432x288 with 1 Axes>"
            ]
          },
          "metadata": {
            "tags": []
          }
        }
      ]
    },
    {
      "cell_type": "code",
      "metadata": {
        "colab": {
          "base_uri": "https://localhost:8080/",
          "height": 347
        },
        "id": "pIfsBKlZcWD3",
        "outputId": "6c26f563-0337-4b61-bb96-e86eae6abe35"
      },
      "source": [
        "kmeans = KMeans(n_clusters = 3, init ='k-means++')\n",
        "kmeans.fit(X[X.columns[1:3]]) # Compute k-means clustering.\n",
        "X['cluster_label'] = kmeans.fit_predict(X[X.columns[1:3]])\n",
        "centers = kmeans.cluster_centers_ # Coordinates of cluster centers.\n",
        "labels = kmeans.predict(X[X.columns[1:3]]) # Labels of each point\n",
        "X.head(10)"
      ],
      "execution_count": 242,
      "outputs": [
        {
          "output_type": "execute_result",
          "data": {
            "text/html": [
              "<div>\n",
              "<style scoped>\n",
              "    .dataframe tbody tr th:only-of-type {\n",
              "        vertical-align: middle;\n",
              "    }\n",
              "\n",
              "    .dataframe tbody tr th {\n",
              "        vertical-align: top;\n",
              "    }\n",
              "\n",
              "    .dataframe thead th {\n",
              "        text-align: right;\n",
              "    }\n",
              "</style>\n",
              "<table border=\"1\" class=\"dataframe\">\n",
              "  <thead>\n",
              "    <tr style=\"text-align: right;\">\n",
              "      <th></th>\n",
              "      <th>Department</th>\n",
              "      <th>Latitude</th>\n",
              "      <th>Longitude</th>\n",
              "      <th>cluster_label</th>\n",
              "    </tr>\n",
              "  </thead>\n",
              "  <tbody>\n",
              "    <tr>\n",
              "      <th>0</th>\n",
              "      <td>DPL</td>\n",
              "      <td>39.010175</td>\n",
              "      <td>-76.979224</td>\n",
              "      <td>0</td>\n",
              "    </tr>\n",
              "    <tr>\n",
              "      <th>1</th>\n",
              "      <td>RSC</td>\n",
              "      <td>39.179332</td>\n",
              "      <td>-77.267914</td>\n",
              "      <td>0</td>\n",
              "    </tr>\n",
              "    <tr>\n",
              "      <th>2</th>\n",
              "      <td>DTS</td>\n",
              "      <td>39.108593</td>\n",
              "      <td>-77.151413</td>\n",
              "      <td>0</td>\n",
              "    </tr>\n",
              "    <tr>\n",
              "      <th>3</th>\n",
              "      <td>CAO/CEX/CC/Courts</td>\n",
              "      <td>40.720439</td>\n",
              "      <td>-90.409668</td>\n",
              "      <td>1</td>\n",
              "    </tr>\n",
              "    <tr>\n",
              "      <th>4</th>\n",
              "      <td>FRS</td>\n",
              "      <td>39.180120</td>\n",
              "      <td>-77.411689</td>\n",
              "      <td>0</td>\n",
              "    </tr>\n",
              "    <tr>\n",
              "      <th>5</th>\n",
              "      <td>REC</td>\n",
              "      <td>39.277124</td>\n",
              "      <td>-77.215208</td>\n",
              "      <td>0</td>\n",
              "    </tr>\n",
              "    <tr>\n",
              "      <th>6</th>\n",
              "      <td>REC</td>\n",
              "      <td>39.000810</td>\n",
              "      <td>-76.998224</td>\n",
              "      <td>0</td>\n",
              "    </tr>\n",
              "    <tr>\n",
              "      <th>7</th>\n",
              "      <td>DOT</td>\n",
              "      <td>39.045098</td>\n",
              "      <td>-77.103056</td>\n",
              "      <td>0</td>\n",
              "    </tr>\n",
              "    <tr>\n",
              "      <th>8</th>\n",
              "      <td>FRS</td>\n",
              "      <td>38.986278</td>\n",
              "      <td>-77.077227</td>\n",
              "      <td>0</td>\n",
              "    </tr>\n",
              "    <tr>\n",
              "      <th>9</th>\n",
              "      <td>FRS</td>\n",
              "      <td>39.160549</td>\n",
              "      <td>-77.030146</td>\n",
              "      <td>0</td>\n",
              "    </tr>\n",
              "  </tbody>\n",
              "</table>\n",
              "</div>"
            ],
            "text/plain": [
              "          Department   Latitude  Longitude  cluster_label\n",
              "0                DPL  39.010175 -76.979224              0\n",
              "1                RSC  39.179332 -77.267914              0\n",
              "2                DTS  39.108593 -77.151413              0\n",
              "3  CAO/CEX/CC/Courts  40.720439 -90.409668              1\n",
              "4                FRS  39.180120 -77.411689              0\n",
              "5                REC  39.277124 -77.215208              0\n",
              "6                REC  39.000810 -76.998224              0\n",
              "7                DOT  39.045098 -77.103056              0\n",
              "8                FRS  38.986278 -77.077227              0\n",
              "9                FRS  39.160549 -77.030146              0"
            ]
          },
          "metadata": {
            "tags": []
          },
          "execution_count": 242
        }
      ]
    },
    {
      "cell_type": "code",
      "metadata": {
        "colab": {
          "base_uri": "https://localhost:8080/",
          "height": 275
        },
        "id": "02SHgrzpdFAj",
        "outputId": "80f6f877-f49b-4254-dd42-6105d73212e6"
      },
      "source": [
        "X.plot.scatter(x = 'Latitude', y = 'Longitude', c=labels, s=50, cmap='viridis')\n",
        "plt.scatter(centers[:, 0], centers[:, 1], c='black', s=200, alpha=0.5)"
      ],
      "execution_count": 245,
      "outputs": [
        {
          "output_type": "execute_result",
          "data": {
            "text/plain": [
              "<matplotlib.collections.PathCollection at 0x7f18b120dd10>"
            ]
          },
          "metadata": {
            "tags": []
          },
          "execution_count": 245
        },
        {
          "output_type": "display_data",
          "data": {
            "image/png": "[encoded data removed]",
            "text/plain": [
              "<Figure size 432x288 with 2 Axes>"
            ]
          },
          "metadata": {
            "tags": []
          }
        }
      ]
    },
    {
      "cell_type": "markdown",
      "metadata": {
        "id": "wCzXOxPinyTK"
      },
      "source": [
        "#### 4c. Clustering Monster Dataset"
      ]
    },
    {
      "cell_type": "code",
      "metadata": {
        "colab": {
          "base_uri": "https://localhost:8080/",
          "height": 347
        },
        "id": "-7cAv1OonxPd",
        "outputId": "3d7ef344-641f-4f9f-869b-71439592213c"
      },
      "source": [
        "X=monster_final.loc[:,['Type','Latitude','Longitude']]\n",
        "X.head(10)"
      ],
      "execution_count": 256,
      "outputs": [
        {
          "output_type": "execute_result",
          "data": {
            "text/html": [
              "<div>\n",
              "<style scoped>\n",
              "    .dataframe tbody tr th:only-of-type {\n",
              "        vertical-align: middle;\n",
              "    }\n",
              "\n",
              "    .dataframe tbody tr th {\n",
              "        vertical-align: top;\n",
              "    }\n",
              "\n",
              "    .dataframe thead th {\n",
              "        text-align: right;\n",
              "    }\n",
              "</style>\n",
              "<table border=\"1\" class=\"dataframe\">\n",
              "  <thead>\n",
              "    <tr style=\"text-align: right;\">\n",
              "      <th></th>\n",
              "      <th>Type</th>\n",
              "      <th>Latitude</th>\n",
              "      <th>Longitude</th>\n",
              "    </tr>\n",
              "  </thead>\n",
              "  <tbody>\n",
              "    <tr>\n",
              "      <th>0</th>\n",
              "      <td>School</td>\n",
              "      <td>39.065306</td>\n",
              "      <td>-77.070835</td>\n",
              "    </tr>\n",
              "    <tr>\n",
              "      <th>1</th>\n",
              "      <td>School</td>\n",
              "      <td>39.039616</td>\n",
              "      <td>-77.067036</td>\n",
              "    </tr>\n",
              "    <tr>\n",
              "      <th>2</th>\n",
              "      <td>School</td>\n",
              "      <td>39.045559</td>\n",
              "      <td>-77.039388</td>\n",
              "    </tr>\n",
              "    <tr>\n",
              "      <th>3</th>\n",
              "      <td>School</td>\n",
              "      <td>39.089521</td>\n",
              "      <td>-77.048924</td>\n",
              "    </tr>\n",
              "    <tr>\n",
              "      <th>4</th>\n",
              "      <td>School</td>\n",
              "      <td>39.019444</td>\n",
              "      <td>-77.127721</td>\n",
              "    </tr>\n",
              "    <tr>\n",
              "      <th>5</th>\n",
              "      <td>School</td>\n",
              "      <td>38.974375</td>\n",
              "      <td>-77.138334</td>\n",
              "    </tr>\n",
              "    <tr>\n",
              "      <th>6</th>\n",
              "      <td>School</td>\n",
              "      <td>39.087775</td>\n",
              "      <td>-77.161758</td>\n",
              "    </tr>\n",
              "    <tr>\n",
              "      <th>7</th>\n",
              "      <td>School</td>\n",
              "      <td>39.081604</td>\n",
              "      <td>-77.054724</td>\n",
              "    </tr>\n",
              "    <tr>\n",
              "      <th>8</th>\n",
              "      <td>School</td>\n",
              "      <td>39.032012</td>\n",
              "      <td>-77.168740</td>\n",
              "    </tr>\n",
              "    <tr>\n",
              "      <th>9</th>\n",
              "      <td>School</td>\n",
              "      <td>39.178581</td>\n",
              "      <td>-77.066803</td>\n",
              "    </tr>\n",
              "  </tbody>\n",
              "</table>\n",
              "</div>"
            ],
            "text/plain": [
              "     Type   Latitude  Longitude\n",
              "0  School  39.065306 -77.070835\n",
              "1  School  39.039616 -77.067036\n",
              "2  School  39.045559 -77.039388\n",
              "3  School  39.089521 -77.048924\n",
              "4  School  39.019444 -77.127721\n",
              "5  School  38.974375 -77.138334\n",
              "6  School  39.087775 -77.161758\n",
              "7  School  39.081604 -77.054724\n",
              "8  School  39.032012 -77.168740\n",
              "9  School  39.178581 -77.066803"
            ]
          },
          "metadata": {
            "tags": []
          },
          "execution_count": 256
        }
      ]
    },
    {
      "cell_type": "code",
      "metadata": {
        "colab": {
          "base_uri": "https://localhost:8080/",
          "height": 301
        },
        "id": "fSnYEg08oM2g",
        "outputId": "d51686a4-dddf-4205-cc50-afaff0453bbd"
      },
      "source": [
        "K_clusters = range(1,10)\n",
        "kmeans = [KMeans(n_clusters=i) for i in K_clusters]\n",
        "Y_axis = monster_final[['Latitude']]\n",
        "X_axis = monster_final[['Longitude']]\n",
        "score = [kmeans[i].fit(Y_axis).score(Y_axis) for i in range(len(kmeans))]\n",
        "# Visualize\n",
        "plt.plot(K_clusters, score)\n",
        "plt.xlabel('Number of Clusters')\n",
        "plt.ylabel('Score')\n",
        "plt.title('Elbow Curve')\n",
        "plt.show()"
      ],
      "execution_count": 257,
      "outputs": [
        {
          "output_type": "display_data",
          "data": {
            "image/png": "[encoded data removed]",
            "text/plain": [
              "<Figure size 432x288 with 1 Axes>"
            ]
          },
          "metadata": {
            "tags": []
          }
        }
      ]
    },
    {
      "cell_type": "code",
      "metadata": {
        "colab": {
          "base_uri": "https://localhost:8080/",
          "height": 347
        },
        "id": "6vqQg78UofoT",
        "outputId": "0b67340c-8467-49c4-e235-04dba72f5509"
      },
      "source": [
        "kmeans = KMeans(n_clusters = 3, init ='k-means++')\n",
        "kmeans.fit(X[X.columns[1:3]]) # Compute k-means clustering.\n",
        "X['cluster_label'] = kmeans.fit_predict(X[X.columns[1:3]])\n",
        "centers = kmeans.cluster_centers_ # Coordinates of cluster centers.\n",
        "labels = kmeans.predict(X[X.columns[1:3]]) # Labels of each point\n",
        "X.head(10)"
      ],
      "execution_count": 259,
      "outputs": [
        {
          "output_type": "execute_result",
          "data": {
            "text/html": [
              "<div>\n",
              "<style scoped>\n",
              "    .dataframe tbody tr th:only-of-type {\n",
              "        vertical-align: middle;\n",
              "    }\n",
              "\n",
              "    .dataframe tbody tr th {\n",
              "        vertical-align: top;\n",
              "    }\n",
              "\n",
              "    .dataframe thead th {\n",
              "        text-align: right;\n",
              "    }\n",
              "</style>\n",
              "<table border=\"1\" class=\"dataframe\">\n",
              "  <thead>\n",
              "    <tr style=\"text-align: right;\">\n",
              "      <th></th>\n",
              "      <th>Type</th>\n",
              "      <th>Latitude</th>\n",
              "      <th>Longitude</th>\n",
              "      <th>cluster_label</th>\n",
              "    </tr>\n",
              "  </thead>\n",
              "  <tbody>\n",
              "    <tr>\n",
              "      <th>0</th>\n",
              "      <td>School</td>\n",
              "      <td>39.065306</td>\n",
              "      <td>-77.070835</td>\n",
              "      <td>2</td>\n",
              "    </tr>\n",
              "    <tr>\n",
              "      <th>1</th>\n",
              "      <td>School</td>\n",
              "      <td>39.039616</td>\n",
              "      <td>-77.067036</td>\n",
              "      <td>2</td>\n",
              "    </tr>\n",
              "    <tr>\n",
              "      <th>2</th>\n",
              "      <td>School</td>\n",
              "      <td>39.045559</td>\n",
              "      <td>-77.039388</td>\n",
              "      <td>0</td>\n",
              "    </tr>\n",
              "    <tr>\n",
              "      <th>3</th>\n",
              "      <td>School</td>\n",
              "      <td>39.089521</td>\n",
              "      <td>-77.048924</td>\n",
              "      <td>0</td>\n",
              "    </tr>\n",
              "    <tr>\n",
              "      <th>4</th>\n",
              "      <td>School</td>\n",
              "      <td>39.019444</td>\n",
              "      <td>-77.127721</td>\n",
              "      <td>2</td>\n",
              "    </tr>\n",
              "    <tr>\n",
              "      <th>5</th>\n",
              "      <td>School</td>\n",
              "      <td>38.974375</td>\n",
              "      <td>-77.138334</td>\n",
              "      <td>2</td>\n",
              "    </tr>\n",
              "    <tr>\n",
              "      <th>6</th>\n",
              "      <td>School</td>\n",
              "      <td>39.087775</td>\n",
              "      <td>-77.161758</td>\n",
              "      <td>2</td>\n",
              "    </tr>\n",
              "    <tr>\n",
              "      <th>7</th>\n",
              "      <td>School</td>\n",
              "      <td>39.081604</td>\n",
              "      <td>-77.054724</td>\n",
              "      <td>0</td>\n",
              "    </tr>\n",
              "    <tr>\n",
              "      <th>8</th>\n",
              "      <td>School</td>\n",
              "      <td>39.032012</td>\n",
              "      <td>-77.168740</td>\n",
              "      <td>2</td>\n",
              "    </tr>\n",
              "    <tr>\n",
              "      <th>9</th>\n",
              "      <td>School</td>\n",
              "      <td>39.178581</td>\n",
              "      <td>-77.066803</td>\n",
              "      <td>2</td>\n",
              "    </tr>\n",
              "  </tbody>\n",
              "</table>\n",
              "</div>"
            ],
            "text/plain": [
              "     Type   Latitude  Longitude  cluster_label\n",
              "0  School  39.065306 -77.070835              2\n",
              "1  School  39.039616 -77.067036              2\n",
              "2  School  39.045559 -77.039388              0\n",
              "3  School  39.089521 -77.048924              0\n",
              "4  School  39.019444 -77.127721              2\n",
              "5  School  38.974375 -77.138334              2\n",
              "6  School  39.087775 -77.161758              2\n",
              "7  School  39.081604 -77.054724              0\n",
              "8  School  39.032012 -77.168740              2\n",
              "9  School  39.178581 -77.066803              2"
            ]
          },
          "metadata": {
            "tags": []
          },
          "execution_count": 259
        }
      ]
    },
    {
      "cell_type": "code",
      "metadata": {
        "colab": {
          "base_uri": "https://localhost:8080/",
          "height": 275
        },
        "id": "PvvxpoQWqtS1",
        "outputId": "9414682e-1e4f-405f-9d60-e50a942817d9"
      },
      "source": [
        "X.plot.scatter(x = 'Latitude', y = 'Longitude', c=labels, s=50, cmap='viridis')\n",
        "plt.scatter(centers[:, 0], centers[:, 1], c='black', s=200, alpha=0.5)"
      ],
      "execution_count": 260,
      "outputs": [
        {
          "output_type": "execute_result",
          "data": {
            "text/plain": [
              "<matplotlib.collections.PathCollection at 0x7f18b0d26bd0>"
            ]
          },
          "metadata": {
            "tags": []
          },
          "execution_count": 260
        },
        {
          "output_type": "display_data",
          "data": {
            "image/png": "[encoded data removed]",
            "text/plain": [
              "<Figure size 432x288 with 2 Axes>"
            ]
          },
          "metadata": {
            "tags": []
          }
        }
      ]
    },
    {
      "cell_type": "markdown",
      "metadata": {
        "id": "_NUZdvsu3_ZM"
      },
      "source": [
        "## 5. Conclusion"
      ]
    },
    {
      "cell_type": "code",
      "metadata": {
        "id": "D3dawbnDV73p"
      },
      "source": [
        ""
      ],
      "execution_count": null,
      "outputs": []
    }
  ]
}